{
 "cells": [
  {
   "cell_type": "markdown",
   "metadata": {},
   "source": [
    "# Subject: Advanced Data Analysis\n",
    "\n",
    "# Module: Geospatial Analysis\n",
    "\n",
    "## Session 3 - GIS Spatial analysis and Geoprocessing \n",
    "\n",
    "### Demo 1 -  Spatial join and Aggregations of Origins Points to Polygons EEA grid 10K "
   ]
  },
  {
   "cell_type": "markdown",
   "metadata": {},
   "source": [
    "Data sets: \n",
    "\n",
    "- Sample data provided by the European project \"Social Car\":\n",
    "\n",
    "http://socialcar-project.eu/\n",
    "\n",
    "- EEA reference grids — European Environment Agency:\n",
    "\n",
    "https://www.eea.europa.eu/data-and-maps/data/eea-reference-grids-2"
   ]
  },
  {
   "cell_type": "markdown",
   "metadata": {},
   "source": [
    "### Upload these GIS files (located at \\Session_3_GeoSA\\Demo1\\Data) to your Jupyter folder."
   ]
  },
  {
   "cell_type": "code",
   "execution_count": 1,
   "metadata": {},
   "outputs": [],
   "source": [
    "import pandas as pd\n",
    "import geopandas as gpd"
   ]
  },
  {
   "cell_type": "code",
   "execution_count": 2,
   "metadata": {},
   "outputs": [],
   "source": [
    "from shapely.geometry import shape,Point,Polygon,mapping"
   ]
  },
  {
   "cell_type": "code",
   "execution_count": 3,
   "metadata": {},
   "outputs": [],
   "source": [
    "fp1 = \"SocialCarOrigins.shp\""
   ]
  },
  {
   "cell_type": "code",
   "execution_count": 4,
   "metadata": {},
   "outputs": [],
   "source": [
    "Origins = gpd.read_file(fp1)"
   ]
  },
  {
   "cell_type": "code",
   "execution_count": 5,
   "metadata": {},
   "outputs": [
    {
     "data": {
      "text/html": [
       "<div>\n",
       "<table border=\"1\" class=\"dataframe\">\n",
       "  <thead>\n",
       "    <tr style=\"text-align: right;\">\n",
       "      <th></th>\n",
       "      <th>name</th>\n",
       "      <th>driver_id</th>\n",
       "      <th>_id</th>\n",
       "      <th>car_id</th>\n",
       "      <th>lat_o</th>\n",
       "      <th>lon_o</th>\n",
       "      <th>polyline</th>\n",
       "      <th>timestamp</th>\n",
       "      <th>type</th>\n",
       "      <th>geometry</th>\n",
       "    </tr>\n",
       "  </thead>\n",
       "  <tbody>\n",
       "    <tr>\n",
       "      <th>0</th>\n",
       "      <td>Liceo</td>\n",
       "      <td>59f0cddae04bd539a6121a93</td>\n",
       "      <td>5a09e7c1e04bd5339f1c5c3a</td>\n",
       "      <td>5a01a113e04bd517f914a90a</td>\n",
       "      <td>45.955263</td>\n",
       "      <td>8.935129</td>\n",
       "      <td>}qnwGkdpu@C{Ag@C]FoA~@c@xACxB@`@CLGDo@GEYY]]Ko...</td>\n",
       "      <td>2017-11-14</td>\n",
       "      <td>origin</td>\n",
       "      <td>POINT (8.9351292 45.9552633)</td>\n",
       "    </tr>\n",
       "    <tr>\n",
       "      <th>1</th>\n",
       "      <td>Scooter</td>\n",
       "      <td>5a009ea0e04bd517f914a1b0</td>\n",
       "      <td>5a0cba6ee04bd5671ce05470</td>\n",
       "      <td>5a009f77e04bd518c5b9d262</td>\n",
       "      <td>46.010336</td>\n",
       "      <td>8.958054</td>\n",
       "      <td>qkywGyrtu@?ETuCRqCsBYiBWeBQaM_D_DcAgA[oFgBoDeA...</td>\n",
       "      <td>2017-11-16</td>\n",
       "      <td>origin</td>\n",
       "      <td>POINT (8.958053700000001 46.010336)</td>\n",
       "    </tr>\n",
       "    <tr>\n",
       "      <th>2</th>\n",
       "      <td>Lavena</td>\n",
       "      <td>58e4e95be04bd55052edecf2</td>\n",
       "      <td>59edb431e04bd565aaf52136</td>\n",
       "      <td>58e4ea66e04bd55031737bfb</td>\n",
       "      <td>46.005010</td>\n",
       "      <td>8.952028</td>\n",
       "      <td>gixwGwjsu@b@OVQ|@mANMbAe@BGUwBqAh@uAj@qAd@E?KA...</td>\n",
       "      <td>2017-10-23</td>\n",
       "      <td>origin</td>\n",
       "      <td>POINT (8.9520281 46.0050102)</td>\n",
       "    </tr>\n",
       "    <tr>\n",
       "      <th>3</th>\n",
       "      <td>Scooter</td>\n",
       "      <td>5a009ea0e04bd517f914a1b0</td>\n",
       "      <td>5a0df85ae04bd51616cfd741</td>\n",
       "      <td>5a009f77e04bd518c5b9d262</td>\n",
       "      <td>46.014354</td>\n",
       "      <td>8.957271</td>\n",
       "      <td>udzwG{mtu@?HCXMvCmBSyC_@eCk@eDg@WrCy@e@uBcAiEq...</td>\n",
       "      <td>2017-11-17</td>\n",
       "      <td>origin</td>\n",
       "      <td>POINT (8.9572713 46.0143536)</td>\n",
       "    </tr>\n",
       "    <tr>\n",
       "      <th>4</th>\n",
       "      <td>work</td>\n",
       "      <td>59f9ae24e04bd5148a92a259</td>\n",
       "      <td>5a0dfd01e04bd50f96094400</td>\n",
       "      <td>5a0ad030e04bd5243ab6629c</td>\n",
       "      <td>45.863171</td>\n",
       "      <td>8.930506</td>\n",
       "      <td>ws|vGwfou@aA{@MMe@`AEFGBgAiA]q@EMEYO{AI}DOoC?c...</td>\n",
       "      <td>2017-11-17</td>\n",
       "      <td>origin</td>\n",
       "      <td>POINT (8.930505999999999 45.863171)</td>\n",
       "    </tr>\n",
       "  </tbody>\n",
       "</table>\n",
       "</div>"
      ],
      "text/plain": [
       "      name                 driver_id                       _id  \\\n",
       "0    Liceo  59f0cddae04bd539a6121a93  5a09e7c1e04bd5339f1c5c3a   \n",
       "1  Scooter  5a009ea0e04bd517f914a1b0  5a0cba6ee04bd5671ce05470   \n",
       "2   Lavena  58e4e95be04bd55052edecf2  59edb431e04bd565aaf52136   \n",
       "3  Scooter  5a009ea0e04bd517f914a1b0  5a0df85ae04bd51616cfd741   \n",
       "4     work  59f9ae24e04bd5148a92a259  5a0dfd01e04bd50f96094400   \n",
       "\n",
       "                     car_id      lat_o     lon_o  \\\n",
       "0  5a01a113e04bd517f914a90a  45.955263  8.935129   \n",
       "1  5a009f77e04bd518c5b9d262  46.010336  8.958054   \n",
       "2  58e4ea66e04bd55031737bfb  46.005010  8.952028   \n",
       "3  5a009f77e04bd518c5b9d262  46.014354  8.957271   \n",
       "4  5a0ad030e04bd5243ab6629c  45.863171  8.930506   \n",
       "\n",
       "                                            polyline   timestamp    type  \\\n",
       "0  }qnwGkdpu@C{Ag@C]FoA~@c@xACxB@`@CLGDo@GEYY]]Ko...  2017-11-14  origin   \n",
       "1  qkywGyrtu@?ETuCRqCsBYiBWeBQaM_D_DcAgA[oFgBoDeA...  2017-11-16  origin   \n",
       "2  gixwGwjsu@b@OVQ|@mANMbAe@BGUwBqAh@uAj@qAd@E?KA...  2017-10-23  origin   \n",
       "3  udzwG{mtu@?HCXMvCmBSyC_@eCk@eDg@WrCy@e@uBcAiEq...  2017-11-17  origin   \n",
       "4  ws|vGwfou@aA{@MMe@`AEFGBgAiA]q@EMEYO{AI}DOoC?c...  2017-11-17  origin   \n",
       "\n",
       "                              geometry  \n",
       "0         POINT (8.9351292 45.9552633)  \n",
       "1  POINT (8.958053700000001 46.010336)  \n",
       "2         POINT (8.9520281 46.0050102)  \n",
       "3         POINT (8.9572713 46.0143536)  \n",
       "4  POINT (8.930505999999999 45.863171)  "
      ]
     },
     "execution_count": 5,
     "metadata": {},
     "output_type": "execute_result"
    }
   ],
   "source": [
    "Origins.head()"
   ]
  },
  {
   "cell_type": "code",
   "execution_count": 6,
   "metadata": {},
   "outputs": [
    {
     "data": {
      "text/plain": [
       "{'init': 'epsg:4326'}"
      ]
     },
     "execution_count": 6,
     "metadata": {},
     "output_type": "execute_result"
    }
   ],
   "source": [
    "Origins.crs"
   ]
  },
  {
   "cell_type": "code",
   "execution_count": 7,
   "metadata": {},
   "outputs": [],
   "source": [
    "fp2 = \"Grid_LAEA5210_10K_polygons.shp\""
   ]
  },
  {
   "cell_type": "code",
   "execution_count": 8,
   "metadata": {},
   "outputs": [],
   "source": [
    "EEAGrid10K = gpd.read_file(fp2)"
   ]
  },
  {
   "cell_type": "code",
   "execution_count": 9,
   "metadata": {},
   "outputs": [
    {
     "data": {
      "text/html": [
       "<div>\n",
       "<table border=\"1\" class=\"dataframe\">\n",
       "  <thead>\n",
       "    <tr style=\"text-align: right;\">\n",
       "      <th></th>\n",
       "      <th>CellCode</th>\n",
       "      <th>EofOrigin</th>\n",
       "      <th>NofOrigin</th>\n",
       "      <th>geometry</th>\n",
       "    </tr>\n",
       "  </thead>\n",
       "  <tbody>\n",
       "    <tr>\n",
       "      <th>0</th>\n",
       "      <td>10kmE0N70</td>\n",
       "      <td>0.0</td>\n",
       "      <td>700000.0</td>\n",
       "      <td>POLYGON ((0 700000, 0 710000, 10000 710000, 10...</td>\n",
       "    </tr>\n",
       "    <tr>\n",
       "      <th>1</th>\n",
       "      <td>10kmE0N71</td>\n",
       "      <td>0.0</td>\n",
       "      <td>710000.0</td>\n",
       "      <td>POLYGON ((0 710000, 0 720000, 10000 720000, 10...</td>\n",
       "    </tr>\n",
       "    <tr>\n",
       "      <th>2</th>\n",
       "      <td>10kmE0N72</td>\n",
       "      <td>0.0</td>\n",
       "      <td>720000.0</td>\n",
       "      <td>POLYGON ((0 720000, 0 730000, 10000 730000, 10...</td>\n",
       "    </tr>\n",
       "    <tr>\n",
       "      <th>3</th>\n",
       "      <td>10kmE0N73</td>\n",
       "      <td>0.0</td>\n",
       "      <td>730000.0</td>\n",
       "      <td>POLYGON ((0 730000, 0 740000, 10000 740000, 10...</td>\n",
       "    </tr>\n",
       "    <tr>\n",
       "      <th>4</th>\n",
       "      <td>10kmE0N74</td>\n",
       "      <td>0.0</td>\n",
       "      <td>740000.0</td>\n",
       "      <td>POLYGON ((0 740000, 0 750000, 10000 750000, 10...</td>\n",
       "    </tr>\n",
       "  </tbody>\n",
       "</table>\n",
       "</div>"
      ],
      "text/plain": [
       "    CellCode  EofOrigin  NofOrigin  \\\n",
       "0  10kmE0N70        0.0   700000.0   \n",
       "1  10kmE0N71        0.0   710000.0   \n",
       "2  10kmE0N72        0.0   720000.0   \n",
       "3  10kmE0N73        0.0   730000.0   \n",
       "4  10kmE0N74        0.0   740000.0   \n",
       "\n",
       "                                            geometry  \n",
       "0  POLYGON ((0 700000, 0 710000, 10000 710000, 10...  \n",
       "1  POLYGON ((0 710000, 0 720000, 10000 720000, 10...  \n",
       "2  POLYGON ((0 720000, 0 730000, 10000 730000, 10...  \n",
       "3  POLYGON ((0 730000, 0 740000, 10000 740000, 10...  \n",
       "4  POLYGON ((0 740000, 0 750000, 10000 750000, 10...  "
      ]
     },
     "execution_count": 9,
     "metadata": {},
     "output_type": "execute_result"
    }
   ],
   "source": [
    "EEAGrid10K.head()"
   ]
  },
  {
   "cell_type": "code",
   "execution_count": 10,
   "metadata": {},
   "outputs": [
    {
     "data": {
      "text/plain": [
       "{'ellps': 'GRS80',\n",
       " 'lat_0': 52,\n",
       " 'lon_0': 10,\n",
       " 'no_defs': True,\n",
       " 'proj': 'laea',\n",
       " 'units': 'm',\n",
       " 'x_0': 4321000,\n",
       " 'y_0': 3210000}"
      ]
     },
     "execution_count": 10,
     "metadata": {},
     "output_type": "execute_result"
    }
   ],
   "source": [
    "EEAGrid10K.crs"
   ]
  },
  {
   "cell_type": "code",
   "execution_count": 15,
   "metadata": {},
   "outputs": [],
   "source": [
    "EEAGrid10K_rep = EEAGrid10K.to_crs({'init': 'epsg:4326'})"
   ]
  },
  {
   "cell_type": "code",
   "execution_count": 16,
   "metadata": {},
   "outputs": [
    {
     "data": {
      "text/plain": [
       "{'init': 'epsg:4326'}"
      ]
     },
     "execution_count": 16,
     "metadata": {},
     "output_type": "execute_result"
    }
   ],
   "source": [
    "EEAGrid10K_rep.crs"
   ]
  },
  {
   "cell_type": "code",
   "execution_count": 17,
   "metadata": {},
   "outputs": [
    {
     "data": {
      "text/plain": [
       "True"
      ]
     },
     "execution_count": 17,
     "metadata": {},
     "output_type": "execute_result"
    }
   ],
   "source": [
    "Origins.crs == EEAGrid10K_rep.crs"
   ]
  },
  {
   "cell_type": "code",
   "execution_count": 18,
   "metadata": {
    "scrolled": false
   },
   "outputs": [
    {
     "data": {
      "text/html": [
       "<div>\n",
       "<table border=\"1\" class=\"dataframe\">\n",
       "  <thead>\n",
       "    <tr style=\"text-align: right;\">\n",
       "      <th></th>\n",
       "      <th>CellCode</th>\n",
       "      <th>EofOrigin</th>\n",
       "      <th>NofOrigin</th>\n",
       "      <th>geometry</th>\n",
       "      <th>index_right</th>\n",
       "      <th>name</th>\n",
       "      <th>driver_id</th>\n",
       "      <th>_id</th>\n",
       "      <th>car_id</th>\n",
       "      <th>lat_o</th>\n",
       "      <th>lon_o</th>\n",
       "      <th>polyline</th>\n",
       "      <th>timestamp</th>\n",
       "      <th>type</th>\n",
       "    </tr>\n",
       "  </thead>\n",
       "  <tbody>\n",
       "    <tr>\n",
       "      <th>234132</th>\n",
       "      <td>10kmE349N372</td>\n",
       "      <td>3490000.0</td>\n",
       "      <td>3720000.0</td>\n",
       "      <td>POLYGON ((-3.36081569323148 55.88643149459858,...</td>\n",
       "      <td>130</td>\n",
       "      <td>Fabio EDI</td>\n",
       "      <td>58db87c1e04bd5754f7d47af</td>\n",
       "      <td>59f02e7ae04bd50b106aa802</td>\n",
       "      <td>58db96f4e04bd51381d4a02f</td>\n",
       "      <td>55.919248</td>\n",
       "      <td>-3.212762</td>\n",
       "      <td>gvhtIvnrRtAVtANpC`@b@FnDVzCVd@DnBRp@DnBLrBL|@E...</td>\n",
       "      <td>2017-10-25</td>\n",
       "      <td>origin</td>\n",
       "    </tr>\n",
       "    <tr>\n",
       "      <th>234801</th>\n",
       "      <td>10kmE350N371</td>\n",
       "      <td>3500000.0</td>\n",
       "      <td>3710000.0</td>\n",
       "      <td>POLYGON ((-3.173562153075064 55.81484129715652...</td>\n",
       "      <td>100</td>\n",
       "      <td>test 2</td>\n",
       "      <td>59c38193e04bd54b76333b88</td>\n",
       "      <td>5a04437de04bd50519d52334</td>\n",
       "      <td>5a02e7f7e04bd50f95de2924</td>\n",
       "      <td>55.895504</td>\n",
       "      <td>-3.068210</td>\n",
       "      <td>wadtIzfvQtAzAb@p@R`@Zx@HTu@bAUf@kA`FgApG[|AUx@...</td>\n",
       "      <td>2017-11-10</td>\n",
       "      <td>origin</td>\n",
       "    </tr>\n",
       "    <tr>\n",
       "      <th>234802</th>\n",
       "      <td>10kmE350N372</td>\n",
       "      <td>3500000.0</td>\n",
       "      <td>3720000.0</td>\n",
       "      <td>POLYGON ((-3.203506159154395 55.90295520344707...</td>\n",
       "      <td>92</td>\n",
       "      <td>Edinburgh-Kirkcaldy</td>\n",
       "      <td>592db7c7e04bd54efa291f88</td>\n",
       "      <td>5a02f062e04bd50f95de2975</td>\n",
       "      <td>592de3d8e04bd54efa291fa1</td>\n",
       "      <td>55.950176</td>\n",
       "      <td>-3.187536</td>\n",
       "      <td>qwntIbqmRxAi@|H{CJEF\\TvBTdC`AbIn@~ETfBBPRIj@YH...</td>\n",
       "      <td>2017-11-09</td>\n",
       "      <td>origin</td>\n",
       "    </tr>\n",
       "    <tr>\n",
       "      <th>234802</th>\n",
       "      <td>10kmE350N372</td>\n",
       "      <td>3500000.0</td>\n",
       "      <td>3720000.0</td>\n",
       "      <td>POLYGON ((-3.203506159154395 55.90295520344707...</td>\n",
       "      <td>234</td>\n",
       "      <td>University</td>\n",
       "      <td>59c38193e04bd54b76333b88</td>\n",
       "      <td>5a0d6562e04bd504e8d42408</td>\n",
       "      <td>5a02e7f7e04bd50f95de2924</td>\n",
       "      <td>55.969856</td>\n",
       "      <td>-3.186472</td>\n",
       "      <td>gsrtIzhmRLW`DgGLSJQU_AgGaTa@cBw@cDgCuL_@aC_@eA...</td>\n",
       "      <td>2017-11-20</td>\n",
       "      <td>origin</td>\n",
       "    </tr>\n",
       "    <tr>\n",
       "      <th>234802</th>\n",
       "      <td>10kmE350N372</td>\n",
       "      <td>3500000.0</td>\n",
       "      <td>3720000.0</td>\n",
       "      <td>POLYGON ((-3.203506159154395 55.90295520344707...</td>\n",
       "      <td>91</td>\n",
       "      <td>uni</td>\n",
       "      <td>59c38193e04bd54b76333b88</td>\n",
       "      <td>5a02e836e04bd518c5b9dc31</td>\n",
       "      <td>5a02e7f7e04bd50f95de2924</td>\n",
       "      <td>55.978355</td>\n",
       "      <td>-3.173671</td>\n",
       "      <td>c`ttIv~jRHu@dBsQv@oGp@}DJiBHa@~@sDH[Lo@Ba@?u@@...</td>\n",
       "      <td>2017-11-18</td>\n",
       "      <td>origin</td>\n",
       "    </tr>\n",
       "  </tbody>\n",
       "</table>\n",
       "</div>"
      ],
      "text/plain": [
       "            CellCode  EofOrigin  NofOrigin  \\\n",
       "234132  10kmE349N372  3490000.0  3720000.0   \n",
       "234801  10kmE350N371  3500000.0  3710000.0   \n",
       "234802  10kmE350N372  3500000.0  3720000.0   \n",
       "234802  10kmE350N372  3500000.0  3720000.0   \n",
       "234802  10kmE350N372  3500000.0  3720000.0   \n",
       "\n",
       "                                                 geometry  index_right  \\\n",
       "234132  POLYGON ((-3.36081569323148 55.88643149459858,...          130   \n",
       "234801  POLYGON ((-3.173562153075064 55.81484129715652...          100   \n",
       "234802  POLYGON ((-3.203506159154395 55.90295520344707...           92   \n",
       "234802  POLYGON ((-3.203506159154395 55.90295520344707...          234   \n",
       "234802  POLYGON ((-3.203506159154395 55.90295520344707...           91   \n",
       "\n",
       "                       name                 driver_id  \\\n",
       "234132            Fabio EDI  58db87c1e04bd5754f7d47af   \n",
       "234801               test 2  59c38193e04bd54b76333b88   \n",
       "234802  Edinburgh-Kirkcaldy  592db7c7e04bd54efa291f88   \n",
       "234802           University  59c38193e04bd54b76333b88   \n",
       "234802                  uni  59c38193e04bd54b76333b88   \n",
       "\n",
       "                             _id                    car_id      lat_o  \\\n",
       "234132  59f02e7ae04bd50b106aa802  58db96f4e04bd51381d4a02f  55.919248   \n",
       "234801  5a04437de04bd50519d52334  5a02e7f7e04bd50f95de2924  55.895504   \n",
       "234802  5a02f062e04bd50f95de2975  592de3d8e04bd54efa291fa1  55.950176   \n",
       "234802  5a0d6562e04bd504e8d42408  5a02e7f7e04bd50f95de2924  55.969856   \n",
       "234802  5a02e836e04bd518c5b9dc31  5a02e7f7e04bd50f95de2924  55.978355   \n",
       "\n",
       "           lon_o                                           polyline  \\\n",
       "234132 -3.212762  gvhtIvnrRtAVtANpC`@b@FnDVzCVd@DnBRp@DnBLrBL|@E...   \n",
       "234801 -3.068210  wadtIzfvQtAzAb@p@R`@Zx@HTu@bAUf@kA`FgApG[|AUx@...   \n",
       "234802 -3.187536  qwntIbqmRxAi@|H{CJEF\\TvBTdC`AbIn@~ETfBBPRIj@YH...   \n",
       "234802 -3.186472  gsrtIzhmRLW`DgGLSJQU_AgGaTa@cBw@cDgCuL_@aC_@eA...   \n",
       "234802 -3.173671  c`ttIv~jRHu@dBsQv@oGp@}DJiBHa@~@sDH[Lo@Ba@?u@@...   \n",
       "\n",
       "         timestamp    type  \n",
       "234132  2017-10-25  origin  \n",
       "234801  2017-11-10  origin  \n",
       "234802  2017-11-09  origin  \n",
       "234802  2017-11-20  origin  \n",
       "234802  2017-11-18  origin  "
      ]
     },
     "execution_count": 18,
     "metadata": {},
     "output_type": "execute_result"
    }
   ],
   "source": [
    "# Execute spatial join - Joins attributes from one feature to another based on the spatial relationship. \n",
    "EEAGrid10K_Agg_Origins = gpd.sjoin(EEAGrid10K_rep, Origins, how=\"inner\", op='intersects')\n",
    "EEAGrid10K_Agg_Origins.head()"
   ]
  },
  {
   "cell_type": "markdown",
   "metadata": {},
   "source": [
    "## Notes:\n",
    "    \n",
    "- Join types, \"how\" argument:\n",
    "    \n",
    "Determines if all target features will be maintained in the output feature class (known as outer join), or only those that have the specified spatial relationship with the join features (inner join).\n",
    "\n",
    "- Type of Join operation, \"op\" argument:\n",
    "\n",
    "The op options determines the type of join operation to apply. op can be set to “intersects”, “within” or “contains” (these are all equivalent when joining points to polygons, but differ when joining polygons to other polygons or lines)."
   ]
  },
  {
   "cell_type": "code",
   "execution_count": 19,
   "metadata": {},
   "outputs": [],
   "source": [
    "# Summarising the origins by EEA Grid 10k - Value counts\n",
    "EEAGrid10K_Agg_Origins['Counts'] = EEAGrid10K_Agg_Origins.groupby(['CellCode'])['type'].transform('count')"
   ]
  },
  {
   "cell_type": "code",
   "execution_count": 20,
   "metadata": {},
   "outputs": [],
   "source": [
    "# proj WGS84\n",
    "\n",
    "EEAGrid10K_Agg_Origins.crs= \"+proj=longlat +ellps=WGS84 +datum=WGS84 +no_defs\""
   ]
  },
  {
   "cell_type": "code",
   "execution_count": 21,
   "metadata": {},
   "outputs": [],
   "source": [
    "EEAGrid10K_Agg_Origins.to_file('EEAGrid10K_Agg_Origins.shp', driver='ESRI Shapefile')"
   ]
  },
  {
   "cell_type": "markdown",
   "metadata": {},
   "source": [
    "# Spatial join and Aggregations of Destination Points to Polygons EEA grid 10K "
   ]
  },
  {
   "cell_type": "code",
   "execution_count": 28,
   "metadata": {},
   "outputs": [],
   "source": [
    "fp3 = \"SocialCarDestinations.shp\""
   ]
  },
  {
   "cell_type": "code",
   "execution_count": 29,
   "metadata": {},
   "outputs": [],
   "source": [
    "Destinations = gpd.read_file(fp3)"
   ]
  },
  {
   "cell_type": "code",
   "execution_count": 30,
   "metadata": {},
   "outputs": [
    {
     "data": {
      "text/html": [
       "<div>\n",
       "<table border=\"1\" class=\"dataframe\">\n",
       "  <thead>\n",
       "    <tr style=\"text-align: right;\">\n",
       "      <th></th>\n",
       "      <th>name</th>\n",
       "      <th>driver_id</th>\n",
       "      <th>_id</th>\n",
       "      <th>car_id</th>\n",
       "      <th>lat_d</th>\n",
       "      <th>lon_d</th>\n",
       "      <th>polyline</th>\n",
       "      <th>timestamp</th>\n",
       "      <th>type</th>\n",
       "      <th>geometry</th>\n",
       "    </tr>\n",
       "  </thead>\n",
       "  <tbody>\n",
       "    <tr>\n",
       "      <th>0</th>\n",
       "      <td>Liceo</td>\n",
       "      <td>59f0cddae04bd539a6121a93</td>\n",
       "      <td>5a09e7c1e04bd5339f1c5c3a</td>\n",
       "      <td>5a01a113e04bd517f914a90a</td>\n",
       "      <td>46.005733</td>\n",
       "      <td>8.958762</td>\n",
       "      <td>}qnwGkdpu@C{Ag@C]FoA~@c@xACxB@`@CLGDo@GEYY]]Ko...</td>\n",
       "      <td>2017-11-14</td>\n",
       "      <td>destination</td>\n",
       "      <td>POINT (8.9587621 46.0057334)</td>\n",
       "    </tr>\n",
       "    <tr>\n",
       "      <th>1</th>\n",
       "      <td>Scooter</td>\n",
       "      <td>5a009ea0e04bd517f914a1b0</td>\n",
       "      <td>5a0cba6ee04bd5671ce05470</td>\n",
       "      <td>5a009f77e04bd518c5b9d262</td>\n",
       "      <td>46.029381</td>\n",
       "      <td>8.961400</td>\n",
       "      <td>qkywGyrtu@?ETuCRqCsBYiBWeBQaM_D_DcAgA[oFgBoDeA...</td>\n",
       "      <td>2017-11-16</td>\n",
       "      <td>destination</td>\n",
       "      <td>POINT (8.961399500000001 46.0293813)</td>\n",
       "    </tr>\n",
       "    <tr>\n",
       "      <th>2</th>\n",
       "      <td>Lavena</td>\n",
       "      <td>58e4e95be04bd55052edecf2</td>\n",
       "      <td>59edb431e04bd565aaf52136</td>\n",
       "      <td>58e4ea66e04bd55031737bfb</td>\n",
       "      <td>45.959734</td>\n",
       "      <td>8.861647</td>\n",
       "      <td>gixwGwjsu@b@OVQ|@mANMbAe@BGUwBqAh@uAj@qAd@E?KA...</td>\n",
       "      <td>2017-10-23</td>\n",
       "      <td>destination</td>\n",
       "      <td>POINT (8.86164681646655 45.95973425)</td>\n",
       "    </tr>\n",
       "    <tr>\n",
       "      <th>3</th>\n",
       "      <td>Scooter</td>\n",
       "      <td>5a009ea0e04bd517f914a1b0</td>\n",
       "      <td>5a0df85ae04bd51616cfd741</td>\n",
       "      <td>5a009f77e04bd518c5b9d262</td>\n",
       "      <td>46.029381</td>\n",
       "      <td>8.961400</td>\n",
       "      <td>udzwG{mtu@?HCXMvCmBSyC_@eCk@eDg@WrCy@e@uBcAiEq...</td>\n",
       "      <td>2017-11-17</td>\n",
       "      <td>destination</td>\n",
       "      <td>POINT (8.961399500000001 46.0293813)</td>\n",
       "    </tr>\n",
       "    <tr>\n",
       "      <th>4</th>\n",
       "      <td>work</td>\n",
       "      <td>59f9ae24e04bd5148a92a259</td>\n",
       "      <td>5a0dfd01e04bd50f96094400</td>\n",
       "      <td>5a0ad030e04bd5243ab6629c</td>\n",
       "      <td>46.023094</td>\n",
       "      <td>8.917026</td>\n",
       "      <td>ws|vGwfou@aA{@MMe@`AEFGBgAiA]q@EMEYO{AI}DOoC?c...</td>\n",
       "      <td>2017-11-17</td>\n",
       "      <td>destination</td>\n",
       "      <td>POINT (8.917026 46.023094)</td>\n",
       "    </tr>\n",
       "  </tbody>\n",
       "</table>\n",
       "</div>"
      ],
      "text/plain": [
       "      name                 driver_id                       _id  \\\n",
       "0    Liceo  59f0cddae04bd539a6121a93  5a09e7c1e04bd5339f1c5c3a   \n",
       "1  Scooter  5a009ea0e04bd517f914a1b0  5a0cba6ee04bd5671ce05470   \n",
       "2   Lavena  58e4e95be04bd55052edecf2  59edb431e04bd565aaf52136   \n",
       "3  Scooter  5a009ea0e04bd517f914a1b0  5a0df85ae04bd51616cfd741   \n",
       "4     work  59f9ae24e04bd5148a92a259  5a0dfd01e04bd50f96094400   \n",
       "\n",
       "                     car_id      lat_d     lon_d  \\\n",
       "0  5a01a113e04bd517f914a90a  46.005733  8.958762   \n",
       "1  5a009f77e04bd518c5b9d262  46.029381  8.961400   \n",
       "2  58e4ea66e04bd55031737bfb  45.959734  8.861647   \n",
       "3  5a009f77e04bd518c5b9d262  46.029381  8.961400   \n",
       "4  5a0ad030e04bd5243ab6629c  46.023094  8.917026   \n",
       "\n",
       "                                            polyline   timestamp         type  \\\n",
       "0  }qnwGkdpu@C{Ag@C]FoA~@c@xACxB@`@CLGDo@GEYY]]Ko...  2017-11-14  destination   \n",
       "1  qkywGyrtu@?ETuCRqCsBYiBWeBQaM_D_DcAgA[oFgBoDeA...  2017-11-16  destination   \n",
       "2  gixwGwjsu@b@OVQ|@mANMbAe@BGUwBqAh@uAj@qAd@E?KA...  2017-10-23  destination   \n",
       "3  udzwG{mtu@?HCXMvCmBSyC_@eCk@eDg@WrCy@e@uBcAiEq...  2017-11-17  destination   \n",
       "4  ws|vGwfou@aA{@MMe@`AEFGBgAiA]q@EMEYO{AI}DOoC?c...  2017-11-17  destination   \n",
       "\n",
       "                               geometry  \n",
       "0          POINT (8.9587621 46.0057334)  \n",
       "1  POINT (8.961399500000001 46.0293813)  \n",
       "2  POINT (8.86164681646655 45.95973425)  \n",
       "3  POINT (8.961399500000001 46.0293813)  \n",
       "4            POINT (8.917026 46.023094)  "
      ]
     },
     "execution_count": 30,
     "metadata": {},
     "output_type": "execute_result"
    }
   ],
   "source": [
    "Destinations.head()"
   ]
  },
  {
   "cell_type": "code",
   "execution_count": 31,
   "metadata": {},
   "outputs": [
    {
     "data": {
      "text/plain": [
       "{'init': 'epsg:4326'}"
      ]
     },
     "execution_count": 31,
     "metadata": {},
     "output_type": "execute_result"
    }
   ],
   "source": [
    "Destinations.crs"
   ]
  },
  {
   "cell_type": "code",
   "execution_count": 32,
   "metadata": {},
   "outputs": [
    {
     "data": {
      "text/plain": [
       "True"
      ]
     },
     "execution_count": 32,
     "metadata": {},
     "output_type": "execute_result"
    }
   ],
   "source": [
    "Destinations.crs == EEAGrid10K_rep.crs"
   ]
  },
  {
   "cell_type": "code",
   "execution_count": 33,
   "metadata": {},
   "outputs": [
    {
     "data": {
      "text/html": [
       "<div>\n",
       "<table border=\"1\" class=\"dataframe\">\n",
       "  <thead>\n",
       "    <tr style=\"text-align: right;\">\n",
       "      <th></th>\n",
       "      <th>CellCode</th>\n",
       "      <th>EofOrigin</th>\n",
       "      <th>NofOrigin</th>\n",
       "      <th>geometry</th>\n",
       "      <th>index_right</th>\n",
       "      <th>name</th>\n",
       "      <th>driver_id</th>\n",
       "      <th>_id</th>\n",
       "      <th>car_id</th>\n",
       "      <th>lat_d</th>\n",
       "      <th>lon_d</th>\n",
       "      <th>polyline</th>\n",
       "      <th>timestamp</th>\n",
       "      <th>type</th>\n",
       "    </tr>\n",
       "  </thead>\n",
       "  <tbody>\n",
       "    <tr>\n",
       "      <th>234802</th>\n",
       "      <td>10kmE350N372</td>\n",
       "      <td>3500000.0</td>\n",
       "      <td>3720000.0</td>\n",
       "      <td>POLYGON ((-3.203506159154395 55.90295520344707...</td>\n",
       "      <td>91</td>\n",
       "      <td>uni</td>\n",
       "      <td>59c38193e04bd54b76333b88</td>\n",
       "      <td>5a02e836e04bd518c5b9dc31</td>\n",
       "      <td>5a02e7f7e04bd50f95de2924</td>\n",
       "      <td>55.931316</td>\n",
       "      <td>-3.073093</td>\n",
       "      <td>c`ttIv~jRHu@dBsQv@oGp@}DJiBHa@~@sDH[Lo@Ba@?u@@...</td>\n",
       "      <td>2017-11-18</td>\n",
       "      <td>destination</td>\n",
       "    </tr>\n",
       "    <tr>\n",
       "      <th>234802</th>\n",
       "      <td>10kmE350N372</td>\n",
       "      <td>3500000.0</td>\n",
       "      <td>3720000.0</td>\n",
       "      <td>POLYGON ((-3.203506159154395 55.90295520344707...</td>\n",
       "      <td>234</td>\n",
       "      <td>University</td>\n",
       "      <td>59c38193e04bd54b76333b88</td>\n",
       "      <td>5a0d6562e04bd504e8d42408</td>\n",
       "      <td>5a02e7f7e04bd50f95de2924</td>\n",
       "      <td>55.931316</td>\n",
       "      <td>-3.073093</td>\n",
       "      <td>gsrtIzhmRLW`DgGLSJQU_AgGaTa@cBw@cDgCuL_@aC_@eA...</td>\n",
       "      <td>2017-11-20</td>\n",
       "      <td>destination</td>\n",
       "    </tr>\n",
       "    <tr>\n",
       "      <th>234802</th>\n",
       "      <td>10kmE350N372</td>\n",
       "      <td>3500000.0</td>\n",
       "      <td>3720000.0</td>\n",
       "      <td>POLYGON ((-3.203506159154395 55.90295520344707...</td>\n",
       "      <td>177</td>\n",
       "      <td>fake trip to Edinburgh</td>\n",
       "      <td>5947966fe04bd554244929e2</td>\n",
       "      <td>5a02f1c4e04bd55efd5da14d</td>\n",
       "      <td>594796f2e04bd55419a48ed2</td>\n",
       "      <td>55.948547</td>\n",
       "      <td>-3.200399</td>\n",
       "      <td>epnuIpihRHVxB|Hb@bBvArFFVvCxKtAdFBH@JJ`@`BpGDN...</td>\n",
       "      <td>2017-11-08</td>\n",
       "      <td>destination</td>\n",
       "    </tr>\n",
       "    <tr>\n",
       "      <th>234802</th>\n",
       "      <td>10kmE350N372</td>\n",
       "      <td>3500000.0</td>\n",
       "      <td>3720000.0</td>\n",
       "      <td>POLYGON ((-3.203506159154395 55.90295520344707...</td>\n",
       "      <td>100</td>\n",
       "      <td>test 2</td>\n",
       "      <td>59c38193e04bd54b76333b88</td>\n",
       "      <td>5a04437de04bd50519d52334</td>\n",
       "      <td>5a02e7f7e04bd50f95de2924</td>\n",
       "      <td>55.950176</td>\n",
       "      <td>-3.187536</td>\n",
       "      <td>wadtIzfvQtAzAb@p@R`@Zx@HTu@bAUf@kA`FgApG[|AUx@...</td>\n",
       "      <td>2017-11-10</td>\n",
       "      <td>destination</td>\n",
       "    </tr>\n",
       "    <tr>\n",
       "      <th>234804</th>\n",
       "      <td>10kmE350N374</td>\n",
       "      <td>3500000.0</td>\n",
       "      <td>3740000.0</td>\n",
       "      <td>POLYGON ((-3.263877874265734 56.07915841056419...</td>\n",
       "      <td>92</td>\n",
       "      <td>Edinburgh-Kirkcaldy</td>\n",
       "      <td>592db7c7e04bd54efa291f88</td>\n",
       "      <td>5a02f062e04bd50f95de2975</td>\n",
       "      <td>592de3d8e04bd54efa291fa1</td>\n",
       "      <td>56.112823</td>\n",
       "      <td>-3.160727</td>\n",
       "      <td>qwntIbqmRxAi@|H{CJEF\\TvBTdC`AbIn@~ETfBBPRIj@YH...</td>\n",
       "      <td>2017-11-09</td>\n",
       "      <td>destination</td>\n",
       "    </tr>\n",
       "  </tbody>\n",
       "</table>\n",
       "</div>"
      ],
      "text/plain": [
       "            CellCode  EofOrigin  NofOrigin  \\\n",
       "234802  10kmE350N372  3500000.0  3720000.0   \n",
       "234802  10kmE350N372  3500000.0  3720000.0   \n",
       "234802  10kmE350N372  3500000.0  3720000.0   \n",
       "234802  10kmE350N372  3500000.0  3720000.0   \n",
       "234804  10kmE350N374  3500000.0  3740000.0   \n",
       "\n",
       "                                                 geometry  index_right  \\\n",
       "234802  POLYGON ((-3.203506159154395 55.90295520344707...           91   \n",
       "234802  POLYGON ((-3.203506159154395 55.90295520344707...          234   \n",
       "234802  POLYGON ((-3.203506159154395 55.90295520344707...          177   \n",
       "234802  POLYGON ((-3.203506159154395 55.90295520344707...          100   \n",
       "234804  POLYGON ((-3.263877874265734 56.07915841056419...           92   \n",
       "\n",
       "                          name                 driver_id  \\\n",
       "234802                     uni  59c38193e04bd54b76333b88   \n",
       "234802              University  59c38193e04bd54b76333b88   \n",
       "234802  fake trip to Edinburgh  5947966fe04bd554244929e2   \n",
       "234802                  test 2  59c38193e04bd54b76333b88   \n",
       "234804     Edinburgh-Kirkcaldy  592db7c7e04bd54efa291f88   \n",
       "\n",
       "                             _id                    car_id      lat_d  \\\n",
       "234802  5a02e836e04bd518c5b9dc31  5a02e7f7e04bd50f95de2924  55.931316   \n",
       "234802  5a0d6562e04bd504e8d42408  5a02e7f7e04bd50f95de2924  55.931316   \n",
       "234802  5a02f1c4e04bd55efd5da14d  594796f2e04bd55419a48ed2  55.948547   \n",
       "234802  5a04437de04bd50519d52334  5a02e7f7e04bd50f95de2924  55.950176   \n",
       "234804  5a02f062e04bd50f95de2975  592de3d8e04bd54efa291fa1  56.112823   \n",
       "\n",
       "           lon_d                                           polyline  \\\n",
       "234802 -3.073093  c`ttIv~jRHu@dBsQv@oGp@}DJiBHa@~@sDH[Lo@Ba@?u@@...   \n",
       "234802 -3.073093  gsrtIzhmRLW`DgGLSJQU_AgGaTa@cBw@cDgCuL_@aC_@eA...   \n",
       "234802 -3.200399  epnuIpihRHVxB|Hb@bBvArFFVvCxKtAdFBH@JJ`@`BpGDN...   \n",
       "234802 -3.187536  wadtIzfvQtAzAb@p@R`@Zx@HTu@bAUf@kA`FgApG[|AUx@...   \n",
       "234804 -3.160727  qwntIbqmRxAi@|H{CJEF\\TvBTdC`AbIn@~ETfBBPRIj@YH...   \n",
       "\n",
       "         timestamp         type  \n",
       "234802  2017-11-18  destination  \n",
       "234802  2017-11-20  destination  \n",
       "234802  2017-11-08  destination  \n",
       "234802  2017-11-10  destination  \n",
       "234804  2017-11-09  destination  "
      ]
     },
     "execution_count": 33,
     "metadata": {},
     "output_type": "execute_result"
    }
   ],
   "source": [
    "# Execute spatial join \n",
    "EEAGrid10K_Agg_Destinations = gpd.sjoin(EEAGrid10K_rep, Destinations, how=\"inner\", op='intersects')\n",
    "EEAGrid10K_Agg_Destinations.head()"
   ]
  },
  {
   "cell_type": "code",
   "execution_count": 34,
   "metadata": {},
   "outputs": [],
   "source": [
    "# Summarising the Destinations by EEA Grid 10k - Value counts\n",
    "EEAGrid10K_Agg_Destinations['Counts'] = EEAGrid10K_Agg_Destinations.groupby(['CellCode'])['type'].transform('count')"
   ]
  },
  {
   "cell_type": "code",
   "execution_count": 35,
   "metadata": {},
   "outputs": [
    {
     "data": {
      "text/html": [
       "<div>\n",
       "<table border=\"1\" class=\"dataframe\">\n",
       "  <thead>\n",
       "    <tr style=\"text-align: right;\">\n",
       "      <th></th>\n",
       "      <th>EofOrigin</th>\n",
       "      <th>NofOrigin</th>\n",
       "      <th>index_right</th>\n",
       "      <th>lat_d</th>\n",
       "      <th>lon_d</th>\n",
       "      <th>Counts</th>\n",
       "    </tr>\n",
       "  </thead>\n",
       "  <tbody>\n",
       "    <tr>\n",
       "      <th>count</th>\n",
       "      <td>2.440000e+02</td>\n",
       "      <td>2.440000e+02</td>\n",
       "      <td>244.000000</td>\n",
       "      <td>244.000000</td>\n",
       "      <td>244.000000</td>\n",
       "      <td>244.000000</td>\n",
       "    </tr>\n",
       "    <tr>\n",
       "      <th>mean</th>\n",
       "      <td>4.214836e+06</td>\n",
       "      <td>2.585738e+06</td>\n",
       "      <td>122.221311</td>\n",
       "      <td>46.405958</td>\n",
       "      <td>8.615094</td>\n",
       "      <td>39.196721</td>\n",
       "    </tr>\n",
       "    <tr>\n",
       "      <th>std</th>\n",
       "      <td>1.477582e+05</td>\n",
       "      <td>2.079645e+05</td>\n",
       "      <td>70.930385</td>\n",
       "      <td>1.765269</td>\n",
       "      <td>2.270520</td>\n",
       "      <td>31.288815</td>\n",
       "    </tr>\n",
       "    <tr>\n",
       "      <th>min</th>\n",
       "      <td>3.500000e+06</td>\n",
       "      <td>2.350000e+06</td>\n",
       "      <td>0.000000</td>\n",
       "      <td>44.308025</td>\n",
       "      <td>-3.200399</td>\n",
       "      <td>1.000000</td>\n",
       "    </tr>\n",
       "    <tr>\n",
       "      <th>25%</th>\n",
       "      <td>4.230000e+06</td>\n",
       "      <td>2.540000e+06</td>\n",
       "      <td>60.750000</td>\n",
       "      <td>45.985095</td>\n",
       "      <td>8.913743</td>\n",
       "      <td>6.000000</td>\n",
       "    </tr>\n",
       "    <tr>\n",
       "      <th>50%</th>\n",
       "      <td>4.230000e+06</td>\n",
       "      <td>2.540000e+06</td>\n",
       "      <td>122.500000</td>\n",
       "      <td>46.018156</td>\n",
       "      <td>8.946774</td>\n",
       "      <td>50.000000</td>\n",
       "    </tr>\n",
       "    <tr>\n",
       "      <th>75%</th>\n",
       "      <td>4.240000e+06</td>\n",
       "      <td>2.540000e+06</td>\n",
       "      <td>183.250000</td>\n",
       "      <td>46.044888</td>\n",
       "      <td>8.964890</td>\n",
       "      <td>78.000000</td>\n",
       "    </tr>\n",
       "    <tr>\n",
       "      <th>max</th>\n",
       "      <td>4.720000e+06</td>\n",
       "      <td>3.740000e+06</td>\n",
       "      <td>244.000000</td>\n",
       "      <td>56.112823</td>\n",
       "      <td>15.265993</td>\n",
       "      <td>78.000000</td>\n",
       "    </tr>\n",
       "  </tbody>\n",
       "</table>\n",
       "</div>"
      ],
      "text/plain": [
       "          EofOrigin     NofOrigin  index_right       lat_d       lon_d  \\\n",
       "count  2.440000e+02  2.440000e+02   244.000000  244.000000  244.000000   \n",
       "mean   4.214836e+06  2.585738e+06   122.221311   46.405958    8.615094   \n",
       "std    1.477582e+05  2.079645e+05    70.930385    1.765269    2.270520   \n",
       "min    3.500000e+06  2.350000e+06     0.000000   44.308025   -3.200399   \n",
       "25%    4.230000e+06  2.540000e+06    60.750000   45.985095    8.913743   \n",
       "50%    4.230000e+06  2.540000e+06   122.500000   46.018156    8.946774   \n",
       "75%    4.240000e+06  2.540000e+06   183.250000   46.044888    8.964890   \n",
       "max    4.720000e+06  3.740000e+06   244.000000   56.112823   15.265993   \n",
       "\n",
       "           Counts  \n",
       "count  244.000000  \n",
       "mean    39.196721  \n",
       "std     31.288815  \n",
       "min      1.000000  \n",
       "25%      6.000000  \n",
       "50%     50.000000  \n",
       "75%     78.000000  \n",
       "max     78.000000  "
      ]
     },
     "execution_count": 35,
     "metadata": {},
     "output_type": "execute_result"
    }
   ],
   "source": [
    "EEAGrid10K_Agg_Destinations.describe()"
   ]
  },
  {
   "cell_type": "code",
   "execution_count": 36,
   "metadata": {},
   "outputs": [],
   "source": [
    "# proj WGS84\n",
    "\n",
    "EEAGrid10K_Agg_Destinations.crs= \"+proj=longlat +ellps=WGS84 +datum=WGS84 +no_defs\""
   ]
  },
  {
   "cell_type": "code",
   "execution_count": 37,
   "metadata": {},
   "outputs": [],
   "source": [
    "EEAGrid10K_Agg_Destinations.to_file('EEAGrid10K_Agg_Destinations.shp', driver='ESRI Shapefile')"
   ]
  },
  {
   "cell_type": "markdown",
   "metadata": {},
   "source": [
    "## Task 1: Explore the result in QuantumGIS and ArcGIS Online.\n",
    "\n",
    "## Task 2: Apply the same operation with the QuantumGIS using the spatial analysis tools. Tip: Check the \"Vector\" tab.\n",
    "\n",
    "## Task 3: Explore another spatial operations with QuantumGIS such as Queries and Selections."
   ]
  }
 ],
 "metadata": {
  "kernelspec": {
   "display_name": "Python 3",
   "language": "python",
   "name": "python3"
  },
  "language_info": {
   "codemirror_mode": {
    "name": "ipython",
    "version": 3
   },
   "file_extension": ".py",
   "mimetype": "text/x-python",
   "name": "python",
   "nbconvert_exporter": "python",
   "pygments_lexer": "ipython3",
   "version": "3.6.0"
  }
 },
 "nbformat": 4,
 "nbformat_minor": 2
}
