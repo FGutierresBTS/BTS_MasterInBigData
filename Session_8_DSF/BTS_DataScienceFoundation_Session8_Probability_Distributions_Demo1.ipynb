{
 "cells": [
  {
   "cell_type": "markdown",
   "metadata": {},
   "source": [
    "# Subject: Data Science Foundation\n",
    "\n",
    "## Session 8 - Probability distributions\n",
    "\n",
    "### Demo 1 -  Probability Distributions"
   ]
  },
  {
   "cell_type": "markdown",
   "metadata": {},
   "source": [
    "Many statistical tools and techniques used in data analysis are based on probability. Probability measures how likely it is for an event to occur on a scale from 0 (the event never occurs) to 1 (the event always occurs.). When working with data, variables in the columns of the data set can be thought of as random variables: variables that vary due to chance. A probability distribution describes how a random variable is distributed; it tells us which values a random variable is most likely to take on and which values are less likely.\n",
    "In statistics, there are a range of precisely defined probability distributions that have different shapes and can be used to model different types of random events. In this lesson we'll discuss some common probability distributions and how to work with them in Python."
   ]
  },
  {
   "cell_type": "markdown",
   "metadata": {},
   "source": [
    "# 1. Conditional probability "
   ]
  },
  {
   "cell_type": "markdown",
   "metadata": {},
   "source": [
    "In probability theory, conditional probability is a measure of the probability of an event given that another event has occurred.\n",
    "\n",
    "In probability theory and statistics, given two jointly distributed random variables X and Y, the conditional probability distribution of Y given X is the probability distribution of Y when X is known to be a particular value; in some cases the conditional probabilities may be expressed as functions containing the unspecified value x of X as a parameter. When both \"X\" and \"Y\" are categorical variables, a conditional probability table is typically used to represent the conditional probability. The conditional distribution contrasts with the marginal distribution of a random variable, which is its distribution without reference to the value of the other variable.\n",
    "\n",
    "If the conditional distribution of Y given X is a continuous distribution, then its probability density function is known as the conditional density function. The properties of a conditional distribution, such as the moments, are often referred to by corresponding names such as the conditional mean and conditional variance.\n",
    "\n",
    "More generally, one can refer to the conditional distribution of a subset of a set of more than two variables; this conditional distribution is contingent on the values of all the remaining variables, and if more than one variable is included in the subset then this conditional distribution is the conditional joint distribution of the included variables.\n",
    "\n",
    "https://en.wikipedia.org/wiki/Conditional_probability_distribution"
   ]
  },
  {
   "cell_type": "markdown",
   "metadata": {},
   "source": [
    "# 1.1. Calculate conditional probabilites of ratings('A','B','C') in ratings column"
   ]
  },
  {
   "cell_type": "code",
   "execution_count": null,
   "metadata": {
    "collapsed": true
   },
   "outputs": [],
   "source": [
    "\n",
    "    company     model    rating   type\n",
    "0   ford       mustang     A      coupe\n",
    "1   chevy      camaro      B      coupe\n",
    "2   ford       fiesta      C      sedan\n",
    "3   ford       focus       A      sedan\n",
    "4   ford       taurus      B      sedan\n",
    "5   toyota     camry       B      sedan\n",
    "\n",
    "\n",
    "Output:\n",
    "    \n",
    "Prob(rating=A) = 0.333333 \n",
    "Prob(rating=B) = 0.500000 \n",
    "Prob(rating=C) = 0.166667 \n",
    "\n",
    "Prob(type=coupe|rating=A) = 0.500000 \n",
    "Prob(type=sedan|rating=A) = 0.500000 \n",
    "Prob(type=coupe|rating=B) = 0.333333 \n",
    "Prob(type=sedan|rating=B) = 0.666667 \n",
    "Prob(type=coupe|rating=C) = 0.000000 \n",
    "Prob(type=sedan|rating=C) = 1.000000 \n",
    "\n",
    "\n"
   ]
  },
  {
   "cell_type": "code",
   "execution_count": 2,
   "metadata": {
    "collapsed": true
   },
   "outputs": [],
   "source": [
    "import pandas as pd\n",
    "import numpy as np\n",
    "%matplotlib inline"
   ]
  },
  {
   "cell_type": "code",
   "execution_count": 13,
   "metadata": {
    "collapsed": false,
    "scrolled": false
   },
   "outputs": [
    {
     "data": {
      "text/html": [
       "<div>\n",
       "<table border=\"1\" class=\"dataframe\">\n",
       "  <thead>\n",
       "    <tr style=\"text-align: right;\">\n",
       "      <th></th>\n",
       "      <th>company</th>\n",
       "      <th>model</th>\n",
       "      <th>rating</th>\n",
       "      <th>type</th>\n",
       "    </tr>\n",
       "  </thead>\n",
       "  <tbody>\n",
       "    <tr>\n",
       "      <th>0</th>\n",
       "      <td>ford</td>\n",
       "      <td>mustang</td>\n",
       "      <td>A</td>\n",
       "      <td>coupe</td>\n",
       "    </tr>\n",
       "    <tr>\n",
       "      <th>1</th>\n",
       "      <td>chevy</td>\n",
       "      <td>camaro</td>\n",
       "      <td>B</td>\n",
       "      <td>coupe</td>\n",
       "    </tr>\n",
       "    <tr>\n",
       "      <th>2</th>\n",
       "      <td>ford</td>\n",
       "      <td>fiesta</td>\n",
       "      <td>C</td>\n",
       "      <td>sedan</td>\n",
       "    </tr>\n",
       "    <tr>\n",
       "      <th>3</th>\n",
       "      <td>ford</td>\n",
       "      <td>focus</td>\n",
       "      <td>A</td>\n",
       "      <td>sedan</td>\n",
       "    </tr>\n",
       "    <tr>\n",
       "      <th>4</th>\n",
       "      <td>ford</td>\n",
       "      <td>taurus</td>\n",
       "      <td>B</td>\n",
       "      <td>sedan</td>\n",
       "    </tr>\n",
       "    <tr>\n",
       "      <th>5</th>\n",
       "      <td>toyota</td>\n",
       "      <td>camry</td>\n",
       "      <td>B</td>\n",
       "      <td>sedan</td>\n",
       "    </tr>\n",
       "  </tbody>\n",
       "</table>\n",
       "</div>"
      ],
      "text/plain": [
       "  company    model rating   type\n",
       "0    ford  mustang      A  coupe\n",
       "1   chevy   camaro      B  coupe\n",
       "2    ford   fiesta      C  sedan\n",
       "3    ford    focus      A  sedan\n",
       "4    ford   taurus      B  sedan\n",
       "5  toyota    camry      B  sedan"
      ]
     },
     "execution_count": 13,
     "metadata": {},
     "output_type": "execute_result"
    }
   ],
   "source": [
    "data = {'company': ['ford', 'chevy', 'ford', 'ford', 'ford', 'toyota'], \n",
    "        'model': ['mustang', 'camaro', 'fiesta', 'focus', 'taurus', 'camry'], \n",
    "        'rating': ['A', 'B', 'C', 'A', 'B', 'B'],\n",
    "        'type': ['coupe', 'coupe', 'sedan', 'sedan', 'sedan', 'sedan']}\n",
    "df = pd.DataFrame(data, columns = ['company', 'model', 'rating', 'type'])\n",
    "df"
   ]
  },
  {
   "cell_type": "code",
   "execution_count": 20,
   "metadata": {
    "collapsed": false,
    "scrolled": false
   },
   "outputs": [
    {
     "data": {
      "text/plain": [
       "rating\n",
       "A    2\n",
       "B    3\n",
       "C    1\n",
       "Name: model, dtype: int64"
      ]
     },
     "execution_count": 20,
     "metadata": {},
     "output_type": "execute_result"
    }
   ],
   "source": [
    "df.groupby('rating').count()['model']"
   ]
  },
  {
   "cell_type": "code",
   "execution_count": 21,
   "metadata": {
    "collapsed": false
   },
   "outputs": [
    {
     "data": {
      "text/plain": [
       "6"
      ]
     },
     "execution_count": 21,
     "metadata": {},
     "output_type": "execute_result"
    }
   ],
   "source": [
    "len(df)"
   ]
  },
  {
   "cell_type": "code",
   "execution_count": 22,
   "metadata": {
    "collapsed": false
   },
   "outputs": [
    {
     "data": {
      "text/plain": [
       "rating\n",
       "A    0.333333\n",
       "B    0.500000\n",
       "C    0.166667\n",
       "Name: model, dtype: float64"
      ]
     },
     "execution_count": 22,
     "metadata": {},
     "output_type": "execute_result"
    }
   ],
   "source": [
    "df.groupby('rating').count()['model'] / len(df)"
   ]
  },
  {
   "cell_type": "code",
   "execution_count": 23,
   "metadata": {
    "collapsed": false,
    "scrolled": false
   },
   "outputs": [
    {
     "data": {
      "text/html": [
       "<div>\n",
       "<table border=\"1\" class=\"dataframe\">\n",
       "  <thead>\n",
       "    <tr style=\"text-align: right;\">\n",
       "      <th></th>\n",
       "      <th></th>\n",
       "      <th>company</th>\n",
       "      <th>model</th>\n",
       "    </tr>\n",
       "    <tr>\n",
       "      <th>rating</th>\n",
       "      <th>type</th>\n",
       "      <th></th>\n",
       "      <th></th>\n",
       "    </tr>\n",
       "  </thead>\n",
       "  <tbody>\n",
       "    <tr>\n",
       "      <th rowspan=\"2\" valign=\"top\">A</th>\n",
       "      <th>coupe</th>\n",
       "      <td>1</td>\n",
       "      <td>1</td>\n",
       "    </tr>\n",
       "    <tr>\n",
       "      <th>sedan</th>\n",
       "      <td>1</td>\n",
       "      <td>1</td>\n",
       "    </tr>\n",
       "    <tr>\n",
       "      <th rowspan=\"2\" valign=\"top\">B</th>\n",
       "      <th>coupe</th>\n",
       "      <td>1</td>\n",
       "      <td>1</td>\n",
       "    </tr>\n",
       "    <tr>\n",
       "      <th>sedan</th>\n",
       "      <td>2</td>\n",
       "      <td>2</td>\n",
       "    </tr>\n",
       "    <tr>\n",
       "      <th>C</th>\n",
       "      <th>sedan</th>\n",
       "      <td>1</td>\n",
       "      <td>1</td>\n",
       "    </tr>\n",
       "  </tbody>\n",
       "</table>\n",
       "</div>"
      ],
      "text/plain": [
       "              company  model\n",
       "rating type                 \n",
       "A      coupe        1      1\n",
       "       sedan        1      1\n",
       "B      coupe        1      1\n",
       "       sedan        2      2\n",
       "C      sedan        1      1"
      ]
     },
     "execution_count": 23,
     "metadata": {},
     "output_type": "execute_result"
    }
   ],
   "source": [
    "df.groupby(['rating', 'type']).count()"
   ]
  },
  {
   "cell_type": "code",
   "execution_count": 24,
   "metadata": {
    "collapsed": false
   },
   "outputs": [
    {
     "data": {
      "text/plain": [
       "rating\n",
       "A    2\n",
       "B    3\n",
       "C    1\n",
       "Name: model, dtype: int64"
      ]
     },
     "execution_count": 24,
     "metadata": {},
     "output_type": "execute_result"
    }
   ],
   "source": [
    "df.groupby('rating').count()['model']"
   ]
  },
  {
   "cell_type": "code",
   "execution_count": 25,
   "metadata": {
    "collapsed": false
   },
   "outputs": [
    {
     "data": {
      "text/plain": [
       "rating  type \n",
       "A       coupe    0.500000\n",
       "        sedan    0.500000\n",
       "B       coupe    0.333333\n",
       "        sedan    0.666667\n",
       "C       sedan    1.000000\n",
       "Name: model, dtype: float64"
      ]
     },
     "execution_count": 25,
     "metadata": {},
     "output_type": "execute_result"
    }
   ],
   "source": [
    "(df.groupby(['rating', 'type']).count() / df.groupby('rating').count())['model']"
   ]
  },
  {
   "cell_type": "markdown",
   "metadata": {},
   "source": [
    "# 2. Probability distributions"
   ]
  },
  {
   "cell_type": "markdown",
   "metadata": {},
   "source": [
    "The probability distribution is a description of a random phenomenon in terms of the probabilities of events. \n",
    "Probability distributions are generally divided into two classes. \n",
    "\n",
    "1) A discrete probability distribution (applicable to the scenarios where the set of possible outcomes is discrete, such as a coin toss) can be encoded by a discrete list of the probabilities of the outcomes, known as a Probability Mass Function (PMF). \n",
    "\n",
    "In probability and statistics, a Probability Mass Function (PMF) is a function that gives the probability that a discrete random variable is exactly equal to some value. The probability distribution of a discrete random variable is a list of probabilities associated with each of its possible values.\n",
    "A discrete variable is a variable which can only take a countable number of values. For example, if a coin is tossed three times, the number of heads can only take 4 values (0, 1, 2, 3) and so the variable is discrete. The variable is said to be random if the sum of the probabilities is one.  \n",
    "\n",
    "The value of the random variable having the largest probability mass is called the mode.\n",
    "\n",
    "All the values of this function must be non-negative and sum up to 1.\n",
    "\n",
    "2) On the other hand, a continuous probability distribution (applicable to the scenarios where the set of possible outcomes can take on values in a continuous range (e.g. real numbers), such as the temperature on a given day) is typically described by Probability Density Functions (PDF) (with the probability of any individual outcome actually being 0). \n",
    "\n",
    "\n",
    "A Probability Mass Function (PMF) differs from a Probability Density Function (PDF) in that the latter is associated with continuous rather than discrete random variables; the values of the Probability Density Function (PDF) are not probabilities as such: a PDF must be integrated over an interval to yield a probability.\n",
    "\n",
    "\n",
    "https://en.wikipedia.org/wiki/Probability_distribution\n",
    " \n"
   ]
  },
  {
   "cell_type": "markdown",
   "metadata": {},
   "source": [
    "# 1. The Uniform Distribution"
   ]
  },
  {
   "cell_type": "markdown",
   "metadata": {},
   "source": [
    "The uniform distribution is a probability distribution where each value within a certain range is equally likely to occur and values outside of the range never occur. \n",
    "\n",
    "\n",
    "In probability theory and statistics, the discrete uniform distribution is a symmetric probability distribution whereby a finite number of values are equally likely to be observed; every one of n values has equal probability 1/n. Another way of saying \"discrete uniform distribution\" would be \"a known, finite number of outcomes equally likely to happen\".\n",
    "\n",
    "https://en.wikipedia.org/wiki/Discrete_uniform_distribution\n",
    "\n",
    "If we make a density plot of a uniform distribution, it appears flat because no value is any more likely (and hence has any more density) than another.\n",
    "Many useful functions for working with probability distributions in Python are contained in the scipy.stats library. Let's load in some libraries, generate some uniform data and plot a density curve:"
   ]
  },
  {
   "cell_type": "code",
   "execution_count": 4,
   "metadata": {
    "collapsed": true
   },
   "outputs": [],
   "source": [
    "%matplotlib inline"
   ]
  },
  {
   "cell_type": "code",
   "execution_count": 3,
   "metadata": {
    "collapsed": true
   },
   "outputs": [],
   "source": [
    "import numpy as np\n",
    "import pandas as pd\n",
    "import matplotlib.pyplot as plt\n",
    "import scipy.stats  as stats"
   ]
  },
  {
   "cell_type": "code",
   "execution_count": 28,
   "metadata": {
    "collapsed": true
   },
   "outputs": [],
   "source": [
    "uniform_data = stats.uniform.rvs(size=100000,  # Generate 100000 numbers\n",
    "                                 loc = 0,      # From 0 \n",
    "                                 scale=10)     # To 10"
   ]
  },
  {
   "cell_type": "code",
   "execution_count": 29,
   "metadata": {
    "collapsed": false
   },
   "outputs": [
    {
     "data": {
      "text/plain": [
       "<matplotlib.axes._subplots.AxesSubplot at 0xa239358>"
      ]
     },
     "execution_count": 29,
     "metadata": {},
     "output_type": "execute_result"
    },
    {
     "data": {
      "image/png": "[encoded data removed]",
      "text/plain": [
       "<matplotlib.figure.Figure at 0xa221b38>"
      ]
     },
     "metadata": {},
     "output_type": "display_data"
    }
   ],
   "source": [
    "pd.DataFrame(uniform_data).plot(kind=\"density\",  # Plot the distribution\n",
    "                               figsize=(9,9),\n",
    "                               xlim=(-1,11))"
   ]
  },
  {
   "cell_type": "markdown",
   "metadata": {},
   "source": [
    "*Note: the plot above is an approximation of the underlying distribution, since it is based on a sample of observations.\n",
    "In the code above, we generated 100,000 data points from a uniform distribution spanning the range 0 to 10. In the density plot, we see that the density of our uniform data is essentially level meaning any given value has the same probability of occurring. The area under a probability density curve is always equal to 1."
   ]
  },
  {
   "cell_type": "markdown",
   "metadata": {},
   "source": [
    "## Probability distributions in scipy come with several useful functions for generating random data and extracting values of interest:"
   ]
  },
  {
   "cell_type": "markdown",
   "metadata": {},
   "source": [
    "-*stats.distribution.rvs()* generates random numbers from the specified distribution. The arguments to rvs() will vary depending on the type of distribution you're working with; in the case of the uniform distribution, we have to specify the starting and ending points and the size (number of random points to generate.)."
   ]
  },
  {
   "cell_type": "markdown",
   "metadata": {},
   "source": [
    "When you need to generate random real numbers in a range with equal probability you can draw numbers from a uniform distribution using *stats.distribution.rvs()*. Python also comes with a library called \"random\" that lets you perform various operations that involve randomization. Let's look at a few functions in the random library:"
   ]
  },
  {
   "cell_type": "code",
   "execution_count": 35,
   "metadata": {
    "collapsed": true
   },
   "outputs": [],
   "source": [
    "import random"
   ]
  },
  {
   "cell_type": "code",
   "execution_count": 38,
   "metadata": {
    "collapsed": false
   },
   "outputs": [
    {
     "data": {
      "text/plain": [
       "8"
      ]
     },
     "execution_count": 38,
     "metadata": {},
     "output_type": "execute_result"
    }
   ],
   "source": [
    "random.randint(0,10)     # Get a random integer in the specified range"
   ]
  },
  {
   "cell_type": "code",
   "execution_count": 39,
   "metadata": {
    "collapsed": false
   },
   "outputs": [
    {
     "data": {
      "text/plain": [
       "4"
      ]
     },
     "execution_count": 39,
     "metadata": {},
     "output_type": "execute_result"
    }
   ],
   "source": [
    "random.choice([2,4,6,9]) # Get a random element from a sequence"
   ]
  },
  {
   "cell_type": "code",
   "execution_count": 40,
   "metadata": {
    "collapsed": false
   },
   "outputs": [
    {
     "data": {
      "text/plain": [
       "0.16785665835091046"
      ]
     },
     "execution_count": 40,
     "metadata": {},
     "output_type": "execute_result"
    }
   ],
   "source": [
    "random.random()          # Get a real number between 0 and 1"
   ]
  },
  {
   "cell_type": "code",
   "execution_count": 41,
   "metadata": {
    "collapsed": false
   },
   "outputs": [
    {
     "data": {
      "text/plain": [
       "2.0357339464109883"
      ]
     },
     "execution_count": 41,
     "metadata": {},
     "output_type": "execute_result"
    }
   ],
   "source": [
    "random.uniform(0,10)     # Get a real in the specified range"
   ]
  },
  {
   "cell_type": "markdown",
   "metadata": {},
   "source": [
    "-*stats.distribution.cdf()* is used to determine the probability that an observation drawn from a distribution falls below a specified value (known as the Cumulative Distribution Function (CDF)). In essence, cdf() gives you the area under the distribution's density curve to the left of a certain value on the x axis. For example, in the uniform distribution above, there is a 25% chance that an observation will be in the range 0 to 2.5 and a 75% chance it will fall in the range 2.5 to 10. We can confirm this with cdf():"
   ]
  },
  {
   "cell_type": "code",
   "execution_count": 30,
   "metadata": {
    "collapsed": false
   },
   "outputs": [
    {
     "data": {
      "text/plain": [
       "0.25"
      ]
     },
     "execution_count": 30,
     "metadata": {},
     "output_type": "execute_result"
    }
   ],
   "source": [
    "stats.uniform.cdf(x=2.5,         # Cutoff value (quantile) to check\n",
    "                  loc=0,         # Distribution start\n",
    "                  scale=10)      # Distribution end"
   ]
  },
  {
   "cell_type": "markdown",
   "metadata": {},
   "source": [
    "\n",
    "-*stats.distribution.ppf()* is the inverse of cdf(): it returns the x axis cutoff value (quantile) associated with a given probability. For instance, if we want to know the cutoff value for which we have a 40% chance of drawing an observation below that value, we can use ppf():"
   ]
  },
  {
   "cell_type": "code",
   "execution_count": 31,
   "metadata": {
    "collapsed": false
   },
   "outputs": [
    {
     "data": {
      "text/plain": [
       "4.0"
      ]
     },
     "execution_count": 31,
     "metadata": {},
     "output_type": "execute_result"
    }
   ],
   "source": [
    "stats.uniform.ppf(q=0.4,         # Probability cutoff\n",
    "                  loc=0,         # Distribution start\n",
    "                  scale=10)      # Distribution end"
   ]
  },
  {
   "cell_type": "markdown",
   "metadata": {},
   "source": [
    "-*stats.distribution.pdf()* gives you the probability density (height of the distribution) at a given x value. Since the uniform distribution is flat, all x values within its range will have the same probability density and x values outside the range have a probability density of 0:"
   ]
  },
  {
   "cell_type": "code",
   "execution_count": 33,
   "metadata": {
    "collapsed": false
   },
   "outputs": [
    {
     "name": "stdout",
     "output_type": "stream",
     "text": [
      "Density at x value -1\n",
      "0.0\n",
      "Density at x value 2\n",
      "0.1\n",
      "Density at x value 5\n",
      "0.1\n",
      "Density at x value 8\n",
      "0.1\n",
      "Density at x value 11\n",
      "0.0\n"
     ]
    }
   ],
   "source": [
    "for x in range(-1,12,3):\n",
    "    print(\"Density at x value \" + str(x))\n",
    "    print( stats.uniform.pdf(x, loc=0, scale=10) )   "
   ]
  },
  {
   "cell_type": "markdown",
   "metadata": {
    "collapsed": true
   },
   "source": [
    "# 2. The Normal Distribution"
   ]
  },
  {
   "cell_type": "markdown",
   "metadata": {
    "collapsed": true
   },
   "source": [
    "The normal or Gaussian distribution is a continuous probability distribution characterized by a symmetric bell-shaped curve. A normal distribution is defined by its center (mean) and spread (standard deviation.). The bulk of the observations generated from a normal distribution lie near the mean, which lies at the exact center of the distribution: as a rule of thumb, about 68% of the data lies within 1 standard deviation of the mean, 95% lies within 2 standard deviations and 99.7% lies within 3 standard deviations."
   ]
  },
  {
   "cell_type": "markdown",
   "metadata": {},
   "source": [
    "The normal distribution is perhaps the most important distribution in all of statistics. It turns out that many real world phenomena, like IQ test scores and human heights, roughly follow a normal distribution, so it is often used to model random variables. Many common statistical tests assume distributions are normal."
   ]
  },
  {
   "cell_type": "markdown",
   "metadata": {},
   "source": [
    "The scipy nickname for the normal distribution is norm. Let's investigate the normal distribution:"
   ]
  },
  {
   "cell_type": "code",
   "execution_count": 42,
   "metadata": {
    "collapsed": false
   },
   "outputs": [
    {
     "name": "stdout",
     "output_type": "stream",
     "text": [
      "0.158655253931 0.158655253931 0.682689492137\n"
     ]
    }
   ],
   "source": [
    "prob_under_minus1 = stats.norm.cdf(x= -1,  \n",
    "                                loc = 0,               \n",
    "                                scale= 1)     \n",
    "\n",
    "prob_over_1 = 1 - stats.norm.cdf(x= 1,  \n",
    "                                loc = 0,               \n",
    "                                scale= 1) \n",
    "\n",
    "between_prob = 1-(prob_under_minus1+prob_over_1)\n",
    "\n",
    "print(prob_under_minus1, prob_over_1, between_prob)"
   ]
  },
  {
   "cell_type": "markdown",
   "metadata": {},
   "source": [
    "The output shows that roughly 16% of the data generated by a normal distribution with mean 0 and standard deviation 1 is below -1, 16% is above 1 and 68% lies between -1 and 1, which agrees with the 68, 95, 99.7 rule. Let's plot the normal distribution and inspect areas we calculated:"
   ]
  },
  {
   "cell_type": "code",
   "execution_count": 55,
   "metadata": {
    "collapsed": false
   },
   "outputs": [
    {
     "data": {
      "text/plain": [
       "<matplotlib.text.Text at 0xd2ca940>"
      ]
     },
     "execution_count": 55,
     "metadata": {},
     "output_type": "execute_result"
    },
    {
     "data": {
      "image/png": "[encoded data removed]",
      "text/plain": [
       "<matplotlib.figure.Figure at 0xd25c358>"
      ]
     },
     "metadata": {},
     "output_type": "display_data"
    }
   ],
   "source": [
    "# Plot normal distribution areas*\n",
    "\n",
    "plt.rcParams[\"figure.figsize\"] = (9,9)\n",
    "                                  \n",
    "plt.fill_between(x=np.arange(-4,-1,0.01), \n",
    "                 y1= stats.norm.pdf(np.arange(-4,-1,0.01)) ,\n",
    "                 facecolor='red',\n",
    "                 alpha=0.35)\n",
    "\n",
    "plt.fill_between(x=np.arange(1,4,0.01), \n",
    "                 y1= stats.norm.pdf(np.arange(1,4,0.01)) ,\n",
    "                 facecolor='red',\n",
    "                 alpha=0.35)\n",
    "\n",
    "plt.fill_between(x=np.arange(-1,1,0.01), \n",
    "                 y1= stats.norm.pdf(np.arange(-1,1,0.01)) ,\n",
    "                 facecolor='blue',\n",
    "                 alpha=0.35)\n",
    "\n",
    "plt.text(x=-1.8, y=0.03, s= round(prob_under_minus1,3))\n",
    "plt.text(x=-0.2, y=0.1, s= round(between_prob,3))\n",
    "plt.text(x=1.4, y=0.03, s= round(prob_over_1,3))"
   ]
  },
  {
   "cell_type": "markdown",
   "metadata": {},
   "source": [
    "The plot above shows the bell shape of the normal distribution, the area below and above one standard deviation and the area within 1 standard deviation of the mean.\n",
    "Finding quantiles of the normal distribution is a common task when performing statistical tests. You can check normal distribution quantiles with *stats.norm.ppf()*:"
   ]
  },
  {
   "cell_type": "code",
   "execution_count": 56,
   "metadata": {
    "collapsed": false
   },
   "outputs": [
    {
     "name": "stdout",
     "output_type": "stream",
     "text": [
      "-1.95996398454\n",
      "1.95996398454\n"
     ]
    }
   ],
   "source": [
    "print( stats.norm.ppf(q=0.025) ) # Find the quantile for the 2.5% cutoff\n",
    "\n",
    "print( stats.norm.ppf(q=0.975) ) # Find the quantile for the 97.5% cutoff"
   ]
  },
  {
   "cell_type": "markdown",
   "metadata": {
    "collapsed": true
   },
   "source": [
    "The quantile output above confirms that roughly 5% of the data lies more than 2 standard deviations from the mean.\n",
    "\n",
    "We use a range between two quantiles, usually the 2.5 centile and the 97.5 centile, which is called the normal range, 95% reference range, or 95% reference interval. This leaves 5% of normals outside the `normal range'.\n",
    "\n",
    "*Note: a mean of 0 and standard deviation of 1 are default values for the normal distribution."
   ]
  },
  {
   "cell_type": "markdown",
   "metadata": {},
   "source": [
    "# 3. The Binomial Distribution"
   ]
  },
  {
   "cell_type": "markdown",
   "metadata": {},
   "source": [
    "The binomial distribution is a discrete probability distribution that models the outcomes of a given number of random trails of some experiment or event. The binomial is defined by two parameters: the probability of success in any given trial and the number of trials. The binomial distribution tells you how likely it is to achieve a given number of successes in n trials of the experiment. For example, we could model flipping a fair coin 10 times with a binomial distribution where the number of trials is set to 10 and the probability of success is set to 0.5. In this case the distribution would tell us how likely it is to get zero heads, 1 head, 2 heads and so on."
   ]
  },
  {
   "cell_type": "markdown",
   "metadata": {},
   "source": [
    "The scipy name for the binomial is binom. Let's generate and investigate some binomial data:"
   ]
  },
  {
   "cell_type": "code",
   "execution_count": 5,
   "metadata": {
    "collapsed": false
   },
   "outputs": [
    {
     "name": "stdout",
     "output_type": "stream",
     "text": [
      "col_0   0    1    2     3     4     5     6     7    8   9   10\n",
      "row_0                                                          \n",
      "counts  12  114  447  1145  2060  2445  2044  1193  436  98   6\n"
     ]
    },
    {
     "data": {
      "text/plain": [
       "array([[<matplotlib.axes._subplots.AxesSubplot object at 0x000000000A2151D0>]], dtype=object)"
      ]
     },
     "execution_count": 5,
     "metadata": {},
     "output_type": "execute_result"
    },
    {
     "data": {
      "image/png": "[encoded data removed]",
      "text/plain": [
       "<matplotlib.figure.Figure at 0xa1e6748>"
      ]
     },
     "metadata": {},
     "output_type": "display_data"
    }
   ],
   "source": [
    "fair_coin_flips = stats.binom.rvs(n=10,        # Number of flips per trial\n",
    "                                  p=0.5,       # Success probability\n",
    "                                  size=10000)  # Number of trials\n",
    "\n",
    "print( pd.crosstab(index=\"counts\", columns= fair_coin_flips))\n",
    "\n",
    "pd.DataFrame(fair_coin_flips).hist(range=(-0.5,10.5), bins=11)"
   ]
  },
  {
   "cell_type": "markdown",
   "metadata": {},
   "source": [
    "Note that since the binomial distribution is discrete, it only takes on integer values so we can summarize binomial data with a frequency table and its distribution with a histogram. The histogram shows us that a binomial distribution with a 50% probability of success is roughly symmetric, with the most likely outcomes lying at the center. This is reminiscent of the normal distribution, but if we alter the success probability, the distribution won't be symmetric:"
   ]
  },
  {
   "cell_type": "code",
   "execution_count": 6,
   "metadata": {
    "collapsed": false,
    "scrolled": true
   },
   "outputs": [
    {
     "name": "stdout",
     "output_type": "stream",
     "text": [
      "col_0   2   3   4    5    6     7     8     9     10\n",
      "row_0                                               \n",
      "counts   1  11  56  267  886  1980  2946  2763  1090\n"
     ]
    },
    {
     "data": {
      "text/plain": [
       "array([[<matplotlib.axes._subplots.AxesSubplot object at 0x000000000A6857F0>]], dtype=object)"
      ]
     },
     "execution_count": 6,
     "metadata": {},
     "output_type": "execute_result"
    },
    {
     "data": {
      "image/png": "[encoded data removed]",
      "text/plain": [
       "<matplotlib.figure.Figure at 0xa62f2e8>"
      ]
     },
     "metadata": {},
     "output_type": "display_data"
    }
   ],
   "source": [
    "biased_coin_flips = stats.binom.rvs(n=10,      # Number of flips per trial\n",
    "                                  p=0.8,       # Success probability\n",
    "                                  size=10000)  # Number of trials\n",
    "\n",
    "# Print table of counts\n",
    "print( pd.crosstab(index=\"counts\", columns= biased_coin_flips))\n",
    "\n",
    "# Plot histogram\n",
    "pd.DataFrame(biased_coin_flips).hist(range=(-0.5,10.5), bins=11)"
   ]
  },
  {
   "cell_type": "markdown",
   "metadata": {},
   "source": [
    "The cdf() function lets us check the probability of achieving a number of successes within a certain range:"
   ]
  },
  {
   "cell_type": "code",
   "execution_count": 7,
   "metadata": {
    "collapsed": false
   },
   "outputs": [
    {
     "data": {
      "text/plain": [
       "0.032793497599999964"
      ]
     },
     "execution_count": 7,
     "metadata": {},
     "output_type": "execute_result"
    }
   ],
   "source": [
    "stats.binom.cdf(k=5,        # Probability of k = 5 successes or less\n",
    "                n=10,       # With 10 flips\n",
    "                p=0.8)      # And success probability 0.8"
   ]
  },
  {
   "cell_type": "code",
   "execution_count": 8,
   "metadata": {
    "collapsed": false,
    "scrolled": true
   },
   "outputs": [
    {
     "data": {
      "text/plain": [
       "0.37580963840000003"
      ]
     },
     "execution_count": 8,
     "metadata": {},
     "output_type": "execute_result"
    }
   ],
   "source": [
    "1 - stats.binom.cdf(k=8,        # Probability of k = 9 successes or more\n",
    "                    n=10,       # With 10 flips\n",
    "                    p=0.8)      # And success probability 0.8"
   ]
  },
  {
   "cell_type": "markdown",
   "metadata": {},
   "source": [
    "For continuous probability density functions, you use pdf() to check the probability density at a given x value. For discrete distributions like the binomial, use stats.distribution.pmf() (probability mass function) to check the mass (proportion of observations) at given number of successes k:"
   ]
  },
  {
   "cell_type": "code",
   "execution_count": 9,
   "metadata": {
    "collapsed": false,
    "scrolled": true
   },
   "outputs": [
    {
     "data": {
      "text/plain": [
       "0.24609375000000025"
      ]
     },
     "execution_count": 9,
     "metadata": {},
     "output_type": "execute_result"
    }
   ],
   "source": [
    "stats.binom.pmf(k=5,        # Probability of k = 5 successes\n",
    "                n=10,       # With 10 flips\n",
    "                p=0.5)      # And success probability 0.5"
   ]
  },
  {
   "cell_type": "code",
   "execution_count": 10,
   "metadata": {
    "collapsed": false
   },
   "outputs": [
    {
     "data": {
      "text/plain": [
       "0.30198988799999998"
      ]
     },
     "execution_count": 10,
     "metadata": {},
     "output_type": "execute_result"
    }
   ],
   "source": [
    "stats.binom.pmf(k=8,        # Probability of k = 8 successes\n",
    "                n=10,       # With 10 flips\n",
    "                p=0.8)      # And success probability 0.8"
   ]
  },
  {
   "cell_type": "markdown",
   "metadata": {},
   "source": [
    "# 4. The Poisson Distribution"
   ]
  },
  {
   "cell_type": "markdown",
   "metadata": {},
   "source": [
    "The Poisson distribution models the probability of seeing a certain number of successes within a time interval, where the time it takes for the next success is modeled by an exponential distribution. The Poisson distribution can be used to model traffic, such as the number of arrivals a hospital can expect in a hour's time or the number of emails you'd expect to receive in a week.\n",
    "The scipy name for the Poisson distribution is \"poisson\". Let's generate and plot some data from a Poisson distribution with an arrival rate of 1 per time unit:"
   ]
  },
  {
   "cell_type": "code",
   "execution_count": 67,
   "metadata": {
    "collapsed": false,
    "scrolled": true
   },
   "outputs": [
    {
     "name": "stdout",
     "output_type": "stream",
     "text": [
      "col_0      0     1     2    3    4   5  6  7\n",
      "row_0                                       \n",
      "counts  3694  3741  1774  619  147  21  3  1\n"
     ]
    },
    {
     "data": {
      "text/plain": [
       "array([[<matplotlib.axes._subplots.AxesSubplot object at 0x000000000D2D8668>]], dtype=object)"
      ]
     },
     "execution_count": 67,
     "metadata": {},
     "output_type": "execute_result"
    },
    {
     "data": {
      "image/png": "[encoded data removed]",
      "text/plain": [
       "<matplotlib.figure.Figure at 0xd2fa630>"
      ]
     },
     "metadata": {},
     "output_type": "display_data"
    }
   ],
   "source": [
    "random.seed(12)\n",
    "\n",
    "arrival_rate_1 = stats.poisson.rvs(size=10000,  # Generate Poisson data\n",
    "                                   mu=1 )       # Average arrival time 1\n",
    "\n",
    "# Print table of counts\n",
    "print( pd.crosstab(index=\"counts\", columns= arrival_rate_1))\n",
    "\n",
    "# Plot histogram\n",
    "pd.DataFrame(arrival_rate_1).hist(range=(-0.5,max(arrival_rate_1)+0.5)\n",
    "                                    , bins=max(arrival_rate_1)+1)"
   ]
  },
  {
   "cell_type": "markdown",
   "metadata": {},
   "source": [
    "The histogram shows that when arrivals are relatively infrequent, it is rare to see more than a couple of arrivals in each time period. When the arrival rate is high, it becomes increasingly rare to see a low number of arrivals and the distribution starts to look more symmetric:"
   ]
  },
  {
   "cell_type": "code",
   "execution_count": 68,
   "metadata": {
    "collapsed": false
   },
   "outputs": [
    {
     "name": "stdout",
     "output_type": "stream",
     "text": [
      "col_0   1   2   3    4    5    6    7     8     9     10 ...   15   16   17  \\\n",
      "row_0                                                    ...                  \n",
      "counts   2  21  80  190  396  623  940  1106  1284  1214 ...  331  211  138   \n",
      "\n",
      "col_0   18  19  20  21  22  24  25  \n",
      "row_0                               \n",
      "counts  68  32  21   7   5   2   1  \n",
      "\n",
      "[1 rows x 24 columns]\n"
     ]
    },
    {
     "data": {
      "text/plain": [
       "array([[<matplotlib.axes._subplots.AxesSubplot object at 0x000000000D305B00>]], dtype=object)"
      ]
     },
     "execution_count": 68,
     "metadata": {},
     "output_type": "execute_result"
    },
    {
     "data": {
      "image/png": "[encoded data removed]",
      "text/plain": [
       "<matplotlib.figure.Figure at 0xd53d400>"
      ]
     },
     "metadata": {},
     "output_type": "display_data"
    }
   ],
   "source": [
    "random.seed(12)\n",
    "\n",
    "arrival_rate_10 = stats.poisson.rvs(size=10000,  # Generate Poisson data\n",
    "                                   mu=10 )       # Average arrival time 10\n",
    "\n",
    "# Print table of counts\n",
    "print( pd.crosstab(index=\"counts\", columns= arrival_rate_10))\n",
    "\n",
    "# Plot histogram\n",
    "pd.DataFrame(arrival_rate_10).hist(range=(-0.5,max(arrival_rate_10)+0.5)\n",
    "                                    , bins=max(arrival_rate_10)+1)"
   ]
  },
  {
   "cell_type": "markdown",
   "metadata": {},
   "source": [
    "As with other discrete probability distributions, we can use cdf() to check the probability of achieving more or less than a certain number of successes and pmf() to check the probability of obtaining a specific number of successes:"
   ]
  },
  {
   "cell_type": "code",
   "execution_count": 69,
   "metadata": {
    "collapsed": false
   },
   "outputs": [
    {
     "data": {
      "text/plain": [
       "0.067085962879031888"
      ]
     },
     "execution_count": 69,
     "metadata": {},
     "output_type": "execute_result"
    }
   ],
   "source": [
    "stats.poisson.cdf(k=5,     # Check the probability of 5 arrivals or less\n",
    "                  mu=10)   # With arrival rate 10"
   ]
  },
  {
   "cell_type": "code",
   "execution_count": 70,
   "metadata": {
    "collapsed": false
   },
   "outputs": [
    {
     "data": {
      "text/plain": [
       "0.12511003572113372"
      ]
     },
     "execution_count": 70,
     "metadata": {},
     "output_type": "execute_result"
    }
   ],
   "source": [
    "stats.poisson.pmf(k=10,     # Check the prob f exactly 10 arrivals\n",
    "                  mu=10)    # With arrival rate 10"
   ]
  }
 ],
 "metadata": {
  "kernelspec": {
   "display_name": "Python 3",
   "language": "python",
   "name": "python3"
  },
  "language_info": {
   "codemirror_mode": {
    "name": "ipython",
    "version": 3
   },
   "file_extension": ".py",
   "mimetype": "text/x-python",
   "name": "python",
   "nbconvert_exporter": "python",
   "pygments_lexer": "ipython3",
   "version": "3.6.0"
  }
 },
 "nbformat": 4,
 "nbformat_minor": 2
}
