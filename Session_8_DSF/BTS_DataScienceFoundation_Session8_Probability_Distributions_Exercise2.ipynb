{
 "cells": [
  {
   "cell_type": "markdown",
   "metadata": {},
   "source": [
    "# Subject: Data Science Foundation\n",
    "\n",
    "## Session 8 - Probability distributions\n",
    "\n",
    "### Exercise 2 -  Hypothesis Testing Basics - One-Sample test\n",
    "\n",
    "- Considering the Hypothesis Testing Basics in Demo 3 develop the Hypothesis Tests for the distribution of Population and Sample heights of Spain and Catalunya.\n",
    "\n",
    "- Interpret and discuss the Results. \n",
    "- Commit scripts in your GitHub account. You should export your solution code (.ipynb notebook) and push it to your repository “DataScienceFoundations”.\n",
    "\n",
    "- The following are the tasks that should complete and synchronize with your repository “DataScienceFoundations” until November 01. Please notice that none of these tasks is graded, however it’s important that you correctly understand and complete them in order to be sure that you won’t have problems with further assignments."
   ]
  },
  {
   "cell_type": "markdown",
   "metadata": {},
   "source": [
    "# Import modules and read the distributions of Population and Sample heights"
   ]
  },
  {
   "cell_type": "code",
   "execution_count": 6,
   "metadata": {
    "collapsed": true
   },
   "outputs": [],
   "source": [
    "import numpy as np\n",
    "import pandas as pd\n",
    "import scipy.stats as stats\n",
    "import matplotlib.pyplot as plt\n",
    "import math\n",
    "%matplotlib inline"
   ]
  },
  {
   "cell_type": "code",
   "execution_count": 5,
   "metadata": {
    "collapsed": false
   },
   "outputs": [
    {
     "name": "stdout",
     "output_type": "stream",
     "text": [
      "58.00622\n",
      "37.48\n"
     ]
    }
   ],
   "source": [
    "np.random.seed(6)\n",
    "\n",
    "population_height1 = stats.poisson.rvs(loc=6, mu=80, size=150000)\n",
    "population_height2 = stats.poisson.rvs(loc=6, mu=10, size=100000)\n",
    "population_heights = np.concatenate((population_height1, population_height2))\n",
    "\n",
    "Catalunya_height1 = stats.poisson.rvs(loc=6, mu=40, size=30)\n",
    "Catalunya_height2 = stats.poisson.rvs(loc=6, mu=20, size=20)\n",
    "Catalunya_heights = np.concatenate((Catalunya_height1, Catalunya_height2))\n",
    "\n",
    "print( population_heights.mean() )\n",
    "print( Catalunya_heights.mean() )"
   ]
  },
  {
   "cell_type": "markdown",
   "metadata": {},
   "source": [
    "## Question: You can reject the null hypothesis? Why?"
   ]
  },
  {
   "cell_type": "markdown",
   "metadata": {},
   "source": [
    "> Put your code and answer here"
   ]
  }
 ],
 "metadata": {
  "kernelspec": {
   "display_name": "Python 3",
   "language": "python",
   "name": "python3"
  },
  "language_info": {
   "codemirror_mode": {
    "name": "ipython",
    "version": 3
   },
   "file_extension": ".py",
   "mimetype": "text/x-python",
   "name": "python",
   "nbconvert_exporter": "python",
   "pygments_lexer": "ipython3",
   "version": "3.6.0"
  }
 },
 "nbformat": 4,
 "nbformat_minor": 2
}
