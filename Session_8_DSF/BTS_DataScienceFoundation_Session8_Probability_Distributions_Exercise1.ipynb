{
 "cells": [
  {
   "cell_type": "markdown",
   "metadata": {},
   "source": [
    "# Subject: Data Science Foundation\n",
    "\n",
    "## Session 8 - Probability distributions\n",
    "\n",
    "### Exercise 1 -  Confidence Intervals\n",
    "\n",
    "- Considering the Sampling Distributions and The Central Limit Theorem in Demo 2 develop the confidence intervals for the distribution of Population heights Catalunya.\n",
    "\n",
    "- Interpret and discuss the Results. \n",
    "- Commit scripts in your GitHub account. You should export your solution code (.ipynb notebook) and push it to your repository “DataScienceFoundations”.\n",
    "\n",
    "- The following are the tasks that should complete and synchronize with your repository “DataScienceFoundations” until November 01. Please notice that none of these tasks is graded, however it’s important that you correctly understand and complete them in order to be sure that you won’t have problems with further assignments."
   ]
  },
  {
   "cell_type": "markdown",
   "metadata": {},
   "source": [
    "# Import modules and read the distributions of Population and Sample heights"
   ]
  },
  {
   "cell_type": "code",
   "execution_count": null,
   "metadata": {
    "collapsed": true
   },
   "outputs": [],
   "source": [
    "import numpy as np\n",
    "import pandas as pd\n",
    "import scipy.stats as stats\n",
    "import matplotlib.pyplot as plt\n",
    "import random\n",
    "import math\n",
    "%matplotlib inline"
   ]
  },
  {
   "cell_type": "code",
   "execution_count": null,
   "metadata": {
    "collapsed": true
   },
   "outputs": [],
   "source": [
    "np.random.seed(10) # With the seed reset (every time), the same set of numbers will appear every time.\n",
    "population_heights1 = stats.poisson.rvs(loc=10, mu=20, size=100000)\n",
    "population_heights2 = stats.poisson.rvs(loc=10, mu=10, size=50000)\n",
    "population_heights = np.concatenate((population_heights1, population_heights2))"
   ]
  },
  {
   "cell_type": "markdown",
   "metadata": {},
   "source": [
    "## Question: Indicate the confidence intervals."
   ]
  },
  {
   "cell_type": "markdown",
   "metadata": {},
   "source": [
    "> Put your code and answer here"
   ]
  }
 ],
 "metadata": {
  "kernelspec": {
   "display_name": "Python 3",
   "language": "python",
   "name": "python3"
  },
  "language_info": {
   "codemirror_mode": {
    "name": "ipython",
    "version": 3
   },
   "file_extension": ".py",
   "mimetype": "text/x-python",
   "name": "python",
   "nbconvert_exporter": "python",
   "pygments_lexer": "ipython3",
   "version": "3.6.0"
  }
 },
 "nbformat": 4,
 "nbformat_minor": 2
}
