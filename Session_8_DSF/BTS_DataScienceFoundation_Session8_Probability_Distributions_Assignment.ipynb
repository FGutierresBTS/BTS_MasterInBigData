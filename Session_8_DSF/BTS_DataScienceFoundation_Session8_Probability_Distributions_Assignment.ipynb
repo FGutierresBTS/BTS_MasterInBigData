{
 "cells": [
  {
   "cell_type": "markdown",
   "metadata": {},
   "source": [
    "# Subject: Data Science Foundation\n",
    "\n",
    "## Session 8 - Probability distributions\n",
    "\n",
    "### Assignment -  Conditional probability \n",
    "\n",
    "- Considering the Probability Distributions in Demo1 develop the Conditional probability ratings('A','B','C','D') by type of food.\n",
    " \n",
    "- Commit scripts in your GitHub account. You should export your solution code (.ipynb notebook) and push it to your repository “DataScienceFoundations”.\n",
    "\n",
    "- The following are the tasks that should complete and synchronize with your repository “DataScienceFoundations” until November 01. Please notice that this task will not be graded, however it’s important that you correctly understand and complete them in order to be sure that you won’t have problems with further assignments.\n",
    "\n",
    "Guidelines:\n",
    "- Clone the Git repository to get an initial code: \n",
    "https://github.com/FGutierresBTS/BTS_MasterInBigData.git\n",
    "- Once you downloaded the repository to your local file system, go to the folder “BTS_MasterInBigData/ Session_8_DSF”. \n",
    "- Copy the folder “Session_8_DSF” into your local folder “DataScienceFoundations”. \n",
    "- In the folder “Session_8_DSF” you will see the files called: \n",
    "    -\tBTS_DataScienceFoundation_Session8_Probability_Distributions_Assignment.ipynb.\n",
    "- Import these files into Jupyter Notebook using the “Upload” button. \n",
    "- Open the imported script and put your code inside the notebook. \n",
    "- Export your Assignment *.ipynb notebook and push it to your repository “DataScienceFoundations”."
   ]
  },
  {
   "cell_type": "markdown",
   "metadata": {},
   "source": [
    "# Import modules and read the data frame "
   ]
  },
  {
   "cell_type": "code",
   "execution_count": null,
   "metadata": {
    "collapsed": true
   },
   "outputs": [],
   "source": [
    "import pandas as pd\n",
    "import numpy as np\n",
    "%matplotlib inline"
   ]
  },
  {
   "cell_type": "code",
   "execution_count": null,
   "metadata": {
    "collapsed": true
   },
   "outputs": [],
   "source": [
    "data = {'restaurant': ['McDonalds', 'Pizza Hut', 'Burger King', 'Nostrum', 'Tapecito', 'La Roda'], \n",
    "        'Food': ['Paella', 'Burger', 'Pasta', 'Tapas', 'Fish', 'Sushi'], \n",
    "        'rating': ['A', 'A', 'B', 'B', 'C', 'D'],\n",
    "        'type': ['fast food', 'fast food', 'fast food', 'normal', 'normal', 'gourmet']}\n",
    "df = pd.DataFrame(data, columns = ['restaurant', 'Food', 'rating', 'type'])\n",
    "df"
   ]
  },
  {
   "cell_type": "markdown",
   "metadata": {},
   "source": [
    "## Question: Calculate the conditional probabilites of ratings('A','B','C') in ratings column by food type."
   ]
  },
  {
   "cell_type": "markdown",
   "metadata": {},
   "source": [
    "> Put your code and answer here"
   ]
  }
 ],
 "metadata": {
  "kernelspec": {
   "display_name": "Python 3",
   "language": "python",
   "name": "python3"
  },
  "language_info": {
   "codemirror_mode": {
    "name": "ipython",
    "version": 3
   },
   "file_extension": ".py",
   "mimetype": "text/x-python",
   "name": "python",
   "nbconvert_exporter": "python",
   "pygments_lexer": "ipython3",
   "version": "3.6.0"
  }
 },
 "nbformat": 4,
 "nbformat_minor": 2
}
