{
 "cells": [
  {
   "cell_type": "markdown",
   "metadata": {},
   "source": [
    "# Subject: Data Science Foundation\n",
    "\n",
    "## Session 9 - Data Exploration and Imputation\n",
    "\n",
    "### Exercise 1 -  Data Exploration and Imputation for pandas Dataframe \"Bike sharing\"\n"
   ]
  },
  {
   "cell_type": "markdown",
   "metadata": {},
   "source": [
    "## 1. Exploring The Variables"
   ]
  },
  {
   "cell_type": "code",
   "execution_count": 13,
   "metadata": {
    "collapsed": false,
    "scrolled": true
   },
   "outputs": [
    {
     "data": {
      "text/html": [
       "<div>\n",
       "<table border=\"1\" class=\"dataframe\">\n",
       "  <thead>\n",
       "    <tr style=\"text-align: right;\">\n",
       "      <th></th>\n",
       "      <th>datetime</th>\n",
       "      <th>season</th>\n",
       "      <th>holiday</th>\n",
       "      <th>workingday</th>\n",
       "      <th>weather</th>\n",
       "      <th>temp</th>\n",
       "      <th>atemp</th>\n",
       "      <th>humidity</th>\n",
       "      <th>windspeed</th>\n",
       "      <th>casual</th>\n",
       "      <th>registered</th>\n",
       "      <th>count</th>\n",
       "    </tr>\n",
       "  </thead>\n",
       "  <tbody>\n",
       "    <tr>\n",
       "      <th>0</th>\n",
       "      <td>1/1/2011 0:00</td>\n",
       "      <td>1</td>\n",
       "      <td>0</td>\n",
       "      <td>0</td>\n",
       "      <td>1</td>\n",
       "      <td>9.84</td>\n",
       "      <td>14.395</td>\n",
       "      <td>81</td>\n",
       "      <td>0.0</td>\n",
       "      <td>3</td>\n",
       "      <td>13</td>\n",
       "      <td>16</td>\n",
       "    </tr>\n",
       "    <tr>\n",
       "      <th>1</th>\n",
       "      <td>1/1/2011 1:00</td>\n",
       "      <td>1</td>\n",
       "      <td>0</td>\n",
       "      <td>0</td>\n",
       "      <td>1</td>\n",
       "      <td>9.02</td>\n",
       "      <td>13.635</td>\n",
       "      <td>80</td>\n",
       "      <td>0.0</td>\n",
       "      <td>8</td>\n",
       "      <td>32</td>\n",
       "      <td>40</td>\n",
       "    </tr>\n",
       "    <tr>\n",
       "      <th>2</th>\n",
       "      <td>1/1/2011 2:00</td>\n",
       "      <td>1</td>\n",
       "      <td>0</td>\n",
       "      <td>0</td>\n",
       "      <td>1</td>\n",
       "      <td>9.02</td>\n",
       "      <td>13.635</td>\n",
       "      <td>80</td>\n",
       "      <td>0.0</td>\n",
       "      <td>5</td>\n",
       "      <td>27</td>\n",
       "      <td>32</td>\n",
       "    </tr>\n",
       "    <tr>\n",
       "      <th>3</th>\n",
       "      <td>1/1/2011 3:00</td>\n",
       "      <td>1</td>\n",
       "      <td>0</td>\n",
       "      <td>0</td>\n",
       "      <td>1</td>\n",
       "      <td>9.84</td>\n",
       "      <td>14.395</td>\n",
       "      <td>75</td>\n",
       "      <td>0.0</td>\n",
       "      <td>3</td>\n",
       "      <td>10</td>\n",
       "      <td>13</td>\n",
       "    </tr>\n",
       "    <tr>\n",
       "      <th>4</th>\n",
       "      <td>1/1/2011 4:00</td>\n",
       "      <td>1</td>\n",
       "      <td>0</td>\n",
       "      <td>0</td>\n",
       "      <td>1</td>\n",
       "      <td>9.84</td>\n",
       "      <td>14.395</td>\n",
       "      <td>75</td>\n",
       "      <td>0.0</td>\n",
       "      <td>0</td>\n",
       "      <td>1</td>\n",
       "      <td>1</td>\n",
       "    </tr>\n",
       "  </tbody>\n",
       "</table>\n",
       "</div>"
      ],
      "text/plain": [
       "        datetime  season  holiday  workingday  weather  temp   atemp  \\\n",
       "0  1/1/2011 0:00       1        0           0        1  9.84  14.395   \n",
       "1  1/1/2011 1:00       1        0           0        1  9.02  13.635   \n",
       "2  1/1/2011 2:00       1        0           0        1  9.02  13.635   \n",
       "3  1/1/2011 3:00       1        0           0        1  9.84  14.395   \n",
       "4  1/1/2011 4:00       1        0           0        1  9.84  14.395   \n",
       "\n",
       "   humidity  windspeed  casual  registered  count  \n",
       "0        81        0.0       3          13     16  \n",
       "1        80        0.0       8          32     40  \n",
       "2        80        0.0       5          27     32  \n",
       "3        75        0.0       3          10     13  \n",
       "4        75        0.0       0           1      1  "
      ]
     },
     "execution_count": 13,
     "metadata": {},
     "output_type": "execute_result"
    }
   ],
   "source": [
    "import pandas as pd\n",
    "import numpy as np\n",
    "import matplotlib.pyplot as plt\n",
    "%matplotlib inline\n",
    "df=pd.read_csv(\"C:/Users/francisco.sacramento/Desktop/Master_Big_Data_Phyton/6_Exercices/Data Science Foundations/Session_9_DSF/2_bike_sharing.csv\")\n",
    "df.head()\n",
    "\n"
   ]
  },
  {
   "cell_type": "code",
   "execution_count": 14,
   "metadata": {
    "collapsed": false
   },
   "outputs": [
    {
     "data": {
      "text/plain": [
       "(10886, 12)"
      ]
     },
     "execution_count": 14,
     "metadata": {},
     "output_type": "execute_result"
    }
   ],
   "source": [
    "df.shape           # Check dimensions"
   ]
  },
  {
   "cell_type": "code",
   "execution_count": 15,
   "metadata": {
    "collapsed": false
   },
   "outputs": [
    {
     "data": {
      "text/plain": [
       "datetime       object\n",
       "season          int64\n",
       "holiday         int64\n",
       "workingday      int64\n",
       "weather         int64\n",
       "temp          float64\n",
       "atemp         float64\n",
       "humidity        int64\n",
       "windspeed     float64\n",
       "casual          int64\n",
       "registered      int64\n",
       "count           int64\n",
       "dtype: object"
      ]
     },
     "execution_count": 15,
     "metadata": {},
     "output_type": "execute_result"
    }
   ],
   "source": [
    "df.dtypes"
   ]
  },
  {
   "cell_type": "code",
   "execution_count": 16,
   "metadata": {
    "collapsed": false
   },
   "outputs": [
    {
     "name": "stdout",
     "output_type": "stream",
     "text": [
      "        datetime  season  holiday  workingday  weather  temp   atemp  \\\n",
      "0  1/1/2011 0:00       1        0           0        1  9.84  14.395   \n",
      "1  1/1/2011 1:00       1        0           0        1  9.02  13.635   \n",
      "2  1/1/2011 2:00       1        0           0        1  9.02  13.635   \n",
      "3  1/1/2011 3:00       1        0           0        1  9.84  14.395   \n",
      "4  1/1/2011 4:00       1        0           0        1  9.84  14.395   \n",
      "\n",
      "   humidity  windspeed  casual  registered  count  \n",
      "0        81        0.0       3          13     16  \n",
      "1        80        0.0       8          32     40  \n",
      "2        80        0.0       5          27     32  \n",
      "3        75        0.0       3          10     13  \n",
      "4        75        0.0       0           1      1  \n"
     ]
    }
   ],
   "source": [
    "print(df.head(5))  # Check the first 5 rows"
   ]
  },
  {
   "cell_type": "code",
   "execution_count": 17,
   "metadata": {
    "collapsed": false
   },
   "outputs": [
    {
     "name": "stdout",
     "output_type": "stream",
     "text": [
      "             season       holiday    workingday       weather          temp  \\\n",
      "count  10886.000000  10886.000000  10886.000000  10886.000000  10289.000000   \n",
      "mean       2.506614      0.028569      0.680875      1.418427     20.357901   \n",
      "std        1.116174      0.166599      0.466159      0.633839      7.617266   \n",
      "min        1.000000      0.000000      0.000000      1.000000      0.820000   \n",
      "25%        2.000000      0.000000      0.000000      1.000000     13.940000   \n",
      "50%        3.000000      0.000000      1.000000      1.000000     20.500000   \n",
      "75%        4.000000      0.000000      1.000000      2.000000     26.240000   \n",
      "max        4.000000      1.000000      1.000000      4.000000     41.000000   \n",
      "\n",
      "              atemp      humidity     windspeed        casual    registered  \\\n",
      "count  10886.000000  10886.000000  10886.000000  10886.000000  10886.000000   \n",
      "mean      23.655084     61.886460     12.799395     36.021955    155.552177   \n",
      "std        8.474601     19.245033      8.164537     49.960477    151.039033   \n",
      "min        0.760000      0.000000      0.000000      0.000000      0.000000   \n",
      "25%       16.665000     47.000000      7.001500      4.000000     36.000000   \n",
      "50%       24.240000     62.000000     12.998000     17.000000    118.000000   \n",
      "75%       31.060000     77.000000     16.997900     49.000000    222.000000   \n",
      "max       45.455000    100.000000     56.996900    367.000000    886.000000   \n",
      "\n",
      "              count  \n",
      "count  10886.000000  \n",
      "mean     191.574132  \n",
      "std      181.144454  \n",
      "min        1.000000  \n",
      "25%       42.000000  \n",
      "50%      145.000000  \n",
      "75%      284.000000  \n",
      "max      977.000000  \n"
     ]
    }
   ],
   "source": [
    "print( df.describe() )"
   ]
  },
  {
   "cell_type": "code",
   "execution_count": 18,
   "metadata": {
    "collapsed": false
   },
   "outputs": [
    {
     "name": "stdout",
     "output_type": "stream",
     "text": [
      "Index(['datetime'], dtype='object')\n"
     ]
    },
    {
     "data": {
      "text/html": [
       "<div>\n",
       "<table border=\"1\" class=\"dataframe\">\n",
       "  <thead>\n",
       "    <tr style=\"text-align: right;\">\n",
       "      <th></th>\n",
       "      <th>datetime</th>\n",
       "    </tr>\n",
       "  </thead>\n",
       "  <tbody>\n",
       "    <tr>\n",
       "      <th>count</th>\n",
       "      <td>10886</td>\n",
       "    </tr>\n",
       "    <tr>\n",
       "      <th>unique</th>\n",
       "      <td>10886</td>\n",
       "    </tr>\n",
       "    <tr>\n",
       "      <th>top</th>\n",
       "      <td>4/9/2011 4:00</td>\n",
       "    </tr>\n",
       "    <tr>\n",
       "      <th>freq</th>\n",
       "      <td>1</td>\n",
       "    </tr>\n",
       "  </tbody>\n",
       "</table>\n",
       "</div>"
      ],
      "text/plain": [
       "             datetime\n",
       "count           10886\n",
       "unique          10886\n",
       "top     4/9/2011 4:00\n",
       "freq                1"
      ]
     },
     "execution_count": 18,
     "metadata": {},
     "output_type": "execute_result"
    }
   ],
   "source": [
    "categorical = df.dtypes[df.dtypes == \"object\"].index\n",
    "print(categorical)\n",
    "\n",
    "df[categorical].describe()"
   ]
  },
  {
   "cell_type": "markdown",
   "metadata": {},
   "source": [
    "## 2. Are there NA Values, Outliers or Other Strange Values? Explore the variable \"temp\"."
   ]
  },
  {
   "cell_type": "code",
   "execution_count": 19,
   "metadata": {
    "collapsed": false
   },
   "outputs": [
    {
     "data": {
      "text/plain": [
       "count    10289.000000\n",
       "mean        20.357901\n",
       "std          7.617266\n",
       "min          0.820000\n",
       "25%         13.940000\n",
       "50%         20.500000\n",
       "75%         26.240000\n",
       "max         41.000000\n",
       "Name: temp, dtype: float64"
      ]
     },
     "execution_count": 19,
     "metadata": {},
     "output_type": "execute_result"
    }
   ],
   "source": [
    "df[\"temp\"].describe()"
   ]
  },
  {
   "cell_type": "code",
   "execution_count": 20,
   "metadata": {
    "collapsed": false
   },
   "outputs": [
    {
     "data": {
      "text/plain": [
       "(array([    6,    21,    38,    43,    46,    47,    48,    68,    69,\n",
       "           70,    71,    83,    84,    85,    86,   133,   134,   135,\n",
       "          136,   137,   138,   139,   140,   141,   142,   143,   144,\n",
       "          145,   146,   147,   166,   167,   168,   169,   170,   171,\n",
       "          172,   173,   174,   175,   176,   177,   178,   199,   200,\n",
       "          201,   202,   203,   204,   205,   206,   207,   208,   209,\n",
       "          226,   227,   228,   229,   230,   231,   232,   233,   234,\n",
       "          235,   236,   268,   269,   270,   271,   272,   273,   274,\n",
       "          275,   276,   277,   278,   279,   280,   281,   282,   283,\n",
       "          284,   285,   286,   287,   288,   289,   290,   291,   292,\n",
       "          293,   294,   295,   296,   297,   298,   299,   300,   301,\n",
       "          302,   303,   304,   305,   306,   307,   308,   309,   310,\n",
       "          311,   312,   313,   314,   315,   316,   317,   318,   319,\n",
       "          320,   321,   322,   323,   324,   325,   326,   327,   328,\n",
       "          329,   330,   331,   332,   333,   334,   335,   336,   337,\n",
       "          338,   339,   340,   341,   342,   343,   344,   345,   346,\n",
       "          347,   348,   349,   350,   351,   352,   353,   354,   355,\n",
       "          356,   357,   358,   359,   360,   361,   362,   363,   364,\n",
       "          365,   366,   367,   368,   369,   370,   371,   372,   373,\n",
       "          374,   375,   376,   377,   378,   379,   380,   381,   382,\n",
       "          383,   384,   385,   386,   387,   388,   389,   390,   391,\n",
       "          392,   393,   394,   395,   396,   397,   398,   399,   400,\n",
       "          401,   402,   403,   404,   405,   406,   407,   408,   409,\n",
       "          410,   411,   412,   413,   414,   415,   416,   417,   418,\n",
       "          419,   420,   421,   422,   423,   424,   425,   426,   427,\n",
       "          428,   429,   430,   431,   432,   433,   434,   435,   436,\n",
       "          437,   438,   439,   440,   441,   442,   443,   444,   445,\n",
       "          446,   447,  5411,  5412,  5413,  5414,  5415,  5416,  5417,\n",
       "         5418,  5419,  5420,  5421,  5422,  5423,  5424,  5425,  5426,\n",
       "         5427,  5428,  7731,  7732,  7733,  7734,  7735,  7736,  7737,\n",
       "         7738,  7739,  7740,  7741,  7742,  7743,  7744,  7745,  7746,\n",
       "         7747,  7748,  7749,  7750,  7751,  7752,  7753,  7754,  7755,\n",
       "         7756,  7757,  7758,  7759,  7760,  7761,  7762,  7763,  7764,\n",
       "         7765,  7766,  7767,  7768,  7769,  7770,  7771,  7772,  7773,\n",
       "         7774,  7775,  7776,  7777,  7778,  7779,  7780,  7781,  7782,\n",
       "         7783,  7784,  7785,  7786,  7787,  7788,  7789,  7790,  7791,\n",
       "         7792,  7793,  7794,  7795,  7796,  8563,  8564,  8565,  8566,\n",
       "         8567,  8568,  8569,  8570,  8571,  8572,  8573,  8574,  8575,\n",
       "         8576,  8577,  8578,  8579,  8580,  8581,  8582,  8583,  8584,\n",
       "         8585,  8586,  8587,  8588,  8589,  8590,  8591,  8592,  8593,\n",
       "         8594,  8595,  8596,  8597,  8598,  8599,  8600,  8601,  8602,\n",
       "         8603,  8604,  8605,  8606,  8607,  8608,  8609,  8610,  8611,\n",
       "         8612,  8613,  8614,  8615,  8616,  8617,  8618,  8619,  8620,\n",
       "         8621,  8622,  8623,  8624,  8625,  8626,  8627,  8628,  8629,\n",
       "         8630,  8631,  8632,  8633,  8634,  8635,  8636,  8637,  8638,\n",
       "         8639,  8640,  8641,  8642,  8643,  8644,  8645,  8646,  8647,\n",
       "         8648,  8649,  8650,  8651,  8652,  8653,  8654,  8655,  8656,\n",
       "         8657,  8658,  8659,  8660,  8661,  8662,  8663,  8664,  8665,\n",
       "         8666,  8667,  8668,  8669,  8670,  8671,  8672,  8673,  8674,\n",
       "         8675,  8676,  8677,  8678,  8679,  8680,  8681,  8682,  8683,\n",
       "         8684,  8685,  8686,  8687,  8688,  8689,  8690,  8691,  8692,\n",
       "         8693,  8694,  8695,  8696,  8697,  8698,  8699,  8700,  8701,\n",
       "         8702,  8703,  8704,  8705,  8706,  8707,  8708,  8709,  8710,\n",
       "         8711,  8712,  8713,  8714,  8715,  8716,  8717,  8718,  8719,\n",
       "         8720,  8721,  8722,  8723,  8724,  8725,  8726, 10187, 10188,\n",
       "        10189, 10190, 10191, 10192, 10193, 10194, 10195, 10196, 10197,\n",
       "        10198, 10199, 10200, 10201, 10202, 10203, 10204, 10205, 10206,\n",
       "        10207, 10208, 10209, 10210, 10211, 10212, 10213, 10214, 10215,\n",
       "        10216, 10217, 10218, 10219, 10220, 10221, 10222, 10223, 10224,\n",
       "        10225, 10226, 10227, 10228, 10229, 10230, 10231, 10232, 10233,\n",
       "        10234, 10235, 10236, 10237, 10238, 10239, 10240, 10241, 10242,\n",
       "        10243, 10244, 10245, 10246, 10247, 10248, 10249, 10250, 10251,\n",
       "        10252, 10253, 10254, 10255, 10256, 10257, 10258, 10259, 10260,\n",
       "        10261, 10262, 10263, 10264, 10265, 10266, 10267, 10268, 10269,\n",
       "        10270, 10271, 10272, 10273, 10862, 10863, 10864, 10865, 10866,\n",
       "        10867, 10868, 10869, 10870, 10871, 10872, 10873, 10874, 10875,\n",
       "        10876, 10877, 10878], dtype=int64),)"
      ]
     },
     "execution_count": 20,
     "metadata": {},
     "output_type": "execute_result"
    }
   ],
   "source": [
    "missing = np.where(df[\"temp\"].isnull() == True)\n",
    "missing"
   ]
  },
  {
   "cell_type": "code",
   "execution_count": 21,
   "metadata": {
    "collapsed": false
   },
   "outputs": [
    {
     "data": {
      "text/plain": [
       "597"
      ]
     },
     "execution_count": 21,
     "metadata": {},
     "output_type": "execute_result"
    }
   ],
   "source": [
    "len(missing[0])"
   ]
  },
  {
   "cell_type": "code",
   "execution_count": 22,
   "metadata": {
    "collapsed": false
   },
   "outputs": [
    {
     "data": {
      "text/plain": [
       "array([[<matplotlib.axes._subplots.AxesSubplot object at 0x00000000065F2630>]], dtype=object)"
      ]
     },
     "execution_count": 22,
     "metadata": {},
     "output_type": "execute_result"
    },
    {
     "data": {
      "image/png": "[encoded data removed]",
      "text/plain": [
       "<matplotlib.figure.Figure at 0x66146d8>"
      ]
     },
     "metadata": {},
     "output_type": "display_data"
    }
   ],
   "source": [
    "df.hist(column='temp',    # Column to plot\n",
    "                   figsize=(9,6),   # Plot size\n",
    "                   bins=20)         # Number of histogram bins"
   ]
  },
  {
   "cell_type": "code",
   "execution_count": 23,
   "metadata": {
    "collapsed": false
   },
   "outputs": [
    {
     "data": {
      "text/plain": [
       "count    10886.000000\n",
       "mean        20.338273\n",
       "std          7.405880\n",
       "min          0.820000\n",
       "25%         14.760000\n",
       "50%         20.000000\n",
       "75%         26.240000\n",
       "max         41.000000\n",
       "Name: temp, dtype: float64"
      ]
     },
     "execution_count": 23,
     "metadata": {},
     "output_type": "execute_result"
    }
   ],
   "source": [
    "new_age_var = np.where(df[\"temp\"].isnull(), # Logical check\n",
    "                       20,                       # Value if check is true\n",
    "                       df[\"temp\"])     # Value if check is false\n",
    "\n",
    "df[\"temp\"] = new_age_var \n",
    "\n",
    "df[\"temp\"].describe()"
   ]
  },
  {
   "cell_type": "code",
   "execution_count": 24,
   "metadata": {
    "collapsed": false
   },
   "outputs": [
    {
     "data": {
      "text/plain": [
       "array([[<matplotlib.axes._subplots.AxesSubplot object at 0x0000000009B06A20>]], dtype=object)"
      ]
     },
     "execution_count": 24,
     "metadata": {},
     "output_type": "execute_result"
    },
    {
     "data": {
      "image/png": "[encoded data removed]",
      "text/plain": [
       "<matplotlib.figure.Figure at 0x9ac5f98>"
      ]
     },
     "metadata": {},
     "output_type": "display_data"
    }
   ],
   "source": [
    "df.hist(column='temp',    # Column to plot\n",
    "                   figsize=(9,6),   # Plot size\n",
    "                   bins=20)         # Number of histogram bins"
   ]
  }
 ],
 "metadata": {
  "kernelspec": {
   "display_name": "Python 3",
   "language": "python",
   "name": "python3"
  },
  "language_info": {
   "codemirror_mode": {
    "name": "ipython",
    "version": 3
   },
   "file_extension": ".py",
   "mimetype": "text/x-python",
   "name": "python",
   "nbconvert_exporter": "python",
   "pygments_lexer": "ipython3",
   "version": "3.6.0"
  }
 },
 "nbformat": 4,
 "nbformat_minor": 2
}
