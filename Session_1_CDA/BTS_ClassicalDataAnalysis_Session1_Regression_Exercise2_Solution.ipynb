{
 "cells": [
  {
   "cell_type": "markdown",
   "metadata": {},
   "source": [
    "# Subject: Classical Data Analysis\n",
    "\n",
    "## Session 1 - Regression\n",
    "\n",
    "### Exercise 2 Solution\n",
    "\n",
    "\n",
    "Implementation of Python StatsModels package with Quandl integration to calculate the Linear regression with one variable.  \n",
    "\n",
    "Considering the OLS presented in Demo 3 (Outbound tourism statistics for Spain), develop a new regression analysis based on the Quandl dataset “Inbound tourism statistics for Spain”. This dataset is available at https://www.quandl.com/data/UTOR/INTUR_ESP\n",
    "\n",
    "Use the field “Tourist arrivals at national borders – Thousands” as independent variable and the field “Travel - US$ Mn” as dependent variable.\n",
    "\n",
    "- Interpret and discuss the OLS Regression Results. \n",
    "- Commit scripts in your GitHub account. You should export your solution code (.ipynb notebook) and push it to your repository “ClassicalDataAnalysis”.\n",
    "\n",
    "The following are the tasks that should complete and synchronize with your repository “ClassicalDataAnalysis” until October 13. Please notice that none of these tasks is graded, however it’s important that you correctly understand and complete them in order to be sure that you won’t have problems with further assignments.\n"
   ]
  },
  {
   "cell_type": "code",
   "execution_count": 1,
   "metadata": {
    "collapsed": true
   },
   "outputs": [],
   "source": [
    "import quandl\n",
    "quandl.ApiConfig.api_key = 'wagAy5tFsmUZ84CH3Ng8' # A valid API key is required to retrieve data. Please check your API key and try again. You can find your API key under your account settings."
   ]
  },
  {
   "cell_type": "code",
   "execution_count": 2,
   "metadata": {
    "collapsed": false
   },
   "outputs": [],
   "source": [
    "data1 = quandl.get(\"UTOR/INTUR_ESP\", authtoken=\"wagAy5tFsmUZ84CH3Ng8\")"
   ]
  },
  {
   "cell_type": "code",
   "execution_count": 3,
   "metadata": {
    "collapsed": false,
    "scrolled": false
   },
   "outputs": [
    {
     "data": {
      "text/html": [
       "<div>\n",
       "<table border=\"1\" class=\"dataframe\">\n",
       "  <thead>\n",
       "    <tr style=\"text-align: right;\">\n",
       "      <th></th>\n",
       "      <th>Tourist arrivals at national borders - Thousands</th>\n",
       "      <th>Tourism expenditure in the country - US$ Mn</th>\n",
       "      <th>Travel - US$ Mn</th>\n",
       "      <th>Passenger transport - US$ Mn</th>\n",
       "    </tr>\n",
       "    <tr>\n",
       "      <th>Date</th>\n",
       "      <th></th>\n",
       "      <th></th>\n",
       "      <th></th>\n",
       "      <th></th>\n",
       "    </tr>\n",
       "  </thead>\n",
       "  <tbody>\n",
       "    <tr>\n",
       "      <th>1995-12-31</th>\n",
       "      <td>34920.0</td>\n",
       "      <td>27369.0</td>\n",
       "      <td>25368.0</td>\n",
       "      <td>2001.0</td>\n",
       "    </tr>\n",
       "    <tr>\n",
       "      <th>1996-12-31</th>\n",
       "      <td>36221.0</td>\n",
       "      <td>29751.0</td>\n",
       "      <td>27168.0</td>\n",
       "      <td>2583.0</td>\n",
       "    </tr>\n",
       "    <tr>\n",
       "      <th>1997-12-31</th>\n",
       "      <td>39553.0</td>\n",
       "      <td>28649.0</td>\n",
       "      <td>26185.0</td>\n",
       "      <td>2464.0</td>\n",
       "    </tr>\n",
       "    <tr>\n",
       "      <th>1998-12-31</th>\n",
       "      <td>41892.0</td>\n",
       "      <td>31592.0</td>\n",
       "      <td>29117.0</td>\n",
       "      <td>2475.0</td>\n",
       "    </tr>\n",
       "    <tr>\n",
       "      <th>1999-12-31</th>\n",
       "      <td>45440.0</td>\n",
       "      <td>33784.0</td>\n",
       "      <td>31214.0</td>\n",
       "      <td>2570.0</td>\n",
       "    </tr>\n",
       "  </tbody>\n",
       "</table>\n",
       "</div>"
      ],
      "text/plain": [
       "            Tourist arrivals at national borders - Thousands  \\\n",
       "Date                                                           \n",
       "1995-12-31                                           34920.0   \n",
       "1996-12-31                                           36221.0   \n",
       "1997-12-31                                           39553.0   \n",
       "1998-12-31                                           41892.0   \n",
       "1999-12-31                                           45440.0   \n",
       "\n",
       "            Tourism expenditure in the country - US$ Mn  Travel - US$ Mn  \\\n",
       "Date                                                                       \n",
       "1995-12-31                                      27369.0          25368.0   \n",
       "1996-12-31                                      29751.0          27168.0   \n",
       "1997-12-31                                      28649.0          26185.0   \n",
       "1998-12-31                                      31592.0          29117.0   \n",
       "1999-12-31                                      33784.0          31214.0   \n",
       "\n",
       "            Passenger transport - US$ Mn  \n",
       "Date                                      \n",
       "1995-12-31                        2001.0  \n",
       "1996-12-31                        2583.0  \n",
       "1997-12-31                        2464.0  \n",
       "1998-12-31                        2475.0  \n",
       "1999-12-31                        2570.0  "
      ]
     },
     "execution_count": 3,
     "metadata": {},
     "output_type": "execute_result"
    }
   ],
   "source": [
    "data1.head()"
   ]
  },
  {
   "cell_type": "markdown",
   "metadata": {},
   "source": [
    "## Regression model with Statsmodels and without a constant"
   ]
  },
  {
   "cell_type": "code",
   "execution_count": 4,
   "metadata": {
    "collapsed": false
   },
   "outputs": [],
   "source": [
    "import statsmodels.api as sm\n",
    "\n",
    "X = data1[\"Tourist arrivals at national borders - Thousands\"]\n",
    "y = data1[\"Travel - US$ Mn\"]"
   ]
  },
  {
   "cell_type": "code",
   "execution_count": 5,
   "metadata": {
    "collapsed": true
   },
   "outputs": [],
   "source": [
    "model = sm.OLS(y, X).fit() ## sm.OLS(output, input)\n"
   ]
  },
  {
   "cell_type": "code",
   "execution_count": 6,
   "metadata": {
    "collapsed": true
   },
   "outputs": [],
   "source": [
    "predictions = model.predict(X) "
   ]
  },
  {
   "cell_type": "code",
   "execution_count": 7,
   "metadata": {
    "collapsed": false
   },
   "outputs": [
    {
     "data": {
      "text/html": [
       "<table class=\"simpletable\">\n",
       "<caption>OLS Regression Results</caption>\n",
       "<tr>\n",
       "  <th>Dep. Variable:</th>     <td>Travel - US$ Mn</td> <th>  R-squared:         </th> <td>   0.967</td>\n",
       "</tr>\n",
       "<tr>\n",
       "  <th>Model:</th>                   <td>OLS</td>       <th>  Adj. R-squared:    </th> <td>   0.965</td>\n",
       "</tr>\n",
       "<tr>\n",
       "  <th>Method:</th>             <td>Least Squares</td>  <th>  F-statistic:       </th> <td>   551.8</td>\n",
       "</tr>\n",
       "<tr>\n",
       "  <th>Date:</th>             <td>Thu, 28 Sep 2017</td> <th>  Prob (F-statistic):</th> <td>1.68e-15</td>\n",
       "</tr>\n",
       "<tr>\n",
       "  <th>Time:</th>                 <td>11:36:37</td>     <th>  Log-Likelihood:    </th> <td> -209.65</td>\n",
       "</tr>\n",
       "<tr>\n",
       "  <th>No. Observations:</th>      <td>    20</td>      <th>  AIC:               </th> <td>   421.3</td>\n",
       "</tr>\n",
       "<tr>\n",
       "  <th>Df Residuals:</th>          <td>    19</td>      <th>  BIC:               </th> <td>   422.3</td>\n",
       "</tr>\n",
       "<tr>\n",
       "  <th>Df Model:</th>              <td>     1</td>      <th>                     </th>     <td> </td>   \n",
       "</tr>\n",
       "<tr>\n",
       "  <th>Covariance Type:</th>      <td>nonrobust</td>    <th>                     </th>     <td> </td>   \n",
       "</tr>\n",
       "</table>\n",
       "<table class=\"simpletable\">\n",
       "<tr>\n",
       "                          <td></td>                            <th>coef</th>     <th>std err</th>      <th>t</th>      <th>P>|t|</th> <th>[95.0% Conf. Int.]</th> \n",
       "</tr>\n",
       "<tr>\n",
       "  <th>Tourist arrivals at national borders - Thousands</th> <td>    0.9010</td> <td>    0.038</td> <td>   23.491</td> <td> 0.000</td> <td>    0.821     0.981</td>\n",
       "</tr>\n",
       "</table>\n",
       "<table class=\"simpletable\">\n",
       "<tr>\n",
       "  <th>Omnibus:</th>       <td> 6.516</td> <th>  Durbin-Watson:     </th> <td>   0.171</td>\n",
       "</tr>\n",
       "<tr>\n",
       "  <th>Prob(Omnibus):</th> <td> 0.038</td> <th>  Jarque-Bera (JB):  </th> <td>   1.723</td>\n",
       "</tr>\n",
       "<tr>\n",
       "  <th>Skew:</th>          <td> 0.056</td> <th>  Prob(JB):          </th> <td>   0.422</td>\n",
       "</tr>\n",
       "<tr>\n",
       "  <th>Kurtosis:</th>      <td> 1.566</td> <th>  Cond. No.          </th> <td>    1.00</td>\n",
       "</tr>\n",
       "</table>"
      ],
      "text/plain": [
       "<class 'statsmodels.iolib.summary.Summary'>\n",
       "\"\"\"\n",
       "                            OLS Regression Results                            \n",
       "==============================================================================\n",
       "Dep. Variable:        Travel - US$ Mn   R-squared:                       0.967\n",
       "Model:                            OLS   Adj. R-squared:                  0.965\n",
       "Method:                 Least Squares   F-statistic:                     551.8\n",
       "Date:                Thu, 28 Sep 2017   Prob (F-statistic):           1.68e-15\n",
       "Time:                        11:36:37   Log-Likelihood:                -209.65\n",
       "No. Observations:                  20   AIC:                             421.3\n",
       "Df Residuals:                      19   BIC:                             422.3\n",
       "Df Model:                           1                                         \n",
       "Covariance Type:            nonrobust                                         \n",
       "====================================================================================================================\n",
       "                                                       coef    std err          t      P>|t|      [95.0% Conf. Int.]\n",
       "--------------------------------------------------------------------------------------------------------------------\n",
       "Tourist arrivals at national borders - Thousands     0.9010      0.038     23.491      0.000         0.821     0.981\n",
       "==============================================================================\n",
       "Omnibus:                        6.516   Durbin-Watson:                   0.171\n",
       "Prob(Omnibus):                  0.038   Jarque-Bera (JB):                1.723\n",
       "Skew:                           0.056   Prob(JB):                        0.422\n",
       "Kurtosis:                       1.566   Cond. No.                         1.00\n",
       "==============================================================================\n",
       "\n",
       "Warnings:\n",
       "[1] Standard Errors assume that the covariance matrix of the errors is correctly specified.\n",
       "\"\"\""
      ]
     },
     "execution_count": 7,
     "metadata": {},
     "output_type": "execute_result"
    }
   ],
   "source": [
    "model.summary()"
   ]
  },
  {
   "cell_type": "markdown",
   "metadata": {},
   "source": [
    "### Interpreting the Table \n"
   ]
  },
  {
   "cell_type": "markdown",
   "metadata": {},
   "source": [
    "The coefficient of 0.9010 means that as the Tourist arrivals at national borders - Thousands variable increases by 1, the predicted value of Travel - US$ Mn increases by 0.9010. A few other important values are the high R-squared of 0.967 — the percentage of variance our model explains."
   ]
  },
  {
   "cell_type": "markdown",
   "metadata": {},
   "source": [
    "### Regression model with Statsmodels and with a constant"
   ]
  },
  {
   "cell_type": "code",
   "execution_count": 8,
   "metadata": {
    "collapsed": true
   },
   "outputs": [],
   "source": [
    "import statsmodels.api as sm\n",
    "\n",
    "X = data1[\"Tourist arrivals at national borders - Thousands\"]\n",
    "y = data1[\"Travel - US$ Mn\"]"
   ]
  },
  {
   "cell_type": "code",
   "execution_count": 9,
   "metadata": {
    "collapsed": true
   },
   "outputs": [],
   "source": [
    "X = sm.add_constant(X) "
   ]
  },
  {
   "cell_type": "code",
   "execution_count": 10,
   "metadata": {
    "collapsed": true
   },
   "outputs": [],
   "source": [
    "model = sm.OLS(y, X).fit() ## sm.OLS(output, input)"
   ]
  },
  {
   "cell_type": "code",
   "execution_count": 11,
   "metadata": {
    "collapsed": true
   },
   "outputs": [],
   "source": [
    "predictions = model.predict(X)"
   ]
  },
  {
   "cell_type": "code",
   "execution_count": 13,
   "metadata": {
    "collapsed": false
   },
   "outputs": [
    {
     "data": {
      "text/html": [
       "<table class=\"simpletable\">\n",
       "<caption>OLS Regression Results</caption>\n",
       "<tr>\n",
       "  <th>Dep. Variable:</th>     <td>Travel - US$ Mn</td> <th>  R-squared:         </th> <td>   0.814</td>\n",
       "</tr>\n",
       "<tr>\n",
       "  <th>Model:</th>                   <td>OLS</td>       <th>  Adj. R-squared:    </th> <td>   0.803</td>\n",
       "</tr>\n",
       "<tr>\n",
       "  <th>Method:</th>             <td>Least Squares</td>  <th>  F-statistic:       </th> <td>   78.61</td>\n",
       "</tr>\n",
       "<tr>\n",
       "  <th>Date:</th>             <td>Thu, 28 Sep 2017</td> <th>  Prob (F-statistic):</th> <td>5.50e-08</td>\n",
       "</tr>\n",
       "<tr>\n",
       "  <th>Time:</th>                 <td>12:00:02</td>     <th>  Log-Likelihood:    </th> <td> -203.23</td>\n",
       "</tr>\n",
       "<tr>\n",
       "  <th>No. Observations:</th>      <td>    20</td>      <th>  AIC:               </th> <td>   410.5</td>\n",
       "</tr>\n",
       "<tr>\n",
       "  <th>Df Residuals:</th>          <td>    18</td>      <th>  BIC:               </th> <td>   412.5</td>\n",
       "</tr>\n",
       "<tr>\n",
       "  <th>Df Model:</th>              <td>     1</td>      <th>                     </th>     <td> </td>   \n",
       "</tr>\n",
       "<tr>\n",
       "  <th>Covariance Type:</th>      <td>nonrobust</td>    <th>                     </th>     <td> </td>   \n",
       "</tr>\n",
       "</table>\n",
       "<table class=\"simpletable\">\n",
       "<tr>\n",
       "                          <td></td>                            <th>coef</th>     <th>std err</th>      <th>t</th>      <th>P>|t|</th> <th>[95.0% Conf. Int.]</th> \n",
       "</tr>\n",
       "<tr>\n",
       "  <th>const</th>                                            <td>-3.832e+04</td> <td> 9518.711</td> <td>   -4.026</td> <td> 0.001</td> <td>-5.83e+04 -1.83e+04</td>\n",
       "</tr>\n",
       "<tr>\n",
       "  <th>Tourist arrivals at national borders - Thousands</th> <td>    1.6339</td> <td>    0.184</td> <td>    8.866</td> <td> 0.000</td> <td>    1.247     2.021</td>\n",
       "</tr>\n",
       "</table>\n",
       "<table class=\"simpletable\">\n",
       "<tr>\n",
       "  <th>Omnibus:</th>       <td> 1.016</td> <th>  Durbin-Watson:     </th> <td>   0.368</td>\n",
       "</tr>\n",
       "<tr>\n",
       "  <th>Prob(Omnibus):</th> <td> 0.602</td> <th>  Jarque-Bera (JB):  </th> <td>   0.788</td>\n",
       "</tr>\n",
       "<tr>\n",
       "  <th>Skew:</th>          <td>-0.130</td> <th>  Prob(JB):          </th> <td>   0.674</td>\n",
       "</tr>\n",
       "<tr>\n",
       "  <th>Kurtosis:</th>      <td> 2.063</td> <th>  Cond. No.          </th> <td>3.33e+05</td>\n",
       "</tr>\n",
       "</table>"
      ],
      "text/plain": [
       "<class 'statsmodels.iolib.summary.Summary'>\n",
       "\"\"\"\n",
       "                            OLS Regression Results                            \n",
       "==============================================================================\n",
       "Dep. Variable:        Travel - US$ Mn   R-squared:                       0.814\n",
       "Model:                            OLS   Adj. R-squared:                  0.803\n",
       "Method:                 Least Squares   F-statistic:                     78.61\n",
       "Date:                Thu, 28 Sep 2017   Prob (F-statistic):           5.50e-08\n",
       "Time:                        12:00:02   Log-Likelihood:                -203.23\n",
       "No. Observations:                  20   AIC:                             410.5\n",
       "Df Residuals:                      18   BIC:                             412.5\n",
       "Df Model:                           1                                         \n",
       "Covariance Type:            nonrobust                                         \n",
       "====================================================================================================================\n",
       "                                                       coef    std err          t      P>|t|      [95.0% Conf. Int.]\n",
       "--------------------------------------------------------------------------------------------------------------------\n",
       "const                                            -3.832e+04   9518.711     -4.026      0.001     -5.83e+04 -1.83e+04\n",
       "Tourist arrivals at national borders - Thousands     1.6339      0.184      8.866      0.000         1.247     2.021\n",
       "==============================================================================\n",
       "Omnibus:                        1.016   Durbin-Watson:                   0.368\n",
       "Prob(Omnibus):                  0.602   Jarque-Bera (JB):                0.788\n",
       "Skew:                          -0.130   Prob(JB):                        0.674\n",
       "Kurtosis:                       2.063   Cond. No.                     3.33e+05\n",
       "==============================================================================\n",
       "\n",
       "Warnings:\n",
       "[1] Standard Errors assume that the covariance matrix of the errors is correctly specified.\n",
       "[2] The condition number is large, 3.33e+05. This might indicate that there are\n",
       "strong multicollinearity or other numerical problems.\n",
       "\"\"\""
      ]
     },
     "execution_count": 13,
     "metadata": {},
     "output_type": "execute_result"
    }
   ],
   "source": [
    "model.summary()"
   ]
  },
  {
   "cell_type": "markdown",
   "metadata": {},
   "source": [
    "### Interpreting the Table \n",
    "With the constant term the coefficients are different. Without a constant we are forcing our model to go through the origin, but now we have a y-intercept at -3.832e+04. We also changed the slope of the Departures - Thousands predictor from 0.9010 to 1.6339.\n",
    "A few other important values are modification of the R-squared, from 0.967 to 0.814."
   ]
  }
 ],
 "metadata": {
  "kernelspec": {
   "display_name": "Python 3",
   "language": "python",
   "name": "python3"
  },
  "language_info": {
   "codemirror_mode": {
    "name": "ipython",
    "version": 3
   },
   "file_extension": ".py",
   "mimetype": "text/x-python",
   "name": "python",
   "nbconvert_exporter": "python",
   "pygments_lexer": "ipython3",
   "version": "3.6.0"
  }
 },
 "nbformat": 4,
 "nbformat_minor": 2
}
