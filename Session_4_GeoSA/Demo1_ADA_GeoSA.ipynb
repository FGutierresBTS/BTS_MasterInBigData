{
 "cells": [
  {
   "cell_type": "markdown",
   "metadata": {},
   "source": [
    "# Subject: Advanced Data Analysis\n",
    "\n",
    "# Module: Geospatial Analysis\n",
    "\n",
    "## Session 4 - GIS Spatial analysis and Geoprocessing \n",
    "\n",
    "### Demo 1 -  Find hospitals closest to an incident in Barcelona"
   ]
  },
  {
   "cell_type": "markdown",
   "metadata": {},
   "source": [
    "### Overview:\n",
    "\n",
    "The `network` module of the ArcGIS API for Python can be used to solve different types of network analysis operations. \n",
    "\n",
    "### You will learn: \n",
    "\n",
    "In this use case, we see how to find the hospital that is closest to an incident in Barcelona. We also will need to use the Geocoding and Reverse Geocoding services.\n",
    "\n",
    "#### Option: \n",
    "\n",
    "You can run this application using: notebooks.esri.com.\n",
    "\n",
    "https://notebooks.esri.com"
   ]
  },
  {
   "cell_type": "markdown",
   "metadata": {},
   "source": [
    "## Closest facility"
   ]
  },
  {
   "cell_type": "markdown",
   "metadata": {},
   "source": [
    "The closest facility solver provides functionality for finding out the closest locations to a particular input point. This solver would be useful in cases when you have an incident and need to find the closest facility or need to get information on the travel time and the distance to each of the facilities from an incident point for reporting purposes.\n",
    "\n",
    "![](http://desktop.arcgis.com/en/arcmap/latest/extensions/network-analyst/GUID-96C273DB-6A24-4D42-AADA-975A33B44F3D-web.png)\n",
    "\n",
    "When finding closest facilities, you can specify how many to find and whether the direction of travel is toward or away from them. The closest facility solver displays the best routes between incidents and facilities, reports their travel costs, and returns driving directions."
   ]
  },
  {
   "cell_type": "markdown",
   "metadata": {},
   "source": [
    "### Connect to your GIS\n",
    "As a first step, you would need to establish a connection to your organization which could be an ArcGIS Online Developer account."
   ]
  },
  {
   "cell_type": "code",
   "execution_count": 1,
   "metadata": {},
   "outputs": [],
   "source": [
    "from IPython.display import HTML\n",
    "import pandas as pd\n",
    "from arcgis.gis import GIS\n",
    "\n",
    "#connect to your GIS\n",
    "user_name = 'Gutierres_bts'\n",
    "password = 'Liberdade3030'\n",
    "my_gis = GIS('https://www.arcgis.com', user_name, password)"
   ]
  },
  {
   "cell_type": "markdown",
   "metadata": {},
   "source": [
    "### 1. Create a Network Layer\n",
    "To perform any network analysis (such as finding the closest facility, the best route between multiple stops, or service area around a facility), you would need to create a `NetworkLayer` object. In this use case, since we are solving for closest facilities, we need to create a `ClosestFacilityLayer` which is a type of `NetworkLayer`.\n",
    "\n",
    "To create any `NetworkLayer` object, you would need to provide the URL to the appropriate network analysis service. Hence, in this use, ESRI provide a `ClosestFacility` URL to create a `ClosestFacilityLayer` object. \n",
    "\n",
    "Since all ArcGIS Online Developers already have access to those routing services, you can access this URL through the `GIS` object's `helperServices` property. In future, if you have your own ArcGIS Server based map service with network analysis capability enabled, you would need to provide the URL for this service.\n",
    "\n",
    "Let us start by importing the `network` module."
   ]
  },
  {
   "cell_type": "code",
   "execution_count": 2,
   "metadata": {},
   "outputs": [],
   "source": [
    "import arcgis.network as network"
   ]
  },
  {
   "cell_type": "markdown",
   "metadata": {},
   "source": [
    "Access the analysis URL from the `GIS` object"
   ]
  },
  {
   "cell_type": "code",
   "execution_count": 3,
   "metadata": {},
   "outputs": [
    {
     "data": {
      "text/plain": [
       "'https://route.arcgis.com/arcgis/rest/services/World/ClosestFacility/NAServer/ClosestFacility_World'"
      ]
     },
     "execution_count": 3,
     "metadata": {},
     "output_type": "execute_result"
    }
   ],
   "source": [
    "analysis_url = my_gis.properties.helperServices.closestFacility.url\n",
    "analysis_url"
   ]
  },
  {
   "cell_type": "markdown",
   "metadata": {},
   "source": [
    "Create a `ClosestFacilityLayer` object using this URL"
   ]
  },
  {
   "cell_type": "code",
   "execution_count": 4,
   "metadata": {},
   "outputs": [],
   "source": [
    "cf_layer = network.ClosestFacilityLayer(analysis_url, gis=my_gis)"
   ]
  },
  {
   "cell_type": "code",
   "execution_count": 5,
   "metadata": {},
   "outputs": [
    {
     "data": {
      "text/plain": [
       "<ClosestFacilityLayer url:\"https://route.arcgis.com/arcgis/rest/services/World/ClosestFacility/NAServer/ClosestFacility_World\">"
      ]
     },
     "execution_count": 5,
     "metadata": {},
     "output_type": "execute_result"
    }
   ],
   "source": [
    "cf_layer"
   ]
  },
  {
   "cell_type": "markdown",
   "metadata": {},
   "source": [
    "https://route.arcgis.com/arcgis/"
   ]
  },
  {
   "cell_type": "markdown",
   "metadata": {},
   "source": [
    "http://traffic.arcgis.com/arcgis/"
   ]
  },
  {
   "cell_type": "markdown",
   "metadata": {},
   "source": [
    "### 2. Create hospitals layer\n",
    "In this use case, we will be looking for the closest hospital (facility) to an incident location. Even though we are interested in finding out the closest one, it would still be helpful to get the information on the distance and travel time to all of them for reference purposes.\n",
    "\n",
    "In the code below, we need to geocode the hospitals' addresses as well as do the reverse geocode for the incident location which has been supplied in the latitude/longitude format.\n",
    "\n",
    "To perform the geocode operations, we import the `geocoding` module of the ArcGIS API."
   ]
  },
  {
   "cell_type": "code",
   "execution_count": 6,
   "metadata": {},
   "outputs": [],
   "source": [
    "from arcgis import geocoding"
   ]
  },
  {
   "cell_type": "markdown",
   "metadata": {},
   "source": [
    "In this project, we geocode 4 addresses of hospitals to create the facility layer. In your workflows, this could any feature layer. Create a list of hospitals in Barcelona.\n",
    "\n",
    "- (1) \"Hospital Clínic | Hospital Clinic de Barcelona\"\n",
    "\n",
    "Address: Carrer de Villarroel, 170, 08036, Barcelona\n",
    "\n",
    "- (2) \"Hospital Sant Joan de Déu\"\n",
    "\n",
    "Address: Passeig de Sant Joan de Déu, 2, 08950, Esplugues de Llobregat, Barcelona\n",
    "\n",
    "- (3) \"Hospital del Mar\" \n",
    "\n",
    "Address: Passeig Marítim, 25-29, 08003, Barcelona\n",
    "\n",
    "- (4) \"Hospital de la Santa Creu i Sant Pau\"\n",
    "Address: Carrer de Sant Quintí, 89, 08041, Barcelona"
   ]
  },
  {
   "cell_type": "code",
   "execution_count": 7,
   "metadata": {},
   "outputs": [],
   "source": [
    "hospitals_addresses = ['Carrer de Villarroel, 170, 08036, Barcelona',\n",
    "                       'Passeig de Sant Joan de Déu, 2, 08950, Esplugues de Llobregat, Barcelona',\n",
    "                       'Passeig Marítim, 25-29, 08003, Barcelona',\n",
    "                       'Carrer de Sant Quintí, 89, 08041, Barcelona']"
   ]
  },
  {
   "cell_type": "markdown",
   "metadata": {},
   "source": [
    "Loop through each address and geocode it. The geocode operation returns a list of matches for each address. We pick the first result and extract the coordinates from it and construct a `Feature` object out of it. Then we combine all the `Feature`s representing the hospitals into a `FeatureSet` object."
   ]
  },
  {
   "cell_type": "code",
   "execution_count": 8,
   "metadata": {},
   "outputs": [],
   "source": [
    "from arcgis.features import Feature, FeatureSet"
   ]
  },
  {
   "cell_type": "code",
   "execution_count": 9,
   "metadata": {},
   "outputs": [],
   "source": [
    "hosp_feat_list = []\n",
    "\n",
    "for address in hospitals_addresses:\n",
    "    hit = geocoding.geocode(address)[0]\n",
    "    hosp_feat = Feature(geometry=hit['location'], attributes=hit['attributes'])\n",
    "\n",
    "    hosp_feat_list.append(hosp_feat)"
   ]
  },
  {
   "cell_type": "code",
   "execution_count": 10,
   "metadata": {},
   "outputs": [
    {
     "data": {
      "text/plain": [
       "list"
      ]
     },
     "execution_count": 10,
     "metadata": {},
     "output_type": "execute_result"
    }
   ],
   "source": [
    "type(hosp_feat_list)"
   ]
  },
  {
   "cell_type": "code",
   "execution_count": 11,
   "metadata": {},
   "outputs": [
    {
     "data": {
      "text/plain": [
       "[{\"geometry\": {\"x\": 2.15169749945174, \"y\": 41.38909293228112}, \"attributes\": {\"Loc_name\": \"World\", \"Status\": \"M\", \"Score\": 100, \"Match_addr\": \"Carrer de Villarroel 170, 08036, l'Antiga Esquerra de l'Eixample, Barcelona, Catalunya\", \"LongLabel\": \"Carrer de Villarroel 170, 08036, l'Antiga Esquerra de l'Eixample, Barcelona, Catalunya, ESP\", \"ShortLabel\": \"Carrer de Villarroel 170\", \"Addr_type\": \"PointAddress\", \"Type\": \"\", \"PlaceName\": \"\", \"Place_addr\": \"Carrer de Villarroel 170, 08036, l'Antiga Esquerra de l'Eixample, Barcelona, Catalunya\", \"Phone\": \"\", \"URL\": \"\", \"Rank\": 20, \"AddBldg\": \"\", \"AddNum\": \"170\", \"AddNumFrom\": \"\", \"AddNumTo\": \"\", \"AddRange\": \"\", \"Side\": \"R\", \"StPreDir\": \"\", \"StPreType\": \"Carrer de\", \"StName\": \"Villarroel\", \"StType\": \"\", \"StDir\": \"\", \"BldgType\": \"\", \"BldgName\": \"\", \"LevelType\": \"\", \"LevelName\": \"\", \"UnitType\": \"\", \"UnitName\": \"\", \"SubAddr\": \"\", \"StAddr\": \"Carrer de Villarroel 170\", \"Block\": \"\", \"Sector\": \"\", \"Nbrhd\": \"l'Antiga Esquerra de l'Eixample\", \"District\": \"Barcelona\", \"City\": \"Barcelona\", \"MetroArea\": \"\", \"Subregion\": \"Barcelona\", \"Region\": \"Catalunya\", \"RegionAbbr\": \"\", \"Territory\": \"\", \"Zone\": \"\", \"Postal\": \"08036\", \"PostalExt\": \"\", \"Country\": \"ESP\", \"LangCode\": \"CAT\", \"Distance\": 0, \"X\": 2.15169749945174, \"Y\": 41.38909293228112, \"DisplayX\": 2.1517695000000003, \"DisplayY\": 41.389118999999994, \"Xmin\": 2.1507695000000004, \"Xmax\": 2.1527695000000002, \"Ymin\": 41.388118999999996, \"Ymax\": 41.39011899999999, \"ExInfo\": \"\"}},\n",
       " {\"geometry\": {\"x\": 2.101476979583456, \"y\": 41.38368739271577}, \"attributes\": {\"Loc_name\": \"World\", \"Status\": \"M\", \"Score\": 97.9, \"Match_addr\": \"Carrer de Sant Joan de D\\u00e9u 2, 08950, Esplugues de Llobregat, Barcelona, Catalunya\", \"LongLabel\": \"Carrer de Sant Joan de D\\u00e9u 2, 08950, Esplugues de Llobregat, Barcelona, Catalunya, ESP\", \"ShortLabel\": \"Carrer de Sant Joan de D\\u00e9u 2\", \"Addr_type\": \"StreetAddress\", \"Type\": \"\", \"PlaceName\": \"\", \"Place_addr\": \"Carrer de Sant Joan de D\\u00e9u 2, 08950, Esplugues de Llobregat, Barcelona, Catalunya\", \"Phone\": \"\", \"URL\": \"\", \"Rank\": 20, \"AddBldg\": \"\", \"AddNum\": \"2\", \"AddNumFrom\": \"1\", \"AddNumTo\": \"25\", \"AddRange\": \"1-25\", \"Side\": \"L\", \"StPreDir\": \"\", \"StPreType\": \"Carrer de\", \"StName\": \"Sant Joan de D\\u00e9u\", \"StType\": \"\", \"StDir\": \"\", \"BldgType\": \"\", \"BldgName\": \"\", \"LevelType\": \"\", \"LevelName\": \"\", \"UnitType\": \"\", \"UnitName\": \"\", \"SubAddr\": \"\", \"StAddr\": \"Carrer de Sant Joan de D\\u00e9u 2\", \"Block\": \"\", \"Sector\": \"\", \"Nbrhd\": \"\", \"District\": \"Esplugues de Llobregat\", \"City\": \"Esplugues de Llobregat\", \"MetroArea\": \"\", \"Subregion\": \"Barcelona\", \"Region\": \"Catalunya\", \"RegionAbbr\": \"\", \"Territory\": \"\", \"Zone\": \"\", \"Postal\": \"08950\", \"PostalExt\": \"\", \"Country\": \"ESP\", \"LangCode\": \"CAT\", \"Distance\": 0, \"X\": 2.101476979583456, \"Y\": 41.38368739271577, \"DisplayX\": 2.101476979583456, \"DisplayY\": 41.38368739271577, \"Xmin\": 2.100476979583456, \"Xmax\": 2.102476979583456, \"Ymin\": 41.38268739271577, \"Ymax\": 41.38468739271577, \"ExInfo\": \"\"}},\n",
       " {\"geometry\": {\"x\": 1.7991771078250496, \"y\": 41.231946111575944}, \"attributes\": {\"Loc_name\": \"World\", \"Status\": \"T\", \"Score\": 81.91, \"Match_addr\": \"Passeig Mar\\u00edtim 25, 08870, Sitges, Barcelona, Catalunya\", \"LongLabel\": \"Passeig Mar\\u00edtim 25, 08870, Sitges, Barcelona, Catalunya, ESP\", \"ShortLabel\": \"Passeig Mar\\u00edtim 25\", \"Addr_type\": \"PointAddress\", \"Type\": \"\", \"PlaceName\": \"\", \"Place_addr\": \"Passeig Mar\\u00edtim 25, 08870, Sitges, Barcelona, Catalunya\", \"Phone\": \"\", \"URL\": \"\", \"Rank\": 20, \"AddBldg\": \"\", \"AddNum\": \"25\", \"AddNumFrom\": \"\", \"AddNumTo\": \"\", \"AddRange\": \"\", \"Side\": \"L\", \"StPreDir\": \"\", \"StPreType\": \"Passeig\", \"StName\": \"Mar\\u00edtim\", \"StType\": \"\", \"StDir\": \"\", \"BldgType\": \"\", \"BldgName\": \"\", \"LevelType\": \"\", \"LevelName\": \"\", \"UnitType\": \"\", \"UnitName\": \"\", \"SubAddr\": \"\", \"StAddr\": \"Passeig Mar\\u00edtim 25\", \"Block\": \"\", \"Sector\": \"\", \"Nbrhd\": \"\", \"District\": \"Sitges\", \"City\": \"Sitges\", \"MetroArea\": \"\", \"Subregion\": \"Barcelona\", \"Region\": \"Catalunya\", \"RegionAbbr\": \"\", \"Territory\": \"\", \"Zone\": \"\", \"Postal\": \"08870\", \"PostalExt\": \"\", \"Country\": \"ESP\", \"LangCode\": \"CAT\", \"Distance\": 0, \"X\": 1.7991771078250496, \"Y\": 41.231946111575944, \"DisplayX\": 1.7991585000000043, \"DisplayY\": 41.23196999999999, \"Xmin\": 1.7981585000000044, \"Xmax\": 1.8001585000000042, \"Ymin\": 41.23096999999999, \"Ymax\": 41.23296999999999, \"ExInfo\": \"- 29 08003\"}},\n",
       " {\"geometry\": {\"x\": 2.175879426856791, \"y\": 41.41513188175894}, \"attributes\": {\"Loc_name\": \"World\", \"Status\": \"M\", \"Score\": 100, \"Match_addr\": \"Carrer de Sant Quint\\u00ed 89, 08041, El Guinard\\u00f3, Barcelona, Catalunya\", \"LongLabel\": \"Carrer de Sant Quint\\u00ed 89, 08041, El Guinard\\u00f3, Barcelona, Catalunya, ESP\", \"ShortLabel\": \"Carrer de Sant Quint\\u00ed 89\", \"Addr_type\": \"PointAddress\", \"Type\": \"\", \"PlaceName\": \"\", \"Place_addr\": \"Carrer de Sant Quint\\u00ed 89, 08041, El Guinard\\u00f3, Barcelona, Catalunya\", \"Phone\": \"\", \"URL\": \"\", \"Rank\": 20, \"AddBldg\": \"\", \"AddNum\": \"89\", \"AddNumFrom\": \"\", \"AddNumTo\": \"\", \"AddRange\": \"\", \"Side\": \"L\", \"StPreDir\": \"\", \"StPreType\": \"Carrer de\", \"StName\": \"Sant Quint\\u00ed\", \"StType\": \"\", \"StDir\": \"\", \"BldgType\": \"\", \"BldgName\": \"\", \"LevelType\": \"\", \"LevelName\": \"\", \"UnitType\": \"\", \"UnitName\": \"\", \"SubAddr\": \"\", \"StAddr\": \"Carrer de Sant Quint\\u00ed 89\", \"Block\": \"\", \"Sector\": \"\", \"Nbrhd\": \"El Guinard\\u00f3\", \"District\": \"Barcelona\", \"City\": \"Barcelona\", \"MetroArea\": \"\", \"Subregion\": \"Barcelona\", \"Region\": \"Catalunya\", \"RegionAbbr\": \"\", \"Territory\": \"\", \"Zone\": \"\", \"Postal\": \"08041\", \"PostalExt\": \"\", \"Country\": \"ESP\", \"LangCode\": \"CAT\", \"Distance\": 0, \"X\": 2.175879426856791, \"Y\": 41.41513188175894, \"DisplayX\": 2.1757770000000107, \"DisplayY\": 41.415065999999996, \"Xmin\": 2.174777000000011, \"Xmax\": 2.1767770000000106, \"Ymin\": 41.414066, \"Ymax\": 41.416065999999994, \"ExInfo\": \"\"}}]"
      ]
     },
     "execution_count": 11,
     "metadata": {},
     "output_type": "execute_result"
    }
   ],
   "source": [
    "hosp_feat_list"
   ]
  },
  {
   "cell_type": "markdown",
   "metadata": {},
   "source": [
    "Construct a `FeatureSet` using each hospital `Feature`."
   ]
  },
  {
   "cell_type": "code",
   "execution_count": 12,
   "metadata": {},
   "outputs": [],
   "source": [
    "hospitals_fset = FeatureSet(features=hosp_feat_list, \n",
    "                            geometry_type='esriGeometryPoint', \n",
    "                            spatial_reference={'latestWkid': 4326})"
   ]
  },
  {
   "cell_type": "code",
   "execution_count": 13,
   "metadata": {},
   "outputs": [
    {
     "data": {
      "text/plain": [
       "arcgis.features.feature.FeatureSet"
      ]
     },
     "execution_count": 13,
     "metadata": {},
     "output_type": "execute_result"
    }
   ],
   "source": [
    "type(hospitals_fset)"
   ]
  },
  {
   "cell_type": "code",
   "execution_count": 14,
   "metadata": {},
   "outputs": [
    {
     "data": {
      "text/plain": [
       "{\"features\": [{\"geometry\": {\"x\": 2.15169749945174, \"y\": 41.38909293228112}, \"attributes\": {\"Loc_name\": \"World\", \"Status\": \"M\", \"Score\": 100, \"Match_addr\": \"Carrer de Villarroel 170, 08036, l'Antiga Esquerra de l'Eixample, Barcelona, Catalunya\", \"LongLabel\": \"Carrer de Villarroel 170, 08036, l'Antiga Esquerra de l'Eixample, Barcelona, Catalunya, ESP\", \"ShortLabel\": \"Carrer de Villarroel 170\", \"Addr_type\": \"PointAddress\", \"Type\": \"\", \"PlaceName\": \"\", \"Place_addr\": \"Carrer de Villarroel 170, 08036, l'Antiga Esquerra de l'Eixample, Barcelona, Catalunya\", \"Phone\": \"\", \"URL\": \"\", \"Rank\": 20, \"AddBldg\": \"\", \"AddNum\": \"170\", \"AddNumFrom\": \"\", \"AddNumTo\": \"\", \"AddRange\": \"\", \"Side\": \"R\", \"StPreDir\": \"\", \"StPreType\": \"Carrer de\", \"StName\": \"Villarroel\", \"StType\": \"\", \"StDir\": \"\", \"BldgType\": \"\", \"BldgName\": \"\", \"LevelType\": \"\", \"LevelName\": \"\", \"UnitType\": \"\", \"UnitName\": \"\", \"SubAddr\": \"\", \"StAddr\": \"Carrer de Villarroel 170\", \"Block\": \"\", \"Sector\": \"\", \"Nbrhd\": \"l'Antiga Esquerra de l'Eixample\", \"District\": \"Barcelona\", \"City\": \"Barcelona\", \"MetroArea\": \"\", \"Subregion\": \"Barcelona\", \"Region\": \"Catalunya\", \"RegionAbbr\": \"\", \"Territory\": \"\", \"Zone\": \"\", \"Postal\": \"08036\", \"PostalExt\": \"\", \"Country\": \"ESP\", \"LangCode\": \"CAT\", \"Distance\": 0, \"X\": 2.15169749945174, \"Y\": 41.38909293228112, \"DisplayX\": 2.1517695000000003, \"DisplayY\": 41.389118999999994, \"Xmin\": 2.1507695000000004, \"Xmax\": 2.1527695000000002, \"Ymin\": 41.388118999999996, \"Ymax\": 41.39011899999999, \"ExInfo\": \"\"}}, {\"geometry\": {\"x\": 2.101476979583456, \"y\": 41.38368739271577}, \"attributes\": {\"Loc_name\": \"World\", \"Status\": \"M\", \"Score\": 97.9, \"Match_addr\": \"Carrer de Sant Joan de D\\u00e9u 2, 08950, Esplugues de Llobregat, Barcelona, Catalunya\", \"LongLabel\": \"Carrer de Sant Joan de D\\u00e9u 2, 08950, Esplugues de Llobregat, Barcelona, Catalunya, ESP\", \"ShortLabel\": \"Carrer de Sant Joan de D\\u00e9u 2\", \"Addr_type\": \"StreetAddress\", \"Type\": \"\", \"PlaceName\": \"\", \"Place_addr\": \"Carrer de Sant Joan de D\\u00e9u 2, 08950, Esplugues de Llobregat, Barcelona, Catalunya\", \"Phone\": \"\", \"URL\": \"\", \"Rank\": 20, \"AddBldg\": \"\", \"AddNum\": \"2\", \"AddNumFrom\": \"1\", \"AddNumTo\": \"25\", \"AddRange\": \"1-25\", \"Side\": \"L\", \"StPreDir\": \"\", \"StPreType\": \"Carrer de\", \"StName\": \"Sant Joan de D\\u00e9u\", \"StType\": \"\", \"StDir\": \"\", \"BldgType\": \"\", \"BldgName\": \"\", \"LevelType\": \"\", \"LevelName\": \"\", \"UnitType\": \"\", \"UnitName\": \"\", \"SubAddr\": \"\", \"StAddr\": \"Carrer de Sant Joan de D\\u00e9u 2\", \"Block\": \"\", \"Sector\": \"\", \"Nbrhd\": \"\", \"District\": \"Esplugues de Llobregat\", \"City\": \"Esplugues de Llobregat\", \"MetroArea\": \"\", \"Subregion\": \"Barcelona\", \"Region\": \"Catalunya\", \"RegionAbbr\": \"\", \"Territory\": \"\", \"Zone\": \"\", \"Postal\": \"08950\", \"PostalExt\": \"\", \"Country\": \"ESP\", \"LangCode\": \"CAT\", \"Distance\": 0, \"X\": 2.101476979583456, \"Y\": 41.38368739271577, \"DisplayX\": 2.101476979583456, \"DisplayY\": 41.38368739271577, \"Xmin\": 2.100476979583456, \"Xmax\": 2.102476979583456, \"Ymin\": 41.38268739271577, \"Ymax\": 41.38468739271577, \"ExInfo\": \"\"}}, {\"geometry\": {\"x\": 1.7991771078250496, \"y\": 41.231946111575944}, \"attributes\": {\"Loc_name\": \"World\", \"Status\": \"T\", \"Score\": 81.91, \"Match_addr\": \"Passeig Mar\\u00edtim 25, 08870, Sitges, Barcelona, Catalunya\", \"LongLabel\": \"Passeig Mar\\u00edtim 25, 08870, Sitges, Barcelona, Catalunya, ESP\", \"ShortLabel\": \"Passeig Mar\\u00edtim 25\", \"Addr_type\": \"PointAddress\", \"Type\": \"\", \"PlaceName\": \"\", \"Place_addr\": \"Passeig Mar\\u00edtim 25, 08870, Sitges, Barcelona, Catalunya\", \"Phone\": \"\", \"URL\": \"\", \"Rank\": 20, \"AddBldg\": \"\", \"AddNum\": \"25\", \"AddNumFrom\": \"\", \"AddNumTo\": \"\", \"AddRange\": \"\", \"Side\": \"L\", \"StPreDir\": \"\", \"StPreType\": \"Passeig\", \"StName\": \"Mar\\u00edtim\", \"StType\": \"\", \"StDir\": \"\", \"BldgType\": \"\", \"BldgName\": \"\", \"LevelType\": \"\", \"LevelName\": \"\", \"UnitType\": \"\", \"UnitName\": \"\", \"SubAddr\": \"\", \"StAddr\": \"Passeig Mar\\u00edtim 25\", \"Block\": \"\", \"Sector\": \"\", \"Nbrhd\": \"\", \"District\": \"Sitges\", \"City\": \"Sitges\", \"MetroArea\": \"\", \"Subregion\": \"Barcelona\", \"Region\": \"Catalunya\", \"RegionAbbr\": \"\", \"Territory\": \"\", \"Zone\": \"\", \"Postal\": \"08870\", \"PostalExt\": \"\", \"Country\": \"ESP\", \"LangCode\": \"CAT\", \"Distance\": 0, \"X\": 1.7991771078250496, \"Y\": 41.231946111575944, \"DisplayX\": 1.7991585000000043, \"DisplayY\": 41.23196999999999, \"Xmin\": 1.7981585000000044, \"Xmax\": 1.8001585000000042, \"Ymin\": 41.23096999999999, \"Ymax\": 41.23296999999999, \"ExInfo\": \"- 29 08003\"}}, {\"geometry\": {\"x\": 2.175879426856791, \"y\": 41.41513188175894}, \"attributes\": {\"Loc_name\": \"World\", \"Status\": \"M\", \"Score\": 100, \"Match_addr\": \"Carrer de Sant Quint\\u00ed 89, 08041, El Guinard\\u00f3, Barcelona, Catalunya\", \"LongLabel\": \"Carrer de Sant Quint\\u00ed 89, 08041, El Guinard\\u00f3, Barcelona, Catalunya, ESP\", \"ShortLabel\": \"Carrer de Sant Quint\\u00ed 89\", \"Addr_type\": \"PointAddress\", \"Type\": \"\", \"PlaceName\": \"\", \"Place_addr\": \"Carrer de Sant Quint\\u00ed 89, 08041, El Guinard\\u00f3, Barcelona, Catalunya\", \"Phone\": \"\", \"URL\": \"\", \"Rank\": 20, \"AddBldg\": \"\", \"AddNum\": \"89\", \"AddNumFrom\": \"\", \"AddNumTo\": \"\", \"AddRange\": \"\", \"Side\": \"L\", \"StPreDir\": \"\", \"StPreType\": \"Carrer de\", \"StName\": \"Sant Quint\\u00ed\", \"StType\": \"\", \"StDir\": \"\", \"BldgType\": \"\", \"BldgName\": \"\", \"LevelType\": \"\", \"LevelName\": \"\", \"UnitType\": \"\", \"UnitName\": \"\", \"SubAddr\": \"\", \"StAddr\": \"Carrer de Sant Quint\\u00ed 89\", \"Block\": \"\", \"Sector\": \"\", \"Nbrhd\": \"El Guinard\\u00f3\", \"District\": \"Barcelona\", \"City\": \"Barcelona\", \"MetroArea\": \"\", \"Subregion\": \"Barcelona\", \"Region\": \"Catalunya\", \"RegionAbbr\": \"\", \"Territory\": \"\", \"Zone\": \"\", \"Postal\": \"08041\", \"PostalExt\": \"\", \"Country\": \"ESP\", \"LangCode\": \"CAT\", \"Distance\": 0, \"X\": 2.175879426856791, \"Y\": 41.41513188175894, \"DisplayX\": 2.1757770000000107, \"DisplayY\": 41.415065999999996, \"Xmin\": 2.174777000000011, \"Xmax\": 2.1767770000000106, \"Ymin\": 41.414066, \"Ymax\": 41.416065999999994, \"ExInfo\": \"\"}}], \"spatialReference\": {\"latestWkid\": 4326}, \"geometryType\": \"esriGeometryPoint\", \"fields\": [\"Loc_name\", \"Status\", \"Score\", \"Match_addr\", \"LongLabel\", \"ShortLabel\", \"Addr_type\", \"Type\", \"PlaceName\", \"Place_addr\", \"Phone\", \"URL\", \"Rank\", \"AddBldg\", \"AddNum\", \"AddNumFrom\", \"AddNumTo\", \"AddRange\", \"Side\", \"StPreDir\", \"StPreType\", \"StName\", \"StType\", \"StDir\", \"BldgType\", \"BldgName\", \"LevelType\", \"LevelName\", \"UnitType\", \"UnitName\", \"SubAddr\", \"StAddr\", \"Block\", \"Sector\", \"Nbrhd\", \"District\", \"City\", \"MetroArea\", \"Subregion\", \"Region\", \"RegionAbbr\", \"Territory\", \"Zone\", \"Postal\", \"PostalExt\", \"Country\", \"LangCode\", \"Distance\", \"X\", \"Y\", \"DisplayX\", \"DisplayY\", \"Xmin\", \"Xmax\", \"Ymin\", \"Ymax\", \"ExInfo\"]}"
      ]
     },
     "execution_count": 14,
     "metadata": {},
     "output_type": "execute_result"
    }
   ],
   "source": [
    "hospitals_fset"
   ]
  },
  {
   "cell_type": "markdown",
   "metadata": {},
   "source": [
    "Lets draw our hospitals on a map"
   ]
  },
  {
   "cell_type": "code",
   "execution_count": 15,
   "metadata": {},
   "outputs": [
    {
     "data": {
      "application/vnd.jupyter.widget-view+json": {
       "model_id": "3d16d0b14fbd48a4b596ce94914165ae"
      }
     },
     "metadata": {},
     "output_type": "display_data"
    }
   ],
   "source": [
    "map1 = my_gis.map('Barcelona',8)\n",
    "map1"
   ]
  },
  {
   "cell_type": "code",
   "execution_count": 16,
   "metadata": {},
   "outputs": [],
   "source": [
    "map1.draw(hospitals_fset, symbol={\"type\": \"esriSMS\",\"style\": \"esriSMSCircle\",\n",
    "                                  \"color\": [0,0,255,255],\"size\": 8,})"
   ]
  },
  {
   "attachments": {},
   "cell_type": "markdown",
   "metadata": {},
   "source": [
    "Note: to change colors.\n",
    "\n",
    "http://help.arcgis.com/en/arcgisserver/10.0/apis/rest/symbol.html#color\n",
    "    \n",
    "https://www.rapidtables.com/web/color/RGB_Color.html"
   ]
  },
  {
   "cell_type": "markdown",
   "metadata": {},
   "source": [
    "### Create incidents layer\n",
    "Similarly, let us create the incient layer"
   ]
  },
  {
   "cell_type": "code",
   "execution_count": 17,
   "metadata": {},
   "outputs": [],
   "source": [
    "incident_coords = '2.19158,41.387578'\n",
    "reverse_geocode = geocoding.reverse_geocode({\"x\": incident_coords.split(',')[0], \n",
    "                                              \"y\": incident_coords.split(',')[1]})\n",
    "\n",
    "incident_feature = Feature(geometry=reverse_geocode['location'], \n",
    "                           attributes=reverse_geocode['address'])"
   ]
  },
  {
   "cell_type": "code",
   "execution_count": 39,
   "metadata": {},
   "outputs": [
    {
     "data": {
      "text/plain": [
       "{\"geometry\": {\"x\": 2.1917255096048422, \"y\": 41.38805167595008, \"spatialReference\": {\"wkid\": 4326, \"latestWkid\": 4326}}, \"attributes\": {\"Match_addr\": \"Carrer de Villena 2-18, 08005, La Vila Ol\\u00edmpica del Poblenou, Barcelona, Catalunya\", \"LongLabel\": \"Carrer de Villena 2-18, 08005, La Vila Ol\\u00edmpica del Poblenou, Barcelona, Catalunya, ESP\", \"ShortLabel\": \"Carrer de Villena 2-18\", \"Addr_type\": \"StreetAddress\", \"Type\": \"\", \"PlaceName\": \"\", \"AddNum\": \"2\", \"Address\": \"Carrer de Villena 2\", \"Block\": \"\", \"Sector\": \"\", \"Neighborhood\": \"La Vila Ol\\u00edmpica del Poblenou\", \"District\": \"Barcelona\", \"City\": \"Barcelona\", \"MetroArea\": \"\", \"Subregion\": \"Barcelona\", \"Region\": \"Catalunya\", \"Territory\": \"\", \"Postal\": \"08005\", \"PostalExt\": \"\", \"CountryCode\": \"ESP\"}}"
      ]
     },
     "execution_count": 39,
     "metadata": {},
     "output_type": "execute_result"
    }
   ],
   "source": [
    "incident_feature"
   ]
  },
  {
   "cell_type": "code",
   "execution_count": 18,
   "metadata": {},
   "outputs": [],
   "source": [
    "incident_fset = FeatureSet([incident_feature], geometry_type='esriGeometryPoint',\n",
    "                          spatial_reference={'latestWkid': 4326})"
   ]
  },
  {
   "cell_type": "markdown",
   "metadata": {},
   "source": [
    "Let us add the incident to the map"
   ]
  },
  {
   "cell_type": "code",
   "execution_count": 19,
   "metadata": {},
   "outputs": [],
   "source": [
    "map1.draw(incident_fset, symbol={\"type\": \"esriSMS\",\"style\": \"esriSMSDiamond\",\"color\": [255,0,0,255], \"size\": 10})"
   ]
  },
  {
   "cell_type": "markdown",
   "metadata": {},
   "source": [
    "## Solve for closest hospital\n",
    "By default the closest facility service would return only the closest location, so we need to specify explicitly the `default_target_facility_count` parameter as well as `return_facilities`.\n"
   ]
  },
  {
   "cell_type": "code",
   "execution_count": 20,
   "metadata": {},
   "outputs": [],
   "source": [
    "result = cf_layer.solve_closest_facility(incidents=incident_fset,\n",
    "                                        facilities=hospitals_fset,\n",
    "                                        default_target_facility_count=4,\n",
    "                                        return_facilities=True,\n",
    "                                        impedance_attribute_name='TravelTime',\n",
    "                                        accumulate_attribute_names=['Kilometers','TravelTime'])"
   ]
  },
  {
   "cell_type": "markdown",
   "metadata": {},
   "source": [
    "Notes:\n",
    "\n",
    "- default_target_facility_count = default number of facilities to find.\n",
    "- return_facilities = means an array of points, only returned when ClosestFacilityParameters.returnFacilities is true.\n",
    "- impedance_attribute_name= Gets or sets the network attribute name to be used as the impedance attribute in analysis.\n",
    "- accumulate_attribute_names = Gets or sets the collection of network attribute names to be accumulated with the analysis."
   ]
  },
  {
   "cell_type": "markdown",
   "metadata": {},
   "source": [
    "Let us inspect the result dictionary.\n",
    "\n",
    "Note: dict.keys() method returns a dictionary view object,"
   ]
  },
  {
   "cell_type": "code",
   "execution_count": 21,
   "metadata": {},
   "outputs": [
    {
     "data": {
      "text/plain": [
       "dict_keys(['messages', 'routes', 'facilities'])"
      ]
     },
     "execution_count": 21,
     "metadata": {},
     "output_type": "execute_result"
    }
   ],
   "source": [
    "result.keys()"
   ]
  },
  {
   "cell_type": "markdown",
   "metadata": {},
   "source": [
    "Let us use the `routes` dictionary to construct line features out of the routes to display on the map"
   ]
  },
  {
   "cell_type": "code",
   "execution_count": 22,
   "metadata": {},
   "outputs": [
    {
     "data": {
      "text/plain": [
       "dict_keys(['fieldAliases', 'geometryType', 'spatialReference', 'features'])"
      ]
     },
     "execution_count": 22,
     "metadata": {},
     "output_type": "execute_result"
    }
   ],
   "source": [
    "result['routes'].keys()"
   ]
  },
  {
   "cell_type": "code",
   "execution_count": 23,
   "metadata": {},
   "outputs": [
    {
     "data": {
      "text/plain": [
       "dict_keys(['attributes', 'geometry'])"
      ]
     },
     "execution_count": 23,
     "metadata": {},
     "output_type": "execute_result"
    }
   ],
   "source": [
    "result['routes']['features'][0].keys()"
   ]
  },
  {
   "cell_type": "markdown",
   "metadata": {},
   "source": [
    "Construct line features out of the routes that are returned."
   ]
  },
  {
   "cell_type": "code",
   "execution_count": 33,
   "metadata": {},
   "outputs": [],
   "source": [
    "line_feat_list = []\n",
    "for line_dict in result['routes']['features']:\n",
    "    f1 = Feature(line_dict['geometry'], line_dict['attributes'])\n",
    "    line_feat_list.append(f1)"
   ]
  },
  {
   "cell_type": "code",
   "execution_count": 34,
   "metadata": {},
   "outputs": [],
   "source": [
    "routes_fset = FeatureSet(line_feat_list, \n",
    "                         geometry_type=result['routes']['geometryType'],\n",
    "                         spatial_reference= result['routes']['spatialReference'])"
   ]
  },
  {
   "cell_type": "markdown",
   "metadata": {},
   "source": [
    "Add the routes back to the map. The route to the closest hospital is in red"
   ]
  },
  {
   "cell_type": "code",
   "execution_count": 35,
   "metadata": {},
   "outputs": [],
   "source": [
    "map1.draw(routes_fset)"
   ]
  },
  {
   "cell_type": "markdown",
   "metadata": {},
   "source": [
    "## Analyze the results in a table\n",
    "Since we parsed the routes as a `FeatureSet`, we can display the attributes easily as a `pandas` `DataFrame`."
   ]
  },
  {
   "cell_type": "code",
   "execution_count": 36,
   "metadata": {},
   "outputs": [
    {
     "data": {
      "text/html": [
       "<div>\n",
       "<table border=\"1\" class=\"dataframe\">\n",
       "  <thead>\n",
       "    <tr style=\"text-align: right;\">\n",
       "      <th></th>\n",
       "      <th>FacilityCurbApproach</th>\n",
       "      <th>FacilityID</th>\n",
       "      <th>FacilityRank</th>\n",
       "      <th>IncidentCurbApproach</th>\n",
       "      <th>IncidentID</th>\n",
       "      <th>Name</th>\n",
       "      <th>ObjectID</th>\n",
       "      <th>Shape_Length</th>\n",
       "      <th>Total_Kilometers</th>\n",
       "      <th>Total_Miles</th>\n",
       "      <th>Total_TravelTime</th>\n",
       "      <th>SHAPE</th>\n",
       "    </tr>\n",
       "  </thead>\n",
       "  <tbody>\n",
       "    <tr>\n",
       "      <th>0</th>\n",
       "      <td>2</td>\n",
       "      <td>1</td>\n",
       "      <td>1</td>\n",
       "      <td>1</td>\n",
       "      <td>1</td>\n",
       "      <td>Carrer de Villena 2 - Location 1</td>\n",
       "      <td>1</td>\n",
       "      <td>0.062431</td>\n",
       "      <td>5.819194</td>\n",
       "      <td>3.615880</td>\n",
       "      <td>11.922334</td>\n",
       "      <td>{'paths': [[[2.191690000000051, 41.38811000000...</td>\n",
       "    </tr>\n",
       "    <tr>\n",
       "      <th>1</th>\n",
       "      <td>1</td>\n",
       "      <td>4</td>\n",
       "      <td>2</td>\n",
       "      <td>1</td>\n",
       "      <td>1</td>\n",
       "      <td>Carrer de Villena 2 - Location 4</td>\n",
       "      <td>2</td>\n",
       "      <td>0.054392</td>\n",
       "      <td>5.161340</td>\n",
       "      <td>3.207108</td>\n",
       "      <td>13.087476</td>\n",
       "      <td>{'paths': [[[2.191690000000051, 41.38811000000...</td>\n",
       "    </tr>\n",
       "    <tr>\n",
       "      <th>2</th>\n",
       "      <td>1</td>\n",
       "      <td>2</td>\n",
       "      <td>3</td>\n",
       "      <td>1</td>\n",
       "      <td>1</td>\n",
       "      <td>Carrer de Villena 2 - Location 2</td>\n",
       "      <td>3</td>\n",
       "      <td>0.175068</td>\n",
       "      <td>16.653934</td>\n",
       "      <td>10.348275</td>\n",
       "      <td>17.278289</td>\n",
       "      <td>{'paths': [[[2.191690000000051, 41.38811000000...</td>\n",
       "    </tr>\n",
       "    <tr>\n",
       "      <th>3</th>\n",
       "      <td>1</td>\n",
       "      <td>3</td>\n",
       "      <td>4</td>\n",
       "      <td>1</td>\n",
       "      <td>1</td>\n",
       "      <td>Carrer de Villena 2 - Location 3</td>\n",
       "      <td>4</td>\n",
       "      <td>0.471711</td>\n",
       "      <td>42.671649</td>\n",
       "      <td>26.514933</td>\n",
       "      <td>37.070750</td>\n",
       "      <td>{'paths': [[[2.191690000000051, 41.38811000000...</td>\n",
       "    </tr>\n",
       "  </tbody>\n",
       "</table>\n",
       "</div>"
      ],
      "text/plain": [
       "   FacilityCurbApproach  FacilityID  FacilityRank  IncidentCurbApproach  \\\n",
       "0                     2           1             1                     1   \n",
       "1                     1           4             2                     1   \n",
       "2                     1           2             3                     1   \n",
       "3                     1           3             4                     1   \n",
       "\n",
       "   IncidentID                              Name  ObjectID  Shape_Length  \\\n",
       "0           1  Carrer de Villena 2 - Location 1         1      0.062431   \n",
       "1           1  Carrer de Villena 2 - Location 4         2      0.054392   \n",
       "2           1  Carrer de Villena 2 - Location 2         3      0.175068   \n",
       "3           1  Carrer de Villena 2 - Location 3         4      0.471711   \n",
       "\n",
       "   Total_Kilometers  Total_Miles  Total_TravelTime  \\\n",
       "0          5.819194     3.615880         11.922334   \n",
       "1          5.161340     3.207108         13.087476   \n",
       "2         16.653934    10.348275         17.278289   \n",
       "3         42.671649    26.514933         37.070750   \n",
       "\n",
       "                                               SHAPE  \n",
       "0  {'paths': [[[2.191690000000051, 41.38811000000...  \n",
       "1  {'paths': [[[2.191690000000051, 41.38811000000...  \n",
       "2  {'paths': [[[2.191690000000051, 41.38811000000...  \n",
       "3  {'paths': [[[2.191690000000051, 41.38811000000...  "
      ]
     },
     "execution_count": 36,
     "metadata": {},
     "output_type": "execute_result"
    }
   ],
   "source": [
    "routes_fset.df"
   ]
  },
  {
   "cell_type": "markdown",
   "metadata": {},
   "source": [
    "Let us add the hospital addresses and incident address to this table and display only the relevant columns"
   ]
  },
  {
   "cell_type": "code",
   "execution_count": 37,
   "metadata": {},
   "outputs": [],
   "source": [
    "df1 = routes_fset.df\n",
    "df1['facility_address'] = hospitals_addresses\n",
    "df1['incident_address'] = [incident_feature.attributes['Match_addr'] for i in range(len(hospitals_addresses))]"
   ]
  },
  {
   "cell_type": "code",
   "execution_count": 38,
   "metadata": {},
   "outputs": [
    {
     "data": {
      "text/html": [
       "<div>\n",
       "<table border=\"1\" class=\"dataframe\">\n",
       "  <thead>\n",
       "    <tr style=\"text-align: right;\">\n",
       "      <th></th>\n",
       "      <th>facility_address</th>\n",
       "      <th>incident_address</th>\n",
       "      <th>Total_Kilometers</th>\n",
       "      <th>Total_TravelTime</th>\n",
       "    </tr>\n",
       "  </thead>\n",
       "  <tbody>\n",
       "    <tr>\n",
       "      <th>0</th>\n",
       "      <td>Carrer de Villarroel, 170, 08036, Barcelona</td>\n",
       "      <td>Carrer de Villena 2-18, 08005, La Vila Olímpic...</td>\n",
       "      <td>5.819194</td>\n",
       "      <td>11.922334</td>\n",
       "    </tr>\n",
       "    <tr>\n",
       "      <th>1</th>\n",
       "      <td>Passeig de Sant Joan de Déu, 2, 08950, Esplugu...</td>\n",
       "      <td>Carrer de Villena 2-18, 08005, La Vila Olímpic...</td>\n",
       "      <td>5.161340</td>\n",
       "      <td>13.087476</td>\n",
       "    </tr>\n",
       "    <tr>\n",
       "      <th>2</th>\n",
       "      <td>Passeig Marítim, 25-29, 08003, Barcelona</td>\n",
       "      <td>Carrer de Villena 2-18, 08005, La Vila Olímpic...</td>\n",
       "      <td>16.653934</td>\n",
       "      <td>17.278289</td>\n",
       "    </tr>\n",
       "    <tr>\n",
       "      <th>3</th>\n",
       "      <td>Carrer de Sant Quintí, 89, 08041, Barcelona</td>\n",
       "      <td>Carrer de Villena 2-18, 08005, La Vila Olímpic...</td>\n",
       "      <td>42.671649</td>\n",
       "      <td>37.070750</td>\n",
       "    </tr>\n",
       "  </tbody>\n",
       "</table>\n",
       "</div>"
      ],
      "text/plain": [
       "                                    facility_address  \\\n",
       "0        Carrer de Villarroel, 170, 08036, Barcelona   \n",
       "1  Passeig de Sant Joan de Déu, 2, 08950, Esplugu...   \n",
       "2           Passeig Marítim, 25-29, 08003, Barcelona   \n",
       "3        Carrer de Sant Quintí, 89, 08041, Barcelona   \n",
       "\n",
       "                                    incident_address  Total_Kilometers  \\\n",
       "0  Carrer de Villena 2-18, 08005, La Vila Olímpic...          5.819194   \n",
       "1  Carrer de Villena 2-18, 08005, La Vila Olímpic...          5.161340   \n",
       "2  Carrer de Villena 2-18, 08005, La Vila Olímpic...         16.653934   \n",
       "3  Carrer de Villena 2-18, 08005, La Vila Olímpic...         42.671649   \n",
       "\n",
       "   Total_TravelTime  \n",
       "0         11.922334  \n",
       "1         13.087476  \n",
       "2         17.278289  \n",
       "3         37.070750  "
      ]
     },
     "execution_count": 38,
     "metadata": {},
     "output_type": "execute_result"
    }
   ],
   "source": [
    "df1[['facility_address','incident_address','Total_Kilometers','Total_TravelTime']]\n"
   ]
  },
  {
   "cell_type": "markdown",
   "metadata": {},
   "source": [
    "### Conclusion\n",
    "Thus using the `network` module of the ArcGIS API for Python, you can solve for closest facilities from an incident location."
   ]
  },
  {
   "cell_type": "markdown",
   "metadata": {},
   "source": [
    "## Test another incident location and visualize the results.\n",
    "\n",
    "    incident_coords = '2.139307,41.401963'\n",
    "    "
   ]
  }
 ],
 "metadata": {
  "anaconda-cloud": {},
  "kernelspec": {
   "display_name": "Python 3",
   "language": "python",
   "name": "python3"
  },
  "language_info": {
   "codemirror_mode": {
    "name": "ipython",
    "version": 3
   },
   "file_extension": ".py",
   "mimetype": "text/x-python",
   "name": "python",
   "nbconvert_exporter": "python",
   "pygments_lexer": "ipython3",
   "version": "3.6.0"
  }
 },
 "nbformat": 4,
 "nbformat_minor": 2
}
