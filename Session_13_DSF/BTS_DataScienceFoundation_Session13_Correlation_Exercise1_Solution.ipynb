{
 "cells": [
  {
   "cell_type": "markdown",
   "metadata": {},
   "source": [
    "# Subject: Data Science Foundation\n",
    "\n",
    "## Session 13 - Correlation in Python.\n",
    "\n",
    "### Exercise 1 -  Calculating Correlation in Pandas\n"
   ]
  },
  {
   "cell_type": "markdown",
   "metadata": {},
   "source": [
    "We will be using a dataset \"Advertising\". Calculate the Pearson correlation of sales with TV, radio and newspaper."
   ]
  },
  {
   "cell_type": "code",
   "execution_count": 7,
   "metadata": {},
   "outputs": [
    {
     "data": {
      "text/html": [
       "<div>\n",
       "<table border=\"1\" class=\"dataframe\">\n",
       "  <thead>\n",
       "    <tr style=\"text-align: right;\">\n",
       "      <th></th>\n",
       "      <th>TV</th>\n",
       "      <th>radio</th>\n",
       "      <th>newspaper</th>\n",
       "      <th>sales</th>\n",
       "    </tr>\n",
       "  </thead>\n",
       "  <tbody>\n",
       "    <tr>\n",
       "      <th>1</th>\n",
       "      <td>230.1</td>\n",
       "      <td>37.8</td>\n",
       "      <td>69.2</td>\n",
       "      <td>22.1</td>\n",
       "    </tr>\n",
       "    <tr>\n",
       "      <th>2</th>\n",
       "      <td>44.5</td>\n",
       "      <td>39.3</td>\n",
       "      <td>45.1</td>\n",
       "      <td>10.4</td>\n",
       "    </tr>\n",
       "    <tr>\n",
       "      <th>3</th>\n",
       "      <td>17.2</td>\n",
       "      <td>45.9</td>\n",
       "      <td>69.3</td>\n",
       "      <td>9.3</td>\n",
       "    </tr>\n",
       "    <tr>\n",
       "      <th>4</th>\n",
       "      <td>151.5</td>\n",
       "      <td>41.3</td>\n",
       "      <td>58.5</td>\n",
       "      <td>18.5</td>\n",
       "    </tr>\n",
       "    <tr>\n",
       "      <th>5</th>\n",
       "      <td>180.8</td>\n",
       "      <td>10.8</td>\n",
       "      <td>58.4</td>\n",
       "      <td>12.9</td>\n",
       "    </tr>\n",
       "  </tbody>\n",
       "</table>\n",
       "</div>"
      ],
      "text/plain": [
       "      TV  radio  newspaper  sales\n",
       "1  230.1   37.8       69.2   22.1\n",
       "2   44.5   39.3       45.1   10.4\n",
       "3   17.2   45.9       69.3    9.3\n",
       "4  151.5   41.3       58.5   18.5\n",
       "5  180.8   10.8       58.4   12.9"
      ]
     },
     "execution_count": 7,
     "metadata": {},
     "output_type": "execute_result"
    }
   ],
   "source": [
    "import pandas as pd\n",
    "import numpy as np\n",
    "import seaborn as sns\n",
    "import matplotlib.pyplot as plt\n",
    "%matplotlib inline\n",
    "data = pd.read_csv('http://www-bcf.usc.edu/~gareth/ISL/Advertising.csv', index_col=0)\n",
    "data.head()"
   ]
  },
  {
   "cell_type": "code",
   "execution_count": 15,
   "metadata": {},
   "outputs": [
    {
     "data": {
      "text/plain": [
       "TV           float64\n",
       "radio        float64\n",
       "newspaper    float64\n",
       "sales        float64\n",
       "dtype: object"
      ]
     },
     "execution_count": 15,
     "metadata": {},
     "output_type": "execute_result"
    }
   ],
   "source": [
    "data.dtypes"
   ]
  },
  {
   "cell_type": "code",
   "execution_count": 8,
   "metadata": {},
   "outputs": [
    {
     "data": {
      "text/plain": [
       "(200, 4)"
      ]
     },
     "execution_count": 8,
     "metadata": {},
     "output_type": "execute_result"
    }
   ],
   "source": [
    "data.shape "
   ]
  },
  {
   "cell_type": "code",
   "execution_count": 9,
   "metadata": {},
   "outputs": [
    {
     "name": "stdout",
     "output_type": "stream",
     "text": [
      "<class 'pandas.core.frame.DataFrame'>\n",
      "Int64Index: 200 entries, 1 to 200\n",
      "Data columns (total 4 columns):\n",
      "TV           200 non-null float64\n",
      "radio        200 non-null float64\n",
      "newspaper    200 non-null float64\n",
      "sales        200 non-null float64\n",
      "dtypes: float64(4)\n",
      "memory usage: 7.8 KB\n"
     ]
    }
   ],
   "source": [
    "data.info()"
   ]
  },
  {
   "cell_type": "code",
   "execution_count": 10,
   "metadata": {},
   "outputs": [
    {
     "name": "stdout",
     "output_type": "stream",
     "text": [
      "               TV       radio   newspaper       sales\n",
      "count  200.000000  200.000000  200.000000  200.000000\n",
      "mean   147.042500   23.264000   30.554000   14.022500\n",
      "std     85.854236   14.846809   21.778621    5.217457\n",
      "min      0.700000    0.000000    0.300000    1.600000\n",
      "25%     74.375000    9.975000   12.750000   10.375000\n",
      "50%    149.750000   22.900000   25.750000   12.900000\n",
      "75%    218.825000   36.525000   45.100000   17.400000\n",
      "max    296.400000   49.600000  114.000000   27.000000\n"
     ]
    }
   ],
   "source": [
    "print(data.describe())"
   ]
  },
  {
   "cell_type": "code",
   "execution_count": 11,
   "metadata": {},
   "outputs": [
    {
     "data": {
      "text/plain": [
       "0.78222442486160659"
      ]
     },
     "execution_count": 11,
     "metadata": {},
     "output_type": "execute_result"
    }
   ],
   "source": [
    "data['sales'].corr(data['TV'])"
   ]
  },
  {
   "cell_type": "code",
   "execution_count": 12,
   "metadata": {},
   "outputs": [
    {
     "data": {
      "text/plain": [
       "0.57622257457105519"
      ]
     },
     "execution_count": 12,
     "metadata": {},
     "output_type": "execute_result"
    }
   ],
   "source": [
    "data['sales'].corr(data['radio'])"
   ]
  },
  {
   "cell_type": "code",
   "execution_count": 13,
   "metadata": {},
   "outputs": [
    {
     "data": {
      "text/plain": [
       "0.22829902637616534"
      ]
     },
     "execution_count": 13,
     "metadata": {},
     "output_type": "execute_result"
    }
   ],
   "source": [
    "data['sales'].corr(data['newspaper'])"
   ]
  },
  {
   "cell_type": "code",
   "execution_count": 16,
   "metadata": {
    "scrolled": false
   },
   "outputs": [
    {
     "data": {
      "text/html": [
       "<div>\n",
       "<table border=\"1\" class=\"dataframe\">\n",
       "  <thead>\n",
       "    <tr style=\"text-align: right;\">\n",
       "      <th></th>\n",
       "      <th>TV</th>\n",
       "      <th>radio</th>\n",
       "      <th>newspaper</th>\n",
       "      <th>sales</th>\n",
       "    </tr>\n",
       "  </thead>\n",
       "  <tbody>\n",
       "    <tr>\n",
       "      <th>TV</th>\n",
       "      <td>1.000000</td>\n",
       "      <td>0.054809</td>\n",
       "      <td>0.056648</td>\n",
       "      <td>0.782224</td>\n",
       "    </tr>\n",
       "    <tr>\n",
       "      <th>radio</th>\n",
       "      <td>0.054809</td>\n",
       "      <td>1.000000</td>\n",
       "      <td>0.354104</td>\n",
       "      <td>0.576223</td>\n",
       "    </tr>\n",
       "    <tr>\n",
       "      <th>newspaper</th>\n",
       "      <td>0.056648</td>\n",
       "      <td>0.354104</td>\n",
       "      <td>1.000000</td>\n",
       "      <td>0.228299</td>\n",
       "    </tr>\n",
       "    <tr>\n",
       "      <th>sales</th>\n",
       "      <td>0.782224</td>\n",
       "      <td>0.576223</td>\n",
       "      <td>0.228299</td>\n",
       "      <td>1.000000</td>\n",
       "    </tr>\n",
       "  </tbody>\n",
       "</table>\n",
       "</div>"
      ],
      "text/plain": [
       "                 TV     radio  newspaper     sales\n",
       "TV         1.000000  0.054809   0.056648  0.782224\n",
       "radio      0.054809  1.000000   0.354104  0.576223\n",
       "newspaper  0.056648  0.354104   1.000000  0.228299\n",
       "sales      0.782224  0.576223   0.228299  1.000000"
      ]
     },
     "execution_count": 16,
     "metadata": {},
     "output_type": "execute_result"
    }
   ],
   "source": [
    "# pairwise correlation\n",
    "data.corr(method='pearson')"
   ]
  },
  {
   "cell_type": "code",
   "execution_count": 17,
   "metadata": {},
   "outputs": [
    {
     "data": {
      "text/html": [
       "\n",
       "        <style  type=\"text/css\" >\n",
       "        \n",
       "        \n",
       "            #T_293f6c78_c7de_11e7_bf71_e4b3180db410row0_col0 {\n",
       "            \n",
       "                background-color:  #b40426;\n",
       "            \n",
       "            }\n",
       "        \n",
       "            #T_293f6c78_c7de_11e7_bf71_e4b3180db410row0_col1 {\n",
       "            \n",
       "                background-color:  #3b4cc0;\n",
       "            \n",
       "            }\n",
       "        \n",
       "            #T_293f6c78_c7de_11e7_bf71_e4b3180db410row0_col2 {\n",
       "            \n",
       "                background-color:  #3b4cc0;\n",
       "            \n",
       "            }\n",
       "        \n",
       "            #T_293f6c78_c7de_11e7_bf71_e4b3180db410row0_col3 {\n",
       "            \n",
       "                background-color:  #f29072;\n",
       "            \n",
       "            }\n",
       "        \n",
       "            #T_293f6c78_c7de_11e7_bf71_e4b3180db410row1_col0 {\n",
       "            \n",
       "                background-color:  #3b4cc0;\n",
       "            \n",
       "            }\n",
       "        \n",
       "            #T_293f6c78_c7de_11e7_bf71_e4b3180db410row1_col1 {\n",
       "            \n",
       "                background-color:  #b40426;\n",
       "            \n",
       "            }\n",
       "        \n",
       "            #T_293f6c78_c7de_11e7_bf71_e4b3180db410row1_col2 {\n",
       "            \n",
       "                background-color:  #a5c3fe;\n",
       "            \n",
       "            }\n",
       "        \n",
       "            #T_293f6c78_c7de_11e7_bf71_e4b3180db410row1_col3 {\n",
       "            \n",
       "                background-color:  #ead5c9;\n",
       "            \n",
       "            }\n",
       "        \n",
       "            #T_293f6c78_c7de_11e7_bf71_e4b3180db410row2_col0 {\n",
       "            \n",
       "                background-color:  #3b4cc0;\n",
       "            \n",
       "            }\n",
       "        \n",
       "            #T_293f6c78_c7de_11e7_bf71_e4b3180db410row2_col1 {\n",
       "            \n",
       "                background-color:  #a3c2fe;\n",
       "            \n",
       "            }\n",
       "        \n",
       "            #T_293f6c78_c7de_11e7_bf71_e4b3180db410row2_col2 {\n",
       "            \n",
       "                background-color:  #b40426;\n",
       "            \n",
       "            }\n",
       "        \n",
       "            #T_293f6c78_c7de_11e7_bf71_e4b3180db410row2_col3 {\n",
       "            \n",
       "                background-color:  #7597f6;\n",
       "            \n",
       "            }\n",
       "        \n",
       "            #T_293f6c78_c7de_11e7_bf71_e4b3180db410row3_col0 {\n",
       "            \n",
       "                background-color:  #f7a688;\n",
       "            \n",
       "            }\n",
       "        \n",
       "            #T_293f6c78_c7de_11e7_bf71_e4b3180db410row3_col1 {\n",
       "            \n",
       "                background-color:  #cfdaea;\n",
       "            \n",
       "            }\n",
       "        \n",
       "            #T_293f6c78_c7de_11e7_bf71_e4b3180db410row3_col2 {\n",
       "            \n",
       "                background-color:  #3b4cc0;\n",
       "            \n",
       "            }\n",
       "        \n",
       "            #T_293f6c78_c7de_11e7_bf71_e4b3180db410row3_col3 {\n",
       "            \n",
       "                background-color:  #b40426;\n",
       "            \n",
       "            }\n",
       "        \n",
       "        </style>\n",
       "\n",
       "        <table id=\"T_293f6c78_c7de_11e7_bf71_e4b3180db410\" None>\n",
       "        \n",
       "\n",
       "        <thead>\n",
       "            \n",
       "            <tr>\n",
       "                \n",
       "                \n",
       "                <th class=\"blank level0\" >\n",
       "                  \n",
       "                \n",
       "                \n",
       "                \n",
       "                <th class=\"col_heading level0 col0\" colspan=1>\n",
       "                  TV\n",
       "                \n",
       "                \n",
       "                \n",
       "                <th class=\"col_heading level0 col1\" colspan=1>\n",
       "                  radio\n",
       "                \n",
       "                \n",
       "                \n",
       "                <th class=\"col_heading level0 col2\" colspan=1>\n",
       "                  newspaper\n",
       "                \n",
       "                \n",
       "                \n",
       "                <th class=\"col_heading level0 col3\" colspan=1>\n",
       "                  sales\n",
       "                \n",
       "                \n",
       "            </tr>\n",
       "            \n",
       "        </thead>\n",
       "        <tbody>\n",
       "            \n",
       "            <tr>\n",
       "                \n",
       "                \n",
       "                <th id=\"T_293f6c78_c7de_11e7_bf71_e4b3180db410\"\n",
       "                 class=\"row_heading level0 row0\" rowspan=1>\n",
       "                    TV\n",
       "                \n",
       "                \n",
       "                \n",
       "                <td id=\"T_293f6c78_c7de_11e7_bf71_e4b3180db410row0_col0\"\n",
       "                 class=\"data row0 col0\" >\n",
       "                    1.0\n",
       "                \n",
       "                \n",
       "                \n",
       "                <td id=\"T_293f6c78_c7de_11e7_bf71_e4b3180db410row0_col1\"\n",
       "                 class=\"data row0 col1\" >\n",
       "                    0.055\n",
       "                \n",
       "                \n",
       "                \n",
       "                <td id=\"T_293f6c78_c7de_11e7_bf71_e4b3180db410row0_col2\"\n",
       "                 class=\"data row0 col2\" >\n",
       "                    0.057\n",
       "                \n",
       "                \n",
       "                \n",
       "                <td id=\"T_293f6c78_c7de_11e7_bf71_e4b3180db410row0_col3\"\n",
       "                 class=\"data row0 col3\" >\n",
       "                    0.78\n",
       "                \n",
       "                \n",
       "            </tr>\n",
       "            \n",
       "            <tr>\n",
       "                \n",
       "                \n",
       "                <th id=\"T_293f6c78_c7de_11e7_bf71_e4b3180db410\"\n",
       "                 class=\"row_heading level0 row1\" rowspan=1>\n",
       "                    radio\n",
       "                \n",
       "                \n",
       "                \n",
       "                <td id=\"T_293f6c78_c7de_11e7_bf71_e4b3180db410row1_col0\"\n",
       "                 class=\"data row1 col0\" >\n",
       "                    0.055\n",
       "                \n",
       "                \n",
       "                \n",
       "                <td id=\"T_293f6c78_c7de_11e7_bf71_e4b3180db410row1_col1\"\n",
       "                 class=\"data row1 col1\" >\n",
       "                    1.0\n",
       "                \n",
       "                \n",
       "                \n",
       "                <td id=\"T_293f6c78_c7de_11e7_bf71_e4b3180db410row1_col2\"\n",
       "                 class=\"data row1 col2\" >\n",
       "                    0.35\n",
       "                \n",
       "                \n",
       "                \n",
       "                <td id=\"T_293f6c78_c7de_11e7_bf71_e4b3180db410row1_col3\"\n",
       "                 class=\"data row1 col3\" >\n",
       "                    0.58\n",
       "                \n",
       "                \n",
       "            </tr>\n",
       "            \n",
       "            <tr>\n",
       "                \n",
       "                \n",
       "                <th id=\"T_293f6c78_c7de_11e7_bf71_e4b3180db410\"\n",
       "                 class=\"row_heading level0 row2\" rowspan=1>\n",
       "                    newspaper\n",
       "                \n",
       "                \n",
       "                \n",
       "                <td id=\"T_293f6c78_c7de_11e7_bf71_e4b3180db410row2_col0\"\n",
       "                 class=\"data row2 col0\" >\n",
       "                    0.057\n",
       "                \n",
       "                \n",
       "                \n",
       "                <td id=\"T_293f6c78_c7de_11e7_bf71_e4b3180db410row2_col1\"\n",
       "                 class=\"data row2 col1\" >\n",
       "                    0.35\n",
       "                \n",
       "                \n",
       "                \n",
       "                <td id=\"T_293f6c78_c7de_11e7_bf71_e4b3180db410row2_col2\"\n",
       "                 class=\"data row2 col2\" >\n",
       "                    1.0\n",
       "                \n",
       "                \n",
       "                \n",
       "                <td id=\"T_293f6c78_c7de_11e7_bf71_e4b3180db410row2_col3\"\n",
       "                 class=\"data row2 col3\" >\n",
       "                    0.23\n",
       "                \n",
       "                \n",
       "            </tr>\n",
       "            \n",
       "            <tr>\n",
       "                \n",
       "                \n",
       "                <th id=\"T_293f6c78_c7de_11e7_bf71_e4b3180db410\"\n",
       "                 class=\"row_heading level0 row3\" rowspan=1>\n",
       "                    sales\n",
       "                \n",
       "                \n",
       "                \n",
       "                <td id=\"T_293f6c78_c7de_11e7_bf71_e4b3180db410row3_col0\"\n",
       "                 class=\"data row3 col0\" >\n",
       "                    0.78\n",
       "                \n",
       "                \n",
       "                \n",
       "                <td id=\"T_293f6c78_c7de_11e7_bf71_e4b3180db410row3_col1\"\n",
       "                 class=\"data row3 col1\" >\n",
       "                    0.58\n",
       "                \n",
       "                \n",
       "                \n",
       "                <td id=\"T_293f6c78_c7de_11e7_bf71_e4b3180db410row3_col2\"\n",
       "                 class=\"data row3 col2\" >\n",
       "                    0.23\n",
       "                \n",
       "                \n",
       "                \n",
       "                <td id=\"T_293f6c78_c7de_11e7_bf71_e4b3180db410row3_col3\"\n",
       "                 class=\"data row3 col3\" >\n",
       "                    1.0\n",
       "                \n",
       "                \n",
       "            </tr>\n",
       "            \n",
       "        </tbody>\n",
       "        </table>\n",
       "        "
      ],
      "text/plain": [
       "<pandas.formats.style.Styler at 0x10512940>"
      ]
     },
     "execution_count": 17,
     "metadata": {},
     "output_type": "execute_result"
    }
   ],
   "source": [
    "data.corr(method='pearson').style.format(\"{:.2}\").background_gradient(cmap=plt.get_cmap('coolwarm'), axis=1)"
   ]
  },
  {
   "cell_type": "code",
   "execution_count": 20,
   "metadata": {
    "scrolled": true
   },
   "outputs": [
    {
     "data": {
      "text/plain": [
       "<matplotlib.axes._subplots.AxesSubplot at 0x14236cc0>"
      ]
     },
     "execution_count": 20,
     "metadata": {},
     "output_type": "execute_result"
    },
    {
     "data": {
      "image/png": "[encoded data removed]",
      "text/plain": [
       "<matplotlib.figure.Figure at 0x6d16da0>"
      ]
     },
     "metadata": {},
     "output_type": "display_data"
    }
   ],
   "source": [
    "# Compute the correlation matrix\n",
    "\n",
    "corr = data.corr(method='pearson')\n",
    "\n",
    "# Generate a mask for the upper triangle\n",
    "mask = np.zeros_like(corr, dtype=np.bool)\n",
    "mask[np.triu_indices_from(mask)] = True\n",
    "\n",
    "# Set up the matplotlib figure\n",
    "f, ax = plt.subplots(figsize=(11, 9))\n",
    "\n",
    "# Generate a custom diverging colormap\n",
    "cmap = sns.diverging_palette(220, 10, as_cmap=True)\n",
    "\n",
    "# Draw the heatmap with the mask and correct aspect ratio\n",
    "sns.heatmap(corr, mask=mask, cmap=cmap, vmax=.3, center=0,\n",
    "            square=True, linewidths=.5, cbar_kws={\"shrink\": .5})"
   ]
  },
  {
   "cell_type": "markdown",
   "metadata": {},
   "source": [
    "# Conclusion: "
   ]
  },
  {
   "cell_type": "markdown",
   "metadata": {},
   "source": [
    "Strong and positive correlation between TV and sales (0.78) and moderate and positive correlation between radio and sales (0.58)."
   ]
  },
  {
   "cell_type": "markdown",
   "metadata": {},
   "source": [
    "# Note:"
   ]
  },
  {
   "cell_type": "markdown",
   "metadata": {},
   "source": [
    "- HOW TO INTERPRET A CORRELATION COEFFICIENT R?\n",
    "    \n",
    "The value of r is always between +1 and –1. To interpret its value, see which of the following values your correlation r is closest to:\n",
    "        \n",
    "Exactly –1. A perfect downhill (negative) linear relationship\n",
    "\n",
    "–0.70. A strong downhill (negative) linear relationship\n",
    "\n",
    "–0.50. A moderate downhill (negative) relationship\n",
    "\n",
    "–0.30. A weak downhill (negative) linear relationship\n",
    "\n",
    "0. No linear relationship\n",
    "\n",
    "+0.30. A weak uphill (positive) linear relationship\n",
    "\n",
    "+0.50. A moderate uphill (positive) relationship\n",
    "\n",
    "+0.70. A strong uphill (positive) linear relationship\n",
    "\n",
    "Exactly +1. A perfect uphill (positive) linear relationship"
   ]
  }
 ],
 "metadata": {
  "kernelspec": {
   "display_name": "Python 3",
   "language": "python",
   "name": "python3"
  },
  "language_info": {
   "codemirror_mode": {
    "name": "ipython",
    "version": 3
   },
   "file_extension": ".py",
   "mimetype": "text/x-python",
   "name": "python",
   "nbconvert_exporter": "python",
   "pygments_lexer": "ipython3",
   "version": "3.6.0"
  }
 },
 "nbformat": 4,
 "nbformat_minor": 2
}
