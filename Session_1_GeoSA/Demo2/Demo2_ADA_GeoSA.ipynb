{
 "cells": [
  {
   "cell_type": "markdown",
   "metadata": {},
   "source": [
    "# Subject: Advanced Data Analysis\n",
    "\n",
    "# Module: Geospatial Analysis\n",
    "\n",
    "## Session 1 - GIS Mapping Data: Capture and Conversion\n",
    "\n",
    "### Demo 2 -  Convert JSON to OGC shapefiles"
   ]
  },
  {
   "cell_type": "markdown",
   "metadata": {},
   "source": [
    "Sample data provided by the European project \"Social Car\".\n",
    "\n",
    "http://socialcar-project.eu/"
   ]
  },
  {
   "cell_type": "code",
   "execution_count": 57,
   "metadata": {},
   "outputs": [],
   "source": [
    "import pandas as pd"
   ]
  },
  {
   "cell_type": "code",
   "execution_count": 58,
   "metadata": {},
   "outputs": [],
   "source": [
    "data=pd.read_json(\"Social_Car_data_Ride.json\", lines=False)"
   ]
  },
  {
   "cell_type": "code",
   "execution_count": 59,
   "metadata": {
    "scrolled": true
   },
   "outputs": [
    {
     "data": {
      "text/html": [
       "<div>\n",
       "<table border=\"1\" class=\"dataframe\">\n",
       "  <thead>\n",
       "    <tr style=\"text-align: right;\">\n",
       "      <th></th>\n",
       "      <th>rides</th>\n",
       "    </tr>\n",
       "  </thead>\n",
       "  <tbody>\n",
       "    <tr>\n",
       "      <th>0</th>\n",
       "      <td>{'name': 'Liceo', 'driver_id': '59f0cddae04bd5...</td>\n",
       "    </tr>\n",
       "    <tr>\n",
       "      <th>1</th>\n",
       "      <td>{'start_point': {'lat': 46.010336, 'lon': 8.95...</td>\n",
       "    </tr>\n",
       "    <tr>\n",
       "      <th>2</th>\n",
       "      <td>{'start_point': {'lat': 46.0050102, 'lon': 8.9...</td>\n",
       "    </tr>\n",
       "    <tr>\n",
       "      <th>3</th>\n",
       "      <td>{'start_point': {'lat': 46.0143536, 'lon': 8.9...</td>\n",
       "    </tr>\n",
       "    <tr>\n",
       "      <th>4</th>\n",
       "      <td>{'start_point': {'lat': 45.863171, 'lon': 8.93...</td>\n",
       "    </tr>\n",
       "  </tbody>\n",
       "</table>\n",
       "</div>"
      ],
      "text/plain": [
       "                                               rides\n",
       "0  {'name': 'Liceo', 'driver_id': '59f0cddae04bd5...\n",
       "1  {'start_point': {'lat': 46.010336, 'lon': 8.95...\n",
       "2  {'start_point': {'lat': 46.0050102, 'lon': 8.9...\n",
       "3  {'start_point': {'lat': 46.0143536, 'lon': 8.9...\n",
       "4  {'start_point': {'lat': 45.863171, 'lon': 8.93..."
      ]
     },
     "execution_count": 59,
     "metadata": {},
     "output_type": "execute_result"
    }
   ],
   "source": [
    "data.head()"
   ]
  },
  {
   "cell_type": "code",
   "execution_count": 60,
   "metadata": {
    "scrolled": true
   },
   "outputs": [
    {
     "data": {
      "text/html": [
       "<div>\n",
       "<table border=\"1\" class=\"dataframe\">\n",
       "  <thead>\n",
       "    <tr style=\"text-align: right;\">\n",
       "      <th></th>\n",
       "      <th>name</th>\n",
       "      <th>driver_id</th>\n",
       "      <th>_id</th>\n",
       "      <th>car_id</th>\n",
       "      <th>start_point</th>\n",
       "      <th>end_point</th>\n",
       "      <th>polyline</th>\n",
       "      <th>date</th>\n",
       "    </tr>\n",
       "  </thead>\n",
       "  <tbody>\n",
       "    <tr>\n",
       "      <th>0</th>\n",
       "      <td>Liceo</td>\n",
       "      <td>59f0cddae04bd539a6121a93</td>\n",
       "      <td>5a09e7c1e04bd5339f1c5c3a</td>\n",
       "      <td>5a01a113e04bd517f914a90a</td>\n",
       "      <td>{'lat': 45.9552633, 'lon': 8.9351292}</td>\n",
       "      <td>{'lat': 46.0057334, 'lon': 8.9587621}</td>\n",
       "      <td>}qnwGkdpu@C{Ag@C]FoA~@c@xACxB@`@CLGDo@GEYY]]Ko...</td>\n",
       "      <td>1510675200</td>\n",
       "    </tr>\n",
       "    <tr>\n",
       "      <th>1</th>\n",
       "      <td>Scooter</td>\n",
       "      <td>5a009ea0e04bd517f914a1b0</td>\n",
       "      <td>5a0cba6ee04bd5671ce05470</td>\n",
       "      <td>5a009f77e04bd518c5b9d262</td>\n",
       "      <td>{'lat': 46.010336, 'lon': 8.9580537}</td>\n",
       "      <td>{'lat': 46.0293813, 'lon': 8.9613995}</td>\n",
       "      <td>qkywGyrtu@?ETuCRqCsBYiBWeBQaM_D_DcAgA[oFgBoDeA...</td>\n",
       "      <td>1510817400</td>\n",
       "    </tr>\n",
       "    <tr>\n",
       "      <th>2</th>\n",
       "      <td>Lavena</td>\n",
       "      <td>58e4e95be04bd55052edecf2</td>\n",
       "      <td>59edb431e04bd565aaf52136</td>\n",
       "      <td>58e4ea66e04bd55031737bfb</td>\n",
       "      <td>{'lat': 46.0050102, 'lon': 8.9520281}</td>\n",
       "      <td>{'lat': 45.95973425, 'lon': 8.86164681646655}</td>\n",
       "      <td>gixwGwjsu@b@OVQ|@mANMbAe@BGUwBqAh@uAj@qAd@E?KA...</td>\n",
       "      <td>1508774400</td>\n",
       "    </tr>\n",
       "    <tr>\n",
       "      <th>3</th>\n",
       "      <td>Scooter</td>\n",
       "      <td>5a009ea0e04bd517f914a1b0</td>\n",
       "      <td>5a0df85ae04bd51616cfd741</td>\n",
       "      <td>5a009f77e04bd518c5b9d262</td>\n",
       "      <td>{'lat': 46.0143536, 'lon': 8.9572713}</td>\n",
       "      <td>{'lat': 46.0293813, 'lon': 8.9613995}</td>\n",
       "      <td>udzwG{mtu@?HCXMvCmBSyC_@eCk@eDg@WrCy@e@uBcAiEq...</td>\n",
       "      <td>1510903200</td>\n",
       "    </tr>\n",
       "    <tr>\n",
       "      <th>4</th>\n",
       "      <td>work</td>\n",
       "      <td>59f9ae24e04bd5148a92a259</td>\n",
       "      <td>5a0dfd01e04bd50f96094400</td>\n",
       "      <td>5a0ad030e04bd5243ab6629c</td>\n",
       "      <td>{'lat': 45.863171, 'lon': 8.930506}</td>\n",
       "      <td>{'lat': 46.023094, 'lon': 8.917026}</td>\n",
       "      <td>ws|vGwfou@aA{@MMe@`AEFGBgAiA]q@EMEYO{AI}DOoC?c...</td>\n",
       "      <td>1510899646</td>\n",
       "    </tr>\n",
       "  </tbody>\n",
       "</table>\n",
       "</div>"
      ],
      "text/plain": [
       "      name                 driver_id                       _id  \\\n",
       "0    Liceo  59f0cddae04bd539a6121a93  5a09e7c1e04bd5339f1c5c3a   \n",
       "1  Scooter  5a009ea0e04bd517f914a1b0  5a0cba6ee04bd5671ce05470   \n",
       "2   Lavena  58e4e95be04bd55052edecf2  59edb431e04bd565aaf52136   \n",
       "3  Scooter  5a009ea0e04bd517f914a1b0  5a0df85ae04bd51616cfd741   \n",
       "4     work  59f9ae24e04bd5148a92a259  5a0dfd01e04bd50f96094400   \n",
       "\n",
       "                     car_id                            start_point  \\\n",
       "0  5a01a113e04bd517f914a90a  {'lat': 45.9552633, 'lon': 8.9351292}   \n",
       "1  5a009f77e04bd518c5b9d262   {'lat': 46.010336, 'lon': 8.9580537}   \n",
       "2  58e4ea66e04bd55031737bfb  {'lat': 46.0050102, 'lon': 8.9520281}   \n",
       "3  5a009f77e04bd518c5b9d262  {'lat': 46.0143536, 'lon': 8.9572713}   \n",
       "4  5a0ad030e04bd5243ab6629c    {'lat': 45.863171, 'lon': 8.930506}   \n",
       "\n",
       "                                       end_point  \\\n",
       "0          {'lat': 46.0057334, 'lon': 8.9587621}   \n",
       "1          {'lat': 46.0293813, 'lon': 8.9613995}   \n",
       "2  {'lat': 45.95973425, 'lon': 8.86164681646655}   \n",
       "3          {'lat': 46.0293813, 'lon': 8.9613995}   \n",
       "4            {'lat': 46.023094, 'lon': 8.917026}   \n",
       "\n",
       "                                            polyline        date  \n",
       "0  }qnwGkdpu@C{Ag@C]FoA~@c@xACxB@`@CLGDo@GEYY]]Ko...  1510675200  \n",
       "1  qkywGyrtu@?ETuCRqCsBYiBWeBQaM_D_DcAgA[oFgBoDeA...  1510817400  \n",
       "2  gixwGwjsu@b@OVQ|@mANMbAe@BGUwBqAh@uAj@qAd@E?KA...  1508774400  \n",
       "3  udzwG{mtu@?HCXMvCmBSyC_@eCk@eDg@WrCy@e@uBcAiEq...  1510903200  \n",
       "4  ws|vGwfou@aA{@MMe@`AEFGBgAiA]q@EMEYO{AI}DOoC?c...  1510899646  "
      ]
     },
     "execution_count": 60,
     "metadata": {},
     "output_type": "execute_result"
    }
   ],
   "source": [
    "data2 = pd.DataFrame(data['rides'].values.tolist(), columns=['name', 'driver_id', '_id', 'car_id', 'start_point', 'end_point', 'polyline', 'date'])\n",
    "data2.head()"
   ]
  },
  {
   "cell_type": "code",
   "execution_count": 61,
   "metadata": {},
   "outputs": [],
   "source": [
    "data2['timestamp'] = pd.to_datetime(data2['date'], unit='s')"
   ]
  },
  {
   "cell_type": "code",
   "execution_count": 62,
   "metadata": {},
   "outputs": [],
   "source": [
    "data2['timestamp'] = data2['timestamp'].dt.strftime('%Y-%m-%d')"
   ]
  },
  {
   "cell_type": "code",
   "execution_count": 63,
   "metadata": {},
   "outputs": [
    {
     "data": {
      "text/html": [
       "<div>\n",
       "<table border=\"1\" class=\"dataframe\">\n",
       "  <thead>\n",
       "    <tr style=\"text-align: right;\">\n",
       "      <th></th>\n",
       "      <th>name</th>\n",
       "      <th>driver_id</th>\n",
       "      <th>_id</th>\n",
       "      <th>car_id</th>\n",
       "      <th>start_point</th>\n",
       "      <th>end_point</th>\n",
       "      <th>polyline</th>\n",
       "      <th>date</th>\n",
       "      <th>timestamp</th>\n",
       "    </tr>\n",
       "  </thead>\n",
       "  <tbody>\n",
       "    <tr>\n",
       "      <th>0</th>\n",
       "      <td>Liceo</td>\n",
       "      <td>59f0cddae04bd539a6121a93</td>\n",
       "      <td>5a09e7c1e04bd5339f1c5c3a</td>\n",
       "      <td>5a01a113e04bd517f914a90a</td>\n",
       "      <td>{'lat': 45.9552633, 'lon': 8.9351292}</td>\n",
       "      <td>{'lat': 46.0057334, 'lon': 8.9587621}</td>\n",
       "      <td>}qnwGkdpu@C{Ag@C]FoA~@c@xACxB@`@CLGDo@GEYY]]Ko...</td>\n",
       "      <td>1510675200</td>\n",
       "      <td>2017-11-14</td>\n",
       "    </tr>\n",
       "    <tr>\n",
       "      <th>1</th>\n",
       "      <td>Scooter</td>\n",
       "      <td>5a009ea0e04bd517f914a1b0</td>\n",
       "      <td>5a0cba6ee04bd5671ce05470</td>\n",
       "      <td>5a009f77e04bd518c5b9d262</td>\n",
       "      <td>{'lat': 46.010336, 'lon': 8.9580537}</td>\n",
       "      <td>{'lat': 46.0293813, 'lon': 8.9613995}</td>\n",
       "      <td>qkywGyrtu@?ETuCRqCsBYiBWeBQaM_D_DcAgA[oFgBoDeA...</td>\n",
       "      <td>1510817400</td>\n",
       "      <td>2017-11-16</td>\n",
       "    </tr>\n",
       "    <tr>\n",
       "      <th>2</th>\n",
       "      <td>Lavena</td>\n",
       "      <td>58e4e95be04bd55052edecf2</td>\n",
       "      <td>59edb431e04bd565aaf52136</td>\n",
       "      <td>58e4ea66e04bd55031737bfb</td>\n",
       "      <td>{'lat': 46.0050102, 'lon': 8.9520281}</td>\n",
       "      <td>{'lat': 45.95973425, 'lon': 8.86164681646655}</td>\n",
       "      <td>gixwGwjsu@b@OVQ|@mANMbAe@BGUwBqAh@uAj@qAd@E?KA...</td>\n",
       "      <td>1508774400</td>\n",
       "      <td>2017-10-23</td>\n",
       "    </tr>\n",
       "    <tr>\n",
       "      <th>3</th>\n",
       "      <td>Scooter</td>\n",
       "      <td>5a009ea0e04bd517f914a1b0</td>\n",
       "      <td>5a0df85ae04bd51616cfd741</td>\n",
       "      <td>5a009f77e04bd518c5b9d262</td>\n",
       "      <td>{'lat': 46.0143536, 'lon': 8.9572713}</td>\n",
       "      <td>{'lat': 46.0293813, 'lon': 8.9613995}</td>\n",
       "      <td>udzwG{mtu@?HCXMvCmBSyC_@eCk@eDg@WrCy@e@uBcAiEq...</td>\n",
       "      <td>1510903200</td>\n",
       "      <td>2017-11-17</td>\n",
       "    </tr>\n",
       "    <tr>\n",
       "      <th>4</th>\n",
       "      <td>work</td>\n",
       "      <td>59f9ae24e04bd5148a92a259</td>\n",
       "      <td>5a0dfd01e04bd50f96094400</td>\n",
       "      <td>5a0ad030e04bd5243ab6629c</td>\n",
       "      <td>{'lat': 45.863171, 'lon': 8.930506}</td>\n",
       "      <td>{'lat': 46.023094, 'lon': 8.917026}</td>\n",
       "      <td>ws|vGwfou@aA{@MMe@`AEFGBgAiA]q@EMEYO{AI}DOoC?c...</td>\n",
       "      <td>1510899646</td>\n",
       "      <td>2017-11-17</td>\n",
       "    </tr>\n",
       "  </tbody>\n",
       "</table>\n",
       "</div>"
      ],
      "text/plain": [
       "      name                 driver_id                       _id  \\\n",
       "0    Liceo  59f0cddae04bd539a6121a93  5a09e7c1e04bd5339f1c5c3a   \n",
       "1  Scooter  5a009ea0e04bd517f914a1b0  5a0cba6ee04bd5671ce05470   \n",
       "2   Lavena  58e4e95be04bd55052edecf2  59edb431e04bd565aaf52136   \n",
       "3  Scooter  5a009ea0e04bd517f914a1b0  5a0df85ae04bd51616cfd741   \n",
       "4     work  59f9ae24e04bd5148a92a259  5a0dfd01e04bd50f96094400   \n",
       "\n",
       "                     car_id                            start_point  \\\n",
       "0  5a01a113e04bd517f914a90a  {'lat': 45.9552633, 'lon': 8.9351292}   \n",
       "1  5a009f77e04bd518c5b9d262   {'lat': 46.010336, 'lon': 8.9580537}   \n",
       "2  58e4ea66e04bd55031737bfb  {'lat': 46.0050102, 'lon': 8.9520281}   \n",
       "3  5a009f77e04bd518c5b9d262  {'lat': 46.0143536, 'lon': 8.9572713}   \n",
       "4  5a0ad030e04bd5243ab6629c    {'lat': 45.863171, 'lon': 8.930506}   \n",
       "\n",
       "                                       end_point  \\\n",
       "0          {'lat': 46.0057334, 'lon': 8.9587621}   \n",
       "1          {'lat': 46.0293813, 'lon': 8.9613995}   \n",
       "2  {'lat': 45.95973425, 'lon': 8.86164681646655}   \n",
       "3          {'lat': 46.0293813, 'lon': 8.9613995}   \n",
       "4            {'lat': 46.023094, 'lon': 8.917026}   \n",
       "\n",
       "                                            polyline        date   timestamp  \n",
       "0  }qnwGkdpu@C{Ag@C]FoA~@c@xACxB@`@CLGDo@GEYY]]Ko...  1510675200  2017-11-14  \n",
       "1  qkywGyrtu@?ETuCRqCsBYiBWeBQaM_D_DcAgA[oFgBoDeA...  1510817400  2017-11-16  \n",
       "2  gixwGwjsu@b@OVQ|@mANMbAe@BGUwBqAh@uAj@qAd@E?KA...  1508774400  2017-10-23  \n",
       "3  udzwG{mtu@?HCXMvCmBSyC_@eCk@eDg@WrCy@e@uBcAiEq...  1510903200  2017-11-17  \n",
       "4  ws|vGwfou@aA{@MMe@`AEFGBgAiA]q@EMEYO{AI}DOoC?c...  1510899646  2017-11-17  "
      ]
     },
     "execution_count": 63,
     "metadata": {},
     "output_type": "execute_result"
    }
   ],
   "source": [
    "data2.head()"
   ]
  },
  {
   "cell_type": "code",
   "execution_count": 64,
   "metadata": {},
   "outputs": [
    {
     "data": {
      "text/plain": [
       "name           object\n",
       "driver_id      object\n",
       "_id            object\n",
       "car_id         object\n",
       "start_point    object\n",
       "end_point      object\n",
       "polyline       object\n",
       "date            int64\n",
       "timestamp      object\n",
       "dtype: object"
      ]
     },
     "execution_count": 64,
     "metadata": {},
     "output_type": "execute_result"
    }
   ],
   "source": [
    "data2.dtypes"
   ]
  },
  {
   "cell_type": "code",
   "execution_count": 65,
   "metadata": {},
   "outputs": [],
   "source": [
    "def getLat(start_point):\n",
    "    return start_point[\"lat\"]\n",
    "\n",
    "def getLon(start_point):\n",
    "    return start_point[\"lon\"]\n",
    "    \n",
    "data2[\"lat_o\"] = data2[\"start_point\"].apply(getLat)\n",
    "data2[\"lon_o\"] = data2[\"start_point\"].apply(getLon)\n",
    "\n",
    "def getLat(end_point):\n",
    "    return end_point[\"lat\"]\n",
    "\n",
    "def getLon(end_point):\n",
    "    return end_point[\"lon\"]\n",
    "    \n",
    "data2[\"lat_d\"] = data2[\"end_point\"].apply(getLat)\n",
    "data2[\"lon_d\"] = data2[\"end_point\"].apply(getLon)"
   ]
  },
  {
   "cell_type": "code",
   "execution_count": 66,
   "metadata": {
    "scrolled": true
   },
   "outputs": [
    {
     "data": {
      "text/html": [
       "<div>\n",
       "<table border=\"1\" class=\"dataframe\">\n",
       "  <thead>\n",
       "    <tr style=\"text-align: right;\">\n",
       "      <th></th>\n",
       "      <th>name</th>\n",
       "      <th>driver_id</th>\n",
       "      <th>_id</th>\n",
       "      <th>car_id</th>\n",
       "      <th>start_point</th>\n",
       "      <th>end_point</th>\n",
       "      <th>polyline</th>\n",
       "      <th>date</th>\n",
       "      <th>timestamp</th>\n",
       "      <th>lat_o</th>\n",
       "      <th>lon_o</th>\n",
       "      <th>lat_d</th>\n",
       "      <th>lon_d</th>\n",
       "    </tr>\n",
       "  </thead>\n",
       "  <tbody>\n",
       "    <tr>\n",
       "      <th>0</th>\n",
       "      <td>Liceo</td>\n",
       "      <td>59f0cddae04bd539a6121a93</td>\n",
       "      <td>5a09e7c1e04bd5339f1c5c3a</td>\n",
       "      <td>5a01a113e04bd517f914a90a</td>\n",
       "      <td>{'lat': 45.9552633, 'lon': 8.9351292}</td>\n",
       "      <td>{'lat': 46.0057334, 'lon': 8.9587621}</td>\n",
       "      <td>}qnwGkdpu@C{Ag@C]FoA~@c@xACxB@`@CLGDo@GEYY]]Ko...</td>\n",
       "      <td>1510675200</td>\n",
       "      <td>2017-11-14</td>\n",
       "      <td>45.955263</td>\n",
       "      <td>8.935129</td>\n",
       "      <td>46.005733</td>\n",
       "      <td>8.958762</td>\n",
       "    </tr>\n",
       "    <tr>\n",
       "      <th>1</th>\n",
       "      <td>Scooter</td>\n",
       "      <td>5a009ea0e04bd517f914a1b0</td>\n",
       "      <td>5a0cba6ee04bd5671ce05470</td>\n",
       "      <td>5a009f77e04bd518c5b9d262</td>\n",
       "      <td>{'lat': 46.010336, 'lon': 8.9580537}</td>\n",
       "      <td>{'lat': 46.0293813, 'lon': 8.9613995}</td>\n",
       "      <td>qkywGyrtu@?ETuCRqCsBYiBWeBQaM_D_DcAgA[oFgBoDeA...</td>\n",
       "      <td>1510817400</td>\n",
       "      <td>2017-11-16</td>\n",
       "      <td>46.010336</td>\n",
       "      <td>8.958054</td>\n",
       "      <td>46.029381</td>\n",
       "      <td>8.961400</td>\n",
       "    </tr>\n",
       "    <tr>\n",
       "      <th>2</th>\n",
       "      <td>Lavena</td>\n",
       "      <td>58e4e95be04bd55052edecf2</td>\n",
       "      <td>59edb431e04bd565aaf52136</td>\n",
       "      <td>58e4ea66e04bd55031737bfb</td>\n",
       "      <td>{'lat': 46.0050102, 'lon': 8.9520281}</td>\n",
       "      <td>{'lat': 45.95973425, 'lon': 8.86164681646655}</td>\n",
       "      <td>gixwGwjsu@b@OVQ|@mANMbAe@BGUwBqAh@uAj@qAd@E?KA...</td>\n",
       "      <td>1508774400</td>\n",
       "      <td>2017-10-23</td>\n",
       "      <td>46.005010</td>\n",
       "      <td>8.952028</td>\n",
       "      <td>45.959734</td>\n",
       "      <td>8.861647</td>\n",
       "    </tr>\n",
       "    <tr>\n",
       "      <th>3</th>\n",
       "      <td>Scooter</td>\n",
       "      <td>5a009ea0e04bd517f914a1b0</td>\n",
       "      <td>5a0df85ae04bd51616cfd741</td>\n",
       "      <td>5a009f77e04bd518c5b9d262</td>\n",
       "      <td>{'lat': 46.0143536, 'lon': 8.9572713}</td>\n",
       "      <td>{'lat': 46.0293813, 'lon': 8.9613995}</td>\n",
       "      <td>udzwG{mtu@?HCXMvCmBSyC_@eCk@eDg@WrCy@e@uBcAiEq...</td>\n",
       "      <td>1510903200</td>\n",
       "      <td>2017-11-17</td>\n",
       "      <td>46.014354</td>\n",
       "      <td>8.957271</td>\n",
       "      <td>46.029381</td>\n",
       "      <td>8.961400</td>\n",
       "    </tr>\n",
       "    <tr>\n",
       "      <th>4</th>\n",
       "      <td>work</td>\n",
       "      <td>59f9ae24e04bd5148a92a259</td>\n",
       "      <td>5a0dfd01e04bd50f96094400</td>\n",
       "      <td>5a0ad030e04bd5243ab6629c</td>\n",
       "      <td>{'lat': 45.863171, 'lon': 8.930506}</td>\n",
       "      <td>{'lat': 46.023094, 'lon': 8.917026}</td>\n",
       "      <td>ws|vGwfou@aA{@MMe@`AEFGBgAiA]q@EMEYO{AI}DOoC?c...</td>\n",
       "      <td>1510899646</td>\n",
       "      <td>2017-11-17</td>\n",
       "      <td>45.863171</td>\n",
       "      <td>8.930506</td>\n",
       "      <td>46.023094</td>\n",
       "      <td>8.917026</td>\n",
       "    </tr>\n",
       "  </tbody>\n",
       "</table>\n",
       "</div>"
      ],
      "text/plain": [
       "      name                 driver_id                       _id  \\\n",
       "0    Liceo  59f0cddae04bd539a6121a93  5a09e7c1e04bd5339f1c5c3a   \n",
       "1  Scooter  5a009ea0e04bd517f914a1b0  5a0cba6ee04bd5671ce05470   \n",
       "2   Lavena  58e4e95be04bd55052edecf2  59edb431e04bd565aaf52136   \n",
       "3  Scooter  5a009ea0e04bd517f914a1b0  5a0df85ae04bd51616cfd741   \n",
       "4     work  59f9ae24e04bd5148a92a259  5a0dfd01e04bd50f96094400   \n",
       "\n",
       "                     car_id                            start_point  \\\n",
       "0  5a01a113e04bd517f914a90a  {'lat': 45.9552633, 'lon': 8.9351292}   \n",
       "1  5a009f77e04bd518c5b9d262   {'lat': 46.010336, 'lon': 8.9580537}   \n",
       "2  58e4ea66e04bd55031737bfb  {'lat': 46.0050102, 'lon': 8.9520281}   \n",
       "3  5a009f77e04bd518c5b9d262  {'lat': 46.0143536, 'lon': 8.9572713}   \n",
       "4  5a0ad030e04bd5243ab6629c    {'lat': 45.863171, 'lon': 8.930506}   \n",
       "\n",
       "                                       end_point  \\\n",
       "0          {'lat': 46.0057334, 'lon': 8.9587621}   \n",
       "1          {'lat': 46.0293813, 'lon': 8.9613995}   \n",
       "2  {'lat': 45.95973425, 'lon': 8.86164681646655}   \n",
       "3          {'lat': 46.0293813, 'lon': 8.9613995}   \n",
       "4            {'lat': 46.023094, 'lon': 8.917026}   \n",
       "\n",
       "                                            polyline        date   timestamp  \\\n",
       "0  }qnwGkdpu@C{Ag@C]FoA~@c@xACxB@`@CLGDo@GEYY]]Ko...  1510675200  2017-11-14   \n",
       "1  qkywGyrtu@?ETuCRqCsBYiBWeBQaM_D_DcAgA[oFgBoDeA...  1510817400  2017-11-16   \n",
       "2  gixwGwjsu@b@OVQ|@mANMbAe@BGUwBqAh@uAj@qAd@E?KA...  1508774400  2017-10-23   \n",
       "3  udzwG{mtu@?HCXMvCmBSyC_@eCk@eDg@WrCy@e@uBcAiEq...  1510903200  2017-11-17   \n",
       "4  ws|vGwfou@aA{@MMe@`AEFGBgAiA]q@EMEYO{AI}DOoC?c...  1510899646  2017-11-17   \n",
       "\n",
       "       lat_o     lon_o      lat_d     lon_d  \n",
       "0  45.955263  8.935129  46.005733  8.958762  \n",
       "1  46.010336  8.958054  46.029381  8.961400  \n",
       "2  46.005010  8.952028  45.959734  8.861647  \n",
       "3  46.014354  8.957271  46.029381  8.961400  \n",
       "4  45.863171  8.930506  46.023094  8.917026  "
      ]
     },
     "execution_count": 66,
     "metadata": {},
     "output_type": "execute_result"
    }
   ],
   "source": [
    "data2.head()"
   ]
  },
  {
   "cell_type": "code",
   "execution_count": 67,
   "metadata": {},
   "outputs": [
    {
     "name": "stdout",
     "output_type": "stream",
     "text": [
      "We have 245 rows\n"
     ]
    },
    {
     "data": {
      "text/plain": [
       "\"['name', 'driver_id', '_id', 'car_id', 'start_point', 'end_point', 'polyline', 'date', 'timestamp', 'lat_o', 'lon_o', 'lat_d', 'lon_d']\""
      ]
     },
     "execution_count": 67,
     "metadata": {},
     "output_type": "execute_result"
    }
   ],
   "source": [
    "df = pd.DataFrame(data2)\n",
    "\n",
    "print('We have {} rows'.format(len(df)))\n",
    "str(df.columns.tolist())"
   ]
  },
  {
   "cell_type": "code",
   "execution_count": 68,
   "metadata": {
    "scrolled": false
   },
   "outputs": [
    {
     "data": {
      "text/html": [
       "<div>\n",
       "<table border=\"1\" class=\"dataframe\">\n",
       "  <thead>\n",
       "    <tr style=\"text-align: right;\">\n",
       "      <th></th>\n",
       "      <th>name</th>\n",
       "      <th>driver_id</th>\n",
       "      <th>_id</th>\n",
       "      <th>car_id</th>\n",
       "      <th>start_point</th>\n",
       "      <th>end_point</th>\n",
       "      <th>polyline</th>\n",
       "      <th>date</th>\n",
       "      <th>timestamp</th>\n",
       "      <th>lat_o</th>\n",
       "      <th>lon_o</th>\n",
       "      <th>lat_d</th>\n",
       "      <th>lon_d</th>\n",
       "    </tr>\n",
       "  </thead>\n",
       "  <tbody>\n",
       "    <tr>\n",
       "      <th>0</th>\n",
       "      <td>Liceo</td>\n",
       "      <td>59f0cddae04bd539a6121a93</td>\n",
       "      <td>5a09e7c1e04bd5339f1c5c3a</td>\n",
       "      <td>5a01a113e04bd517f914a90a</td>\n",
       "      <td>{'lat': 45.9552633, 'lon': 8.9351292}</td>\n",
       "      <td>{'lat': 46.0057334, 'lon': 8.9587621}</td>\n",
       "      <td>}qnwGkdpu@C{Ag@C]FoA~@c@xACxB@`@CLGDo@GEYY]]Ko...</td>\n",
       "      <td>1510675200</td>\n",
       "      <td>2017-11-14</td>\n",
       "      <td>45.955263</td>\n",
       "      <td>8.935129</td>\n",
       "      <td>46.005733</td>\n",
       "      <td>8.958762</td>\n",
       "    </tr>\n",
       "    <tr>\n",
       "      <th>1</th>\n",
       "      <td>Scooter</td>\n",
       "      <td>5a009ea0e04bd517f914a1b0</td>\n",
       "      <td>5a0cba6ee04bd5671ce05470</td>\n",
       "      <td>5a009f77e04bd518c5b9d262</td>\n",
       "      <td>{'lat': 46.010336, 'lon': 8.9580537}</td>\n",
       "      <td>{'lat': 46.0293813, 'lon': 8.9613995}</td>\n",
       "      <td>qkywGyrtu@?ETuCRqCsBYiBWeBQaM_D_DcAgA[oFgBoDeA...</td>\n",
       "      <td>1510817400</td>\n",
       "      <td>2017-11-16</td>\n",
       "      <td>46.010336</td>\n",
       "      <td>8.958054</td>\n",
       "      <td>46.029381</td>\n",
       "      <td>8.961400</td>\n",
       "    </tr>\n",
       "    <tr>\n",
       "      <th>2</th>\n",
       "      <td>Lavena</td>\n",
       "      <td>58e4e95be04bd55052edecf2</td>\n",
       "      <td>59edb431e04bd565aaf52136</td>\n",
       "      <td>58e4ea66e04bd55031737bfb</td>\n",
       "      <td>{'lat': 46.0050102, 'lon': 8.9520281}</td>\n",
       "      <td>{'lat': 45.95973425, 'lon': 8.86164681646655}</td>\n",
       "      <td>gixwGwjsu@b@OVQ|@mANMbAe@BGUwBqAh@uAj@qAd@E?KA...</td>\n",
       "      <td>1508774400</td>\n",
       "      <td>2017-10-23</td>\n",
       "      <td>46.005010</td>\n",
       "      <td>8.952028</td>\n",
       "      <td>45.959734</td>\n",
       "      <td>8.861647</td>\n",
       "    </tr>\n",
       "    <tr>\n",
       "      <th>3</th>\n",
       "      <td>Scooter</td>\n",
       "      <td>5a009ea0e04bd517f914a1b0</td>\n",
       "      <td>5a0df85ae04bd51616cfd741</td>\n",
       "      <td>5a009f77e04bd518c5b9d262</td>\n",
       "      <td>{'lat': 46.0143536, 'lon': 8.9572713}</td>\n",
       "      <td>{'lat': 46.0293813, 'lon': 8.9613995}</td>\n",
       "      <td>udzwG{mtu@?HCXMvCmBSyC_@eCk@eDg@WrCy@e@uBcAiEq...</td>\n",
       "      <td>1510903200</td>\n",
       "      <td>2017-11-17</td>\n",
       "      <td>46.014354</td>\n",
       "      <td>8.957271</td>\n",
       "      <td>46.029381</td>\n",
       "      <td>8.961400</td>\n",
       "    </tr>\n",
       "    <tr>\n",
       "      <th>4</th>\n",
       "      <td>work</td>\n",
       "      <td>59f9ae24e04bd5148a92a259</td>\n",
       "      <td>5a0dfd01e04bd50f96094400</td>\n",
       "      <td>5a0ad030e04bd5243ab6629c</td>\n",
       "      <td>{'lat': 45.863171, 'lon': 8.930506}</td>\n",
       "      <td>{'lat': 46.023094, 'lon': 8.917026}</td>\n",
       "      <td>ws|vGwfou@aA{@MMe@`AEFGBgAiA]q@EMEYO{AI}DOoC?c...</td>\n",
       "      <td>1510899646</td>\n",
       "      <td>2017-11-17</td>\n",
       "      <td>45.863171</td>\n",
       "      <td>8.930506</td>\n",
       "      <td>46.023094</td>\n",
       "      <td>8.917026</td>\n",
       "    </tr>\n",
       "  </tbody>\n",
       "</table>\n",
       "</div>"
      ],
      "text/plain": [
       "      name                 driver_id                       _id  \\\n",
       "0    Liceo  59f0cddae04bd539a6121a93  5a09e7c1e04bd5339f1c5c3a   \n",
       "1  Scooter  5a009ea0e04bd517f914a1b0  5a0cba6ee04bd5671ce05470   \n",
       "2   Lavena  58e4e95be04bd55052edecf2  59edb431e04bd565aaf52136   \n",
       "3  Scooter  5a009ea0e04bd517f914a1b0  5a0df85ae04bd51616cfd741   \n",
       "4     work  59f9ae24e04bd5148a92a259  5a0dfd01e04bd50f96094400   \n",
       "\n",
       "                     car_id                            start_point  \\\n",
       "0  5a01a113e04bd517f914a90a  {'lat': 45.9552633, 'lon': 8.9351292}   \n",
       "1  5a009f77e04bd518c5b9d262   {'lat': 46.010336, 'lon': 8.9580537}   \n",
       "2  58e4ea66e04bd55031737bfb  {'lat': 46.0050102, 'lon': 8.9520281}   \n",
       "3  5a009f77e04bd518c5b9d262  {'lat': 46.0143536, 'lon': 8.9572713}   \n",
       "4  5a0ad030e04bd5243ab6629c    {'lat': 45.863171, 'lon': 8.930506}   \n",
       "\n",
       "                                       end_point  \\\n",
       "0          {'lat': 46.0057334, 'lon': 8.9587621}   \n",
       "1          {'lat': 46.0293813, 'lon': 8.9613995}   \n",
       "2  {'lat': 45.95973425, 'lon': 8.86164681646655}   \n",
       "3          {'lat': 46.0293813, 'lon': 8.9613995}   \n",
       "4            {'lat': 46.023094, 'lon': 8.917026}   \n",
       "\n",
       "                                            polyline        date   timestamp  \\\n",
       "0  }qnwGkdpu@C{Ag@C]FoA~@c@xACxB@`@CLGDo@GEYY]]Ko...  1510675200  2017-11-14   \n",
       "1  qkywGyrtu@?ETuCRqCsBYiBWeBQaM_D_DcAgA[oFgBoDeA...  1510817400  2017-11-16   \n",
       "2  gixwGwjsu@b@OVQ|@mANMbAe@BGUwBqAh@uAj@qAd@E?KA...  1508774400  2017-10-23   \n",
       "3  udzwG{mtu@?HCXMvCmBSyC_@eCk@eDg@WrCy@e@uBcAiEq...  1510903200  2017-11-17   \n",
       "4  ws|vGwfou@aA{@MMe@`AEFGBgAiA]q@EMEYO{AI}DOoC?c...  1510899646  2017-11-17   \n",
       "\n",
       "       lat_o     lon_o      lat_d     lon_d  \n",
       "0  45.955263  8.935129  46.005733  8.958762  \n",
       "1  46.010336  8.958054  46.029381  8.961400  \n",
       "2  46.005010  8.952028  45.959734  8.861647  \n",
       "3  46.014354  8.957271  46.029381  8.961400  \n",
       "4  45.863171  8.930506  46.023094  8.917026  "
      ]
     },
     "execution_count": 68,
     "metadata": {},
     "output_type": "execute_result"
    }
   ],
   "source": [
    "df.head()"
   ]
  },
  {
   "cell_type": "code",
   "execution_count": 69,
   "metadata": {},
   "outputs": [],
   "source": [
    "# convert lat-long to floats and change address from ALL CAPS to Regular Capitalization\n",
    "df['lat_o'] = df['lat_o'].astype(float)\n",
    "df['lon_o'] = df['lon_o'].astype(float)\n",
    "df['lat_d'] = df['lat_d'].astype(float)\n",
    "df['lon_d'] = df['lon_d'].astype(float)"
   ]
  },
  {
   "cell_type": "code",
   "execution_count": 70,
   "metadata": {},
   "outputs": [],
   "source": [
    "# we don't need all those columns - only keep useful ones\n",
    "useful_cols = ['name', 'driver_id', '_id', 'car_id', 'lat_o', 'lon_o', 'lat_d', 'lon_d', 'polyline', 'timestamp']\n",
    "df2 = df[useful_cols]"
   ]
  },
  {
   "cell_type": "code",
   "execution_count": 71,
   "metadata": {},
   "outputs": [
    {
     "data": {
      "text/html": [
       "<div>\n",
       "<table border=\"1\" class=\"dataframe\">\n",
       "  <thead>\n",
       "    <tr style=\"text-align: right;\">\n",
       "      <th></th>\n",
       "      <th>name</th>\n",
       "      <th>driver_id</th>\n",
       "      <th>_id</th>\n",
       "      <th>car_id</th>\n",
       "      <th>lat_o</th>\n",
       "      <th>lon_o</th>\n",
       "      <th>lat_d</th>\n",
       "      <th>lon_d</th>\n",
       "      <th>polyline</th>\n",
       "      <th>timestamp</th>\n",
       "    </tr>\n",
       "  </thead>\n",
       "  <tbody>\n",
       "    <tr>\n",
       "      <th>0</th>\n",
       "      <td>Liceo</td>\n",
       "      <td>59f0cddae04bd539a6121a93</td>\n",
       "      <td>5a09e7c1e04bd5339f1c5c3a</td>\n",
       "      <td>5a01a113e04bd517f914a90a</td>\n",
       "      <td>45.955263</td>\n",
       "      <td>8.935129</td>\n",
       "      <td>46.005733</td>\n",
       "      <td>8.958762</td>\n",
       "      <td>}qnwGkdpu@C{Ag@C]FoA~@c@xACxB@`@CLGDo@GEYY]]Ko...</td>\n",
       "      <td>2017-11-14</td>\n",
       "    </tr>\n",
       "    <tr>\n",
       "      <th>1</th>\n",
       "      <td>Scooter</td>\n",
       "      <td>5a009ea0e04bd517f914a1b0</td>\n",
       "      <td>5a0cba6ee04bd5671ce05470</td>\n",
       "      <td>5a009f77e04bd518c5b9d262</td>\n",
       "      <td>46.010336</td>\n",
       "      <td>8.958054</td>\n",
       "      <td>46.029381</td>\n",
       "      <td>8.961400</td>\n",
       "      <td>qkywGyrtu@?ETuCRqCsBYiBWeBQaM_D_DcAgA[oFgBoDeA...</td>\n",
       "      <td>2017-11-16</td>\n",
       "    </tr>\n",
       "    <tr>\n",
       "      <th>2</th>\n",
       "      <td>Lavena</td>\n",
       "      <td>58e4e95be04bd55052edecf2</td>\n",
       "      <td>59edb431e04bd565aaf52136</td>\n",
       "      <td>58e4ea66e04bd55031737bfb</td>\n",
       "      <td>46.005010</td>\n",
       "      <td>8.952028</td>\n",
       "      <td>45.959734</td>\n",
       "      <td>8.861647</td>\n",
       "      <td>gixwGwjsu@b@OVQ|@mANMbAe@BGUwBqAh@uAj@qAd@E?KA...</td>\n",
       "      <td>2017-10-23</td>\n",
       "    </tr>\n",
       "    <tr>\n",
       "      <th>3</th>\n",
       "      <td>Scooter</td>\n",
       "      <td>5a009ea0e04bd517f914a1b0</td>\n",
       "      <td>5a0df85ae04bd51616cfd741</td>\n",
       "      <td>5a009f77e04bd518c5b9d262</td>\n",
       "      <td>46.014354</td>\n",
       "      <td>8.957271</td>\n",
       "      <td>46.029381</td>\n",
       "      <td>8.961400</td>\n",
       "      <td>udzwG{mtu@?HCXMvCmBSyC_@eCk@eDg@WrCy@e@uBcAiEq...</td>\n",
       "      <td>2017-11-17</td>\n",
       "    </tr>\n",
       "    <tr>\n",
       "      <th>4</th>\n",
       "      <td>work</td>\n",
       "      <td>59f9ae24e04bd5148a92a259</td>\n",
       "      <td>5a0dfd01e04bd50f96094400</td>\n",
       "      <td>5a0ad030e04bd5243ab6629c</td>\n",
       "      <td>45.863171</td>\n",
       "      <td>8.930506</td>\n",
       "      <td>46.023094</td>\n",
       "      <td>8.917026</td>\n",
       "      <td>ws|vGwfou@aA{@MMe@`AEFGBgAiA]q@EMEYO{AI}DOoC?c...</td>\n",
       "      <td>2017-11-17</td>\n",
       "    </tr>\n",
       "  </tbody>\n",
       "</table>\n",
       "</div>"
      ],
      "text/plain": [
       "      name                 driver_id                       _id  \\\n",
       "0    Liceo  59f0cddae04bd539a6121a93  5a09e7c1e04bd5339f1c5c3a   \n",
       "1  Scooter  5a009ea0e04bd517f914a1b0  5a0cba6ee04bd5671ce05470   \n",
       "2   Lavena  58e4e95be04bd55052edecf2  59edb431e04bd565aaf52136   \n",
       "3  Scooter  5a009ea0e04bd517f914a1b0  5a0df85ae04bd51616cfd741   \n",
       "4     work  59f9ae24e04bd5148a92a259  5a0dfd01e04bd50f96094400   \n",
       "\n",
       "                     car_id      lat_o     lon_o      lat_d     lon_d  \\\n",
       "0  5a01a113e04bd517f914a90a  45.955263  8.935129  46.005733  8.958762   \n",
       "1  5a009f77e04bd518c5b9d262  46.010336  8.958054  46.029381  8.961400   \n",
       "2  58e4ea66e04bd55031737bfb  46.005010  8.952028  45.959734  8.861647   \n",
       "3  5a009f77e04bd518c5b9d262  46.014354  8.957271  46.029381  8.961400   \n",
       "4  5a0ad030e04bd5243ab6629c  45.863171  8.930506  46.023094  8.917026   \n",
       "\n",
       "                                            polyline   timestamp  \n",
       "0  }qnwGkdpu@C{Ag@C]FoA~@c@xACxB@`@CLGDo@GEYY]]Ko...  2017-11-14  \n",
       "1  qkywGyrtu@?ETuCRqCsBYiBWeBQaM_D_DcAgA[oFgBoDeA...  2017-11-16  \n",
       "2  gixwGwjsu@b@OVQ|@mANMbAe@BGUwBqAh@uAj@qAd@E?KA...  2017-10-23  \n",
       "3  udzwG{mtu@?HCXMvCmBSyC_@eCk@eDg@WrCy@e@uBcAiEq...  2017-11-17  \n",
       "4  ws|vGwfou@aA{@MMe@`AEFGBgAiA]q@EMEYO{AI}DOoC?c...  2017-11-17  "
      ]
     },
     "execution_count": 71,
     "metadata": {},
     "output_type": "execute_result"
    }
   ],
   "source": [
    "df2.head() "
   ]
  },
  {
   "cell_type": "code",
   "execution_count": 72,
   "metadata": {},
   "outputs": [],
   "source": [
    "# we don't need all those columns - only keep useful ones\n",
    "useful_cols = ['name', 'driver_id', '_id', 'car_id', 'lat_o', 'lon_o', 'polyline', 'timestamp']\n",
    "df_subset_origin = df[useful_cols]"
   ]
  },
  {
   "cell_type": "code",
   "execution_count": 73,
   "metadata": {
    "scrolled": false
   },
   "outputs": [
    {
     "name": "stderr",
     "output_type": "stream",
     "text": [
      "C:\\Users\\francisco.sacramento\\AppData\\Local\\Continuum\\Anaconda3\\lib\\site-packages\\ipykernel\\__main__.py:1: SettingWithCopyWarning: \n",
      "A value is trying to be set on a copy of a slice from a DataFrame.\n",
      "Try using .loc[row_indexer,col_indexer] = value instead\n",
      "\n",
      "See the caveats in the documentation: http://pandas.pydata.org/pandas-docs/stable/indexing.html#indexing-view-versus-copy\n",
      "  if __name__ == '__main__':\n"
     ]
    }
   ],
   "source": [
    "df_subset_origin['type'] = 'origin'"
   ]
  },
  {
   "cell_type": "code",
   "execution_count": 74,
   "metadata": {},
   "outputs": [],
   "source": [
    "columns = [\"name\", \"driver_id\", \"_id\", \"car_id\", \"lat_o\", \"lon_o\", \"polyline\", \"timestamp\", \"type\"]\n",
    "df_subset_origin = df_subset_origin.reindex(columns=columns)"
   ]
  },
  {
   "cell_type": "code",
   "execution_count": 75,
   "metadata": {
    "scrolled": true
   },
   "outputs": [
    {
     "data": {
      "text/html": [
       "<div>\n",
       "<table border=\"1\" class=\"dataframe\">\n",
       "  <thead>\n",
       "    <tr style=\"text-align: right;\">\n",
       "      <th></th>\n",
       "      <th>name</th>\n",
       "      <th>driver_id</th>\n",
       "      <th>_id</th>\n",
       "      <th>car_id</th>\n",
       "      <th>lat_o</th>\n",
       "      <th>lon_o</th>\n",
       "      <th>polyline</th>\n",
       "      <th>timestamp</th>\n",
       "      <th>type</th>\n",
       "    </tr>\n",
       "  </thead>\n",
       "  <tbody>\n",
       "    <tr>\n",
       "      <th>0</th>\n",
       "      <td>Liceo</td>\n",
       "      <td>59f0cddae04bd539a6121a93</td>\n",
       "      <td>5a09e7c1e04bd5339f1c5c3a</td>\n",
       "      <td>5a01a113e04bd517f914a90a</td>\n",
       "      <td>45.955263</td>\n",
       "      <td>8.935129</td>\n",
       "      <td>}qnwGkdpu@C{Ag@C]FoA~@c@xACxB@`@CLGDo@GEYY]]Ko...</td>\n",
       "      <td>2017-11-14</td>\n",
       "      <td>origin</td>\n",
       "    </tr>\n",
       "    <tr>\n",
       "      <th>1</th>\n",
       "      <td>Scooter</td>\n",
       "      <td>5a009ea0e04bd517f914a1b0</td>\n",
       "      <td>5a0cba6ee04bd5671ce05470</td>\n",
       "      <td>5a009f77e04bd518c5b9d262</td>\n",
       "      <td>46.010336</td>\n",
       "      <td>8.958054</td>\n",
       "      <td>qkywGyrtu@?ETuCRqCsBYiBWeBQaM_D_DcAgA[oFgBoDeA...</td>\n",
       "      <td>2017-11-16</td>\n",
       "      <td>origin</td>\n",
       "    </tr>\n",
       "    <tr>\n",
       "      <th>2</th>\n",
       "      <td>Lavena</td>\n",
       "      <td>58e4e95be04bd55052edecf2</td>\n",
       "      <td>59edb431e04bd565aaf52136</td>\n",
       "      <td>58e4ea66e04bd55031737bfb</td>\n",
       "      <td>46.005010</td>\n",
       "      <td>8.952028</td>\n",
       "      <td>gixwGwjsu@b@OVQ|@mANMbAe@BGUwBqAh@uAj@qAd@E?KA...</td>\n",
       "      <td>2017-10-23</td>\n",
       "      <td>origin</td>\n",
       "    </tr>\n",
       "    <tr>\n",
       "      <th>3</th>\n",
       "      <td>Scooter</td>\n",
       "      <td>5a009ea0e04bd517f914a1b0</td>\n",
       "      <td>5a0df85ae04bd51616cfd741</td>\n",
       "      <td>5a009f77e04bd518c5b9d262</td>\n",
       "      <td>46.014354</td>\n",
       "      <td>8.957271</td>\n",
       "      <td>udzwG{mtu@?HCXMvCmBSyC_@eCk@eDg@WrCy@e@uBcAiEq...</td>\n",
       "      <td>2017-11-17</td>\n",
       "      <td>origin</td>\n",
       "    </tr>\n",
       "    <tr>\n",
       "      <th>4</th>\n",
       "      <td>work</td>\n",
       "      <td>59f9ae24e04bd5148a92a259</td>\n",
       "      <td>5a0dfd01e04bd50f96094400</td>\n",
       "      <td>5a0ad030e04bd5243ab6629c</td>\n",
       "      <td>45.863171</td>\n",
       "      <td>8.930506</td>\n",
       "      <td>ws|vGwfou@aA{@MMe@`AEFGBgAiA]q@EMEYO{AI}DOoC?c...</td>\n",
       "      <td>2017-11-17</td>\n",
       "      <td>origin</td>\n",
       "    </tr>\n",
       "  </tbody>\n",
       "</table>\n",
       "</div>"
      ],
      "text/plain": [
       "      name                 driver_id                       _id  \\\n",
       "0    Liceo  59f0cddae04bd539a6121a93  5a09e7c1e04bd5339f1c5c3a   \n",
       "1  Scooter  5a009ea0e04bd517f914a1b0  5a0cba6ee04bd5671ce05470   \n",
       "2   Lavena  58e4e95be04bd55052edecf2  59edb431e04bd565aaf52136   \n",
       "3  Scooter  5a009ea0e04bd517f914a1b0  5a0df85ae04bd51616cfd741   \n",
       "4     work  59f9ae24e04bd5148a92a259  5a0dfd01e04bd50f96094400   \n",
       "\n",
       "                     car_id      lat_o     lon_o  \\\n",
       "0  5a01a113e04bd517f914a90a  45.955263  8.935129   \n",
       "1  5a009f77e04bd518c5b9d262  46.010336  8.958054   \n",
       "2  58e4ea66e04bd55031737bfb  46.005010  8.952028   \n",
       "3  5a009f77e04bd518c5b9d262  46.014354  8.957271   \n",
       "4  5a0ad030e04bd5243ab6629c  45.863171  8.930506   \n",
       "\n",
       "                                            polyline   timestamp    type  \n",
       "0  }qnwGkdpu@C{Ag@C]FoA~@c@xACxB@`@CLGDo@GEYY]]Ko...  2017-11-14  origin  \n",
       "1  qkywGyrtu@?ETuCRqCsBYiBWeBQaM_D_DcAgA[oFgBoDeA...  2017-11-16  origin  \n",
       "2  gixwGwjsu@b@OVQ|@mANMbAe@BGUwBqAh@uAj@qAd@E?KA...  2017-10-23  origin  \n",
       "3  udzwG{mtu@?HCXMvCmBSyC_@eCk@eDg@WrCy@e@uBcAiEq...  2017-11-17  origin  \n",
       "4  ws|vGwfou@aA{@MMe@`AEFGBgAiA]q@EMEYO{AI}DOoC?c...  2017-11-17  origin  "
      ]
     },
     "execution_count": 75,
     "metadata": {},
     "output_type": "execute_result"
    }
   ],
   "source": [
    "df_subset_origin.head()"
   ]
  },
  {
   "cell_type": "code",
   "execution_count": 76,
   "metadata": {},
   "outputs": [],
   "source": [
    "# we don't need all those columns - only keep useful ones\n",
    "useful_cols = ['name', 'driver_id', '_id', 'car_id', 'lat_d', 'lon_d','polyline', 'timestamp']\n",
    "df_subset_dest = df[useful_cols]"
   ]
  },
  {
   "cell_type": "code",
   "execution_count": 77,
   "metadata": {
    "scrolled": true
   },
   "outputs": [
    {
     "name": "stderr",
     "output_type": "stream",
     "text": [
      "C:\\Users\\francisco.sacramento\\AppData\\Local\\Continuum\\Anaconda3\\lib\\site-packages\\ipykernel\\__main__.py:1: SettingWithCopyWarning: \n",
      "A value is trying to be set on a copy of a slice from a DataFrame.\n",
      "Try using .loc[row_indexer,col_indexer] = value instead\n",
      "\n",
      "See the caveats in the documentation: http://pandas.pydata.org/pandas-docs/stable/indexing.html#indexing-view-versus-copy\n",
      "  if __name__ == '__main__':\n"
     ]
    }
   ],
   "source": [
    "df_subset_dest['type'] = 'destination'"
   ]
  },
  {
   "cell_type": "code",
   "execution_count": 78,
   "metadata": {},
   "outputs": [],
   "source": [
    "columns = [\"name\", \"driver_id\", \"_id\", \"car_id\", \"lat_d\", \"lon_d\", 'polyline', 'timestamp', \"type\"]\n",
    "df_subset_dest = df_subset_dest.reindex(columns=columns)"
   ]
  },
  {
   "cell_type": "code",
   "execution_count": 79,
   "metadata": {
    "scrolled": true
   },
   "outputs": [
    {
     "data": {
      "text/html": [
       "<div>\n",
       "<table border=\"1\" class=\"dataframe\">\n",
       "  <thead>\n",
       "    <tr style=\"text-align: right;\">\n",
       "      <th></th>\n",
       "      <th>name</th>\n",
       "      <th>driver_id</th>\n",
       "      <th>_id</th>\n",
       "      <th>car_id</th>\n",
       "      <th>lat_d</th>\n",
       "      <th>lon_d</th>\n",
       "      <th>polyline</th>\n",
       "      <th>timestamp</th>\n",
       "      <th>type</th>\n",
       "    </tr>\n",
       "  </thead>\n",
       "  <tbody>\n",
       "    <tr>\n",
       "      <th>0</th>\n",
       "      <td>Liceo</td>\n",
       "      <td>59f0cddae04bd539a6121a93</td>\n",
       "      <td>5a09e7c1e04bd5339f1c5c3a</td>\n",
       "      <td>5a01a113e04bd517f914a90a</td>\n",
       "      <td>46.005733</td>\n",
       "      <td>8.958762</td>\n",
       "      <td>}qnwGkdpu@C{Ag@C]FoA~@c@xACxB@`@CLGDo@GEYY]]Ko...</td>\n",
       "      <td>2017-11-14</td>\n",
       "      <td>destination</td>\n",
       "    </tr>\n",
       "    <tr>\n",
       "      <th>1</th>\n",
       "      <td>Scooter</td>\n",
       "      <td>5a009ea0e04bd517f914a1b0</td>\n",
       "      <td>5a0cba6ee04bd5671ce05470</td>\n",
       "      <td>5a009f77e04bd518c5b9d262</td>\n",
       "      <td>46.029381</td>\n",
       "      <td>8.961400</td>\n",
       "      <td>qkywGyrtu@?ETuCRqCsBYiBWeBQaM_D_DcAgA[oFgBoDeA...</td>\n",
       "      <td>2017-11-16</td>\n",
       "      <td>destination</td>\n",
       "    </tr>\n",
       "    <tr>\n",
       "      <th>2</th>\n",
       "      <td>Lavena</td>\n",
       "      <td>58e4e95be04bd55052edecf2</td>\n",
       "      <td>59edb431e04bd565aaf52136</td>\n",
       "      <td>58e4ea66e04bd55031737bfb</td>\n",
       "      <td>45.959734</td>\n",
       "      <td>8.861647</td>\n",
       "      <td>gixwGwjsu@b@OVQ|@mANMbAe@BGUwBqAh@uAj@qAd@E?KA...</td>\n",
       "      <td>2017-10-23</td>\n",
       "      <td>destination</td>\n",
       "    </tr>\n",
       "    <tr>\n",
       "      <th>3</th>\n",
       "      <td>Scooter</td>\n",
       "      <td>5a009ea0e04bd517f914a1b0</td>\n",
       "      <td>5a0df85ae04bd51616cfd741</td>\n",
       "      <td>5a009f77e04bd518c5b9d262</td>\n",
       "      <td>46.029381</td>\n",
       "      <td>8.961400</td>\n",
       "      <td>udzwG{mtu@?HCXMvCmBSyC_@eCk@eDg@WrCy@e@uBcAiEq...</td>\n",
       "      <td>2017-11-17</td>\n",
       "      <td>destination</td>\n",
       "    </tr>\n",
       "    <tr>\n",
       "      <th>4</th>\n",
       "      <td>work</td>\n",
       "      <td>59f9ae24e04bd5148a92a259</td>\n",
       "      <td>5a0dfd01e04bd50f96094400</td>\n",
       "      <td>5a0ad030e04bd5243ab6629c</td>\n",
       "      <td>46.023094</td>\n",
       "      <td>8.917026</td>\n",
       "      <td>ws|vGwfou@aA{@MMe@`AEFGBgAiA]q@EMEYO{AI}DOoC?c...</td>\n",
       "      <td>2017-11-17</td>\n",
       "      <td>destination</td>\n",
       "    </tr>\n",
       "  </tbody>\n",
       "</table>\n",
       "</div>"
      ],
      "text/plain": [
       "      name                 driver_id                       _id  \\\n",
       "0    Liceo  59f0cddae04bd539a6121a93  5a09e7c1e04bd5339f1c5c3a   \n",
       "1  Scooter  5a009ea0e04bd517f914a1b0  5a0cba6ee04bd5671ce05470   \n",
       "2   Lavena  58e4e95be04bd55052edecf2  59edb431e04bd565aaf52136   \n",
       "3  Scooter  5a009ea0e04bd517f914a1b0  5a0df85ae04bd51616cfd741   \n",
       "4     work  59f9ae24e04bd5148a92a259  5a0dfd01e04bd50f96094400   \n",
       "\n",
       "                     car_id      lat_d     lon_d  \\\n",
       "0  5a01a113e04bd517f914a90a  46.005733  8.958762   \n",
       "1  5a009f77e04bd518c5b9d262  46.029381  8.961400   \n",
       "2  58e4ea66e04bd55031737bfb  45.959734  8.861647   \n",
       "3  5a009f77e04bd518c5b9d262  46.029381  8.961400   \n",
       "4  5a0ad030e04bd5243ab6629c  46.023094  8.917026   \n",
       "\n",
       "                                            polyline   timestamp         type  \n",
       "0  }qnwGkdpu@C{Ag@C]FoA~@c@xACxB@`@CLGDo@GEYY]]Ko...  2017-11-14  destination  \n",
       "1  qkywGyrtu@?ETuCRqCsBYiBWeBQaM_D_DcAgA[oFgBoDeA...  2017-11-16  destination  \n",
       "2  gixwGwjsu@b@OVQ|@mANMbAe@BGUwBqAh@uAj@qAd@E?KA...  2017-10-23  destination  \n",
       "3  udzwG{mtu@?HCXMvCmBSyC_@eCk@eDg@WrCy@e@uBcAiEq...  2017-11-17  destination  \n",
       "4  ws|vGwfou@aA{@MMe@`AEFGBgAiA]q@EMEYO{AI}DOoC?c...  2017-11-17  destination  "
      ]
     },
     "execution_count": 79,
     "metadata": {},
     "output_type": "execute_result"
    }
   ],
   "source": [
    "df_subset_dest.head() "
   ]
  },
  {
   "cell_type": "code",
   "execution_count": 80,
   "metadata": {},
   "outputs": [
    {
     "name": "stdout",
     "output_type": "stream",
     "text": [
      "We have 245 geotagged rows\n"
     ]
    },
    {
     "data": {
      "text/html": [
       "<div>\n",
       "<table border=\"1\" class=\"dataframe\">\n",
       "  <thead>\n",
       "    <tr style=\"text-align: right;\">\n",
       "      <th></th>\n",
       "      <th>name</th>\n",
       "      <th>driver_id</th>\n",
       "      <th>_id</th>\n",
       "      <th>car_id</th>\n",
       "      <th>lat_o</th>\n",
       "      <th>lon_o</th>\n",
       "      <th>lat_d</th>\n",
       "      <th>lon_d</th>\n",
       "      <th>polyline</th>\n",
       "      <th>timestamp</th>\n",
       "    </tr>\n",
       "  </thead>\n",
       "  <tbody>\n",
       "    <tr>\n",
       "      <th>240</th>\n",
       "      <td>Lj-Nm</td>\n",
       "      <td>58dcc704e04bd536b3f0defc</td>\n",
       "      <td>5a0ec7d8e04bd504e8d42ec0</td>\n",
       "      <td>595cc65ee04bd502624aade0</td>\n",
       "      <td>46.049865</td>\n",
       "      <td>14.506892</td>\n",
       "      <td>45.803254</td>\n",
       "      <td>15.169772</td>\n",
       "      <td>{_axGk|owAl@?zB^lDd@F?nBf@VHQlEGBEFAH@JDFF@FAB...</td>\n",
       "      <td>2017-11-17</td>\n",
       "    </tr>\n",
       "    <tr>\n",
       "      <th>241</th>\n",
       "      <td>Lj Ce</td>\n",
       "      <td>59953a02e04bd573ec212dcc</td>\n",
       "      <td>5a0ec825e04bd51616cfdb55</td>\n",
       "      <td>59cb3b8ae04bd511a32cde3e</td>\n",
       "      <td>46.049865</td>\n",
       "      <td>14.506892</td>\n",
       "      <td>46.230923</td>\n",
       "      <td>15.265993</td>\n",
       "      <td>yiaxGkmpwA_@J??C[McAQmBIcAC_@?Q@K??RILEJC`@Cj@...</td>\n",
       "      <td>2017-11-17</td>\n",
       "    </tr>\n",
       "    <tr>\n",
       "      <th>242</th>\n",
       "      <td>Lj Ce</td>\n",
       "      <td>59953a02e04bd573ec212dcc</td>\n",
       "      <td>5a0ecbeae04bd50f96094a03</td>\n",
       "      <td>59cb3b8ae04bd511a32cde3e</td>\n",
       "      <td>46.053819</td>\n",
       "      <td>14.508480</td>\n",
       "      <td>46.230923</td>\n",
       "      <td>15.265993</td>\n",
       "      <td>k{axG_upwAAECMAM?Q?Wx@gIvAoL??uE}@OAyDo@a@EgEe...</td>\n",
       "      <td>2017-11-17</td>\n",
       "    </tr>\n",
       "    <tr>\n",
       "      <th>243</th>\n",
       "      <td>Ce-Nm</td>\n",
       "      <td>58dcc704e04bd536b3f0defc</td>\n",
       "      <td>5a0ecec0e04bd504e8d42edf</td>\n",
       "      <td>595cc65ee04bd502624aade0</td>\n",
       "      <td>46.230923</td>\n",
       "      <td>15.265993</td>\n",
       "      <td>45.803254</td>\n",
       "      <td>15.169772</td>\n",
       "      <td>kpdyGupd|AcCs@Nu@LaALqAToDfHHlBF`@Bf@HpB`@fAXb...</td>\n",
       "      <td>2017-11-17</td>\n",
       "    </tr>\n",
       "    <tr>\n",
       "      <th>244</th>\n",
       "      <td>Lj Postojna</td>\n",
       "      <td>58dcb0bae04bd51933269858</td>\n",
       "      <td>5a0ed1a1e04bd549a4e90f59</td>\n",
       "      <td>58dcc0a5e04bd536b06102ec</td>\n",
       "      <td>46.049865</td>\n",
       "      <td>14.506892</td>\n",
       "      <td>45.775244</td>\n",
       "      <td>14.211788</td>\n",
       "      <td>{_axGk|owAl@?zB^lDd@F?nBf@VHQlEGBEFAH@JDFF@FAB...</td>\n",
       "      <td>2017-11-17</td>\n",
       "    </tr>\n",
       "  </tbody>\n",
       "</table>\n",
       "</div>"
      ],
      "text/plain": [
       "            name                 driver_id                       _id  \\\n",
       "240        Lj-Nm  58dcc704e04bd536b3f0defc  5a0ec7d8e04bd504e8d42ec0   \n",
       "241        Lj Ce  59953a02e04bd573ec212dcc  5a0ec825e04bd51616cfdb55   \n",
       "242        Lj Ce  59953a02e04bd573ec212dcc  5a0ecbeae04bd50f96094a03   \n",
       "243        Ce-Nm  58dcc704e04bd536b3f0defc  5a0ecec0e04bd504e8d42edf   \n",
       "244  Lj Postojna  58dcb0bae04bd51933269858  5a0ed1a1e04bd549a4e90f59   \n",
       "\n",
       "                       car_id      lat_o      lon_o      lat_d      lon_d  \\\n",
       "240  595cc65ee04bd502624aade0  46.049865  14.506892  45.803254  15.169772   \n",
       "241  59cb3b8ae04bd511a32cde3e  46.049865  14.506892  46.230923  15.265993   \n",
       "242  59cb3b8ae04bd511a32cde3e  46.053819  14.508480  46.230923  15.265993   \n",
       "243  595cc65ee04bd502624aade0  46.230923  15.265993  45.803254  15.169772   \n",
       "244  58dcc0a5e04bd536b06102ec  46.049865  14.506892  45.775244  14.211788   \n",
       "\n",
       "                                              polyline   timestamp  \n",
       "240  {_axGk|owAl@?zB^lDd@F?nBf@VHQlEGBEFAH@JDFF@FAB...  2017-11-17  \n",
       "241  yiaxGkmpwA_@J??C[McAQmBIcAC_@?Q@K??RILEJC`@Cj@...  2017-11-17  \n",
       "242  k{axG_upwAAECMAM?Q?Wx@gIvAoL??uE}@OAyDo@a@EgEe...  2017-11-17  \n",
       "243  kpdyGupd|AcCs@Nu@LaALqAToDfHHlBF`@Bf@HpB`@fAXb...  2017-11-17  \n",
       "244  {_axGk|owAl@?zB^lDd@F?nBf@VHQlEGBEFAH@JDFF@FAB...  2017-11-17  "
      ]
     },
     "execution_count": 80,
     "metadata": {},
     "output_type": "execute_result"
    }
   ],
   "source": [
    "# drop any rows that lack lat/long data\n",
    "df2 = df2.dropna(subset=['lat_o', 'lon_o'], axis=0, inplace=False)\n",
    "\n",
    "print('We have {} geotagged rows'.format(len(df2)))\n",
    "df2.tail()"
   ]
  },
  {
   "cell_type": "code",
   "execution_count": 81,
   "metadata": {},
   "outputs": [
    {
     "name": "stdout",
     "output_type": "stream",
     "text": [
      "We have 245 geotagged rows\n"
     ]
    },
    {
     "data": {
      "text/html": [
       "<div>\n",
       "<table border=\"1\" class=\"dataframe\">\n",
       "  <thead>\n",
       "    <tr style=\"text-align: right;\">\n",
       "      <th></th>\n",
       "      <th>name</th>\n",
       "      <th>driver_id</th>\n",
       "      <th>_id</th>\n",
       "      <th>car_id</th>\n",
       "      <th>lat_o</th>\n",
       "      <th>lon_o</th>\n",
       "      <th>polyline</th>\n",
       "      <th>timestamp</th>\n",
       "      <th>type</th>\n",
       "    </tr>\n",
       "  </thead>\n",
       "  <tbody>\n",
       "    <tr>\n",
       "      <th>240</th>\n",
       "      <td>Lj-Nm</td>\n",
       "      <td>58dcc704e04bd536b3f0defc</td>\n",
       "      <td>5a0ec7d8e04bd504e8d42ec0</td>\n",
       "      <td>595cc65ee04bd502624aade0</td>\n",
       "      <td>46.049865</td>\n",
       "      <td>14.506892</td>\n",
       "      <td>{_axGk|owAl@?zB^lDd@F?nBf@VHQlEGBEFAH@JDFF@FAB...</td>\n",
       "      <td>2017-11-17</td>\n",
       "      <td>origin</td>\n",
       "    </tr>\n",
       "    <tr>\n",
       "      <th>241</th>\n",
       "      <td>Lj Ce</td>\n",
       "      <td>59953a02e04bd573ec212dcc</td>\n",
       "      <td>5a0ec825e04bd51616cfdb55</td>\n",
       "      <td>59cb3b8ae04bd511a32cde3e</td>\n",
       "      <td>46.049865</td>\n",
       "      <td>14.506892</td>\n",
       "      <td>yiaxGkmpwA_@J??C[McAQmBIcAC_@?Q@K??RILEJC`@Cj@...</td>\n",
       "      <td>2017-11-17</td>\n",
       "      <td>origin</td>\n",
       "    </tr>\n",
       "    <tr>\n",
       "      <th>242</th>\n",
       "      <td>Lj Ce</td>\n",
       "      <td>59953a02e04bd573ec212dcc</td>\n",
       "      <td>5a0ecbeae04bd50f96094a03</td>\n",
       "      <td>59cb3b8ae04bd511a32cde3e</td>\n",
       "      <td>46.053819</td>\n",
       "      <td>14.508480</td>\n",
       "      <td>k{axG_upwAAECMAM?Q?Wx@gIvAoL??uE}@OAyDo@a@EgEe...</td>\n",
       "      <td>2017-11-17</td>\n",
       "      <td>origin</td>\n",
       "    </tr>\n",
       "    <tr>\n",
       "      <th>243</th>\n",
       "      <td>Ce-Nm</td>\n",
       "      <td>58dcc704e04bd536b3f0defc</td>\n",
       "      <td>5a0ecec0e04bd504e8d42edf</td>\n",
       "      <td>595cc65ee04bd502624aade0</td>\n",
       "      <td>46.230923</td>\n",
       "      <td>15.265993</td>\n",
       "      <td>kpdyGupd|AcCs@Nu@LaALqAToDfHHlBF`@Bf@HpB`@fAXb...</td>\n",
       "      <td>2017-11-17</td>\n",
       "      <td>origin</td>\n",
       "    </tr>\n",
       "    <tr>\n",
       "      <th>244</th>\n",
       "      <td>Lj Postojna</td>\n",
       "      <td>58dcb0bae04bd51933269858</td>\n",
       "      <td>5a0ed1a1e04bd549a4e90f59</td>\n",
       "      <td>58dcc0a5e04bd536b06102ec</td>\n",
       "      <td>46.049865</td>\n",
       "      <td>14.506892</td>\n",
       "      <td>{_axGk|owAl@?zB^lDd@F?nBf@VHQlEGBEFAH@JDFF@FAB...</td>\n",
       "      <td>2017-11-17</td>\n",
       "      <td>origin</td>\n",
       "    </tr>\n",
       "  </tbody>\n",
       "</table>\n",
       "</div>"
      ],
      "text/plain": [
       "            name                 driver_id                       _id  \\\n",
       "240        Lj-Nm  58dcc704e04bd536b3f0defc  5a0ec7d8e04bd504e8d42ec0   \n",
       "241        Lj Ce  59953a02e04bd573ec212dcc  5a0ec825e04bd51616cfdb55   \n",
       "242        Lj Ce  59953a02e04bd573ec212dcc  5a0ecbeae04bd50f96094a03   \n",
       "243        Ce-Nm  58dcc704e04bd536b3f0defc  5a0ecec0e04bd504e8d42edf   \n",
       "244  Lj Postojna  58dcb0bae04bd51933269858  5a0ed1a1e04bd549a4e90f59   \n",
       "\n",
       "                       car_id      lat_o      lon_o  \\\n",
       "240  595cc65ee04bd502624aade0  46.049865  14.506892   \n",
       "241  59cb3b8ae04bd511a32cde3e  46.049865  14.506892   \n",
       "242  59cb3b8ae04bd511a32cde3e  46.053819  14.508480   \n",
       "243  595cc65ee04bd502624aade0  46.230923  15.265993   \n",
       "244  58dcc0a5e04bd536b06102ec  46.049865  14.506892   \n",
       "\n",
       "                                              polyline   timestamp    type  \n",
       "240  {_axGk|owAl@?zB^lDd@F?nBf@VHQlEGBEFAH@JDFF@FAB...  2017-11-17  origin  \n",
       "241  yiaxGkmpwA_@J??C[McAQmBIcAC_@?Q@K??RILEJC`@Cj@...  2017-11-17  origin  \n",
       "242  k{axG_upwAAECMAM?Q?Wx@gIvAoL??uE}@OAyDo@a@EgEe...  2017-11-17  origin  \n",
       "243  kpdyGupd|AcCs@Nu@LaALqAToDfHHlBF`@Bf@HpB`@fAXb...  2017-11-17  origin  \n",
       "244  {_axGk|owAl@?zB^lDd@F?nBf@VHQlEGBEFAH@JDFF@FAB...  2017-11-17  origin  "
      ]
     },
     "execution_count": 81,
     "metadata": {},
     "output_type": "execute_result"
    }
   ],
   "source": [
    "# drop any rows that lack lat/long data\n",
    "df_geo_origin = df_subset_origin.dropna(subset=['lat_o', 'lon_o'], axis=0, inplace=False)\n",
    "\n",
    "print('We have {} geotagged rows'.format(len(df_geo_origin)))\n",
    "df_geo_origin.tail()"
   ]
  },
  {
   "cell_type": "code",
   "execution_count": 82,
   "metadata": {},
   "outputs": [
    {
     "name": "stdout",
     "output_type": "stream",
     "text": [
      "We have 245 geotagged rows\n"
     ]
    },
    {
     "data": {
      "text/html": [
       "<div>\n",
       "<table border=\"1\" class=\"dataframe\">\n",
       "  <thead>\n",
       "    <tr style=\"text-align: right;\">\n",
       "      <th></th>\n",
       "      <th>name</th>\n",
       "      <th>driver_id</th>\n",
       "      <th>_id</th>\n",
       "      <th>car_id</th>\n",
       "      <th>lat_d</th>\n",
       "      <th>lon_d</th>\n",
       "      <th>polyline</th>\n",
       "      <th>timestamp</th>\n",
       "      <th>type</th>\n",
       "    </tr>\n",
       "  </thead>\n",
       "  <tbody>\n",
       "    <tr>\n",
       "      <th>240</th>\n",
       "      <td>Lj-Nm</td>\n",
       "      <td>58dcc704e04bd536b3f0defc</td>\n",
       "      <td>5a0ec7d8e04bd504e8d42ec0</td>\n",
       "      <td>595cc65ee04bd502624aade0</td>\n",
       "      <td>45.803254</td>\n",
       "      <td>15.169772</td>\n",
       "      <td>{_axGk|owAl@?zB^lDd@F?nBf@VHQlEGBEFAH@JDFF@FAB...</td>\n",
       "      <td>2017-11-17</td>\n",
       "      <td>destination</td>\n",
       "    </tr>\n",
       "    <tr>\n",
       "      <th>241</th>\n",
       "      <td>Lj Ce</td>\n",
       "      <td>59953a02e04bd573ec212dcc</td>\n",
       "      <td>5a0ec825e04bd51616cfdb55</td>\n",
       "      <td>59cb3b8ae04bd511a32cde3e</td>\n",
       "      <td>46.230923</td>\n",
       "      <td>15.265993</td>\n",
       "      <td>yiaxGkmpwA_@J??C[McAQmBIcAC_@?Q@K??RILEJC`@Cj@...</td>\n",
       "      <td>2017-11-17</td>\n",
       "      <td>destination</td>\n",
       "    </tr>\n",
       "    <tr>\n",
       "      <th>242</th>\n",
       "      <td>Lj Ce</td>\n",
       "      <td>59953a02e04bd573ec212dcc</td>\n",
       "      <td>5a0ecbeae04bd50f96094a03</td>\n",
       "      <td>59cb3b8ae04bd511a32cde3e</td>\n",
       "      <td>46.230923</td>\n",
       "      <td>15.265993</td>\n",
       "      <td>k{axG_upwAAECMAM?Q?Wx@gIvAoL??uE}@OAyDo@a@EgEe...</td>\n",
       "      <td>2017-11-17</td>\n",
       "      <td>destination</td>\n",
       "    </tr>\n",
       "    <tr>\n",
       "      <th>243</th>\n",
       "      <td>Ce-Nm</td>\n",
       "      <td>58dcc704e04bd536b3f0defc</td>\n",
       "      <td>5a0ecec0e04bd504e8d42edf</td>\n",
       "      <td>595cc65ee04bd502624aade0</td>\n",
       "      <td>45.803254</td>\n",
       "      <td>15.169772</td>\n",
       "      <td>kpdyGupd|AcCs@Nu@LaALqAToDfHHlBF`@Bf@HpB`@fAXb...</td>\n",
       "      <td>2017-11-17</td>\n",
       "      <td>destination</td>\n",
       "    </tr>\n",
       "    <tr>\n",
       "      <th>244</th>\n",
       "      <td>Lj Postojna</td>\n",
       "      <td>58dcb0bae04bd51933269858</td>\n",
       "      <td>5a0ed1a1e04bd549a4e90f59</td>\n",
       "      <td>58dcc0a5e04bd536b06102ec</td>\n",
       "      <td>45.775244</td>\n",
       "      <td>14.211788</td>\n",
       "      <td>{_axGk|owAl@?zB^lDd@F?nBf@VHQlEGBEFAH@JDFF@FAB...</td>\n",
       "      <td>2017-11-17</td>\n",
       "      <td>destination</td>\n",
       "    </tr>\n",
       "  </tbody>\n",
       "</table>\n",
       "</div>"
      ],
      "text/plain": [
       "            name                 driver_id                       _id  \\\n",
       "240        Lj-Nm  58dcc704e04bd536b3f0defc  5a0ec7d8e04bd504e8d42ec0   \n",
       "241        Lj Ce  59953a02e04bd573ec212dcc  5a0ec825e04bd51616cfdb55   \n",
       "242        Lj Ce  59953a02e04bd573ec212dcc  5a0ecbeae04bd50f96094a03   \n",
       "243        Ce-Nm  58dcc704e04bd536b3f0defc  5a0ecec0e04bd504e8d42edf   \n",
       "244  Lj Postojna  58dcb0bae04bd51933269858  5a0ed1a1e04bd549a4e90f59   \n",
       "\n",
       "                       car_id      lat_d      lon_d  \\\n",
       "240  595cc65ee04bd502624aade0  45.803254  15.169772   \n",
       "241  59cb3b8ae04bd511a32cde3e  46.230923  15.265993   \n",
       "242  59cb3b8ae04bd511a32cde3e  46.230923  15.265993   \n",
       "243  595cc65ee04bd502624aade0  45.803254  15.169772   \n",
       "244  58dcc0a5e04bd536b06102ec  45.775244  14.211788   \n",
       "\n",
       "                                              polyline   timestamp  \\\n",
       "240  {_axGk|owAl@?zB^lDd@F?nBf@VHQlEGBEFAH@JDFF@FAB...  2017-11-17   \n",
       "241  yiaxGkmpwA_@J??C[McAQmBIcAC_@?Q@K??RILEJC`@Cj@...  2017-11-17   \n",
       "242  k{axG_upwAAECMAM?Q?Wx@gIvAoL??uE}@OAyDo@a@EgEe...  2017-11-17   \n",
       "243  kpdyGupd|AcCs@Nu@LaALqAToDfHHlBF`@Bf@HpB`@fAXb...  2017-11-17   \n",
       "244  {_axGk|owAl@?zB^lDd@F?nBf@VHQlEGBEFAH@JDFF@FAB...  2017-11-17   \n",
       "\n",
       "            type  \n",
       "240  destination  \n",
       "241  destination  \n",
       "242  destination  \n",
       "243  destination  \n",
       "244  destination  "
      ]
     },
     "execution_count": 82,
     "metadata": {},
     "output_type": "execute_result"
    }
   ],
   "source": [
    "# drop any rows that lack lat/long data\n",
    "df_geo_dest = df_subset_dest.dropna(subset=['lat_d', 'lon_d'], axis=0, inplace=False)\n",
    "\n",
    "print('We have {} geotagged rows'.format(len(df_geo_dest)))\n",
    "df_geo_dest.tail()"
   ]
  },
  {
   "cell_type": "markdown",
   "metadata": {},
   "source": [
    "# Convertion each row in the dataframe to a shapefile-formatted feature and save the result as a file."
   ]
  },
  {
   "cell_type": "code",
   "execution_count": 83,
   "metadata": {},
   "outputs": [],
   "source": [
    "import geopandas as gpd"
   ]
  },
  {
   "cell_type": "code",
   "execution_count": 84,
   "metadata": {},
   "outputs": [],
   "source": [
    "from shapely.geometry import Point\n",
    "\n",
    "# combine lat and lon column to a shapely Point() object\n",
    "df2['geometry'] = df2.apply(lambda x: Point((float(x.lon_o), float(x.lat_o))), axis=1)"
   ]
  },
  {
   "cell_type": "code",
   "execution_count": 85,
   "metadata": {},
   "outputs": [],
   "source": [
    "df3 = gpd.GeoDataFrame(df2, geometry='geometry')"
   ]
  },
  {
   "cell_type": "code",
   "execution_count": 86,
   "metadata": {
    "scrolled": true
   },
   "outputs": [
    {
     "data": {
      "text/plain": [
       "geopandas.geodataframe.GeoDataFrame"
      ]
     },
     "execution_count": 86,
     "metadata": {},
     "output_type": "execute_result"
    }
   ],
   "source": [
    "type(df3)"
   ]
  },
  {
   "cell_type": "code",
   "execution_count": 87,
   "metadata": {},
   "outputs": [],
   "source": [
    "# proj WGS84\n",
    "\n",
    "df3.crs= \"+proj=longlat +ellps=WGS84 +datum=WGS84 +no_defs\""
   ]
  },
  {
   "cell_type": "code",
   "execution_count": 88,
   "metadata": {
    "scrolled": true
   },
   "outputs": [
    {
     "data": {
      "text/plain": [
       "<matplotlib.axes._subplots.AxesSubplot at 0x6f55cc0>"
      ]
     },
     "execution_count": 88,
     "metadata": {},
     "output_type": "execute_result"
    },
    {
     "data": {
      "image/png": "[encoded data removed]",
      "text/plain": [
       "<matplotlib.figure.Figure at 0xff6fd30>"
      ]
     },
     "metadata": {},
     "output_type": "display_data"
    }
   ],
   "source": [
    "%matplotlib inline\n",
    "df3.plot()"
   ]
  },
  {
   "cell_type": "code",
   "execution_count": 89,
   "metadata": {},
   "outputs": [],
   "source": [
    "df3.to_file('SocialCarOriginsandDestinations.shp', driver='ESRI Shapefile')"
   ]
  },
  {
   "cell_type": "code",
   "execution_count": 90,
   "metadata": {},
   "outputs": [],
   "source": [
    "from shapely.geometry import Point\n",
    "\n",
    "# combine lat and lon column to a shapely Point() object\n",
    "df_geo_origin['geometry'] = df_geo_origin.apply(lambda x: Point((float(x.lon_o), float(x.lat_o))), axis=1)"
   ]
  },
  {
   "cell_type": "code",
   "execution_count": 91,
   "metadata": {},
   "outputs": [],
   "source": [
    "df_geo_origin2 = gpd.GeoDataFrame(df_geo_origin, geometry='geometry')"
   ]
  },
  {
   "cell_type": "code",
   "execution_count": 92,
   "metadata": {},
   "outputs": [
    {
     "data": {
      "text/plain": [
       "geopandas.geodataframe.GeoDataFrame"
      ]
     },
     "execution_count": 92,
     "metadata": {},
     "output_type": "execute_result"
    }
   ],
   "source": [
    "type(df_geo_origin2)"
   ]
  },
  {
   "cell_type": "code",
   "execution_count": 93,
   "metadata": {},
   "outputs": [],
   "source": [
    "# proj WGS84\n",
    "\n",
    "df_geo_origin2.crs= \"+proj=longlat +ellps=WGS84 +datum=WGS84 +no_defs\""
   ]
  },
  {
   "cell_type": "code",
   "execution_count": 94,
   "metadata": {},
   "outputs": [
    {
     "data": {
      "text/plain": [
       "<matplotlib.axes._subplots.AxesSubplot at 0x6f9cf28>"
      ]
     },
     "execution_count": 94,
     "metadata": {},
     "output_type": "execute_result"
    },
    {
     "data": {
      "image/png": "[encoded data removed]",
      "text/plain": [
       "<matplotlib.figure.Figure at 0xff843c8>"
      ]
     },
     "metadata": {},
     "output_type": "display_data"
    }
   ],
   "source": [
    "%matplotlib inline\n",
    "df_geo_origin2.plot()"
   ]
  },
  {
   "cell_type": "code",
   "execution_count": 95,
   "metadata": {},
   "outputs": [],
   "source": [
    "df_geo_origin2.to_file('SocialCarOrigins.shp', driver='ESRI Shapefile')"
   ]
  },
  {
   "cell_type": "code",
   "execution_count": 96,
   "metadata": {},
   "outputs": [],
   "source": [
    "from shapely.geometry import Point\n",
    "\n",
    "# combine lat and lon column to a shapely Point() object\n",
    "df_geo_dest['geometry'] = df_geo_dest.apply(lambda x: Point((float(x.lon_d), float(x.lat_d))), axis=1)"
   ]
  },
  {
   "cell_type": "code",
   "execution_count": 97,
   "metadata": {},
   "outputs": [],
   "source": [
    "df_geo_dest2 = gpd.GeoDataFrame(df_geo_dest, geometry='geometry')"
   ]
  },
  {
   "cell_type": "code",
   "execution_count": 98,
   "metadata": {},
   "outputs": [
    {
     "data": {
      "text/plain": [
       "geopandas.geodataframe.GeoDataFrame"
      ]
     },
     "execution_count": 98,
     "metadata": {},
     "output_type": "execute_result"
    }
   ],
   "source": [
    "type(df_geo_dest2)"
   ]
  },
  {
   "cell_type": "code",
   "execution_count": 99,
   "metadata": {},
   "outputs": [],
   "source": [
    "# proj WGS84\n",
    "\n",
    "df_geo_dest2.crs= \"+proj=longlat +ellps=WGS84 +datum=WGS84 +no_defs\""
   ]
  },
  {
   "cell_type": "code",
   "execution_count": 100,
   "metadata": {
    "scrolled": true
   },
   "outputs": [
    {
     "data": {
      "text/plain": [
       "<matplotlib.axes._subplots.AxesSubplot at 0x10f4aef0>"
      ]
     },
     "execution_count": 100,
     "metadata": {},
     "output_type": "execute_result"
    },
    {
     "data": {
      "image/png": "[encoded data removed]",
      "text/plain": [
       "<matplotlib.figure.Figure at 0x10ef0c18>"
      ]
     },
     "metadata": {},
     "output_type": "display_data"
    }
   ],
   "source": [
    "%matplotlib inline\n",
    "df_geo_dest2.plot()"
   ]
  },
  {
   "cell_type": "code",
   "execution_count": 101,
   "metadata": {},
   "outputs": [],
   "source": [
    "df_geo_dest2.to_file('SocialCarDestinations.shp', driver='ESRI Shapefile')"
   ]
  },
  {
   "cell_type": "markdown",
   "metadata": {},
   "source": [
    "## Task 1: download the shapefiles and explore them inside QuantumGIS.\n",
    "\n",
    "## Task 2: save the shapefiles as KML and Open with Google Earth."
   ]
  }
 ],
 "metadata": {
  "kernelspec": {
   "display_name": "Python 3",
   "language": "python",
   "name": "python3"
  },
  "language_info": {
   "codemirror_mode": {
    "name": "ipython",
    "version": 3
   },
   "file_extension": ".py",
   "mimetype": "text/x-python",
   "name": "python",
   "nbconvert_exporter": "python",
   "pygments_lexer": "ipython3",
   "version": "3.6.0"
  }
 },
 "nbformat": 4,
 "nbformat_minor": 2
}
