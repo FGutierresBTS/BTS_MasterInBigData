{
 "cells": [
  {
   "cell_type": "markdown",
   "metadata": {},
   "source": [
    "# Subject: Advanced Data Analysis\n",
    "\n",
    "# Module: Geospatial Analysis\n",
    "\n",
    "## Session 1 - Address and Reverse Geocoding \n",
    "\n",
    "### Demo 4 -  Reverse Geocoding"
   ]
  },
  {
   "cell_type": "code",
   "execution_count": 1,
   "metadata": {},
   "outputs": [
    {
     "name": "stdout",
     "output_type": "stream",
     "text": [
      "Help on function reverse_geocode in module arcgis.geocoding._functions:\n",
      "\n",
      "reverse_geocode(location, distance=None, out_sr=None, lang_code=None, return_intersection=False, for_storage=False, geocoder=None)\n",
      "    The reverse_geocode operation determines the address at a particular\n",
      "    x/y location. You pass the coordinates of a point location to the\n",
      "    geocoding service, and the service returns the address that is\n",
      "    closest to the location.\n",
      "    \n",
      "    ===============     ====================================================\n",
      "    **Argument**        **Description**\n",
      "    ---------------     ----------------------------------------------------\n",
      "    location            required list/Point Geometry\n",
      "    ---------------     ----------------------------------------------------\n",
      "    distance            optional float, radial distance in meteres to\n",
      "                        search for an address.  The default is 100 meters.\n",
      "    ---------------     ----------------------------------------------------\n",
      "    out_sr              optional integer, spatial reference of the x/y\n",
      "                        coordinate returned.\n",
      "    ---------------     ----------------------------------------------------\n",
      "    return_intersection optional Boolean, which specifies whether the\n",
      "                        service should return the nearest street\n",
      "                        intersection or the nearest address to the input\n",
      "                        location\n",
      "    ---------------     ----------------------------------------------------\n",
      "    for_storage         optional boolean, specifies whether the results of\n",
      "                        the operation will be persisted\n",
      "    ---------------     ----------------------------------------------------\n",
      "    geocoder            optional geocoder, the geocoder to be used. If not\n",
      "                        specified, the active GIS's first geocoder is used.\n",
      "    ===============     ====================================================\n",
      "    \n",
      "    :returns:\n",
      "       dictionary\n",
      "\n"
     ]
    }
   ],
   "source": [
    "from arcgis.geocoding import reverse_geocode\n",
    "\n",
    "help(reverse_geocode)"
   ]
  },
  {
   "cell_type": "markdown",
   "metadata": {},
   "source": [
    "# 1. Reverse geocode the location x = 2.2945, y = 48.8583"
   ]
  },
  {
   "cell_type": "code",
   "execution_count": 2,
   "metadata": {},
   "outputs": [],
   "source": [
    "from arcgis.gis import GIS\n",
    "from arcgis.geocoding import reverse_geocode\n",
    "\n",
    "gis = GIS(\"http://www.arcgis.com\", \"Gutierres_bts\", \"Liberdade3030\")\n",
    "# gis = GIS(\"http://www.arcgis.com\", \"username\", \"password\")"
   ]
  },
  {
   "cell_type": "code",
   "execution_count": 10,
   "metadata": {},
   "outputs": [],
   "source": [
    "results = reverse_geocode([2.2945, 48.8583])"
   ]
  },
  {
   "cell_type": "code",
   "execution_count": 11,
   "metadata": {},
   "outputs": [
    {
     "data": {
      "text/plain": [
       "{'address': {'AddNum': '',\n",
       "  'Addr_type': 'POI',\n",
       "  'Address': 'Avenue Gustave Eiffel',\n",
       "  'Block': '',\n",
       "  'City': 'Paris',\n",
       "  'CountryCode': 'FRA',\n",
       "  'District': '7e Arrondissement',\n",
       "  'LongLabel': 'Salle Gustave Eiffel, Avenue Gustave Eiffel, 75007, 7e Arrondissement, Paris, Île-de-France, FRA',\n",
       "  'Match_addr': 'Salle Gustave Eiffel',\n",
       "  'MetroArea': '',\n",
       "  'Neighborhood': 'Gros Caillou',\n",
       "  'PlaceName': 'Salle Gustave Eiffel',\n",
       "  'Postal': '75007',\n",
       "  'PostalExt': '',\n",
       "  'Region': 'Île-de-France',\n",
       "  'Sector': '',\n",
       "  'ShortLabel': 'Salle Gustave Eiffel',\n",
       "  'Subregion': 'Paris',\n",
       "  'Territory': '',\n",
       "  'Type': 'Convention Center'},\n",
       " 'location': {'spatialReference': {'latestWkid': 4326, 'wkid': 4326},\n",
       "  'x': 2.2951599583073303,\n",
       "  'y': 48.85784000836726}}"
      ]
     },
     "execution_count": 11,
     "metadata": {},
     "output_type": "execute_result"
    }
   ],
   "source": [
    "results"
   ]
  },
  {
   "cell_type": "markdown",
   "metadata": {},
   "source": [
    "# 2. Reverse geocode a location in Brussels with lang_code='fr' (location = 4.366281,50.851994)"
   ]
  },
  {
   "cell_type": "markdown",
   "metadata": {},
   "source": [
    "Lang_code = Sets the language in which reverse-geocoded addresses are returned. Addresses in many countries are available in more than one language.\n",
    "\n",
    "https://en.wikipedia.org/wiki/List_of_ISO_639-1_codes"
   ]
  },
  {
   "cell_type": "code",
   "execution_count": 6,
   "metadata": {},
   "outputs": [],
   "source": [
    "result = reverse_geocode([4.366281,50.851994], lang_code=\"fr\")"
   ]
  },
  {
   "cell_type": "code",
   "execution_count": 9,
   "metadata": {},
   "outputs": [
    {
     "data": {
      "text/plain": [
       "{'address': {'AddNum': '',\n",
       "  'Addr_type': 'POI',\n",
       "  'Address': 'Travessera de Gràcia',\n",
       "  'Block': '',\n",
       "  'City': 'Barcelona',\n",
       "  'CountryCode': 'ESP',\n",
       "  'District': 'Barcelona',\n",
       "  'LongLabel': 'Alter Buster, Travessera de Gràcia, 08021, Sant Gervasi-Galvany, Barcelona, Catalunya, ESP',\n",
       "  'Match_addr': 'Alter Buster',\n",
       "  'MetroArea': '',\n",
       "  'Neighborhood': 'Sant Gervasi-Galvany',\n",
       "  'PlaceName': 'Alter Buster',\n",
       "  'Postal': '08021',\n",
       "  'PostalExt': '',\n",
       "  'Region': 'Catalunya',\n",
       "  'Sector': '',\n",
       "  'ShortLabel': 'Alter Buster',\n",
       "  'Subregion': 'Barcelona',\n",
       "  'Territory': '',\n",
       "  'Type': 'Tapas'},\n",
       " 'location': {'spatialReference': {'latestWkid': 4326, 'wkid': 4326},\n",
       "  'x': 2.1454100000000267,\n",
       "  'y': 41.39334000000008}}"
      ]
     },
     "execution_count": 9,
     "metadata": {},
     "output_type": "execute_result"
    }
   ],
   "source": [
    "result"
   ]
  },
  {
   "cell_type": "markdown",
   "metadata": {},
   "source": [
    "# 3. Reverse geocode a clicked location on the map"
   ]
  },
  {
   "cell_type": "code",
   "execution_count": null,
   "metadata": {},
   "outputs": [],
   "source": [
    "from arcgis.gis import GIS\n",
    "from arcgis.geocoding import reverse_geocode\n",
    "gis = GIS(\"http://www.arcgis.com\", \"Gutierres_bts\", \"Liberdade3030\")\n",
    "# gis = GIS(\"http://www.arcgis.com\", \"username\", \"password\")"
   ]
  },
  {
   "cell_type": "code",
   "execution_count": null,
   "metadata": {},
   "outputs": [],
   "source": [
    "m = gis.map('Redlands, CA', 14)\n",
    "m"
   ]
  },
  {
   "cell_type": "code",
   "execution_count": null,
   "metadata": {},
   "outputs": [],
   "source": [
    "def find_addr(m, g):\n",
    "    try:\n",
    "        geocoded = reverse_geocode(g)\n",
    "        print(geocoded['address']['Match_addr'])\n",
    "    except:\n",
    "        print(\"Couldn't match address. Try another place...\")\n",
    "\n",
    "m.on_click(find_addr)"
   ]
  },
  {
   "cell_type": "markdown",
   "metadata": {},
   "source": [
    "## Task: test the reverse geocoding based on other locations (e.g. your home, your city, BTS building). Tip: use the ArcGIS Online tools to get your coordinates."
   ]
  }
 ],
 "metadata": {
  "kernelspec": {
   "display_name": "Python 3",
   "language": "python",
   "name": "python3"
  },
  "language_info": {
   "codemirror_mode": {
    "name": "ipython",
    "version": 3
   },
   "file_extension": ".py",
   "mimetype": "text/x-python",
   "name": "python",
   "nbconvert_exporter": "python",
   "pygments_lexer": "ipython3",
   "version": "3.6.0"
  }
 },
 "nbformat": 4,
 "nbformat_minor": 2
}
