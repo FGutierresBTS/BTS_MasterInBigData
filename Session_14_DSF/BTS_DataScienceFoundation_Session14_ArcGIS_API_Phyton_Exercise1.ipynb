{
 "cells": [
  {
   "cell_type": "markdown",
   "metadata": {},
   "source": [
    "# Subject: Data Science Foundation\n",
    "\n",
    "## Session 14 - ArcGIS API for Python.\n",
    "\n",
    "### Exercise 1 -  Your first notebook based on a HotSpot Analysis#"
   ]
  },
  {
   "cell_type": "markdown",
   "metadata": {},
   "source": [
    "# Lets Create a Hotspot analysis in ArcGIS Online and get our first BTS map with ArcGIS API for Phyton"
   ]
  },
  {
   "cell_type": "markdown",
   "metadata": {},
   "source": [
    "The first step is to create a hotspot layer in your ArcGIS Online account using the file \"data_export_01-2015_Bcn\" (/Session_14_DSF). Lets do together. Go to http://www.arcgis.com"
   ]
  },
  {
   "cell_type": "markdown",
   "metadata": {},
   "source": [
    "The second step is to import the ArcGIS API for Python in your notebook"
   ]
  },
  {
   "cell_type": "code",
   "execution_count": 35,
   "metadata": {
    "collapsed": true
   },
   "outputs": [],
   "source": [
    "from arcgis.gis import GIS"
   ]
  },
  {
   "cell_type": "markdown",
   "metadata": {},
   "source": [
    "To get started, create an anonymous connection to ArcGIS Online as shown below:"
   ]
  },
  {
   "cell_type": "code",
   "execution_count": 36,
   "metadata": {
    "collapsed": true
   },
   "outputs": [],
   "source": [
    "gis = GIS()"
   ]
  },
  {
   "cell_type": "markdown",
   "metadata": {},
   "source": [
    "You can search for content as shown below. Since you are connected to ArcGIS Online and as an anonymous user, the query shown below will return public content that is shared on ArcGIS Online. Lets find the mobile data and the hotspot output."
   ]
  },
  {
   "cell_type": "code",
   "execution_count": 37,
   "metadata": {
    "collapsed": true
   },
   "outputs": [],
   "source": [
    "public_content = gis.content.search(\"hs_mobile_2015_Bcn\", item_type=\"Feature Layer\", max_items=5)"
   ]
  },
  {
   "cell_type": "code",
   "execution_count": 38,
   "metadata": {
    "collapsed": false,
    "scrolled": true
   },
   "outputs": [
    {
     "data": {
      "text/plain": [
       "[<Item title:\"hs_mobile_2015_Bcn\" type:Feature Layer Collection owner:MariiaShcherbiakBTS>,\n",
       " <Item title:\"hs_mobile_2015_Bcn\" type:Feature Layer Collection owner:FSGutierres_BTS>,\n",
       " <Item title:\"hs_mobile_2015_Bcn_FB\" type:Feature Layer Collection owner:FrancoBoni2>]"
      ]
     },
     "execution_count": 38,
     "metadata": {},
     "output_type": "execute_result"
    }
   ],
   "source": [
    "public_content"
   ]
  },
  {
   "cell_type": "markdown",
   "metadata": {},
   "source": [
    "The ArcGIS API for Python extends the Jupyter Notebook IDE to display ArcGIS Items in rich HTML notation. Thus, you can loop through each of the items in the search result and display it with thumbnails and metadata as shown below:"
   ]
  },
  {
   "cell_type": "code",
   "execution_count": 39,
   "metadata": {
    "collapsed": false
   },
   "outputs": [
    {
     "data": {
      "text/html": [
       "<div class=\"item_container\" style=\"height: auto; overflow: hidden; border: 1px solid #cfcfcf; border-radius: 2px; background: #f6fafa; line-height: 1.21429em; padding: 10px;\">\n",
       "                    <div class=\"item_left\" style=\"width: 210px; float: left;\">\n",
       "                       <a href='http://www.arcgis.com/home/item.html?id=62d32bed62c84248845f283bdab78c61' target='_blank'>\n",
       "                        <img src='http://www.arcgis.com/sharing/rest//content/items/62d32bed62c84248845f283bdab78c61/info/thumbnail/ago_downloaded.png' class=\"itemThumbnail\">\n",
       "                       </a>\n",
       "                    </div>\n",
       "\n",
       "                    <div class=\"item_right\"     style=\"float: none; width: auto; overflow: hidden;\">\n",
       "                        <a href='http://www.arcgis.com/home/item.html?id=62d32bed62c84248845f283bdab78c61' target='_blank'><b>hs_mobile_2015_Bcn</b>\n",
       "                        </a>\n",
       "                        <br/>Feature layer generated from Find Hot Spots<img src='http://www.arcgis.com/home/js/jsapi/esri/css/images/item_type_icons/featureshosted16.png' style=\"vertical-align:middle;\">Feature Layer Collection by MariiaShcherbiakBTS\n",
       "                        <br/>Last Modified: November 17, 2017\n",
       "                        <br/>0 comments, 2 views\n",
       "                    </div>\n",
       "                </div>\n",
       "                "
      ],
      "text/plain": [
       "<Item title:\"hs_mobile_2015_Bcn\" type:Feature Layer Collection owner:MariiaShcherbiakBTS>"
      ]
     },
     "metadata": {},
     "output_type": "display_data"
    },
    {
     "data": {
      "text/html": [
       "<div class=\"item_container\" style=\"height: auto; overflow: hidden; border: 1px solid #cfcfcf; border-radius: 2px; background: #f6fafa; line-height: 1.21429em; padding: 10px;\">\n",
       "                    <div class=\"item_left\" style=\"width: 210px; float: left;\">\n",
       "                       <a href='http://www.arcgis.com/home/item.html?id=840314166c674dc7bac68d453e80886e' target='_blank'>\n",
       "                        <img src='http://www.arcgis.com/sharing/rest//content/items/840314166c674dc7bac68d453e80886e/info/thumbnail/ago_downloaded.png' class=\"itemThumbnail\">\n",
       "                       </a>\n",
       "                    </div>\n",
       "\n",
       "                    <div class=\"item_right\"     style=\"float: none; width: auto; overflow: hidden;\">\n",
       "                        <a href='http://www.arcgis.com/home/item.html?id=840314166c674dc7bac68d453e80886e' target='_blank'><b>hs_mobile_2015_Bcn</b>\n",
       "                        </a>\n",
       "                        <br/>Feature layer generated from Find Hot Spots<img src='http://www.arcgis.com/home/js/jsapi/esri/css/images/item_type_icons/featureshosted16.png' style=\"vertical-align:middle;\">Feature Layer Collection by FSGutierres_BTS\n",
       "                        <br/>Last Modified: November 17, 2017\n",
       "                        <br/>0 comments, 7 views\n",
       "                    </div>\n",
       "                </div>\n",
       "                "
      ],
      "text/plain": [
       "<Item title:\"hs_mobile_2015_Bcn\" type:Feature Layer Collection owner:FSGutierres_BTS>"
      ]
     },
     "metadata": {},
     "output_type": "display_data"
    },
    {
     "data": {
      "text/html": [
       "<div class=\"item_container\" style=\"height: auto; overflow: hidden; border: 1px solid #cfcfcf; border-radius: 2px; background: #f6fafa; line-height: 1.21429em; padding: 10px;\">\n",
       "                    <div class=\"item_left\" style=\"width: 210px; float: left;\">\n",
       "                       <a href='http://www.arcgis.com/home/item.html?id=2ee5adda96534c8d9eb2421690221954' target='_blank'>\n",
       "                        <img src='http://www.arcgis.com/sharing/rest//content/items/2ee5adda96534c8d9eb2421690221954/info/thumbnail/ago_downloaded.png' class=\"itemThumbnail\">\n",
       "                       </a>\n",
       "                    </div>\n",
       "\n",
       "                    <div class=\"item_right\"     style=\"float: none; width: auto; overflow: hidden;\">\n",
       "                        <a href='http://www.arcgis.com/home/item.html?id=2ee5adda96534c8d9eb2421690221954' target='_blank'><b>hs_mobile_2015_Bcn_FB</b>\n",
       "                        </a>\n",
       "                        <br/>Feature layer generated from Find Hot Spots<img src='http://www.arcgis.com/home/js/jsapi/esri/css/images/item_type_icons/featureshosted16.png' style=\"vertical-align:middle;\">Feature Layer Collection by FrancoBoni2\n",
       "                        <br/>Last Modified: November 17, 2017\n",
       "                        <br/>1 comments, 6 views\n",
       "                    </div>\n",
       "                </div>\n",
       "                "
      ],
      "text/plain": [
       "<Item title:\"hs_mobile_2015_Bcn_FB\" type:Feature Layer Collection owner:FrancoBoni2>"
      ]
     },
     "metadata": {},
     "output_type": "display_data"
    }
   ],
   "source": [
    "from IPython.display import display\n",
    "for item in public_content:\n",
    "    display(item)"
   ]
  },
  {
   "cell_type": "markdown",
   "metadata": {},
   "source": [
    "# Display layers on a map"
   ]
  },
  {
   "cell_type": "markdown",
   "metadata": {},
   "source": [
    "The ArcGIS API for Python adds a map widget to the Jupyter Notebook. You can easily pull up a map as shown below. It may take a few seconds for the map to display the first time."
   ]
  },
  {
   "cell_type": "code",
   "execution_count": 40,
   "metadata": {
    "collapsed": true
   },
   "outputs": [],
   "source": [
    "# Create a map widget\n",
    "map1 = gis.map('Barcelona') # Passing a place name to the constructor\n",
    "                        # will initialize the extent of the map.\n",
    "map1"
   ]
  },
  {
   "cell_type": "markdown",
   "metadata": {},
   "source": [
    "Get the first item from your search result and add it the map you created"
   ]
  },
  {
   "cell_type": "code",
   "execution_count": 41,
   "metadata": {
    "collapsed": false
   },
   "outputs": [],
   "source": [
    "#get the first item\n",
    "Mobile_2015_Bcn_HotSpots = public_content[1]\n",
    "\n",
    "#add to map\n",
    "map1.add_layer(Mobile_2015_Bcn_HotSpots)"
   ]
  },
  {
   "cell_type": "markdown",
   "metadata": {},
   "source": [
    "# Task1: Import another Public shapefiles of your ArcGIS Online account or from the BTS group and visualize."
   ]
  },
  {
   "cell_type": "markdown",
   "metadata": {},
   "source": [
    "> Put your code here"
   ]
  },
  {
   "cell_type": "code",
   "execution_count": 42,
   "metadata": {
    "collapsed": false
   },
   "outputs": [],
   "source": [
    "public_content = gis.content.search(\"barcelona\", item_type=\"Feature Layer\", max_items=5)"
   ]
  },
  {
   "cell_type": "code",
   "execution_count": 43,
   "metadata": {
    "collapsed": false
   },
   "outputs": [
    {
     "data": {
      "text/plain": [
       "[<Item title:\"Infraestructura_puerto_Barcelona\" type:Feature Layer Collection owner:isaac.sanchez.preventas>,\n",
       " <Item title:\"Puerto_\" type:Feature Layer Collection owner:LuisPuertosESRI>,\n",
       " <Item title:\"VZKeyPollingPlaces\" type:Feature Layer Collection owner:gsheppard_esrifederal>,\n",
       " <Item title:\"Padró d'habitants per barri 2016\" type:Feature Layer Collection owner:tubauma>,\n",
       " <Item title:\"Edificios singulares de Barcelona\" type:Feature Layer Collection owner:geotec_uji>]"
      ]
     },
     "execution_count": 43,
     "metadata": {},
     "output_type": "execute_result"
    }
   ],
   "source": [
    "public_content"
   ]
  },
  {
   "cell_type": "code",
   "execution_count": 46,
   "metadata": {
    "collapsed": false
   },
   "outputs": [
    {
     "data": {
      "text/html": [
       "<div class=\"item_container\" style=\"height: auto; overflow: hidden; border: 1px solid #cfcfcf; border-radius: 2px; background: #f6fafa; line-height: 1.21429em; padding: 10px;\">\n",
       "                    <div class=\"item_left\" style=\"width: 210px; float: left;\">\n",
       "                       <a href='http://www.arcgis.com/home/item.html?id=b9351ac1cab9473d8d264afe76b0b200' target='_blank'>\n",
       "                        <img src='http://www.arcgis.com/sharing/rest//content/items/b9351ac1cab9473d8d264afe76b0b200/info/thumbnail/thumbnail.png' class=\"itemThumbnail\">\n",
       "                       </a>\n",
       "                    </div>\n",
       "\n",
       "                    <div class=\"item_right\"     style=\"float: none; width: auto; overflow: hidden;\">\n",
       "                        <a href='http://www.arcgis.com/home/item.html?id=b9351ac1cab9473d8d264afe76b0b200' target='_blank'><b>Infraestructura_puerto_Barcelona</b>\n",
       "                        </a>\n",
       "                        <br/>Infraestructura portuaria<img src='http://www.arcgis.com/home/js/jsapi/esri/css/images/item_type_icons/featureshosted16.png' style=\"vertical-align:middle;\">Feature Layer Collection by isaac.sanchez.preventas\n",
       "                        <br/>Last Modified: May 27, 2015\n",
       "                        <br/>0 comments, 2,826 views\n",
       "                    </div>\n",
       "                </div>\n",
       "                "
      ],
      "text/plain": [
       "<Item title:\"Infraestructura_puerto_Barcelona\" type:Feature Layer Collection owner:isaac.sanchez.preventas>"
      ]
     },
     "metadata": {},
     "output_type": "display_data"
    },
    {
     "data": {
      "text/html": [
       "<div class=\"item_container\" style=\"height: auto; overflow: hidden; border: 1px solid #cfcfcf; border-radius: 2px; background: #f6fafa; line-height: 1.21429em; padding: 10px;\">\n",
       "                    <div class=\"item_left\" style=\"width: 210px; float: left;\">\n",
       "                       <a href='http://www.arcgis.com/home/item.html?id=ef47638ddf0e44628b2157cf9ec0b673' target='_blank'>\n",
       "                        <img src='http://www.arcgis.com/sharing/rest//content/items/ef47638ddf0e44628b2157cf9ec0b673/info/thumbnail/thumbnail.png' class=\"itemThumbnail\">\n",
       "                       </a>\n",
       "                    </div>\n",
       "\n",
       "                    <div class=\"item_right\"     style=\"float: none; width: auto; overflow: hidden;\">\n",
       "                        <a href='http://www.arcgis.com/home/item.html?id=ef47638ddf0e44628b2157cf9ec0b673' target='_blank'><b>Puerto_</b>\n",
       "                        </a>\n",
       "                        <br/>Infraestructura del Puerto de Barcelona<img src='http://www.arcgis.com/home/js/jsapi/esri/css/images/item_type_icons/featureshosted16.png' style=\"vertical-align:middle;\">Feature Layer Collection by LuisPuertosESRI\n",
       "                        <br/>Last Modified: July 04, 2014\n",
       "                        <br/>0 comments, 430 views\n",
       "                    </div>\n",
       "                </div>\n",
       "                "
      ],
      "text/plain": [
       "<Item title:\"Puerto_\" type:Feature Layer Collection owner:LuisPuertosESRI>"
      ]
     },
     "metadata": {},
     "output_type": "display_data"
    },
    {
     "data": {
      "text/html": [
       "<div class=\"item_container\" style=\"height: auto; overflow: hidden; border: 1px solid #cfcfcf; border-radius: 2px; background: #f6fafa; line-height: 1.21429em; padding: 10px;\">\n",
       "                    <div class=\"item_left\" style=\"width: 210px; float: left;\">\n",
       "                       <a href='http://www.arcgis.com/home/item.html?id=0048ce50b7324b2bab6e33d859a7cf5d' target='_blank'>\n",
       "                        <img src='http://www.arcgis.com/sharing/rest//content/items/0048ce50b7324b2bab6e33d859a7cf5d/info/thumbnail/thumbnail.png' class=\"itemThumbnail\">\n",
       "                       </a>\n",
       "                    </div>\n",
       "\n",
       "                    <div class=\"item_right\"     style=\"float: none; width: auto; overflow: hidden;\">\n",
       "                        <a href='http://www.arcgis.com/home/item.html?id=0048ce50b7324b2bab6e33d859a7cf5d' target='_blank'><b>VZKeyPollingPlaces</b>\n",
       "                        </a>\n",
       "                        <br/>Key polling places in Barcelona<img src='http://www.arcgis.com/home/js/jsapi/esri/css/images/item_type_icons/featureshosted16.png' style=\"vertical-align:middle;\">Feature Layer Collection by gsheppard_esrifederal\n",
       "                        <br/>Last Modified: February 04, 2015\n",
       "                        <br/>0 comments, 101 views\n",
       "                    </div>\n",
       "                </div>\n",
       "                "
      ],
      "text/plain": [
       "<Item title:\"VZKeyPollingPlaces\" type:Feature Layer Collection owner:gsheppard_esrifederal>"
      ]
     },
     "metadata": {},
     "output_type": "display_data"
    },
    {
     "data": {
      "text/html": [
       "<div class=\"item_container\" style=\"height: auto; overflow: hidden; border: 1px solid #cfcfcf; border-radius: 2px; background: #f6fafa; line-height: 1.21429em; padding: 10px;\">\n",
       "                    <div class=\"item_left\" style=\"width: 210px; float: left;\">\n",
       "                       <a href='http://www.arcgis.com/home/item.html?id=d86689a8d4b64d148d3aa170b01911d5' target='_blank'>\n",
       "                        <img src='http://www.arcgis.com/sharing/rest//content/items/d86689a8d4b64d148d3aa170b01911d5/info/thumbnail/punts_llarg.png' class=\"itemThumbnail\">\n",
       "                       </a>\n",
       "                    </div>\n",
       "\n",
       "                    <div class=\"item_right\"     style=\"float: none; width: auto; overflow: hidden;\">\n",
       "                        <a href='http://www.arcgis.com/home/item.html?id=d86689a8d4b64d148d3aa170b01911d5' target='_blank'><b>Padró d'habitants per barri 2016</b>\n",
       "                        </a>\n",
       "                        <br/>Habitants_barri_2016<img src='http://www.arcgis.com/home/js/jsapi/esri/css/images/item_type_icons/featureshosted16.png' style=\"vertical-align:middle;\">Feature Layer Collection by tubauma\n",
       "                        <br/>Last Modified: June 03, 2016\n",
       "                        <br/>0 comments, 94 views\n",
       "                    </div>\n",
       "                </div>\n",
       "                "
      ],
      "text/plain": [
       "<Item title:\"Padró d'habitants per barri 2016\" type:Feature Layer Collection owner:tubauma>"
      ]
     },
     "metadata": {},
     "output_type": "display_data"
    },
    {
     "data": {
      "text/html": [
       "<div class=\"item_container\" style=\"height: auto; overflow: hidden; border: 1px solid #cfcfcf; border-radius: 2px; background: #f6fafa; line-height: 1.21429em; padding: 10px;\">\n",
       "                    <div class=\"item_left\" style=\"width: 210px; float: left;\">\n",
       "                       <a href='http://www.arcgis.com/home/item.html?id=4b3bb995ad4a4c53bb49cc87888dbf7c' target='_blank'>\n",
       "                        <img src='http://www.arcgis.com/sharing/rest//content/items/4b3bb995ad4a4c53bb49cc87888dbf7c/info/thumbnail/ago_downloaded.png' class=\"itemThumbnail\">\n",
       "                       </a>\n",
       "                    </div>\n",
       "\n",
       "                    <div class=\"item_right\"     style=\"float: none; width: auto; overflow: hidden;\">\n",
       "                        <a href='http://www.arcgis.com/home/item.html?id=4b3bb995ad4a4c53bb49cc87888dbf7c' target='_blank'><b>Edificios singulares de Barcelona</b>\n",
       "                        </a>\n",
       "                        <br/>Edificios singulares de Barcelona<img src='http://www.arcgis.com/home/js/jsapi/esri/css/images/item_type_icons/featureshosted16.png' style=\"vertical-align:middle;\">Feature Layer Collection by geotec_uji\n",
       "                        <br/>Last Modified: September 16, 2014\n",
       "                        <br/>0 comments, 218 views\n",
       "                    </div>\n",
       "                </div>\n",
       "                "
      ],
      "text/plain": [
       "<Item title:\"Edificios singulares de Barcelona\" type:Feature Layer Collection owner:geotec_uji>"
      ]
     },
     "metadata": {},
     "output_type": "display_data"
    }
   ],
   "source": [
    "from IPython.display import display\n",
    "for item in public_content:\n",
    "    display(item)"
   ]
  },
  {
   "cell_type": "code",
   "execution_count": 44,
   "metadata": {
    "collapsed": true
   },
   "outputs": [],
   "source": [
    "map2 = gis.map('Barcelona') # Passing a place name to the constructor\n",
    "                        # will initialize the extent of the map.\n",
    "map2"
   ]
  },
  {
   "cell_type": "code",
   "execution_count": 45,
   "metadata": {
    "collapsed": true
   },
   "outputs": [],
   "source": [
    "Edificios_singulares_de_Barcelona = public_content[1]\n",
    "\n",
    "#add to map\n",
    "map2.add_layer(Edificios_singulares_de_Barcelona)"
   ]
  }
 ],
 "metadata": {
  "kernelspec": {
   "display_name": "Python 3",
   "language": "python",
   "name": "python3"
  },
  "language_info": {
   "codemirror_mode": {
    "name": "ipython",
    "version": 3
   },
   "file_extension": ".py",
   "mimetype": "text/x-python",
   "name": "python",
   "nbconvert_exporter": "python",
   "pygments_lexer": "ipython3",
   "version": "3.6.0"
  }
 },
 "nbformat": 4,
 "nbformat_minor": 2
}
