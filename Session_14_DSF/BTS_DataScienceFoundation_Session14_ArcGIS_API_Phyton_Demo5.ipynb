{
 "cells": [
  {
   "cell_type": "markdown",
   "metadata": {},
   "source": [
    "# Subject: Data Science Foundation\n",
    "\n",
    "## Session 14 - ArcGIS API for Python.\n",
    "\n",
    "### Demo 5 -  Descriptive Statistics using a HTML table to Pandas Data Frame to Portal Item"
   ]
  },
  {
   "cell_type": "markdown",
   "metadata": {},
   "source": [
    "# Descriptive Statistics"
   ]
  },
  {
   "cell_type": "markdown",
   "metadata": {},
   "source": [
    "Descriptive Analytics is backwards looking and focuses on telling users what happened. Examples of questions that descriptive analytics can answer are how many, when and where?"
   ]
  },
  {
   "cell_type": "markdown",
   "metadata": {},
   "source": [
    "Often we read informative articles that present data in a tabular form. If such data contained location information, it would be much more insightful if presented as a cartographic map. Thus this sample shows how Pandas can be used to extract data from a table within a web page (in this case, a Wikipedia article) and how it can be then brought into the GIS for further analysis and visualization."
   ]
  },
  {
   "cell_type": "markdown",
   "metadata": {},
   "source": [
    "Note: to run this sample, you need a few extra libraries in your conda environment. If you don't have the libraries, install them by running the following commands from cmd.exe or your shell"
   ]
  },
  {
   "cell_type": "markdown",
   "metadata": {},
   "source": [
    "- *conda install lxml* - Pythonic binding for the C libraries libxml2 and libxslt.\n",
    "- *conda install html5lib* - HTML parser based on the WHATWG HTML specification.\n",
    "- *conda install beautifulsoup4* - Python library designed for screen-scraping.\n",
    "- *conda install matplotlib* - Publication quality figures in Python."
   ]
  },
  {
   "cell_type": "code",
   "execution_count": 51,
   "metadata": {
    "collapsed": true
   },
   "outputs": [],
   "source": [
    "import pandas as pd"
   ]
  },
  {
   "cell_type": "markdown",
   "metadata": {},
   "source": [
    "Let us read the Wikipedia article on List of countries by vehicles per capita as a pandas data frame object.\n",
    "\n",
    "Note: This article is a list of countries by the number of road motor vehicles per 1,000 inhabitants. Note that car is different from road motor vehicle as the latter includes automobiles but also vans, buses, freight and other trucks.\n",
    "The list however excludes motorcycles and other two-wheelers."
   ]
  },
  {
   "cell_type": "markdown",
   "metadata": {},
   "source": [
    "https://en.wikipedia.org/wiki/Estimated_number_of_guns_per_capita_by_country"
   ]
  },
  {
   "cell_type": "code",
   "execution_count": 52,
   "metadata": {
    "collapsed": false
   },
   "outputs": [],
   "source": [
    "df = pd.read_html(\"https://en.wikipedia.org/wiki/List_of_countries_by_vehicles_per_capita\")[0]"
   ]
  },
  {
   "cell_type": "code",
   "execution_count": 53,
   "metadata": {
    "collapsed": false,
    "scrolled": true
   },
   "outputs": [
    {
     "data": {
      "text/html": [
       "<div>\n",
       "<table border=\"1\" class=\"dataframe\">\n",
       "  <thead>\n",
       "    <tr style=\"text-align: right;\">\n",
       "      <th></th>\n",
       "      <th>0</th>\n",
       "      <th>1</th>\n",
       "      <th>2</th>\n",
       "      <th>3</th>\n",
       "      <th>4</th>\n",
       "    </tr>\n",
       "  </thead>\n",
       "  <tbody>\n",
       "    <tr>\n",
       "      <th>0</th>\n",
       "      <td>Rank</td>\n",
       "      <td>Country</td>\n",
       "      <td>Motor vehicles per 1,000 people</td>\n",
       "      <td>Total</td>\n",
       "      <td>Notes</td>\n",
       "    </tr>\n",
       "    <tr>\n",
       "      <th>1</th>\n",
       "      <td>1</td>\n",
       "      <td>San Marino</td>\n",
       "      <td>1263</td>\n",
       "      <td>NaN</td>\n",
       "      <td>2014[1]</td>\n",
       "    </tr>\n",
       "    <tr>\n",
       "      <th>2</th>\n",
       "      <td>2</td>\n",
       "      <td>Monaco</td>\n",
       "      <td>899</td>\n",
       "      <td>NaN</td>\n",
       "      <td>2014[1]</td>\n",
       "    </tr>\n",
       "    <tr>\n",
       "      <th>3</th>\n",
       "      <td>3</td>\n",
       "      <td>United States</td>\n",
       "      <td>797</td>\n",
       "      <td>255,009,283[2]</td>\n",
       "      <td>2015[2]</td>\n",
       "    </tr>\n",
       "    <tr>\n",
       "      <th>4</th>\n",
       "      <td>4</td>\n",
       "      <td>New Zealand</td>\n",
       "      <td>774</td>\n",
       "      <td>3600000</td>\n",
       "      <td>2017[3]</td>\n",
       "    </tr>\n",
       "  </tbody>\n",
       "</table>\n",
       "</div>"
      ],
      "text/plain": [
       "      0              1                                2               3  \\\n",
       "0  Rank        Country  Motor vehicles per 1,000 people           Total   \n",
       "1     1     San Marino                             1263             NaN   \n",
       "2     2         Monaco                              899             NaN   \n",
       "3     3  United States                              797  255,009,283[2]   \n",
       "4     4    New Zealand                              774         3600000   \n",
       "\n",
       "         4  \n",
       "0    Notes  \n",
       "1  2014[1]  \n",
       "2  2014[1]  \n",
       "3  2015[2]  \n",
       "4  2017[3]  "
      ]
     },
     "execution_count": 53,
     "metadata": {},
     "output_type": "execute_result"
    }
   ],
   "source": [
    "df.head()"
   ]
  },
  {
   "cell_type": "code",
   "execution_count": 54,
   "metadata": {
    "collapsed": true
   },
   "outputs": [],
   "source": [
    "df.columns = df.iloc[0]\n",
    "df = df.reindex(df.index.drop(0))"
   ]
  },
  {
   "cell_type": "code",
   "execution_count": 55,
   "metadata": {
    "collapsed": false,
    "scrolled": false
   },
   "outputs": [
    {
     "data": {
      "text/html": [
       "<div>\n",
       "<table border=\"1\" class=\"dataframe\">\n",
       "  <thead>\n",
       "    <tr style=\"text-align: right;\">\n",
       "      <th></th>\n",
       "      <th>Rank</th>\n",
       "      <th>Country</th>\n",
       "      <th>Motor vehicles per 1,000 people</th>\n",
       "      <th>Total</th>\n",
       "      <th>Notes</th>\n",
       "    </tr>\n",
       "  </thead>\n",
       "  <tbody>\n",
       "    <tr>\n",
       "      <th>1</th>\n",
       "      <td>1</td>\n",
       "      <td>San Marino</td>\n",
       "      <td>1263</td>\n",
       "      <td>NaN</td>\n",
       "      <td>2014[1]</td>\n",
       "    </tr>\n",
       "    <tr>\n",
       "      <th>2</th>\n",
       "      <td>2</td>\n",
       "      <td>Monaco</td>\n",
       "      <td>899</td>\n",
       "      <td>NaN</td>\n",
       "      <td>2014[1]</td>\n",
       "    </tr>\n",
       "    <tr>\n",
       "      <th>3</th>\n",
       "      <td>3</td>\n",
       "      <td>United States</td>\n",
       "      <td>797</td>\n",
       "      <td>255,009,283[2]</td>\n",
       "      <td>2015[2]</td>\n",
       "    </tr>\n",
       "    <tr>\n",
       "      <th>4</th>\n",
       "      <td>4</td>\n",
       "      <td>New Zealand</td>\n",
       "      <td>774</td>\n",
       "      <td>3600000</td>\n",
       "      <td>2017[3]</td>\n",
       "    </tr>\n",
       "    <tr>\n",
       "      <th>5</th>\n",
       "      <td>5</td>\n",
       "      <td>Liechtenstein</td>\n",
       "      <td>750</td>\n",
       "      <td>NaN</td>\n",
       "      <td>2014[1][4]</td>\n",
       "    </tr>\n",
       "  </tbody>\n",
       "</table>\n",
       "</div>"
      ],
      "text/plain": [
       "0 Rank        Country Motor vehicles per 1,000 people           Total  \\\n",
       "1    1     San Marino                            1263             NaN   \n",
       "2    2         Monaco                             899             NaN   \n",
       "3    3  United States                             797  255,009,283[2]   \n",
       "4    4    New Zealand                             774         3600000   \n",
       "5    5  Liechtenstein                             750             NaN   \n",
       "\n",
       "0       Notes  \n",
       "1     2014[1]  \n",
       "2     2014[1]  \n",
       "3     2015[2]  \n",
       "4     2017[3]  \n",
       "5  2014[1][4]  "
      ]
     },
     "execution_count": 55,
     "metadata": {},
     "output_type": "execute_result"
    }
   ],
   "source": [
    "df.head()"
   ]
  },
  {
   "cell_type": "markdown",
   "metadata": {},
   "source": [
    "Lets check the data structure"
   ]
  },
  {
   "cell_type": "code",
   "execution_count": 56,
   "metadata": {
    "collapsed": false
   },
   "outputs": [
    {
     "data": {
      "text/plain": [
       "0\n",
       "Rank                               object\n",
       "Country                            object\n",
       "Motor vehicles per 1,000 people    object\n",
       "Total                              object\n",
       "Notes                              object\n",
       "dtype: object"
      ]
     },
     "execution_count": 56,
     "metadata": {},
     "output_type": "execute_result"
    }
   ],
   "source": [
    "df.dtypes"
   ]
  },
  {
   "cell_type": "code",
   "execution_count": 57,
   "metadata": {
    "collapsed": false
   },
   "outputs": [
    {
     "data": {
      "text/plain": [
       "(193, 5)"
      ]
     },
     "execution_count": 57,
     "metadata": {},
     "output_type": "execute_result"
    }
   ],
   "source": [
    "df.shape "
   ]
  },
  {
   "cell_type": "code",
   "execution_count": 58,
   "metadata": {
    "collapsed": false,
    "scrolled": true
   },
   "outputs": [
    {
     "name": "stdout",
     "output_type": "stream",
     "text": [
      "<class 'pandas.core.frame.DataFrame'>\n",
      "Int64Index: 193 entries, 1 to 193\n",
      "Data columns (total 5 columns):\n",
      "Rank                               192 non-null object\n",
      "Country                            192 non-null object\n",
      "Motor vehicles per 1,000 people    192 non-null object\n",
      "Total                              15 non-null object\n",
      "Notes                              192 non-null object\n",
      "dtypes: object(5)\n",
      "memory usage: 9.0+ KB\n"
     ]
    }
   ],
   "source": [
    "df.info()"
   ]
  },
  {
   "cell_type": "markdown",
   "metadata": {},
   "source": [
    "Lets find the ranking position of our Country"
   ]
  },
  {
   "cell_type": "code",
   "execution_count": 90,
   "metadata": {
    "collapsed": false
   },
   "outputs": [
    {
     "data": {
      "text/html": [
       "<div>\n",
       "<table border=\"1\" class=\"dataframe\">\n",
       "  <thead>\n",
       "    <tr style=\"text-align: right;\">\n",
       "      <th></th>\n",
       "      <th>Rank</th>\n",
       "      <th>Country</th>\n",
       "      <th>Motorveh1_000people</th>\n",
       "      <th>Total</th>\n",
       "      <th>Notes</th>\n",
       "    </tr>\n",
       "  </thead>\n",
       "  <tbody>\n",
       "    <tr>\n",
       "      <th>15</th>\n",
       "      <td>15.0</td>\n",
       "      <td>Spain</td>\n",
       "      <td>593.0</td>\n",
       "      <td>NaN</td>\n",
       "      <td>2014[1]</td>\n",
       "    </tr>\n",
       "  </tbody>\n",
       "</table>\n",
       "</div>"
      ],
      "text/plain": [
       "0   Rank Country  Motorveh1_000people Total    Notes\n",
       "15  15.0   Spain                593.0   NaN  2014[1]"
      ]
     },
     "execution_count": 90,
     "metadata": {},
     "output_type": "execute_result"
    }
   ],
   "source": [
    "df.loc[df['Country'] == \"Spain\"]"
   ]
  },
  {
   "cell_type": "code",
   "execution_count": 91,
   "metadata": {
    "collapsed": false
   },
   "outputs": [
    {
     "data": {
      "text/html": [
       "<div>\n",
       "<table border=\"1\" class=\"dataframe\">\n",
       "  <thead>\n",
       "    <tr style=\"text-align: right;\">\n",
       "      <th></th>\n",
       "      <th>Rank</th>\n",
       "      <th>Country</th>\n",
       "      <th>Motorveh1_000people</th>\n",
       "      <th>Total</th>\n",
       "      <th>Notes</th>\n",
       "    </tr>\n",
       "  </thead>\n",
       "  <tbody>\n",
       "    <tr>\n",
       "      <th>25</th>\n",
       "      <td>25.0</td>\n",
       "      <td>Portugal</td>\n",
       "      <td>548.0</td>\n",
       "      <td>NaN</td>\n",
       "      <td>2010[12]</td>\n",
       "    </tr>\n",
       "  </tbody>\n",
       "</table>\n",
       "</div>"
      ],
      "text/plain": [
       "0   Rank   Country  Motorveh1_000people Total     Notes\n",
       "25  25.0  Portugal                548.0   NaN  2010[12]"
      ]
     },
     "execution_count": 91,
     "metadata": {},
     "output_type": "execute_result"
    }
   ],
   "source": [
    "df.loc[df['Country'] == \"Portugal\"]"
   ]
  },
  {
   "cell_type": "markdown",
   "metadata": {},
   "source": [
    "Lets check the descriptive statistics"
   ]
  },
  {
   "cell_type": "code",
   "execution_count": 59,
   "metadata": {
    "collapsed": false,
    "scrolled": false
   },
   "outputs": [
    {
     "data": {
      "text/html": [
       "<div>\n",
       "<table border=\"1\" class=\"dataframe\">\n",
       "  <thead>\n",
       "    <tr style=\"text-align: right;\">\n",
       "      <th></th>\n",
       "      <th>Rank</th>\n",
       "      <th>Country</th>\n",
       "      <th>Motor vehicles per 1,000 people</th>\n",
       "      <th>Total</th>\n",
       "      <th>Notes</th>\n",
       "    </tr>\n",
       "  </thead>\n",
       "  <tbody>\n",
       "    <tr>\n",
       "      <th>count</th>\n",
       "      <td>192</td>\n",
       "      <td>192</td>\n",
       "      <td>192</td>\n",
       "      <td>15</td>\n",
       "      <td>192</td>\n",
       "    </tr>\n",
       "    <tr>\n",
       "      <th>unique</th>\n",
       "      <td>185</td>\n",
       "      <td>192</td>\n",
       "      <td>143</td>\n",
       "      <td>15</td>\n",
       "      <td>55</td>\n",
       "    </tr>\n",
       "    <tr>\n",
       "      <th>top</th>\n",
       "      <td>135</td>\n",
       "      <td>China</td>\n",
       "      <td>7</td>\n",
       "      <td>42192000</td>\n",
       "      <td>2010[1]</td>\n",
       "    </tr>\n",
       "    <tr>\n",
       "      <th>freq</th>\n",
       "      <td>3</td>\n",
       "      <td>1</td>\n",
       "      <td>4</td>\n",
       "      <td>1</td>\n",
       "      <td>48</td>\n",
       "    </tr>\n",
       "  </tbody>\n",
       "</table>\n",
       "</div>"
      ],
      "text/plain": [
       "0      Rank Country Motor vehicles per 1,000 people     Total    Notes\n",
       "count   192     192                             192        15      192\n",
       "unique  185     192                             143        15       55\n",
       "top     135   China                               7  42192000  2010[1]\n",
       "freq      3       1                               4         1       48"
      ]
     },
     "execution_count": 59,
     "metadata": {},
     "output_type": "execute_result"
    }
   ],
   "source": [
    "df.describe()"
   ]
  },
  {
   "cell_type": "markdown",
   "metadata": {},
   "source": [
    "Lets rename the columns to prepare the data for a correlation analysis and also for mapping"
   ]
  },
  {
   "cell_type": "code",
   "execution_count": 60,
   "metadata": {
    "collapsed": true
   },
   "outputs": [],
   "source": [
    "df.rename(columns={'Rank': 'Rank', 'Country': 'Country', 'Motor vehicles per 1,000 people': 'Motorveh1_000people', 'Total': 'Total', 'Notes': 'Notes'}, inplace=True)"
   ]
  },
  {
   "cell_type": "code",
   "execution_count": 61,
   "metadata": {
    "collapsed": false,
    "scrolled": false
   },
   "outputs": [
    {
     "data": {
      "text/html": [
       "<div>\n",
       "<table border=\"1\" class=\"dataframe\">\n",
       "  <thead>\n",
       "    <tr style=\"text-align: right;\">\n",
       "      <th></th>\n",
       "      <th>Rank</th>\n",
       "      <th>Country</th>\n",
       "      <th>Motorveh1_000people</th>\n",
       "      <th>Total</th>\n",
       "      <th>Notes</th>\n",
       "    </tr>\n",
       "  </thead>\n",
       "  <tbody>\n",
       "    <tr>\n",
       "      <th>1</th>\n",
       "      <td>1</td>\n",
       "      <td>San Marino</td>\n",
       "      <td>1263</td>\n",
       "      <td>NaN</td>\n",
       "      <td>2014[1]</td>\n",
       "    </tr>\n",
       "    <tr>\n",
       "      <th>2</th>\n",
       "      <td>2</td>\n",
       "      <td>Monaco</td>\n",
       "      <td>899</td>\n",
       "      <td>NaN</td>\n",
       "      <td>2014[1]</td>\n",
       "    </tr>\n",
       "    <tr>\n",
       "      <th>3</th>\n",
       "      <td>3</td>\n",
       "      <td>United States</td>\n",
       "      <td>797</td>\n",
       "      <td>255,009,283[2]</td>\n",
       "      <td>2015[2]</td>\n",
       "    </tr>\n",
       "    <tr>\n",
       "      <th>4</th>\n",
       "      <td>4</td>\n",
       "      <td>New Zealand</td>\n",
       "      <td>774</td>\n",
       "      <td>3600000</td>\n",
       "      <td>2017[3]</td>\n",
       "    </tr>\n",
       "    <tr>\n",
       "      <th>5</th>\n",
       "      <td>5</td>\n",
       "      <td>Liechtenstein</td>\n",
       "      <td>750</td>\n",
       "      <td>NaN</td>\n",
       "      <td>2014[1][4]</td>\n",
       "    </tr>\n",
       "  </tbody>\n",
       "</table>\n",
       "</div>"
      ],
      "text/plain": [
       "0 Rank        Country Motorveh1_000people           Total       Notes\n",
       "1    1     San Marino                1263             NaN     2014[1]\n",
       "2    2         Monaco                 899             NaN     2014[1]\n",
       "3    3  United States                 797  255,009,283[2]     2015[2]\n",
       "4    4    New Zealand                 774         3600000     2017[3]\n",
       "5    5  Liechtenstein                 750             NaN  2014[1][4]"
      ]
     },
     "execution_count": 61,
     "metadata": {},
     "output_type": "execute_result"
    }
   ],
   "source": [
    "df.head()"
   ]
  },
  {
   "cell_type": "markdown",
   "metadata": {},
   "source": [
    "We need the \"Motor vehicles per 1,000 people\" column (Motorveh1_000people) in numeric format. Hence let us convert it and while doing so, convert incorrect values to NaN which stands for Not a Number."
   ]
  },
  {
   "cell_type": "code",
   "execution_count": 73,
   "metadata": {
    "collapsed": false
   },
   "outputs": [
    {
     "data": {
      "text/html": [
       "<div>\n",
       "<table border=\"1\" class=\"dataframe\">\n",
       "  <thead>\n",
       "    <tr style=\"text-align: right;\">\n",
       "      <th></th>\n",
       "      <th>Rank</th>\n",
       "      <th>Country</th>\n",
       "      <th>Motorveh1_000people</th>\n",
       "      <th>Total</th>\n",
       "      <th>Notes</th>\n",
       "    </tr>\n",
       "  </thead>\n",
       "  <tbody>\n",
       "    <tr>\n",
       "      <th>1</th>\n",
       "      <td>1</td>\n",
       "      <td>San Marino</td>\n",
       "      <td>1263.0</td>\n",
       "      <td>NaN</td>\n",
       "      <td>2014[1]</td>\n",
       "    </tr>\n",
       "    <tr>\n",
       "      <th>2</th>\n",
       "      <td>2</td>\n",
       "      <td>Monaco</td>\n",
       "      <td>899.0</td>\n",
       "      <td>NaN</td>\n",
       "      <td>2014[1]</td>\n",
       "    </tr>\n",
       "    <tr>\n",
       "      <th>3</th>\n",
       "      <td>3</td>\n",
       "      <td>United States</td>\n",
       "      <td>797.0</td>\n",
       "      <td>255,009,283[2]</td>\n",
       "      <td>2015[2]</td>\n",
       "    </tr>\n",
       "    <tr>\n",
       "      <th>4</th>\n",
       "      <td>4</td>\n",
       "      <td>New Zealand</td>\n",
       "      <td>774.0</td>\n",
       "      <td>3600000</td>\n",
       "      <td>2017[3]</td>\n",
       "    </tr>\n",
       "    <tr>\n",
       "      <th>5</th>\n",
       "      <td>5</td>\n",
       "      <td>Liechtenstein</td>\n",
       "      <td>750.0</td>\n",
       "      <td>NaN</td>\n",
       "      <td>2014[1][4]</td>\n",
       "    </tr>\n",
       "  </tbody>\n",
       "</table>\n",
       "</div>"
      ],
      "text/plain": [
       "0 Rank        Country  Motorveh1_000people           Total       Notes\n",
       "1    1     San Marino               1263.0             NaN     2014[1]\n",
       "2    2         Monaco                899.0             NaN     2014[1]\n",
       "3    3  United States                797.0  255,009,283[2]     2015[2]\n",
       "4    4    New Zealand                774.0         3600000     2017[3]\n",
       "5    5  Liechtenstein                750.0             NaN  2014[1][4]"
      ]
     },
     "execution_count": 73,
     "metadata": {},
     "output_type": "execute_result"
    }
   ],
   "source": [
    "converted_column = pd.to_numeric(df[\"Motorveh1_000people\"], errors = 'coerce') # If ‘coerce’, then invalid parsing will be set as NaN.\n",
    "df['Motorveh1_000people'] = converted_column\n",
    "df.head()"
   ]
  },
  {
   "cell_type": "markdown",
   "metadata": {},
   "source": [
    "Repeat for the \"Rank\" column"
   ]
  },
  {
   "cell_type": "code",
   "execution_count": 75,
   "metadata": {
    "collapsed": false
   },
   "outputs": [
    {
     "data": {
      "text/html": [
       "<div>\n",
       "<table border=\"1\" class=\"dataframe\">\n",
       "  <thead>\n",
       "    <tr style=\"text-align: right;\">\n",
       "      <th></th>\n",
       "      <th>Rank</th>\n",
       "      <th>Country</th>\n",
       "      <th>Motorveh1_000people</th>\n",
       "      <th>Total</th>\n",
       "      <th>Notes</th>\n",
       "    </tr>\n",
       "  </thead>\n",
       "  <tbody>\n",
       "    <tr>\n",
       "      <th>1</th>\n",
       "      <td>1.0</td>\n",
       "      <td>San Marino</td>\n",
       "      <td>1263.0</td>\n",
       "      <td>NaN</td>\n",
       "      <td>2014[1]</td>\n",
       "    </tr>\n",
       "    <tr>\n",
       "      <th>2</th>\n",
       "      <td>2.0</td>\n",
       "      <td>Monaco</td>\n",
       "      <td>899.0</td>\n",
       "      <td>NaN</td>\n",
       "      <td>2014[1]</td>\n",
       "    </tr>\n",
       "    <tr>\n",
       "      <th>3</th>\n",
       "      <td>3.0</td>\n",
       "      <td>United States</td>\n",
       "      <td>797.0</td>\n",
       "      <td>255,009,283[2]</td>\n",
       "      <td>2015[2]</td>\n",
       "    </tr>\n",
       "    <tr>\n",
       "      <th>4</th>\n",
       "      <td>4.0</td>\n",
       "      <td>New Zealand</td>\n",
       "      <td>774.0</td>\n",
       "      <td>3600000</td>\n",
       "      <td>2017[3]</td>\n",
       "    </tr>\n",
       "    <tr>\n",
       "      <th>5</th>\n",
       "      <td>5.0</td>\n",
       "      <td>Liechtenstein</td>\n",
       "      <td>750.0</td>\n",
       "      <td>NaN</td>\n",
       "      <td>2014[1][4]</td>\n",
       "    </tr>\n",
       "  </tbody>\n",
       "</table>\n",
       "</div>"
      ],
      "text/plain": [
       "0  Rank        Country  Motorveh1_000people           Total       Notes\n",
       "1   1.0     San Marino               1263.0             NaN     2014[1]\n",
       "2   2.0         Monaco                899.0             NaN     2014[1]\n",
       "3   3.0  United States                797.0  255,009,283[2]     2015[2]\n",
       "4   4.0    New Zealand                774.0         3600000     2017[3]\n",
       "5   5.0  Liechtenstein                750.0             NaN  2014[1][4]"
      ]
     },
     "execution_count": 75,
     "metadata": {},
     "output_type": "execute_result"
    }
   ],
   "source": [
    "converted_column = pd.to_numeric(df[\"Rank\"], errors = 'coerce')\n",
    "df['Rank'] = converted_column\n",
    "df.head()"
   ]
  },
  {
   "cell_type": "markdown",
   "metadata": {},
   "source": [
    "Lets calculate the correlation"
   ]
  },
  {
   "cell_type": "code",
   "execution_count": 76,
   "metadata": {
    "collapsed": false
   },
   "outputs": [
    {
     "data": {
      "text/html": [
       "<div>\n",
       "<table border=\"1\" class=\"dataframe\">\n",
       "  <thead>\n",
       "    <tr style=\"text-align: right;\">\n",
       "      <th></th>\n",
       "      <th>Rank</th>\n",
       "      <th>Motorveh1_000people</th>\n",
       "    </tr>\n",
       "    <tr>\n",
       "      <th>0</th>\n",
       "      <th></th>\n",
       "      <th></th>\n",
       "    </tr>\n",
       "  </thead>\n",
       "  <tbody>\n",
       "    <tr>\n",
       "      <th>Rank</th>\n",
       "      <td>1.000000</td>\n",
       "      <td>-0.997596</td>\n",
       "    </tr>\n",
       "    <tr>\n",
       "      <th>Motorveh1_000people</th>\n",
       "      <td>-0.997596</td>\n",
       "      <td>1.000000</td>\n",
       "    </tr>\n",
       "  </tbody>\n",
       "</table>\n",
       "</div>"
      ],
      "text/plain": [
       "0                        Rank  Motorveh1_000people\n",
       "0                                                 \n",
       "Rank                 1.000000            -0.997596\n",
       "Motorveh1_000people -0.997596             1.000000"
      ]
     },
     "execution_count": 76,
     "metadata": {},
     "output_type": "execute_result"
    }
   ],
   "source": [
    "# pairwise correlation\n",
    "df.drop(['Country', 'Total', 'Notes'], axis=1).corr(method='spearman')"
   ]
  },
  {
   "cell_type": "markdown",
   "metadata": {},
   "source": [
    "## Plot as a map"
   ]
  },
  {
   "cell_type": "markdown",
   "metadata": {},
   "source": [
    "Let us connect to our GIS to geocode this data and present it as a map"
   ]
  },
  {
   "cell_type": "code",
   "execution_count": 79,
   "metadata": {
    "collapsed": false
   },
   "outputs": [],
   "source": [
    "from arcgis.gis import GIS\n",
    "import json\n",
    "\n",
    "gis = GIS(\"https://www.arcgis.com\", \"FSGutierres_BTS\", \"Liberdade_3030\")"
   ]
  },
  {
   "cell_type": "code",
   "execution_count": 80,
   "metadata": {
    "collapsed": true
   },
   "outputs": [],
   "source": [
    "fc = gis.content.import_data(df, {\"CountryCode\":\"Country\"})"
   ]
  },
  {
   "cell_type": "code",
   "execution_count": 92,
   "metadata": {
    "collapsed": true
   },
   "outputs": [],
   "source": [
    "map1 = gis.map('Spain')"
   ]
  },
  {
   "cell_type": "code",
   "execution_count": 93,
   "metadata": {
    "collapsed": true
   },
   "outputs": [],
   "source": [
    "map1"
   ]
  },
  {
   "cell_type": "markdown",
   "metadata": {},
   "source": [
    "Let us us smart mapping to render the points with varying sizes representing the number of Motor vehicles per 1,000 people"
   ]
  },
  {
   "cell_type": "code",
   "execution_count": 94,
   "metadata": {
    "collapsed": true
   },
   "outputs": [],
   "source": [
    "map1.add_layer(fc, {\"renderer\":\"ClassedSizeRenderer\",\n",
    "               \"field_name\": \"Motorveh1_000people\"})"
   ]
  },
  {
   "cell_type": "markdown",
   "metadata": {},
   "source": [
    "Let us publish this layer as a feature collection item in our GIS"
   ]
  },
  {
   "cell_type": "code",
   "execution_count": 95,
   "metadata": {
    "collapsed": true
   },
   "outputs": [],
   "source": [
    "item_properties = {\n",
    "    \"title\": \"Worldwide Motor vehicles ownership\",\n",
    "    \"tags\" : \"Motor\",\n",
    "    \"snippet\": \" Worldwide Motor vehicles ownership\",\n",
    "    \"description\": \"test description\",\n",
    "    \"text\": json.dumps({\"featureCollection\": {\"layers\": [dict(fc.layer)]}}),\n",
    "    \"type\": \"Feature Collection\",\n",
    "    \"typeKeywords\": \"Data, Feature Collection, Singlelayer\",\n",
    "    \"extent\" : \"-102.5272,-41.7886,172.5967,64.984\"\n",
    "}\n",
    "\n",
    "item = gis.content.add(item_properties)"
   ]
  },
  {
   "cell_type": "markdown",
   "metadata": {},
   "source": [
    "Let us search for this item"
   ]
  },
  {
   "cell_type": "code",
   "execution_count": 96,
   "metadata": {
    "collapsed": false
   },
   "outputs": [
    {
     "data": {
      "text/html": [
       "<div class=\"item_container\" style=\"height: auto; overflow: hidden; border: 1px solid #cfcfcf; border-radius: 2px; background: #f6fafa; line-height: 1.21429em; padding: 10px;\">\n",
       "                    <div class=\"item_left\" style=\"width: 210px; float: left;\">\n",
       "                       <a href='https://FSGutierresBTS.maps.arcgis.com/home/item.html?id=c3933701c2f540d4a1877794228d2e33' target='_blank'>\n",
       "                        <img src='http://static.arcgis.com/images/desktopapp.png' class=\"itemThumbnail\">\n",
       "                       </a>\n",
       "                    </div>\n",
       "\n",
       "                    <div class=\"item_right\"     style=\"float: none; width: auto; overflow: hidden;\">\n",
       "                        <a href='https://FSGutierresBTS.maps.arcgis.com/home/item.html?id=c3933701c2f540d4a1877794228d2e33' target='_blank'><b>Worldwide Motor vehicles ownership</b>\n",
       "                        </a>\n",
       "                        <br/> Worldwide Motor vehicles ownership<img src='https://FSGutierresBTS.maps.arcgis.com/home/js/jsapi/esri/css/images/item_type_icons/features16.png' style=\"vertical-align:middle;\">Feature Collection by FSGutierres_BTS\n",
       "                        <br/>Last Modified: November 14, 2017\n",
       "                        <br/>0 comments, 0 views\n",
       "                    </div>\n",
       "                </div>\n",
       "                "
      ],
      "text/plain": [
       "<Item title:\"Worldwide Motor vehicles ownership\" type:Feature Collection owner:FSGutierres_BTS>"
      ]
     },
     "execution_count": 96,
     "metadata": {},
     "output_type": "execute_result"
    }
   ],
   "source": [
    "search_result = gis.content.search(\"Worldwide Motor vehicles ownership\")\n",
    "search_result[0]"
   ]
  }
 ],
 "metadata": {
  "kernelspec": {
   "display_name": "Python 3",
   "language": "python",
   "name": "python3"
  },
  "language_info": {
   "codemirror_mode": {
    "name": "ipython",
    "version": 3
   },
   "file_extension": ".py",
   "mimetype": "text/x-python",
   "name": "python",
   "nbconvert_exporter": "python",
   "pygments_lexer": "ipython3",
   "version": "3.6.0"
  }
 },
 "nbformat": 4,
 "nbformat_minor": 2
}
