{
 "cells": [
  {
   "cell_type": "markdown",
   "metadata": {},
   "source": [
    "# Subject: Data Science Foundation\n",
    "\n",
    "## Session 14 - ArcGIS API for Python.\n",
    "\n",
    "### Demo 5 -  Descriptive Statistics using a HTML table to Pandas Data Frame to Portal Item"
   ]
  },
  {
   "cell_type": "markdown",
   "metadata": {},
   "source": [
    "# Descriptive Statistics"
   ]
  },
  {
   "cell_type": "markdown",
   "metadata": {},
   "source": [
    "Descriptive Analytics is backwards looking and focuses on telling users what happened. Examples of questions that descriptive analytics can answer are how many, when and where?"
   ]
  },
  {
   "cell_type": "markdown",
   "metadata": {},
   "source": [
    "Often we read informative articles that present data in a tabular form. If such data contained location information, it would be much more insightful if presented as a cartographic map. Thus this sample shows how Pandas can be used to extract data from a table within a web page (in this case, a Wikipedia article) and how it can be then brought into the GIS for further analysis and visualization."
   ]
  },
  {
   "cell_type": "markdown",
   "metadata": {},
   "source": [
    "Note: to run this sample, you need a few extra libraries in your conda environment. If you don't have the libraries, install them by running the following commands from cmd.exe or your shell"
   ]
  },
  {
   "cell_type": "markdown",
   "metadata": {},
   "source": [
    "- *conda install lxml* - Pythonic binding for the C libraries libxml2 and libxslt.\n",
    "- *conda install html5lib* - HTML parser based on the WHATWG HTML specification.\n",
    "- *conda install beautifulsoup4* - Python library designed for screen-scraping.\n",
    "- *conda install matplotlib* - Publication quality figures in Python."
   ]
  },
  {
   "cell_type": "code",
   "execution_count": 1,
   "metadata": {
    "collapsed": true
   },
   "outputs": [],
   "source": [
    "import pandas as pd"
   ]
  },
  {
   "cell_type": "markdown",
   "metadata": {},
   "source": [
    "Let us read the Wikipedia article on List of countries by vehicles per capita as a pandas data frame object.\n",
    "\n",
    "Note: This article is a list of countries by the number of road motor vehicles per 1,000 inhabitants. Note that car is different from road motor vehicle as the latter includes automobiles but also vans, buses, freight and other trucks.\n",
    "The list however excludes motorcycles and other two-wheelers."
   ]
  },
  {
   "cell_type": "markdown",
   "metadata": {},
   "source": [
    "https://en.wikipedia.org/wiki/Estimated_number_of_guns_per_capita_by_country"
   ]
  },
  {
   "cell_type": "code",
   "execution_count": 3,
   "metadata": {
    "collapsed": false
   },
   "outputs": [],
   "source": [
    "df = pd.read_html(\"https://en.wikipedia.org/wiki/List_of_countries_by_vehicles_per_capita\")[0]"
   ]
  },
  {
   "cell_type": "code",
   "execution_count": 4,
   "metadata": {
    "collapsed": false,
    "scrolled": true
   },
   "outputs": [
    {
     "data": {
      "text/html": [
       "<div>\n",
       "<table border=\"1\" class=\"dataframe\">\n",
       "  <thead>\n",
       "    <tr style=\"text-align: right;\">\n",
       "      <th></th>\n",
       "      <th>0</th>\n",
       "      <th>1</th>\n",
       "      <th>2</th>\n",
       "      <th>3</th>\n",
       "      <th>4</th>\n",
       "    </tr>\n",
       "  </thead>\n",
       "  <tbody>\n",
       "    <tr>\n",
       "      <th>0</th>\n",
       "      <td>Rank</td>\n",
       "      <td>Country</td>\n",
       "      <td>Motor vehicles per 1,000 people</td>\n",
       "      <td>Total</td>\n",
       "      <td>Notes</td>\n",
       "    </tr>\n",
       "    <tr>\n",
       "      <th>1</th>\n",
       "      <td>1</td>\n",
       "      <td>San Marino</td>\n",
       "      <td>1263</td>\n",
       "      <td>NaN</td>\n",
       "      <td>2014[1]</td>\n",
       "    </tr>\n",
       "    <tr>\n",
       "      <th>2</th>\n",
       "      <td>2</td>\n",
       "      <td>Monaco</td>\n",
       "      <td>899</td>\n",
       "      <td>NaN</td>\n",
       "      <td>2014[1]</td>\n",
       "    </tr>\n",
       "    <tr>\n",
       "      <th>3</th>\n",
       "      <td>3</td>\n",
       "      <td>United States</td>\n",
       "      <td>797</td>\n",
       "      <td>255,009,283[2]</td>\n",
       "      <td>2015[2]</td>\n",
       "    </tr>\n",
       "    <tr>\n",
       "      <th>4</th>\n",
       "      <td>4</td>\n",
       "      <td>New Zealand</td>\n",
       "      <td>774</td>\n",
       "      <td>3600000</td>\n",
       "      <td>2017[3]</td>\n",
       "    </tr>\n",
       "  </tbody>\n",
       "</table>\n",
       "</div>"
      ],
      "text/plain": [
       "      0              1                                2               3  \\\n",
       "0  Rank        Country  Motor vehicles per 1,000 people           Total   \n",
       "1     1     San Marino                             1263             NaN   \n",
       "2     2         Monaco                              899             NaN   \n",
       "3     3  United States                              797  255,009,283[2]   \n",
       "4     4    New Zealand                              774         3600000   \n",
       "\n",
       "         4  \n",
       "0    Notes  \n",
       "1  2014[1]  \n",
       "2  2014[1]  \n",
       "3  2015[2]  \n",
       "4  2017[3]  "
      ]
     },
     "execution_count": 4,
     "metadata": {},
     "output_type": "execute_result"
    }
   ],
   "source": [
    "df.head()"
   ]
  },
  {
   "cell_type": "code",
   "execution_count": 5,
   "metadata": {
    "collapsed": true
   },
   "outputs": [],
   "source": [
    "df.columns = df.iloc[0]\n",
    "df = df.reindex(df.index.drop(0))"
   ]
  },
  {
   "cell_type": "code",
   "execution_count": 18,
   "metadata": {
    "collapsed": false,
    "scrolled": false
   },
   "outputs": [
    {
     "data": {
      "text/html": [
       "<div>\n",
       "<table border=\"1\" class=\"dataframe\">\n",
       "  <thead>\n",
       "    <tr style=\"text-align: right;\">\n",
       "      <th></th>\n",
       "      <th>Rank</th>\n",
       "      <th>Country</th>\n",
       "      <th>Motorveh1_000people</th>\n",
       "      <th>Total</th>\n",
       "      <th>Notes</th>\n",
       "    </tr>\n",
       "  </thead>\n",
       "  <tbody>\n",
       "    <tr>\n",
       "      <th>1</th>\n",
       "      <td>1</td>\n",
       "      <td>San Marino</td>\n",
       "      <td>1263.0</td>\n",
       "      <td>NaN</td>\n",
       "      <td>2014[1]</td>\n",
       "    </tr>\n",
       "    <tr>\n",
       "      <th>2</th>\n",
       "      <td>2</td>\n",
       "      <td>Monaco</td>\n",
       "      <td>899.0</td>\n",
       "      <td>NaN</td>\n",
       "      <td>2014[1]</td>\n",
       "    </tr>\n",
       "    <tr>\n",
       "      <th>3</th>\n",
       "      <td>3</td>\n",
       "      <td>United States</td>\n",
       "      <td>797.0</td>\n",
       "      <td>255,009,283[2]</td>\n",
       "      <td>2015[2]</td>\n",
       "    </tr>\n",
       "    <tr>\n",
       "      <th>4</th>\n",
       "      <td>4</td>\n",
       "      <td>New Zealand</td>\n",
       "      <td>774.0</td>\n",
       "      <td>3600000</td>\n",
       "      <td>2017[3]</td>\n",
       "    </tr>\n",
       "    <tr>\n",
       "      <th>5</th>\n",
       "      <td>5</td>\n",
       "      <td>Liechtenstein</td>\n",
       "      <td>750.0</td>\n",
       "      <td>NaN</td>\n",
       "      <td>2014[1][4]</td>\n",
       "    </tr>\n",
       "    <tr>\n",
       "      <th>6</th>\n",
       "      <td>6</td>\n",
       "      <td>Iceland</td>\n",
       "      <td>745.0</td>\n",
       "      <td>NaN</td>\n",
       "      <td>2014[1]</td>\n",
       "    </tr>\n",
       "    <tr>\n",
       "      <th>7</th>\n",
       "      <td>7</td>\n",
       "      <td>Australia</td>\n",
       "      <td>740.0</td>\n",
       "      <td>NaN</td>\n",
       "      <td>2017[5]</td>\n",
       "    </tr>\n",
       "    <tr>\n",
       "      <th>8</th>\n",
       "      <td>8</td>\n",
       "      <td>Luxembourg</td>\n",
       "      <td>739.0</td>\n",
       "      <td>NaN</td>\n",
       "      <td>2014[1]</td>\n",
       "    </tr>\n",
       "    <tr>\n",
       "      <th>9</th>\n",
       "      <td>9</td>\n",
       "      <td>Malta</td>\n",
       "      <td>693.0</td>\n",
       "      <td>NaN</td>\n",
       "      <td>2014[1]</td>\n",
       "    </tr>\n",
       "    <tr>\n",
       "      <th>10</th>\n",
       "      <td>10</td>\n",
       "      <td>Italy</td>\n",
       "      <td>679.0</td>\n",
       "      <td>NaN</td>\n",
       "      <td>2014[1]</td>\n",
       "    </tr>\n",
       "    <tr>\n",
       "      <th>11</th>\n",
       "      <td>11</td>\n",
       "      <td>Guam</td>\n",
       "      <td>677.0</td>\n",
       "      <td>NaN</td>\n",
       "      <td>2014[6]</td>\n",
       "    </tr>\n",
       "    <tr>\n",
       "      <th>12</th>\n",
       "      <td>12</td>\n",
       "      <td>Canada</td>\n",
       "      <td>662.0</td>\n",
       "      <td>23,553,604[7]</td>\n",
       "      <td>2014[1]</td>\n",
       "    </tr>\n",
       "    <tr>\n",
       "      <th>13</th>\n",
       "      <td>13</td>\n",
       "      <td>Greece</td>\n",
       "      <td>586.0</td>\n",
       "      <td>NaN</td>\n",
       "      <td>2014 [8]</td>\n",
       "    </tr>\n",
       "    <tr>\n",
       "      <th>14</th>\n",
       "      <td>14</td>\n",
       "      <td>Finland</td>\n",
       "      <td>612.0</td>\n",
       "      <td>NaN</td>\n",
       "      <td>2011[1]</td>\n",
       "    </tr>\n",
       "    <tr>\n",
       "      <th>15</th>\n",
       "      <td>15</td>\n",
       "      <td>Spain</td>\n",
       "      <td>593.0</td>\n",
       "      <td>NaN</td>\n",
       "      <td>2014[1]</td>\n",
       "    </tr>\n",
       "    <tr>\n",
       "      <th>16</th>\n",
       "      <td>16</td>\n",
       "      <td>Japan</td>\n",
       "      <td>591.0</td>\n",
       "      <td>77,657,517[9]</td>\n",
       "      <td>2017[1]</td>\n",
       "    </tr>\n",
       "    <tr>\n",
       "      <th>17</th>\n",
       "      <td>17</td>\n",
       "      <td>Norway</td>\n",
       "      <td>584.0</td>\n",
       "      <td>NaN</td>\n",
       "      <td>2014[1]</td>\n",
       "    </tr>\n",
       "    <tr>\n",
       "      <th>18</th>\n",
       "      <td>18</td>\n",
       "      <td>Austria</td>\n",
       "      <td>578.0</td>\n",
       "      <td>NaN</td>\n",
       "      <td>2014[1]</td>\n",
       "    </tr>\n",
       "    <tr>\n",
       "      <th>19</th>\n",
       "      <td>19</td>\n",
       "      <td>France</td>\n",
       "      <td>578.0</td>\n",
       "      <td>38148000</td>\n",
       "      <td>2014[10]</td>\n",
       "    </tr>\n",
       "    <tr>\n",
       "      <th>20</th>\n",
       "      <td>20</td>\n",
       "      <td>Germany</td>\n",
       "      <td>572.0</td>\n",
       "      <td>46332000</td>\n",
       "      <td>2014[1]</td>\n",
       "    </tr>\n",
       "    <tr>\n",
       "      <th>21</th>\n",
       "      <td>21</td>\n",
       "      <td>Slovenia</td>\n",
       "      <td>567.0</td>\n",
       "      <td>NaN</td>\n",
       "      <td>2011[11]</td>\n",
       "    </tr>\n",
       "    <tr>\n",
       "      <th>22</th>\n",
       "      <td>22</td>\n",
       "      <td>Switzerland</td>\n",
       "      <td>566.0</td>\n",
       "      <td>NaN</td>\n",
       "      <td>2011[1]</td>\n",
       "    </tr>\n",
       "    <tr>\n",
       "      <th>23</th>\n",
       "      <td>23</td>\n",
       "      <td>Lithuania</td>\n",
       "      <td>560.0</td>\n",
       "      <td>NaN</td>\n",
       "      <td>2010[1]</td>\n",
       "    </tr>\n",
       "    <tr>\n",
       "      <th>24</th>\n",
       "      <td>24</td>\n",
       "      <td>Belgium</td>\n",
       "      <td>559.0</td>\n",
       "      <td>NaN</td>\n",
       "      <td>2010[1]</td>\n",
       "    </tr>\n",
       "    <tr>\n",
       "      <th>25</th>\n",
       "      <td>25</td>\n",
       "      <td>Portugal</td>\n",
       "      <td>548.0</td>\n",
       "      <td>NaN</td>\n",
       "      <td>2010[12]</td>\n",
       "    </tr>\n",
       "    <tr>\n",
       "      <th>26</th>\n",
       "      <td>26</td>\n",
       "      <td>Slovakia</td>\n",
       "      <td>546.0</td>\n",
       "      <td>NaN</td>\n",
       "      <td>2016[13]</td>\n",
       "    </tr>\n",
       "    <tr>\n",
       "      <th>27</th>\n",
       "      <td>27</td>\n",
       "      <td>Poland</td>\n",
       "      <td>537.0</td>\n",
       "      <td>NaN</td>\n",
       "      <td>2014[1]</td>\n",
       "    </tr>\n",
       "    <tr>\n",
       "      <th>28</th>\n",
       "      <td>28</td>\n",
       "      <td>Bahrain</td>\n",
       "      <td>537.0</td>\n",
       "      <td>NaN</td>\n",
       "      <td>2009[1]</td>\n",
       "    </tr>\n",
       "    <tr>\n",
       "      <th>29</th>\n",
       "      <td>29</td>\n",
       "      <td>Qatar</td>\n",
       "      <td>532.0</td>\n",
       "      <td>NaN</td>\n",
       "      <td>2007[1]</td>\n",
       "    </tr>\n",
       "    <tr>\n",
       "      <th>30</th>\n",
       "      <td>30</td>\n",
       "      <td>Cyprus</td>\n",
       "      <td>532.0</td>\n",
       "      <td>NaN</td>\n",
       "      <td>2010[1]</td>\n",
       "    </tr>\n",
       "    <tr>\n",
       "      <th>...</th>\n",
       "      <td>...</td>\n",
       "      <td>...</td>\n",
       "      <td>...</td>\n",
       "      <td>...</td>\n",
       "      <td>...</td>\n",
       "    </tr>\n",
       "    <tr>\n",
       "      <th>164</th>\n",
       "      <td>163</td>\n",
       "      <td>Mali</td>\n",
       "      <td>14.0</td>\n",
       "      <td>NaN</td>\n",
       "      <td>2009[1]</td>\n",
       "    </tr>\n",
       "    <tr>\n",
       "      <th>165</th>\n",
       "      <td>164</td>\n",
       "      <td>Equatorial Guinea</td>\n",
       "      <td>13.0</td>\n",
       "      <td>NaN</td>\n",
       "      <td>2004[46]</td>\n",
       "    </tr>\n",
       "    <tr>\n",
       "      <th>166</th>\n",
       "      <td>165</td>\n",
       "      <td>Papua New Guinea</td>\n",
       "      <td>13.0</td>\n",
       "      <td>NaN</td>\n",
       "      <td>[14]</td>\n",
       "    </tr>\n",
       "    <tr>\n",
       "      <th>167</th>\n",
       "      <td>166</td>\n",
       "      <td>Haiti</td>\n",
       "      <td>12.0</td>\n",
       "      <td>NaN</td>\n",
       "      <td>[14]</td>\n",
       "    </tr>\n",
       "    <tr>\n",
       "      <th>168</th>\n",
       "      <td>167</td>\n",
       "      <td>Mozambique</td>\n",
       "      <td>12.0</td>\n",
       "      <td>NaN</td>\n",
       "      <td>2009[1]</td>\n",
       "    </tr>\n",
       "    <tr>\n",
       "      <th>169</th>\n",
       "      <td>168</td>\n",
       "      <td>Burkina Faso</td>\n",
       "      <td>12.0</td>\n",
       "      <td>NaN</td>\n",
       "      <td>2010[1]</td>\n",
       "    </tr>\n",
       "    <tr>\n",
       "      <th>170</th>\n",
       "      <td>169</td>\n",
       "      <td>Eritrea</td>\n",
       "      <td>11.0</td>\n",
       "      <td>NaN</td>\n",
       "      <td>2007[1]</td>\n",
       "    </tr>\n",
       "    <tr>\n",
       "      <th>171</th>\n",
       "      <td>170</td>\n",
       "      <td>North Korea</td>\n",
       "      <td>11.0</td>\n",
       "      <td>NaN</td>\n",
       "      <td>2006[47]</td>\n",
       "    </tr>\n",
       "    <tr>\n",
       "      <th>172</th>\n",
       "      <td>171</td>\n",
       "      <td>Malawi</td>\n",
       "      <td>8.0</td>\n",
       "      <td>NaN</td>\n",
       "      <td>2007[1]</td>\n",
       "    </tr>\n",
       "    <tr>\n",
       "      <th>173</th>\n",
       "      <td>172</td>\n",
       "      <td>Uganda</td>\n",
       "      <td>8.0</td>\n",
       "      <td>NaN</td>\n",
       "      <td>2009[1]</td>\n",
       "    </tr>\n",
       "    <tr>\n",
       "      <th>174</th>\n",
       "      <td>173</td>\n",
       "      <td>Myanmar</td>\n",
       "      <td>7.0</td>\n",
       "      <td>NaN</td>\n",
       "      <td>2010[1]</td>\n",
       "    </tr>\n",
       "    <tr>\n",
       "      <th>175</th>\n",
       "      <td>174</td>\n",
       "      <td>Tanzania</td>\n",
       "      <td>7.0</td>\n",
       "      <td>NaN</td>\n",
       "      <td>2007[1]</td>\n",
       "    </tr>\n",
       "    <tr>\n",
       "      <th>176</th>\n",
       "      <td>175</td>\n",
       "      <td>Gambia</td>\n",
       "      <td>7.0</td>\n",
       "      <td>NaN</td>\n",
       "      <td>2004[1]</td>\n",
       "    </tr>\n",
       "    <tr>\n",
       "      <th>177</th>\n",
       "      <td>176</td>\n",
       "      <td>Niger</td>\n",
       "      <td>7.0</td>\n",
       "      <td>NaN</td>\n",
       "      <td>2009[1]</td>\n",
       "    </tr>\n",
       "    <tr>\n",
       "      <th>178</th>\n",
       "      <td>177</td>\n",
       "      <td>Burundi</td>\n",
       "      <td>6.0</td>\n",
       "      <td>NaN</td>\n",
       "      <td>2007[1]</td>\n",
       "    </tr>\n",
       "    <tr>\n",
       "      <th>179</th>\n",
       "      <td>178</td>\n",
       "      <td>Sierra Leone</td>\n",
       "      <td>6.0</td>\n",
       "      <td>NaN</td>\n",
       "      <td>2008[1]</td>\n",
       "    </tr>\n",
       "    <tr>\n",
       "      <th>180</th>\n",
       "      <td>179</td>\n",
       "      <td>Chad</td>\n",
       "      <td>6.0</td>\n",
       "      <td>NaN</td>\n",
       "      <td>2006[1]</td>\n",
       "    </tr>\n",
       "    <tr>\n",
       "      <th>181</th>\n",
       "      <td>180</td>\n",
       "      <td>Congo, Democratic Republic of the</td>\n",
       "      <td>5.0</td>\n",
       "      <td>NaN</td>\n",
       "      <td>2007[1]</td>\n",
       "    </tr>\n",
       "    <tr>\n",
       "      <th>182</th>\n",
       "      <td>181</td>\n",
       "      <td>Guinea</td>\n",
       "      <td>5.0</td>\n",
       "      <td>NaN</td>\n",
       "      <td>[14]</td>\n",
       "    </tr>\n",
       "    <tr>\n",
       "      <th>183</th>\n",
       "      <td>182</td>\n",
       "      <td>Mauritania</td>\n",
       "      <td>5.0</td>\n",
       "      <td>NaN</td>\n",
       "      <td>[14]</td>\n",
       "    </tr>\n",
       "    <tr>\n",
       "      <th>184</th>\n",
       "      <td>183</td>\n",
       "      <td>Nepal</td>\n",
       "      <td>5.0</td>\n",
       "      <td>NaN</td>\n",
       "      <td>2007[1]</td>\n",
       "    </tr>\n",
       "    <tr>\n",
       "      <th>185</th>\n",
       "      <td>184</td>\n",
       "      <td>Central African Republic</td>\n",
       "      <td>4.0</td>\n",
       "      <td>NaN</td>\n",
       "      <td>[14]</td>\n",
       "    </tr>\n",
       "    <tr>\n",
       "      <th>186</th>\n",
       "      <td>185</td>\n",
       "      <td>Lesotho</td>\n",
       "      <td>4.0</td>\n",
       "      <td>NaN</td>\n",
       "      <td>2004[48]</td>\n",
       "    </tr>\n",
       "    <tr>\n",
       "      <th>187</th>\n",
       "      <td>186</td>\n",
       "      <td>Ethiopia</td>\n",
       "      <td>8.0</td>\n",
       "      <td>850000</td>\n",
       "      <td>2017[49]</td>\n",
       "    </tr>\n",
       "    <tr>\n",
       "      <th>188</th>\n",
       "      <td>187</td>\n",
       "      <td>Somalia</td>\n",
       "      <td>3.0</td>\n",
       "      <td>NaN</td>\n",
       "      <td>[14]</td>\n",
       "    </tr>\n",
       "    <tr>\n",
       "      <th>189</th>\n",
       "      <td>188</td>\n",
       "      <td>Liberia</td>\n",
       "      <td>3.0</td>\n",
       "      <td>NaN</td>\n",
       "      <td>2007[1]</td>\n",
       "    </tr>\n",
       "    <tr>\n",
       "      <th>190</th>\n",
       "      <td>189</td>\n",
       "      <td>Bangladesh</td>\n",
       "      <td>3.0</td>\n",
       "      <td>NaN</td>\n",
       "      <td>2010[1]</td>\n",
       "    </tr>\n",
       "    <tr>\n",
       "      <th>191</th>\n",
       "      <td>190</td>\n",
       "      <td>Solomon Islands</td>\n",
       "      <td>3.0</td>\n",
       "      <td>NaN</td>\n",
       "      <td>2004[50]</td>\n",
       "    </tr>\n",
       "    <tr>\n",
       "      <th>192</th>\n",
       "      <td>191</td>\n",
       "      <td>São Tomé and Príncipe</td>\n",
       "      <td>2.0</td>\n",
       "      <td>NaN</td>\n",
       "      <td>2007[1]</td>\n",
       "    </tr>\n",
       "    <tr>\n",
       "      <th>193</th>\n",
       "      <td>193</td>\n",
       "      <td>Togo</td>\n",
       "      <td>2.0</td>\n",
       "      <td>NaN</td>\n",
       "      <td>2007[1]</td>\n",
       "    </tr>\n",
       "  </tbody>\n",
       "</table>\n",
       "<p>193 rows × 5 columns</p>\n",
       "</div>"
      ],
      "text/plain": [
       "0   Rank                            Country  Motorveh1_000people  \\\n",
       "1      1                         San Marino               1263.0   \n",
       "2      2                             Monaco                899.0   \n",
       "3      3                      United States                797.0   \n",
       "4      4                        New Zealand                774.0   \n",
       "5      5                      Liechtenstein                750.0   \n",
       "6      6                            Iceland                745.0   \n",
       "7      7                          Australia                740.0   \n",
       "8      8                         Luxembourg                739.0   \n",
       "9      9                              Malta                693.0   \n",
       "10    10                              Italy                679.0   \n",
       "11    11                               Guam                677.0   \n",
       "12    12                             Canada                662.0   \n",
       "13    13                             Greece                586.0   \n",
       "14    14                            Finland                612.0   \n",
       "15    15                              Spain                593.0   \n",
       "16    16                              Japan                591.0   \n",
       "17    17                             Norway                584.0   \n",
       "18    18                            Austria                578.0   \n",
       "19    19                             France                578.0   \n",
       "20    20                            Germany                572.0   \n",
       "21    21                           Slovenia                567.0   \n",
       "22    22                        Switzerland                566.0   \n",
       "23    23                          Lithuania                560.0   \n",
       "24    24                            Belgium                559.0   \n",
       "25    25                           Portugal                548.0   \n",
       "26    26                           Slovakia                546.0   \n",
       "27    27                             Poland                537.0   \n",
       "28    28                            Bahrain                537.0   \n",
       "29    29                              Qatar                532.0   \n",
       "30    30                             Cyprus                532.0   \n",
       "..   ...                                ...                  ...   \n",
       "164  163                               Mali                 14.0   \n",
       "165  164                  Equatorial Guinea                 13.0   \n",
       "166  165                   Papua New Guinea                 13.0   \n",
       "167  166                              Haiti                 12.0   \n",
       "168  167                         Mozambique                 12.0   \n",
       "169  168                       Burkina Faso                 12.0   \n",
       "170  169                            Eritrea                 11.0   \n",
       "171  170                        North Korea                 11.0   \n",
       "172  171                             Malawi                  8.0   \n",
       "173  172                             Uganda                  8.0   \n",
       "174  173                            Myanmar                  7.0   \n",
       "175  174                           Tanzania                  7.0   \n",
       "176  175                             Gambia                  7.0   \n",
       "177  176                              Niger                  7.0   \n",
       "178  177                            Burundi                  6.0   \n",
       "179  178                       Sierra Leone                  6.0   \n",
       "180  179                               Chad                  6.0   \n",
       "181  180  Congo, Democratic Republic of the                  5.0   \n",
       "182  181                             Guinea                  5.0   \n",
       "183  182                         Mauritania                  5.0   \n",
       "184  183                              Nepal                  5.0   \n",
       "185  184           Central African Republic                  4.0   \n",
       "186  185                            Lesotho                  4.0   \n",
       "187  186                           Ethiopia                  8.0   \n",
       "188  187                            Somalia                  3.0   \n",
       "189  188                            Liberia                  3.0   \n",
       "190  189                         Bangladesh                  3.0   \n",
       "191  190                    Solomon Islands                  3.0   \n",
       "192  191              São Tomé and Príncipe                  2.0   \n",
       "193  193                               Togo                  2.0   \n",
       "\n",
       "0             Total       Notes  \n",
       "1               NaN     2014[1]  \n",
       "2               NaN     2014[1]  \n",
       "3    255,009,283[2]     2015[2]  \n",
       "4           3600000     2017[3]  \n",
       "5               NaN  2014[1][4]  \n",
       "6               NaN     2014[1]  \n",
       "7               NaN     2017[5]  \n",
       "8               NaN     2014[1]  \n",
       "9               NaN     2014[1]  \n",
       "10              NaN     2014[1]  \n",
       "11              NaN     2014[6]  \n",
       "12    23,553,604[7]     2014[1]  \n",
       "13              NaN    2014 [8]  \n",
       "14              NaN     2011[1]  \n",
       "15              NaN     2014[1]  \n",
       "16    77,657,517[9]     2017[1]  \n",
       "17              NaN     2014[1]  \n",
       "18              NaN     2014[1]  \n",
       "19         38148000    2014[10]  \n",
       "20         46332000     2014[1]  \n",
       "21              NaN    2011[11]  \n",
       "22              NaN     2011[1]  \n",
       "23              NaN     2010[1]  \n",
       "24              NaN     2010[1]  \n",
       "25              NaN    2010[12]  \n",
       "26              NaN    2016[13]  \n",
       "27              NaN     2014[1]  \n",
       "28              NaN     2009[1]  \n",
       "29              NaN     2007[1]  \n",
       "30              NaN     2010[1]  \n",
       "..              ...         ...  \n",
       "164             NaN     2009[1]  \n",
       "165             NaN    2004[46]  \n",
       "166             NaN        [14]  \n",
       "167             NaN        [14]  \n",
       "168             NaN     2009[1]  \n",
       "169             NaN     2010[1]  \n",
       "170             NaN     2007[1]  \n",
       "171             NaN    2006[47]  \n",
       "172             NaN     2007[1]  \n",
       "173             NaN     2009[1]  \n",
       "174             NaN     2010[1]  \n",
       "175             NaN     2007[1]  \n",
       "176             NaN     2004[1]  \n",
       "177             NaN     2009[1]  \n",
       "178             NaN     2007[1]  \n",
       "179             NaN     2008[1]  \n",
       "180             NaN     2006[1]  \n",
       "181             NaN     2007[1]  \n",
       "182             NaN        [14]  \n",
       "183             NaN        [14]  \n",
       "184             NaN     2007[1]  \n",
       "185             NaN        [14]  \n",
       "186             NaN    2004[48]  \n",
       "187          850000    2017[49]  \n",
       "188             NaN        [14]  \n",
       "189             NaN     2007[1]  \n",
       "190             NaN     2010[1]  \n",
       "191             NaN    2004[50]  \n",
       "192             NaN     2007[1]  \n",
       "193             NaN     2007[1]  \n",
       "\n",
       "[193 rows x 5 columns]"
      ]
     },
     "execution_count": 18,
     "metadata": {},
     "output_type": "execute_result"
    }
   ],
   "source": [
    "df"
   ]
  },
  {
   "cell_type": "markdown",
   "metadata": {},
   "source": [
    "Lets check the data structure"
   ]
  },
  {
   "cell_type": "code",
   "execution_count": 7,
   "metadata": {
    "collapsed": false
   },
   "outputs": [
    {
     "data": {
      "text/plain": [
       "0\n",
       "Rank                               object\n",
       "Country                            object\n",
       "Motor vehicles per 1,000 people    object\n",
       "Total                              object\n",
       "Notes                              object\n",
       "dtype: object"
      ]
     },
     "execution_count": 7,
     "metadata": {},
     "output_type": "execute_result"
    }
   ],
   "source": [
    "df.dtypes"
   ]
  },
  {
   "cell_type": "code",
   "execution_count": 8,
   "metadata": {
    "collapsed": false
   },
   "outputs": [
    {
     "data": {
      "text/plain": [
       "(193, 5)"
      ]
     },
     "execution_count": 8,
     "metadata": {},
     "output_type": "execute_result"
    }
   ],
   "source": [
    "df.shape "
   ]
  },
  {
   "cell_type": "code",
   "execution_count": 9,
   "metadata": {
    "collapsed": false,
    "scrolled": true
   },
   "outputs": [
    {
     "name": "stdout",
     "output_type": "stream",
     "text": [
      "<class 'pandas.core.frame.DataFrame'>\n",
      "Int64Index: 193 entries, 1 to 193\n",
      "Data columns (total 5 columns):\n",
      "Rank                               192 non-null object\n",
      "Country                            192 non-null object\n",
      "Motor vehicles per 1,000 people    192 non-null object\n",
      "Total                              15 non-null object\n",
      "Notes                              192 non-null object\n",
      "dtypes: object(5)\n",
      "memory usage: 9.0+ KB\n"
     ]
    }
   ],
   "source": [
    "df.info()"
   ]
  },
  {
   "cell_type": "markdown",
   "metadata": {},
   "source": [
    "Lets find the ranking position of our Country"
   ]
  },
  {
   "cell_type": "code",
   "execution_count": 10,
   "metadata": {
    "collapsed": false
   },
   "outputs": [
    {
     "data": {
      "text/html": [
       "<div>\n",
       "<table border=\"1\" class=\"dataframe\">\n",
       "  <thead>\n",
       "    <tr style=\"text-align: right;\">\n",
       "      <th></th>\n",
       "      <th>Rank</th>\n",
       "      <th>Country</th>\n",
       "      <th>Motor vehicles per 1,000 people</th>\n",
       "      <th>Total</th>\n",
       "      <th>Notes</th>\n",
       "    </tr>\n",
       "  </thead>\n",
       "  <tbody>\n",
       "    <tr>\n",
       "      <th>15</th>\n",
       "      <td>15</td>\n",
       "      <td>Spain</td>\n",
       "      <td>593</td>\n",
       "      <td>NaN</td>\n",
       "      <td>2014[1]</td>\n",
       "    </tr>\n",
       "  </tbody>\n",
       "</table>\n",
       "</div>"
      ],
      "text/plain": [
       "0  Rank Country Motor vehicles per 1,000 people Total    Notes\n",
       "15   15   Spain                             593   NaN  2014[1]"
      ]
     },
     "execution_count": 10,
     "metadata": {},
     "output_type": "execute_result"
    }
   ],
   "source": [
    "df.loc[df['Country'] == \"Spain\"]"
   ]
  },
  {
   "cell_type": "code",
   "execution_count": 13,
   "metadata": {
    "collapsed": false
   },
   "outputs": [
    {
     "data": {
      "text/html": [
       "<div>\n",
       "<table border=\"1\" class=\"dataframe\">\n",
       "  <thead>\n",
       "    <tr style=\"text-align: right;\">\n",
       "      <th></th>\n",
       "      <th>Rank</th>\n",
       "      <th>Country</th>\n",
       "      <th>Motor vehicles per 1,000 people</th>\n",
       "      <th>Total</th>\n",
       "      <th>Notes</th>\n",
       "    </tr>\n",
       "  </thead>\n",
       "  <tbody>\n",
       "    <tr>\n",
       "      <th>57</th>\n",
       "      <td>56</td>\n",
       "      <td>Argentina</td>\n",
       "      <td>314</td>\n",
       "      <td>NaN</td>\n",
       "      <td>2007[1]</td>\n",
       "    </tr>\n",
       "  </tbody>\n",
       "</table>\n",
       "</div>"
      ],
      "text/plain": [
       "0  Rank    Country Motor vehicles per 1,000 people Total    Notes\n",
       "57   56  Argentina                             314   NaN  2007[1]"
      ]
     },
     "execution_count": 13,
     "metadata": {},
     "output_type": "execute_result"
    }
   ],
   "source": [
    "df.loc[df['Country'] == \"Argentina\"]"
   ]
  },
  {
   "cell_type": "markdown",
   "metadata": {},
   "source": [
    "Lets check the descriptive statistics"
   ]
  },
  {
   "cell_type": "code",
   "execution_count": 14,
   "metadata": {
    "collapsed": false,
    "scrolled": false
   },
   "outputs": [
    {
     "data": {
      "text/html": [
       "<div>\n",
       "<table border=\"1\" class=\"dataframe\">\n",
       "  <thead>\n",
       "    <tr style=\"text-align: right;\">\n",
       "      <th></th>\n",
       "      <th>Rank</th>\n",
       "      <th>Country</th>\n",
       "      <th>Motor vehicles per 1,000 people</th>\n",
       "      <th>Total</th>\n",
       "      <th>Notes</th>\n",
       "    </tr>\n",
       "  </thead>\n",
       "  <tbody>\n",
       "    <tr>\n",
       "      <th>count</th>\n",
       "      <td>192</td>\n",
       "      <td>192</td>\n",
       "      <td>192</td>\n",
       "      <td>15</td>\n",
       "      <td>192</td>\n",
       "    </tr>\n",
       "    <tr>\n",
       "      <th>unique</th>\n",
       "      <td>185</td>\n",
       "      <td>192</td>\n",
       "      <td>143</td>\n",
       "      <td>15</td>\n",
       "      <td>55</td>\n",
       "    </tr>\n",
       "    <tr>\n",
       "      <th>top</th>\n",
       "      <td>135</td>\n",
       "      <td>Egypt</td>\n",
       "      <td>7</td>\n",
       "      <td>55,725,543[33]</td>\n",
       "      <td>2010[1]</td>\n",
       "    </tr>\n",
       "    <tr>\n",
       "      <th>freq</th>\n",
       "      <td>3</td>\n",
       "      <td>1</td>\n",
       "      <td>4</td>\n",
       "      <td>1</td>\n",
       "      <td>48</td>\n",
       "    </tr>\n",
       "  </tbody>\n",
       "</table>\n",
       "</div>"
      ],
      "text/plain": [
       "0      Rank Country Motor vehicles per 1,000 people           Total    Notes\n",
       "count   192     192                             192              15      192\n",
       "unique  185     192                             143              15       55\n",
       "top     135   Egypt                               7  55,725,543[33]  2010[1]\n",
       "freq      3       1                               4               1       48"
      ]
     },
     "execution_count": 14,
     "metadata": {},
     "output_type": "execute_result"
    }
   ],
   "source": [
    "df.describe()"
   ]
  },
  {
   "cell_type": "markdown",
   "metadata": {},
   "source": [
    "Lets rename the columns to prepare the data for a correlation analysis and also for mapping"
   ]
  },
  {
   "cell_type": "code",
   "execution_count": 15,
   "metadata": {
    "collapsed": true
   },
   "outputs": [],
   "source": [
    "df.rename(columns={'Rank': 'Rank', 'Country': 'Country', 'Motor vehicles per 1,000 people': 'Motorveh1_000people', 'Total': 'Total', 'Notes': 'Notes'}, inplace=True)"
   ]
  },
  {
   "cell_type": "code",
   "execution_count": 16,
   "metadata": {
    "collapsed": false,
    "scrolled": false
   },
   "outputs": [
    {
     "data": {
      "text/html": [
       "<div>\n",
       "<table border=\"1\" class=\"dataframe\">\n",
       "  <thead>\n",
       "    <tr style=\"text-align: right;\">\n",
       "      <th></th>\n",
       "      <th>Rank</th>\n",
       "      <th>Country</th>\n",
       "      <th>Motorveh1_000people</th>\n",
       "      <th>Total</th>\n",
       "      <th>Notes</th>\n",
       "    </tr>\n",
       "  </thead>\n",
       "  <tbody>\n",
       "    <tr>\n",
       "      <th>1</th>\n",
       "      <td>1</td>\n",
       "      <td>San Marino</td>\n",
       "      <td>1263</td>\n",
       "      <td>NaN</td>\n",
       "      <td>2014[1]</td>\n",
       "    </tr>\n",
       "    <tr>\n",
       "      <th>2</th>\n",
       "      <td>2</td>\n",
       "      <td>Monaco</td>\n",
       "      <td>899</td>\n",
       "      <td>NaN</td>\n",
       "      <td>2014[1]</td>\n",
       "    </tr>\n",
       "    <tr>\n",
       "      <th>3</th>\n",
       "      <td>3</td>\n",
       "      <td>United States</td>\n",
       "      <td>797</td>\n",
       "      <td>255,009,283[2]</td>\n",
       "      <td>2015[2]</td>\n",
       "    </tr>\n",
       "    <tr>\n",
       "      <th>4</th>\n",
       "      <td>4</td>\n",
       "      <td>New Zealand</td>\n",
       "      <td>774</td>\n",
       "      <td>3600000</td>\n",
       "      <td>2017[3]</td>\n",
       "    </tr>\n",
       "    <tr>\n",
       "      <th>5</th>\n",
       "      <td>5</td>\n",
       "      <td>Liechtenstein</td>\n",
       "      <td>750</td>\n",
       "      <td>NaN</td>\n",
       "      <td>2014[1][4]</td>\n",
       "    </tr>\n",
       "  </tbody>\n",
       "</table>\n",
       "</div>"
      ],
      "text/plain": [
       "0 Rank        Country Motorveh1_000people           Total       Notes\n",
       "1    1     San Marino                1263             NaN     2014[1]\n",
       "2    2         Monaco                 899             NaN     2014[1]\n",
       "3    3  United States                 797  255,009,283[2]     2015[2]\n",
       "4    4    New Zealand                 774         3600000     2017[3]\n",
       "5    5  Liechtenstein                 750             NaN  2014[1][4]"
      ]
     },
     "execution_count": 16,
     "metadata": {},
     "output_type": "execute_result"
    }
   ],
   "source": [
    "df.head()"
   ]
  },
  {
   "cell_type": "markdown",
   "metadata": {},
   "source": [
    "We need the \"Motor vehicles per 1,000 people\" column (Motorveh1_000people) in numeric format. Hence let us convert it and while doing so, convert incorrect values to NaN which stands for Not a Number."
   ]
  },
  {
   "cell_type": "code",
   "execution_count": 17,
   "metadata": {
    "collapsed": false
   },
   "outputs": [
    {
     "data": {
      "text/html": [
       "<div>\n",
       "<table border=\"1\" class=\"dataframe\">\n",
       "  <thead>\n",
       "    <tr style=\"text-align: right;\">\n",
       "      <th></th>\n",
       "      <th>Rank</th>\n",
       "      <th>Country</th>\n",
       "      <th>Motorveh1_000people</th>\n",
       "      <th>Total</th>\n",
       "      <th>Notes</th>\n",
       "    </tr>\n",
       "  </thead>\n",
       "  <tbody>\n",
       "    <tr>\n",
       "      <th>1</th>\n",
       "      <td>1</td>\n",
       "      <td>San Marino</td>\n",
       "      <td>1263.0</td>\n",
       "      <td>NaN</td>\n",
       "      <td>2014[1]</td>\n",
       "    </tr>\n",
       "    <tr>\n",
       "      <th>2</th>\n",
       "      <td>2</td>\n",
       "      <td>Monaco</td>\n",
       "      <td>899.0</td>\n",
       "      <td>NaN</td>\n",
       "      <td>2014[1]</td>\n",
       "    </tr>\n",
       "    <tr>\n",
       "      <th>3</th>\n",
       "      <td>3</td>\n",
       "      <td>United States</td>\n",
       "      <td>797.0</td>\n",
       "      <td>255,009,283[2]</td>\n",
       "      <td>2015[2]</td>\n",
       "    </tr>\n",
       "    <tr>\n",
       "      <th>4</th>\n",
       "      <td>4</td>\n",
       "      <td>New Zealand</td>\n",
       "      <td>774.0</td>\n",
       "      <td>3600000</td>\n",
       "      <td>2017[3]</td>\n",
       "    </tr>\n",
       "    <tr>\n",
       "      <th>5</th>\n",
       "      <td>5</td>\n",
       "      <td>Liechtenstein</td>\n",
       "      <td>750.0</td>\n",
       "      <td>NaN</td>\n",
       "      <td>2014[1][4]</td>\n",
       "    </tr>\n",
       "  </tbody>\n",
       "</table>\n",
       "</div>"
      ],
      "text/plain": [
       "0 Rank        Country  Motorveh1_000people           Total       Notes\n",
       "1    1     San Marino               1263.0             NaN     2014[1]\n",
       "2    2         Monaco                899.0             NaN     2014[1]\n",
       "3    3  United States                797.0  255,009,283[2]     2015[2]\n",
       "4    4    New Zealand                774.0         3600000     2017[3]\n",
       "5    5  Liechtenstein                750.0             NaN  2014[1][4]"
      ]
     },
     "execution_count": 17,
     "metadata": {},
     "output_type": "execute_result"
    }
   ],
   "source": [
    "converted_column = pd.to_numeric(df[\"Motorveh1_000people\"], errors = 'coerce') # If ‘coerce’, then invalid parsing will be set as NaN.\n",
    "df['Motorveh1_000people'] = converted_column\n",
    "df.head()"
   ]
  },
  {
   "cell_type": "markdown",
   "metadata": {},
   "source": [
    "Repeat for the \"Rank\" column"
   ]
  },
  {
   "cell_type": "code",
   "execution_count": 19,
   "metadata": {
    "collapsed": false
   },
   "outputs": [
    {
     "data": {
      "text/html": [
       "<div>\n",
       "<table border=\"1\" class=\"dataframe\">\n",
       "  <thead>\n",
       "    <tr style=\"text-align: right;\">\n",
       "      <th></th>\n",
       "      <th>Rank</th>\n",
       "      <th>Country</th>\n",
       "      <th>Motorveh1_000people</th>\n",
       "      <th>Total</th>\n",
       "      <th>Notes</th>\n",
       "    </tr>\n",
       "  </thead>\n",
       "  <tbody>\n",
       "    <tr>\n",
       "      <th>1</th>\n",
       "      <td>1.0</td>\n",
       "      <td>San Marino</td>\n",
       "      <td>1263.0</td>\n",
       "      <td>NaN</td>\n",
       "      <td>2014[1]</td>\n",
       "    </tr>\n",
       "    <tr>\n",
       "      <th>2</th>\n",
       "      <td>2.0</td>\n",
       "      <td>Monaco</td>\n",
       "      <td>899.0</td>\n",
       "      <td>NaN</td>\n",
       "      <td>2014[1]</td>\n",
       "    </tr>\n",
       "    <tr>\n",
       "      <th>3</th>\n",
       "      <td>3.0</td>\n",
       "      <td>United States</td>\n",
       "      <td>797.0</td>\n",
       "      <td>255,009,283[2]</td>\n",
       "      <td>2015[2]</td>\n",
       "    </tr>\n",
       "    <tr>\n",
       "      <th>4</th>\n",
       "      <td>4.0</td>\n",
       "      <td>New Zealand</td>\n",
       "      <td>774.0</td>\n",
       "      <td>3600000</td>\n",
       "      <td>2017[3]</td>\n",
       "    </tr>\n",
       "    <tr>\n",
       "      <th>5</th>\n",
       "      <td>5.0</td>\n",
       "      <td>Liechtenstein</td>\n",
       "      <td>750.0</td>\n",
       "      <td>NaN</td>\n",
       "      <td>2014[1][4]</td>\n",
       "    </tr>\n",
       "  </tbody>\n",
       "</table>\n",
       "</div>"
      ],
      "text/plain": [
       "0  Rank        Country  Motorveh1_000people           Total       Notes\n",
       "1   1.0     San Marino               1263.0             NaN     2014[1]\n",
       "2   2.0         Monaco                899.0             NaN     2014[1]\n",
       "3   3.0  United States                797.0  255,009,283[2]     2015[2]\n",
       "4   4.0    New Zealand                774.0         3600000     2017[3]\n",
       "5   5.0  Liechtenstein                750.0             NaN  2014[1][4]"
      ]
     },
     "execution_count": 19,
     "metadata": {},
     "output_type": "execute_result"
    }
   ],
   "source": [
    "converted_column = pd.to_numeric(df[\"Rank\"], errors = 'coerce')\n",
    "df['Rank'] = converted_column\n",
    "df.head()"
   ]
  },
  {
   "cell_type": "markdown",
   "metadata": {},
   "source": [
    "Lets calculate the correlation"
   ]
  },
  {
   "cell_type": "code",
   "execution_count": 20,
   "metadata": {
    "collapsed": false
   },
   "outputs": [
    {
     "data": {
      "text/html": [
       "<div>\n",
       "<table border=\"1\" class=\"dataframe\">\n",
       "  <thead>\n",
       "    <tr style=\"text-align: right;\">\n",
       "      <th></th>\n",
       "      <th>Rank</th>\n",
       "      <th>Motorveh1_000people</th>\n",
       "    </tr>\n",
       "    <tr>\n",
       "      <th>0</th>\n",
       "      <th></th>\n",
       "      <th></th>\n",
       "    </tr>\n",
       "  </thead>\n",
       "  <tbody>\n",
       "    <tr>\n",
       "      <th>Rank</th>\n",
       "      <td>1.000000</td>\n",
       "      <td>-0.997596</td>\n",
       "    </tr>\n",
       "    <tr>\n",
       "      <th>Motorveh1_000people</th>\n",
       "      <td>-0.997596</td>\n",
       "      <td>1.000000</td>\n",
       "    </tr>\n",
       "  </tbody>\n",
       "</table>\n",
       "</div>"
      ],
      "text/plain": [
       "0                        Rank  Motorveh1_000people\n",
       "0                                                 \n",
       "Rank                 1.000000            -0.997596\n",
       "Motorveh1_000people -0.997596             1.000000"
      ]
     },
     "execution_count": 20,
     "metadata": {},
     "output_type": "execute_result"
    }
   ],
   "source": [
    "# pairwise correlation\n",
    "df.drop(['Country', 'Total', 'Notes'], axis=1).corr(method='spearman')"
   ]
  },
  {
   "cell_type": "markdown",
   "metadata": {},
   "source": [
    "## Plot as a map"
   ]
  },
  {
   "cell_type": "markdown",
   "metadata": {},
   "source": [
    "Let us connect to our GIS to geocode this data and present it as a map"
   ]
  },
  {
   "cell_type": "code",
   "execution_count": 21,
   "metadata": {
    "collapsed": false
   },
   "outputs": [],
   "source": [
    "from arcgis.gis import GIS\n",
    "import json\n",
    "\n",
    "gis = GIS(\"https://www.arcgis.com\", \"username_YOUR\", \"Password_YOUR\")\n",
    "#gis = GIS(\"website arcis.com\", \"username_YOUR\", \"Password_YOUR\")"
   ]
  },
  {
   "cell_type": "code",
   "execution_count": 22,
   "metadata": {
    "collapsed": true
   },
   "outputs": [],
   "source": [
    "fc = gis.content.import_data(df, {\"CountryCode\":\"Country\"})"
   ]
  },
  {
   "cell_type": "code",
   "execution_count": 23,
   "metadata": {
    "collapsed": true
   },
   "outputs": [],
   "source": [
    "map1 = gis.map('Spain')"
   ]
  },
  {
   "cell_type": "code",
   "execution_count": 24,
   "metadata": {
    "collapsed": true
   },
   "outputs": [],
   "source": [
    "map1"
   ]
  },
  {
   "cell_type": "markdown",
   "metadata": {},
   "source": [
    "Let us us smart mapping to render the points with varying sizes representing the number of Motor vehicles per 1,000 people"
   ]
  },
  {
   "cell_type": "code",
   "execution_count": 25,
   "metadata": {
    "collapsed": true
   },
   "outputs": [],
   "source": [
    "map1.add_layer(fc, {\"renderer\":\"ClassedSizeRenderer\",\n",
    "               \"field_name\": \"Motorveh1_000people\"})"
   ]
  },
  {
   "cell_type": "markdown",
   "metadata": {},
   "source": [
    "Let us publish this layer as a feature collection item in our GIS"
   ]
  },
  {
   "cell_type": "code",
   "execution_count": 26,
   "metadata": {
    "collapsed": true
   },
   "outputs": [],
   "source": [
    "item_properties = {\n",
    "    \"title\": \"Worldwide Motor vehicles ownership\",\n",
    "    \"tags\" : \"Motor\",\n",
    "    \"snippet\": \" Worldwide Motor vehicles ownership\",\n",
    "    \"description\": \"test description\",\n",
    "    \"text\": json.dumps({\"featureCollection\": {\"layers\": [dict(fc.layer)]}}),\n",
    "    \"type\": \"Feature Collection\",\n",
    "    \"typeKeywords\": \"Data, Feature Collection, Singlelayer\",\n",
    "    \"extent\" : \"-102.5272,-41.7886,172.5967,64.984\"\n",
    "}\n",
    "\n",
    "item = gis.content.add(item_properties)"
   ]
  },
  {
   "cell_type": "markdown",
   "metadata": {},
   "source": [
    "Let us search for this item"
   ]
  },
  {
   "cell_type": "code",
   "execution_count": 27,
   "metadata": {
    "collapsed": false
   },
   "outputs": [
    {
     "data": {
      "text/html": [
       "<div class=\"item_container\" style=\"height: auto; overflow: hidden; border: 1px solid #cfcfcf; border-radius: 2px; background: #f6fafa; line-height: 1.21429em; padding: 10px;\">\n",
       "                    <div class=\"item_left\" style=\"width: 210px; float: left;\">\n",
       "                       <a href='https://FSGutierresBTS.maps.arcgis.com/home/item.html?id=0725a38475c4420b9744939b2187c3d1' target='_blank'>\n",
       "                        <img src='http://static.arcgis.com/images/desktopapp.png' class=\"itemThumbnail\">\n",
       "                       </a>\n",
       "                    </div>\n",
       "\n",
       "                    <div class=\"item_right\"     style=\"float: none; width: auto; overflow: hidden;\">\n",
       "                        <a href='https://FSGutierresBTS.maps.arcgis.com/home/item.html?id=0725a38475c4420b9744939b2187c3d1' target='_blank'><b>Worldwide Motor vehicles ownership</b>\n",
       "                        </a>\n",
       "                        <br/> Worldwide Motor vehicles ownership<img src='https://FSGutierresBTS.maps.arcgis.com/home/js/jsapi/esri/css/images/item_type_icons/features16.png' style=\"vertical-align:middle;\">Feature Collection by FSGutierres_BTS\n",
       "                        <br/>Last Modified: November 15, 2017\n",
       "                        <br/>0 comments, 0 views\n",
       "                    </div>\n",
       "                </div>\n",
       "                "
      ],
      "text/plain": [
       "<Item title:\"Worldwide Motor vehicles ownership\" type:Feature Collection owner:FSGutierres_BTS>"
      ]
     },
     "execution_count": 27,
     "metadata": {},
     "output_type": "execute_result"
    }
   ],
   "source": [
    "search_result = gis.content.search(\"Worldwide Motor vehicles ownership\")\n",
    "search_result[0]"
   ]
  }
 ],
 "metadata": {
  "kernelspec": {
   "display_name": "Python 3",
   "language": "python",
   "name": "python3"
  },
  "language_info": {
   "codemirror_mode": {
    "name": "ipython",
    "version": 3
   },
   "file_extension": ".py",
   "mimetype": "text/x-python",
   "name": "python",
   "nbconvert_exporter": "python",
   "pygments_lexer": "ipython3",
   "version": "3.6.0"
  }
 },
 "nbformat": 4,
 "nbformat_minor": 2
}
