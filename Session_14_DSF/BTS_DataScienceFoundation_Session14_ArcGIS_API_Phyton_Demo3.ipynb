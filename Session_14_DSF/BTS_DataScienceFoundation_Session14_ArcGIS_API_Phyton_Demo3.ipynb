{
 "cells": [
  {
   "cell_type": "markdown",
   "metadata": {},
   "source": [
    "# Subject: Data Science Foundation\n",
    "\n",
    "## Session 14 - ArcGIS API for Python.\n",
    "\n",
    "### Demo 3 -  Smart Mapping"
   ]
  },
  {
   "cell_type": "markdown",
   "metadata": {},
   "source": [
    "Smart Mapping is a new capability built into ArcGIS Online and Portal for ArcGIS (10.3.1 and after) with which you can easily create beautiful and stunning maps. With smart mapping your GIS get the ability to quickly analyze your data and set smart defaults allowing you to easily create an illustrative map."
   ]
  },
  {
   "cell_type": "markdown",
   "metadata": {},
   "source": [
    "# Visualizing line features"
   ]
  },
  {
   "cell_type": "markdown",
   "metadata": {},
   "source": [
    "The first example shows some ideas to visualize linear features using streets data. When you add an item to your map, the map widget visualizes using the default symbology of the item. In this sample, you will see how you can use smart mapping to better visualize the same layer.\n",
    "\n",
    "You can add the layer back to the map by passing the URL to the layer and specifying how you want the layer rendered. In this sample we will use ClassSizeRenderer to emphasize differences in value by varying the thickness of line features."
   ]
  },
  {
   "cell_type": "code",
   "execution_count": 57,
   "metadata": {
    "collapsed": true
   },
   "outputs": [],
   "source": [
    "from arcgis.gis import *\n",
    "gis = GIS()"
   ]
  },
  {
   "cell_type": "code",
   "execution_count": 58,
   "metadata": {
    "collapsed": true
   },
   "outputs": [],
   "source": [
    "map1 = gis.map('USA',3)\n",
    "map1"
   ]
  },
  {
   "cell_type": "markdown",
   "metadata": {},
   "source": [
    "Let us search for an item titled USA Freeway System by Esri and add that to the map"
   ]
  },
  {
   "cell_type": "code",
   "execution_count": 59,
   "metadata": {
    "collapsed": false
   },
   "outputs": [
    {
     "data": {
      "text/plain": [
       "[<Item title:\"USA Freeway System\" type:Feature Layer Collection owner:esri>]"
      ]
     },
     "execution_count": 59,
     "metadata": {},
     "output_type": "execute_result"
    }
   ],
   "source": [
    "search_result = gis.content.search('title:USA freeway system AND owner:esri', \n",
    "                                  item_type = 'Feature Layer')\n",
    "search_result"
   ]
  },
  {
   "cell_type": "code",
   "execution_count": 60,
   "metadata": {
    "collapsed": true
   },
   "outputs": [],
   "source": [
    "freeway_item = search_result[0]\n",
    "map1.add_layer(freeway_item)"
   ]
  },
  {
   "cell_type": "markdown",
   "metadata": {},
   "source": [
    "The freeway layer uses a simple symbology. Let us visualize it by one of the fields available on the feature layer. To do that, we get the Item's layers as FeatureLayer objects. From the FeatureLayer object, we can find the url and available fields."
   ]
  },
  {
   "cell_type": "code",
   "execution_count": 61,
   "metadata": {
    "collapsed": false
   },
   "outputs": [
    {
     "name": "stdout",
     "output_type": "stream",
     "text": [
      "https://services.arcgis.com/P3ePLMYs2RVChkJx/arcgis/rest/services/USA_Freeway_System/FeatureServer/1\n",
      "OBJECTID\n",
      "ROUTE_NUM\n",
      "CLASS\n",
      "NUMBER\n",
      "SUFFIX\n",
      "DIST_MILES\n",
      "DIST_KM\n"
     ]
    }
   ],
   "source": [
    "# Use the first layer available on the service.\n",
    "freeway_feature_layer = freeway_item.layers[0]\n",
    "\n",
    "# Print the layer's url and field names.\n",
    "print(freeway_feature_layer.url)\n",
    "for field in freeway_feature_layer.properties['fields']:\n",
    "    print(field['name'])"
   ]
  },
  {
   "cell_type": "markdown",
   "metadata": {},
   "source": [
    "Let us use DIST_MILES field and symbolize it with varying colors. Let us also change the extent of the map to illustrate the differences better."
   ]
  },
  {
   "cell_type": "code",
   "execution_count": 62,
   "metadata": {
    "collapsed": true
   },
   "outputs": [],
   "source": [
    "map1.add_layer(freeway_feature_layer, {\"renderer\":\"ClassedSizeRenderer\", \"field_name\": \"DIST_MILES\"})"
   ]
  },
  {
   "cell_type": "code",
   "execution_count": 63,
   "metadata": {
    "collapsed": true
   },
   "outputs": [],
   "source": [
    "# Change map's extent to Los Angeles city\n",
    "map1.center = [34, -118]"
   ]
  },
  {
   "cell_type": "code",
   "execution_count": 64,
   "metadata": {
    "collapsed": true
   },
   "outputs": [],
   "source": [
    "map1.zoom = 10"
   ]
  },
  {
   "cell_type": "markdown",
   "metadata": {},
   "source": [
    "Thus, we represented longer freeways as thicker lines and shorter ones with thinner lines."
   ]
  },
  {
   "cell_type": "markdown",
   "metadata": {},
   "source": [
    "# Visualizing area features"
   ]
  },
  {
   "cell_type": "markdown",
   "metadata": {},
   "source": [
    "Area or polygon features are typically symbolized in varying colors to represent the differences in values. The example below shows how a Classed Color Renderer can be used to visualize the population differences between the counties of the state of Washington.\n",
    "\n",
    "As you have seen in the previous sample, by using the smart mapping capability, you can author the map just by specifying the renderer type and the field to use and your GIS does the rest such identifying a suitable color scheme based on your basemap and the min and max values for the color ramp.\n",
    "\n",
    "The sample also shows how a definition expression can be used to limit the features displayed from the layer, and how the layer can be represented with transparency allowing the basemap to be seen."
   ]
  },
  {
   "cell_type": "code",
   "execution_count": 65,
   "metadata": {
    "collapsed": true
   },
   "outputs": [],
   "source": [
    "map2 = gis.map('Seattle, WA', 6)"
   ]
  },
  {
   "cell_type": "code",
   "execution_count": 66,
   "metadata": {
    "collapsed": true
   },
   "outputs": [],
   "source": [
    "map2"
   ]
  },
  {
   "cell_type": "markdown",
   "metadata": {},
   "source": [
    "The steps to search for a Feature Layer item and obtaining its url is demonstrated in the previous sample. For brevity, this sample skips that part."
   ]
  },
  {
   "cell_type": "code",
   "execution_count": 71,
   "metadata": {
    "collapsed": true
   },
   "outputs": [],
   "source": [
    "map2.add_layer({\"type\":\"FeatureLayer\", \n",
    "               \"url\":\"//sampleserver6.arcgisonline.com/arcgis/rest/services/Census/MapServer/2\",\n",
    "               \"definition_expression\" : \"STATE_NAME='Washington'\",\n",
    "               \"renderer\":\"ClassedColorRenderer\",\n",
    "               \"field_name\":\"POP2007\",\n",
    "               \"opacity\":0.7\n",
    "              })"
   ]
  },
  {
   "cell_type": "code",
   "execution_count": 74,
   "metadata": {
    "collapsed": true
   },
   "outputs": [],
   "source": [
    "map2.zoom = 6"
   ]
  },
  {
   "cell_type": "markdown",
   "metadata": {},
   "source": [
    "# Visualizing location data"
   ]
  },
  {
   "cell_type": "markdown",
   "metadata": {},
   "source": [
    "Point features are the most common type of location data. Smart mapping provides a special visualization technique called heatmap. The heatmap renderer is useful when representing the spatial distribution or clustering of points as it represents the relative density of points on a map as smoothly varying sets of colors ranging from cool (low density) to hot (many points)."
   ]
  },
  {
   "cell_type": "markdown",
   "metadata": {},
   "source": [
    "Thus, the sample below visualizes earthquake occurrences in Southern California, using the heatmap renderer"
   ]
  },
  {
   "cell_type": "code",
   "execution_count": 84,
   "metadata": {
    "collapsed": true
   },
   "outputs": [],
   "source": [
    "map3 = gis.map('Los Angeles', 8)"
   ]
  },
  {
   "cell_type": "code",
   "execution_count": 85,
   "metadata": {
    "collapsed": true
   },
   "outputs": [],
   "source": [
    "map3"
   ]
  },
  {
   "cell_type": "code",
   "execution_count": 86,
   "metadata": {
    "collapsed": false
   },
   "outputs": [],
   "source": [
    "map3.add_layer({\"type\":\"FeatureLayer\",\n",
    "                \"url\":\"http://services1.arcgis.com/hLJbHVT9ZrDIzK0I/arcgis/rest/services/EQMagGt4/FeatureServer/0\",\n",
    "                \"opacity\":0.75})"
   ]
  },
  {
   "cell_type": "code",
   "execution_count": 87,
   "metadata": {
    "collapsed": false
   },
   "outputs": [],
   "source": [
    "map3.add_layer({\"type\":\"FeatureLayer\",\n",
    "                \"url\":\"http://services1.arcgis.com/hLJbHVT9ZrDIzK0I/arcgis/rest/services/EQMagGt4/FeatureServer/0\",\n",
    "                \"renderer\":\"HeatmapRenderer\",\n",
    "                \"opacity\":0.75})"
   ]
  }
 ],
 "metadata": {
  "kernelspec": {
   "display_name": "Python 3",
   "language": "python",
   "name": "python3"
  },
  "language_info": {
   "codemirror_mode": {
    "name": "ipython",
    "version": 3
   },
   "file_extension": ".py",
   "mimetype": "text/x-python",
   "name": "python",
   "nbconvert_exporter": "python",
   "pygments_lexer": "ipython3",
   "version": "3.6.0"
  },
  "widgets": {
   "state": {
    "0728e9e7e1464c3ca25d08f8d3a70024": {
     "views": [
      {
       "cell_index": 19
      }
     ]
    },
    "4eea85f08e804710bdbb5e47a8b6e612": {
     "views": [
      {
       "cell_index": 27
      }
     ]
    },
    "e3531a1834cc4667b32a6684ed972741": {
     "views": [
      {
       "cell_index": 5
      }
     ]
    }
   },
   "version": "1.2.0"
  }
 },
 "nbformat": 4,
 "nbformat_minor": 2
}
