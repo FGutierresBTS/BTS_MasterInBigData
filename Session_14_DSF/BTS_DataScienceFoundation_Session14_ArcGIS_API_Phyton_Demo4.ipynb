{
 "cells": [
  {
   "cell_type": "markdown",
   "metadata": {},
   "source": [
    "# Subject: Data Science Foundation\n",
    "\n",
    "## Session 14 - ArcGIS API for Python.\n",
    "\n",
    "### Demo 4 -  Publishing Shapefiles, CSVs, SD (Sample Data) and text files (JSON)"
   ]
  },
  {
   "cell_type": "markdown",
   "metadata": {},
   "source": [
    "## Publish a feature service from a shapefile and update the item information"
   ]
  },
  {
   "cell_type": "markdown",
   "metadata": {},
   "source": [
    "To publish a shapefile, we first add the zipped shapefile to the Portal as an item, then call publish() method on the item to create a web layer. Often times, your shape files or service definitions may not contain the metadata you want to show on the portal item. This sample demonstrates how you can update those properties after publishing a web layer."
   ]
  },
  {
   "cell_type": "code",
   "execution_count": 1,
   "metadata": {
    "collapsed": true
   },
   "outputs": [],
   "source": [
    "from IPython.display import display\n",
    "from arcgis.gis import GIS\n",
    "import os\n",
    "gis = GIS(\"https://www.arcgis.com\", \"FSGutierres_BTS\", \"Liberdade_3030\")"
   ]
  },
  {
   "cell_type": "code",
   "execution_count": 2,
   "metadata": {
    "collapsed": false
   },
   "outputs": [
    {
     "name": "stderr",
     "output_type": "stream",
     "text": [
      "Item 'CLC12_Barcelona.zip' already exists.\n"
     ]
    },
    {
     "ename": "RuntimeError",
     "evalue": "Item 'CLC12_Barcelona.zip' already exists.\n(Error Code: 409)",
     "output_type": "error",
     "traceback": [
      "\u001b[0;31m---------------------------------------------------------------------------\u001b[0m",
      "\u001b[0;31mRuntimeError\u001b[0m                              Traceback (most recent call last)",
      "\u001b[0;32m<ipython-input-2-c26e45fc4750>\u001b[0m in \u001b[0;36m<module>\u001b[0;34m()\u001b[0m\n\u001b[1;32m      1\u001b[0m \u001b[0mdata\u001b[0m \u001b[1;33m=\u001b[0m \u001b[1;34m\"C:/Users/francisco.sacramento/Desktop/Master_Big_Data_Phyton/6_Exercices/Data Science Foundations\\Session_14_DSF/CLC12_Barcelona.zip\"\u001b[0m\u001b[1;33m\u001b[0m\u001b[0m\n\u001b[0;32m----> 2\u001b[0;31m \u001b[0mshpfile\u001b[0m \u001b[1;33m=\u001b[0m \u001b[0mgis\u001b[0m\u001b[1;33m.\u001b[0m\u001b[0mcontent\u001b[0m\u001b[1;33m.\u001b[0m\u001b[0madd\u001b[0m\u001b[1;33m(\u001b[0m\u001b[1;33m{\u001b[0m\u001b[1;33m}\u001b[0m\u001b[1;33m,\u001b[0m \u001b[0mdata\u001b[0m\u001b[1;33m)\u001b[0m\u001b[1;33m\u001b[0m\u001b[0m\n\u001b[0m",
      "\u001b[0;32mC:\\Users\\francisco.sacramento\\AppData\\Local\\Continuum\\Anaconda3\\lib\\site-packages\\arcgis\\gis\\__init__.py\u001b[0m in \u001b[0;36madd\u001b[0;34m(self, item_properties, data, thumbnail, metadata, owner, folder)\u001b[0m\n\u001b[1;32m   1902\u001b[0m                 \u001b[0mitem_properties\u001b[0m\u001b[1;33m[\u001b[0m\u001b[1;34m'tags'\u001b[0m\u001b[1;33m]\u001b[0m \u001b[1;33m=\u001b[0m \u001b[1;34m\",\"\u001b[0m\u001b[1;33m.\u001b[0m\u001b[0mjoin\u001b[0m\u001b[1;33m(\u001b[0m\u001b[0mitem_properties\u001b[0m\u001b[1;33m[\u001b[0m\u001b[1;34m'tags'\u001b[0m\u001b[1;33m]\u001b[0m\u001b[1;33m)\u001b[0m\u001b[1;33m\u001b[0m\u001b[0m\n\u001b[1;32m   1903\u001b[0m \u001b[1;33m\u001b[0m\u001b[0m\n\u001b[0;32m-> 1904\u001b[0;31m         \u001b[0mitemid\u001b[0m \u001b[1;33m=\u001b[0m \u001b[0mself\u001b[0m\u001b[1;33m.\u001b[0m\u001b[0m_portal\u001b[0m\u001b[1;33m.\u001b[0m\u001b[0madd_item\u001b[0m\u001b[1;33m(\u001b[0m\u001b[0mitem_properties\u001b[0m\u001b[1;33m,\u001b[0m \u001b[0mdata\u001b[0m\u001b[1;33m,\u001b[0m \u001b[0mthumbnail\u001b[0m\u001b[1;33m,\u001b[0m \u001b[0mmetadata\u001b[0m\u001b[1;33m,\u001b[0m \u001b[0mowner_name\u001b[0m\u001b[1;33m,\u001b[0m \u001b[0mfolder\u001b[0m\u001b[1;33m)\u001b[0m\u001b[1;33m\u001b[0m\u001b[0m\n\u001b[0m\u001b[1;32m   1905\u001b[0m \u001b[1;33m\u001b[0m\u001b[0m\n\u001b[1;32m   1906\u001b[0m         \u001b[1;32mif\u001b[0m \u001b[0mitemid\u001b[0m \u001b[1;32mis\u001b[0m \u001b[1;32mnot\u001b[0m \u001b[1;32mNone\u001b[0m\u001b[1;33m:\u001b[0m\u001b[1;33m\u001b[0m\u001b[0m\n",
      "\u001b[0;32mC:\\Users\\francisco.sacramento\\AppData\\Local\\Continuum\\Anaconda3\\lib\\site-packages\\arcgis\\_impl\\portalpy.py\u001b[0m in \u001b[0;36madd_item\u001b[0;34m(self, item_properties, data, thumbnail, metadata, owner, folder)\u001b[0m\n\u001b[1;32m    318\u001b[0m \u001b[1;33m\u001b[0m\u001b[0m\n\u001b[1;32m    319\u001b[0m         \u001b[0mpath\u001b[0m \u001b[1;33m+=\u001b[0m \u001b[1;34m'/addItem'\u001b[0m\u001b[1;33m\u001b[0m\u001b[0m\n\u001b[0;32m--> 320\u001b[0;31m         \u001b[0mresp\u001b[0m \u001b[1;33m=\u001b[0m \u001b[0mself\u001b[0m\u001b[1;33m.\u001b[0m\u001b[0mcon\u001b[0m\u001b[1;33m.\u001b[0m\u001b[0mpost\u001b[0m\u001b[1;33m(\u001b[0m\u001b[0mpath\u001b[0m\u001b[1;33m,\u001b[0m \u001b[0mpostdata\u001b[0m\u001b[1;33m,\u001b[0m \u001b[0mfiles\u001b[0m\u001b[1;33m)\u001b[0m\u001b[1;33m\u001b[0m\u001b[0m\n\u001b[0m\u001b[1;32m    321\u001b[0m         \u001b[1;32mif\u001b[0m \u001b[0mresp\u001b[0m \u001b[1;32mand\u001b[0m \u001b[0mresp\u001b[0m\u001b[1;33m.\u001b[0m\u001b[0mget\u001b[0m\u001b[1;33m(\u001b[0m\u001b[1;34m'success'\u001b[0m\u001b[1;33m)\u001b[0m\u001b[1;33m:\u001b[0m\u001b[1;33m\u001b[0m\u001b[0m\n\u001b[1;32m    322\u001b[0m             \u001b[1;32mreturn\u001b[0m \u001b[0mresp\u001b[0m\u001b[1;33m[\u001b[0m\u001b[1;34m'id'\u001b[0m\u001b[1;33m]\u001b[0m\u001b[1;33m\u001b[0m\u001b[0m\n",
      "\u001b[0;32mC:\\Users\\francisco.sacramento\\AppData\\Local\\Continuum\\Anaconda3\\lib\\site-packages\\arcgis\\_impl\\connection.py\u001b[0m in \u001b[0;36mpost\u001b[0;34m(self, path, postdata, files, ssl, compress, is_retry, use_ordered_dict, add_token, verify_cert, token, try_json, out_folder, file_name, force_bytes, add_headers)\u001b[0m\n\u001b[1;32m   1127\u001b[0m                 \u001b[1;32melif\u001b[0m \u001b[0merrorcode\u001b[0m \u001b[1;33m==\u001b[0m \u001b[1;36m498\u001b[0m\u001b[1;33m:\u001b[0m\u001b[1;33m\u001b[0m\u001b[0m\n\u001b[1;32m   1128\u001b[0m                     \u001b[1;32mraise\u001b[0m \u001b[0mRuntimeError\u001b[0m\u001b[1;33m(\u001b[0m\u001b[1;34m'Invalid token'\u001b[0m\u001b[1;33m)\u001b[0m\u001b[1;33m\u001b[0m\u001b[0m\n\u001b[0;32m-> 1129\u001b[0;31m                 \u001b[0mself\u001b[0m\u001b[1;33m.\u001b[0m\u001b[0m_handle_json_error\u001b[0m\u001b[1;33m(\u001b[0m\u001b[0mresp_json\u001b[0m\u001b[1;33m[\u001b[0m\u001b[1;34m'error'\u001b[0m\u001b[1;33m]\u001b[0m\u001b[1;33m,\u001b[0m \u001b[0merrorcode\u001b[0m\u001b[1;33m)\u001b[0m\u001b[1;33m\u001b[0m\u001b[0m\n\u001b[0m\u001b[1;32m   1130\u001b[0m                 \u001b[1;32mreturn\u001b[0m \u001b[1;32mNone\u001b[0m\u001b[1;33m\u001b[0m\u001b[0m\n\u001b[1;32m   1131\u001b[0m         \u001b[1;32mexcept\u001b[0m \u001b[0mAttributeError\u001b[0m\u001b[1;33m:\u001b[0m\u001b[1;33m\u001b[0m\u001b[0m\n",
      "\u001b[0;32mC:\\Users\\francisco.sacramento\\AppData\\Local\\Continuum\\Anaconda3\\lib\\site-packages\\arcgis\\_impl\\connection.py\u001b[0m in \u001b[0;36m_handle_json_error\u001b[0;34m(self, error, errorcode)\u001b[0m\n\u001b[1;32m   1147\u001b[0m \u001b[1;33m\u001b[0m\u001b[0m\n\u001b[1;32m   1148\u001b[0m         \u001b[0merrormessage\u001b[0m \u001b[1;33m=\u001b[0m \u001b[0merrormessage\u001b[0m \u001b[1;33m+\u001b[0m \u001b[1;34m\"\\n(Error Code: \"\u001b[0m \u001b[1;33m+\u001b[0m \u001b[0mstr\u001b[0m\u001b[1;33m(\u001b[0m\u001b[0merrorcode\u001b[0m\u001b[1;33m)\u001b[0m \u001b[1;33m+\u001b[0m\u001b[1;34m\")\"\u001b[0m\u001b[1;33m\u001b[0m\u001b[0m\n\u001b[0;32m-> 1149\u001b[0;31m         \u001b[1;32mraise\u001b[0m \u001b[0mRuntimeError\u001b[0m\u001b[1;33m(\u001b[0m\u001b[0merrormessage\u001b[0m\u001b[1;33m)\u001b[0m\u001b[1;33m\u001b[0m\u001b[0m\n\u001b[0m\u001b[1;32m   1150\u001b[0m \u001b[1;33m\u001b[0m\u001b[0m\n\u001b[1;32m   1151\u001b[0m \u001b[1;32mclass\u001b[0m \u001b[0m_StrictURLopener\u001b[0m\u001b[1;33m(\u001b[0m\u001b[0mrequest\u001b[0m\u001b[1;33m.\u001b[0m\u001b[0mFancyURLopener\u001b[0m\u001b[1;33m)\u001b[0m\u001b[1;33m:\u001b[0m\u001b[1;33m\u001b[0m\u001b[0m\n",
      "\u001b[0;31mRuntimeError\u001b[0m: Item 'CLC12_Barcelona.zip' already exists.\n(Error Code: 409)"
     ]
    }
   ],
   "source": [
    "data = \"C:/Users/francisco.sacramento/Desktop/Master_Big_Data_Phyton/6_Exercices/Data Science Foundations\\Session_14_DSF/CLC12_Barcelona.zip\"\n",
    "shpfile = gis.content.add({}, data)"
   ]
  },
  {
   "cell_type": "code",
   "execution_count": null,
   "metadata": {
    "collapsed": false
   },
   "outputs": [],
   "source": [
    "shpfile"
   ]
  },
  {
   "cell_type": "code",
   "execution_count": null,
   "metadata": {
    "collapsed": true
   },
   "outputs": [],
   "source": [
    "published_service = shpfile.publish()"
   ]
  },
  {
   "cell_type": "code",
   "execution_count": null,
   "metadata": {
    "collapsed": false
   },
   "outputs": [],
   "source": [
    "display(published_service)"
   ]
  },
  {
   "cell_type": "code",
   "execution_count": null,
   "metadata": {
    "collapsed": true
   },
   "outputs": [],
   "source": [
    "fSGutierres_BTS_content = gis.content.search(\"CLC12_Barcelona \", item_type=\"Feature Layer\", max_items=5)"
   ]
  },
  {
   "cell_type": "code",
   "execution_count": null,
   "metadata": {
    "collapsed": false
   },
   "outputs": [],
   "source": [
    "fSGutierres_BTS_content"
   ]
  },
  {
   "cell_type": "code",
   "execution_count": 3,
   "metadata": {
    "collapsed": false
   },
   "outputs": [],
   "source": [
    "# Create a map widget\n",
    "map1 = gis.map('Barcelona') # Passing a place name to the constructor\n",
    "                        # will initialize the extent of the map.\n",
    "map1"
   ]
  },
  {
   "cell_type": "code",
   "execution_count": 4,
   "metadata": {
    "collapsed": false
   },
   "outputs": [
    {
     "ename": "NameError",
     "evalue": "name 'fSGutierres_BTS_content' is not defined",
     "output_type": "error",
     "traceback": [
      "\u001b[0;31m---------------------------------------------------------------------------\u001b[0m",
      "\u001b[0;31mNameError\u001b[0m                                 Traceback (most recent call last)",
      "\u001b[0;32m<ipython-input-4-7d245977bffa>\u001b[0m in \u001b[0;36m<module>\u001b[0;34m()\u001b[0m\n\u001b[1;32m      1\u001b[0m \u001b[1;31m#get the first item\u001b[0m\u001b[1;33m\u001b[0m\u001b[1;33m\u001b[0m\u001b[0m\n\u001b[0;32m----> 2\u001b[0;31m \u001b[0mCLC12_Barcelona\u001b[0m \u001b[1;33m=\u001b[0m \u001b[0mfSGutierres_BTS_content\u001b[0m\u001b[1;33m[\u001b[0m\u001b[1;36m0\u001b[0m\u001b[1;33m]\u001b[0m\u001b[1;33m\u001b[0m\u001b[0m\n\u001b[0m",
      "\u001b[0;31mNameError\u001b[0m: name 'fSGutierres_BTS_content' is not defined"
     ]
    }
   ],
   "source": [
    "#get the first item\n",
    "CLC12_Barcelona = fSGutierres_BTS_content[0]"
   ]
  },
  {
   "cell_type": "code",
   "execution_count": 5,
   "metadata": {
    "collapsed": false
   },
   "outputs": [
    {
     "ename": "NameError",
     "evalue": "name 'CLC12_Barcelona' is not defined",
     "output_type": "error",
     "traceback": [
      "\u001b[0;31m---------------------------------------------------------------------------\u001b[0m",
      "\u001b[0;31mNameError\u001b[0m                                 Traceback (most recent call last)",
      "\u001b[0;32m<ipython-input-5-f72d65304768>\u001b[0m in \u001b[0;36m<module>\u001b[0;34m()\u001b[0m\n\u001b[1;32m      1\u001b[0m \u001b[1;31m#add to map\u001b[0m\u001b[1;33m\u001b[0m\u001b[1;33m\u001b[0m\u001b[0m\n\u001b[0;32m----> 2\u001b[0;31m \u001b[0mmap1\u001b[0m\u001b[1;33m.\u001b[0m\u001b[0madd_layer\u001b[0m\u001b[1;33m(\u001b[0m\u001b[0mCLC12_Barcelona\u001b[0m\u001b[1;33m)\u001b[0m\u001b[1;33m\u001b[0m\u001b[0m\n\u001b[0m",
      "\u001b[0;31mNameError\u001b[0m: name 'CLC12_Barcelona' is not defined"
     ]
    }
   ],
   "source": [
    "#add to map\n",
    "map1.add_layer(CLC12_Barcelona)"
   ]
  },
  {
   "cell_type": "markdown",
   "metadata": {},
   "source": [
    "## Publish a CSV file "
   ]
  },
  {
   "cell_type": "markdown",
   "metadata": {},
   "source": [
    "To publish a CSV file, we first add the .csv file to the Portal, and then call the publish() method to publish it as a layer. "
   ]
  },
  {
   "cell_type": "code",
   "execution_count": 6,
   "metadata": {
    "collapsed": false
   },
   "outputs": [
    {
     "name": "stderr",
     "output_type": "stream",
     "text": [
      "Item 'Hotels_WGS84_v2.csv' already exists.\n"
     ]
    },
    {
     "ename": "RuntimeError",
     "evalue": "Item 'Hotels_WGS84_v2.csv' already exists.\n(Error Code: 409)",
     "output_type": "error",
     "traceback": [
      "\u001b[0;31m---------------------------------------------------------------------------\u001b[0m",
      "\u001b[0;31mRuntimeError\u001b[0m                              Traceback (most recent call last)",
      "\u001b[0;32m<ipython-input-6-cf7fab1f1579>\u001b[0m in \u001b[0;36m<module>\u001b[0;34m()\u001b[0m\n\u001b[1;32m      1\u001b[0m \u001b[0mcsv_file\u001b[0m \u001b[1;33m=\u001b[0m \u001b[1;34m'C:/Users/francisco.sacramento/Desktop/Master_Big_Data_Phyton/6_Exercices/Data Science Foundations\\Session_14_DSF/Hotels_WGS84_v2.csv'\u001b[0m\u001b[1;33m\u001b[0m\u001b[0m\n\u001b[0;32m----> 2\u001b[0;31m \u001b[0mcsv_item\u001b[0m \u001b[1;33m=\u001b[0m \u001b[0mgis\u001b[0m\u001b[1;33m.\u001b[0m\u001b[0mcontent\u001b[0m\u001b[1;33m.\u001b[0m\u001b[0madd\u001b[0m\u001b[1;33m(\u001b[0m\u001b[1;33m{\u001b[0m\u001b[1;33m}\u001b[0m\u001b[1;33m,\u001b[0m \u001b[0mcsv_file\u001b[0m\u001b[1;33m)\u001b[0m\u001b[1;33m\u001b[0m\u001b[0m\n\u001b[0m",
      "\u001b[0;32mC:\\Users\\francisco.sacramento\\AppData\\Local\\Continuum\\Anaconda3\\lib\\site-packages\\arcgis\\gis\\__init__.py\u001b[0m in \u001b[0;36madd\u001b[0;34m(self, item_properties, data, thumbnail, metadata, owner, folder)\u001b[0m\n\u001b[1;32m   1902\u001b[0m                 \u001b[0mitem_properties\u001b[0m\u001b[1;33m[\u001b[0m\u001b[1;34m'tags'\u001b[0m\u001b[1;33m]\u001b[0m \u001b[1;33m=\u001b[0m \u001b[1;34m\",\"\u001b[0m\u001b[1;33m.\u001b[0m\u001b[0mjoin\u001b[0m\u001b[1;33m(\u001b[0m\u001b[0mitem_properties\u001b[0m\u001b[1;33m[\u001b[0m\u001b[1;34m'tags'\u001b[0m\u001b[1;33m]\u001b[0m\u001b[1;33m)\u001b[0m\u001b[1;33m\u001b[0m\u001b[0m\n\u001b[1;32m   1903\u001b[0m \u001b[1;33m\u001b[0m\u001b[0m\n\u001b[0;32m-> 1904\u001b[0;31m         \u001b[0mitemid\u001b[0m \u001b[1;33m=\u001b[0m \u001b[0mself\u001b[0m\u001b[1;33m.\u001b[0m\u001b[0m_portal\u001b[0m\u001b[1;33m.\u001b[0m\u001b[0madd_item\u001b[0m\u001b[1;33m(\u001b[0m\u001b[0mitem_properties\u001b[0m\u001b[1;33m,\u001b[0m \u001b[0mdata\u001b[0m\u001b[1;33m,\u001b[0m \u001b[0mthumbnail\u001b[0m\u001b[1;33m,\u001b[0m \u001b[0mmetadata\u001b[0m\u001b[1;33m,\u001b[0m \u001b[0mowner_name\u001b[0m\u001b[1;33m,\u001b[0m \u001b[0mfolder\u001b[0m\u001b[1;33m)\u001b[0m\u001b[1;33m\u001b[0m\u001b[0m\n\u001b[0m\u001b[1;32m   1905\u001b[0m \u001b[1;33m\u001b[0m\u001b[0m\n\u001b[1;32m   1906\u001b[0m         \u001b[1;32mif\u001b[0m \u001b[0mitemid\u001b[0m \u001b[1;32mis\u001b[0m \u001b[1;32mnot\u001b[0m \u001b[1;32mNone\u001b[0m\u001b[1;33m:\u001b[0m\u001b[1;33m\u001b[0m\u001b[0m\n",
      "\u001b[0;32mC:\\Users\\francisco.sacramento\\AppData\\Local\\Continuum\\Anaconda3\\lib\\site-packages\\arcgis\\_impl\\portalpy.py\u001b[0m in \u001b[0;36madd_item\u001b[0;34m(self, item_properties, data, thumbnail, metadata, owner, folder)\u001b[0m\n\u001b[1;32m    318\u001b[0m \u001b[1;33m\u001b[0m\u001b[0m\n\u001b[1;32m    319\u001b[0m         \u001b[0mpath\u001b[0m \u001b[1;33m+=\u001b[0m \u001b[1;34m'/addItem'\u001b[0m\u001b[1;33m\u001b[0m\u001b[0m\n\u001b[0;32m--> 320\u001b[0;31m         \u001b[0mresp\u001b[0m \u001b[1;33m=\u001b[0m \u001b[0mself\u001b[0m\u001b[1;33m.\u001b[0m\u001b[0mcon\u001b[0m\u001b[1;33m.\u001b[0m\u001b[0mpost\u001b[0m\u001b[1;33m(\u001b[0m\u001b[0mpath\u001b[0m\u001b[1;33m,\u001b[0m \u001b[0mpostdata\u001b[0m\u001b[1;33m,\u001b[0m \u001b[0mfiles\u001b[0m\u001b[1;33m)\u001b[0m\u001b[1;33m\u001b[0m\u001b[0m\n\u001b[0m\u001b[1;32m    321\u001b[0m         \u001b[1;32mif\u001b[0m \u001b[0mresp\u001b[0m \u001b[1;32mand\u001b[0m \u001b[0mresp\u001b[0m\u001b[1;33m.\u001b[0m\u001b[0mget\u001b[0m\u001b[1;33m(\u001b[0m\u001b[1;34m'success'\u001b[0m\u001b[1;33m)\u001b[0m\u001b[1;33m:\u001b[0m\u001b[1;33m\u001b[0m\u001b[0m\n\u001b[1;32m    322\u001b[0m             \u001b[1;32mreturn\u001b[0m \u001b[0mresp\u001b[0m\u001b[1;33m[\u001b[0m\u001b[1;34m'id'\u001b[0m\u001b[1;33m]\u001b[0m\u001b[1;33m\u001b[0m\u001b[0m\n",
      "\u001b[0;32mC:\\Users\\francisco.sacramento\\AppData\\Local\\Continuum\\Anaconda3\\lib\\site-packages\\arcgis\\_impl\\connection.py\u001b[0m in \u001b[0;36mpost\u001b[0;34m(self, path, postdata, files, ssl, compress, is_retry, use_ordered_dict, add_token, verify_cert, token, try_json, out_folder, file_name, force_bytes, add_headers)\u001b[0m\n\u001b[1;32m   1127\u001b[0m                 \u001b[1;32melif\u001b[0m \u001b[0merrorcode\u001b[0m \u001b[1;33m==\u001b[0m \u001b[1;36m498\u001b[0m\u001b[1;33m:\u001b[0m\u001b[1;33m\u001b[0m\u001b[0m\n\u001b[1;32m   1128\u001b[0m                     \u001b[1;32mraise\u001b[0m \u001b[0mRuntimeError\u001b[0m\u001b[1;33m(\u001b[0m\u001b[1;34m'Invalid token'\u001b[0m\u001b[1;33m)\u001b[0m\u001b[1;33m\u001b[0m\u001b[0m\n\u001b[0;32m-> 1129\u001b[0;31m                 \u001b[0mself\u001b[0m\u001b[1;33m.\u001b[0m\u001b[0m_handle_json_error\u001b[0m\u001b[1;33m(\u001b[0m\u001b[0mresp_json\u001b[0m\u001b[1;33m[\u001b[0m\u001b[1;34m'error'\u001b[0m\u001b[1;33m]\u001b[0m\u001b[1;33m,\u001b[0m \u001b[0merrorcode\u001b[0m\u001b[1;33m)\u001b[0m\u001b[1;33m\u001b[0m\u001b[0m\n\u001b[0m\u001b[1;32m   1130\u001b[0m                 \u001b[1;32mreturn\u001b[0m \u001b[1;32mNone\u001b[0m\u001b[1;33m\u001b[0m\u001b[0m\n\u001b[1;32m   1131\u001b[0m         \u001b[1;32mexcept\u001b[0m \u001b[0mAttributeError\u001b[0m\u001b[1;33m:\u001b[0m\u001b[1;33m\u001b[0m\u001b[0m\n",
      "\u001b[0;32mC:\\Users\\francisco.sacramento\\AppData\\Local\\Continuum\\Anaconda3\\lib\\site-packages\\arcgis\\_impl\\connection.py\u001b[0m in \u001b[0;36m_handle_json_error\u001b[0;34m(self, error, errorcode)\u001b[0m\n\u001b[1;32m   1147\u001b[0m \u001b[1;33m\u001b[0m\u001b[0m\n\u001b[1;32m   1148\u001b[0m         \u001b[0merrormessage\u001b[0m \u001b[1;33m=\u001b[0m \u001b[0merrormessage\u001b[0m \u001b[1;33m+\u001b[0m \u001b[1;34m\"\\n(Error Code: \"\u001b[0m \u001b[1;33m+\u001b[0m \u001b[0mstr\u001b[0m\u001b[1;33m(\u001b[0m\u001b[0merrorcode\u001b[0m\u001b[1;33m)\u001b[0m \u001b[1;33m+\u001b[0m\u001b[1;34m\")\"\u001b[0m\u001b[1;33m\u001b[0m\u001b[0m\n\u001b[0;32m-> 1149\u001b[0;31m         \u001b[1;32mraise\u001b[0m \u001b[0mRuntimeError\u001b[0m\u001b[1;33m(\u001b[0m\u001b[0merrormessage\u001b[0m\u001b[1;33m)\u001b[0m\u001b[1;33m\u001b[0m\u001b[0m\n\u001b[0m\u001b[1;32m   1150\u001b[0m \u001b[1;33m\u001b[0m\u001b[0m\n\u001b[1;32m   1151\u001b[0m \u001b[1;32mclass\u001b[0m \u001b[0m_StrictURLopener\u001b[0m\u001b[1;33m(\u001b[0m\u001b[0mrequest\u001b[0m\u001b[1;33m.\u001b[0m\u001b[0mFancyURLopener\u001b[0m\u001b[1;33m)\u001b[0m\u001b[1;33m:\u001b[0m\u001b[1;33m\u001b[0m\u001b[0m\n",
      "\u001b[0;31mRuntimeError\u001b[0m: Item 'Hotels_WGS84_v2.csv' already exists.\n(Error Code: 409)"
     ]
    }
   ],
   "source": [
    "csv_file = 'C:/Users/francisco.sacramento/Desktop/Master_Big_Data_Phyton/6_Exercices/Data Science Foundations\\Session_14_DSF/Hotels_WGS84_v2.csv'\n",
    "csv_item = gis.content.add({}, csv_file)"
   ]
  },
  {
   "cell_type": "markdown",
   "metadata": {},
   "source": [
    "The csv file used in this sample has a column titled LOCATION containing place names in text. During the publishing process we specify this column as an address_fields parameter. The server geocodes these locations to create point features for the web layer."
   ]
  },
  {
   "cell_type": "code",
   "execution_count": null,
   "metadata": {
    "collapsed": false
   },
   "outputs": [],
   "source": [
    "csv_lyr = csv_item.publish(None, {\"Address\":\"LOCATION\"})"
   ]
  },
  {
   "cell_type": "code",
   "execution_count": 7,
   "metadata": {
    "collapsed": false
   },
   "outputs": [
    {
     "ename": "NameError",
     "evalue": "name 'csv_lyr' is not defined",
     "output_type": "error",
     "traceback": [
      "\u001b[0;31m---------------------------------------------------------------------------\u001b[0m",
      "\u001b[0;31mNameError\u001b[0m                                 Traceback (most recent call last)",
      "\u001b[0;32m<ipython-input-7-d0f974a29efd>\u001b[0m in \u001b[0;36m<module>\u001b[0;34m()\u001b[0m\n\u001b[0;32m----> 1\u001b[0;31m \u001b[0mdisplay\u001b[0m\u001b[1;33m(\u001b[0m\u001b[0mcsv_lyr\u001b[0m\u001b[1;33m)\u001b[0m\u001b[1;33m\u001b[0m\u001b[0m\n\u001b[0m",
      "\u001b[0;31mNameError\u001b[0m: name 'csv_lyr' is not defined"
     ]
    }
   ],
   "source": [
    "display(csv_lyr)"
   ]
  },
  {
   "cell_type": "code",
   "execution_count": 8,
   "metadata": {
    "collapsed": true
   },
   "outputs": [],
   "source": [
    "fSGutierres_BTS_content = gis.content.search(\"Hotels_WGS84_v2\", item_type=\"Feature Layer\", max_items=5)"
   ]
  },
  {
   "cell_type": "code",
   "execution_count": 9,
   "metadata": {
    "collapsed": false
   },
   "outputs": [
    {
     "data": {
      "text/plain": [
       "[<Item title:\"Hotels_WGS84_v2\" type:Feature Layer Collection owner:FSGutierres_BTS>]"
      ]
     },
     "execution_count": 9,
     "metadata": {},
     "output_type": "execute_result"
    }
   ],
   "source": [
    "fSGutierres_BTS_content"
   ]
  },
  {
   "cell_type": "code",
   "execution_count": 10,
   "metadata": {
    "collapsed": true
   },
   "outputs": [],
   "source": [
    "# Create a map widget\n",
    "map2 = gis.map('Barcelona') # Passing a place name to the constructor\n",
    "                        # will initialize the extent of the map.\n",
    "map2"
   ]
  },
  {
   "cell_type": "code",
   "execution_count": 11,
   "metadata": {
    "collapsed": true
   },
   "outputs": [],
   "source": [
    "#get the first item\n",
    "Hotels_WGS84_v2 = fSGutierres_BTS_content[0]"
   ]
  },
  {
   "cell_type": "code",
   "execution_count": 12,
   "metadata": {
    "collapsed": true
   },
   "outputs": [],
   "source": [
    "#add to map\n",
    "map2.add_layer(Hotels_WGS84_v2)"
   ]
  },
  {
   "cell_type": "markdown",
   "metadata": {},
   "source": [
    "## Publish a SD and Text file "
   ]
  },
  {
   "cell_type": "code",
   "execution_count": 13,
   "metadata": {
    "collapsed": true
   },
   "outputs": [],
   "source": [
    "from arcgis.gis import GIS\n",
    "from IPython.display import display\n",
    "\n",
    "gis = GIS(\"https://www.arcgis.com\", \"FSGutierres_BTS\", \"Liberdade_3030\")"
   ]
  },
  {
   "cell_type": "markdown",
   "metadata": {},
   "source": [
    "To run through the sample, we require some published web layers, web maps and web scene items. This section contains cells that show how to publish them. To understand the publishing process in detail, lets check ESRI samples."
   ]
  },
  {
   "cell_type": "code",
   "execution_count": 14,
   "metadata": {
    "collapsed": false
   },
   "outputs": [
    {
     "name": "stderr",
     "output_type": "stream",
     "text": [
      "Item 'Ebola_Treatment_Units.sd' already exists.\n"
     ]
    },
    {
     "ename": "RuntimeError",
     "evalue": "Item 'Ebola_Treatment_Units.sd' already exists.\n(Error Code: 409)",
     "output_type": "error",
     "traceback": [
      "\u001b[0;31m---------------------------------------------------------------------------\u001b[0m",
      "\u001b[0;31mRuntimeError\u001b[0m                              Traceback (most recent call last)",
      "\u001b[0;32m<ipython-input-14-d7b813496a2a>\u001b[0m in \u001b[0;36m<module>\u001b[0;34m()\u001b[0m\n\u001b[1;32m      2\u001b[0m \u001b[1;33m\u001b[0m\u001b[0m\n\u001b[1;32m      3\u001b[0m \u001b[1;31m# add the sd file as an item and publish it as a web layer\u001b[0m\u001b[1;33m\u001b[0m\u001b[1;33m\u001b[0m\u001b[0m\n\u001b[0;32m----> 4\u001b[0;31m \u001b[0mitem\u001b[0m \u001b[1;33m=\u001b[0m \u001b[0mgis\u001b[0m\u001b[1;33m.\u001b[0m\u001b[0mcontent\u001b[0m\u001b[1;33m.\u001b[0m\u001b[0madd\u001b[0m\u001b[1;33m(\u001b[0m\u001b[1;33m{\u001b[0m\u001b[1;33m}\u001b[0m\u001b[1;33m,\u001b[0m\u001b[0msd_file\u001b[0m\u001b[1;33m)\u001b[0m\u001b[1;33m\u001b[0m\u001b[0m\n\u001b[0m\u001b[1;32m      5\u001b[0m \u001b[0mnew_item\u001b[0m \u001b[1;33m=\u001b[0m \u001b[0mitem\u001b[0m\u001b[1;33m.\u001b[0m\u001b[0mpublish\u001b[0m\u001b[1;33m(\u001b[0m\u001b[1;33m)\u001b[0m\u001b[1;33m\u001b[0m\u001b[0m\n",
      "\u001b[0;32mC:\\Users\\francisco.sacramento\\AppData\\Local\\Continuum\\Anaconda3\\lib\\site-packages\\arcgis\\gis\\__init__.py\u001b[0m in \u001b[0;36madd\u001b[0;34m(self, item_properties, data, thumbnail, metadata, owner, folder)\u001b[0m\n\u001b[1;32m   1902\u001b[0m                 \u001b[0mitem_properties\u001b[0m\u001b[1;33m[\u001b[0m\u001b[1;34m'tags'\u001b[0m\u001b[1;33m]\u001b[0m \u001b[1;33m=\u001b[0m \u001b[1;34m\",\"\u001b[0m\u001b[1;33m.\u001b[0m\u001b[0mjoin\u001b[0m\u001b[1;33m(\u001b[0m\u001b[0mitem_properties\u001b[0m\u001b[1;33m[\u001b[0m\u001b[1;34m'tags'\u001b[0m\u001b[1;33m]\u001b[0m\u001b[1;33m)\u001b[0m\u001b[1;33m\u001b[0m\u001b[0m\n\u001b[1;32m   1903\u001b[0m \u001b[1;33m\u001b[0m\u001b[0m\n\u001b[0;32m-> 1904\u001b[0;31m         \u001b[0mitemid\u001b[0m \u001b[1;33m=\u001b[0m \u001b[0mself\u001b[0m\u001b[1;33m.\u001b[0m\u001b[0m_portal\u001b[0m\u001b[1;33m.\u001b[0m\u001b[0madd_item\u001b[0m\u001b[1;33m(\u001b[0m\u001b[0mitem_properties\u001b[0m\u001b[1;33m,\u001b[0m \u001b[0mdata\u001b[0m\u001b[1;33m,\u001b[0m \u001b[0mthumbnail\u001b[0m\u001b[1;33m,\u001b[0m \u001b[0mmetadata\u001b[0m\u001b[1;33m,\u001b[0m \u001b[0mowner_name\u001b[0m\u001b[1;33m,\u001b[0m \u001b[0mfolder\u001b[0m\u001b[1;33m)\u001b[0m\u001b[1;33m\u001b[0m\u001b[0m\n\u001b[0m\u001b[1;32m   1905\u001b[0m \u001b[1;33m\u001b[0m\u001b[0m\n\u001b[1;32m   1906\u001b[0m         \u001b[1;32mif\u001b[0m \u001b[0mitemid\u001b[0m \u001b[1;32mis\u001b[0m \u001b[1;32mnot\u001b[0m \u001b[1;32mNone\u001b[0m\u001b[1;33m:\u001b[0m\u001b[1;33m\u001b[0m\u001b[0m\n",
      "\u001b[0;32mC:\\Users\\francisco.sacramento\\AppData\\Local\\Continuum\\Anaconda3\\lib\\site-packages\\arcgis\\_impl\\portalpy.py\u001b[0m in \u001b[0;36madd_item\u001b[0;34m(self, item_properties, data, thumbnail, metadata, owner, folder)\u001b[0m\n\u001b[1;32m    318\u001b[0m \u001b[1;33m\u001b[0m\u001b[0m\n\u001b[1;32m    319\u001b[0m         \u001b[0mpath\u001b[0m \u001b[1;33m+=\u001b[0m \u001b[1;34m'/addItem'\u001b[0m\u001b[1;33m\u001b[0m\u001b[0m\n\u001b[0;32m--> 320\u001b[0;31m         \u001b[0mresp\u001b[0m \u001b[1;33m=\u001b[0m \u001b[0mself\u001b[0m\u001b[1;33m.\u001b[0m\u001b[0mcon\u001b[0m\u001b[1;33m.\u001b[0m\u001b[0mpost\u001b[0m\u001b[1;33m(\u001b[0m\u001b[0mpath\u001b[0m\u001b[1;33m,\u001b[0m \u001b[0mpostdata\u001b[0m\u001b[1;33m,\u001b[0m \u001b[0mfiles\u001b[0m\u001b[1;33m)\u001b[0m\u001b[1;33m\u001b[0m\u001b[0m\n\u001b[0m\u001b[1;32m    321\u001b[0m         \u001b[1;32mif\u001b[0m \u001b[0mresp\u001b[0m \u001b[1;32mand\u001b[0m \u001b[0mresp\u001b[0m\u001b[1;33m.\u001b[0m\u001b[0mget\u001b[0m\u001b[1;33m(\u001b[0m\u001b[1;34m'success'\u001b[0m\u001b[1;33m)\u001b[0m\u001b[1;33m:\u001b[0m\u001b[1;33m\u001b[0m\u001b[0m\n\u001b[1;32m    322\u001b[0m             \u001b[1;32mreturn\u001b[0m \u001b[0mresp\u001b[0m\u001b[1;33m[\u001b[0m\u001b[1;34m'id'\u001b[0m\u001b[1;33m]\u001b[0m\u001b[1;33m\u001b[0m\u001b[0m\n",
      "\u001b[0;32mC:\\Users\\francisco.sacramento\\AppData\\Local\\Continuum\\Anaconda3\\lib\\site-packages\\arcgis\\_impl\\connection.py\u001b[0m in \u001b[0;36mpost\u001b[0;34m(self, path, postdata, files, ssl, compress, is_retry, use_ordered_dict, add_token, verify_cert, token, try_json, out_folder, file_name, force_bytes, add_headers)\u001b[0m\n\u001b[1;32m   1127\u001b[0m                 \u001b[1;32melif\u001b[0m \u001b[0merrorcode\u001b[0m \u001b[1;33m==\u001b[0m \u001b[1;36m498\u001b[0m\u001b[1;33m:\u001b[0m\u001b[1;33m\u001b[0m\u001b[0m\n\u001b[1;32m   1128\u001b[0m                     \u001b[1;32mraise\u001b[0m \u001b[0mRuntimeError\u001b[0m\u001b[1;33m(\u001b[0m\u001b[1;34m'Invalid token'\u001b[0m\u001b[1;33m)\u001b[0m\u001b[1;33m\u001b[0m\u001b[0m\n\u001b[0;32m-> 1129\u001b[0;31m                 \u001b[0mself\u001b[0m\u001b[1;33m.\u001b[0m\u001b[0m_handle_json_error\u001b[0m\u001b[1;33m(\u001b[0m\u001b[0mresp_json\u001b[0m\u001b[1;33m[\u001b[0m\u001b[1;34m'error'\u001b[0m\u001b[1;33m]\u001b[0m\u001b[1;33m,\u001b[0m \u001b[0merrorcode\u001b[0m\u001b[1;33m)\u001b[0m\u001b[1;33m\u001b[0m\u001b[0m\n\u001b[0m\u001b[1;32m   1130\u001b[0m                 \u001b[1;32mreturn\u001b[0m \u001b[1;32mNone\u001b[0m\u001b[1;33m\u001b[0m\u001b[0m\n\u001b[1;32m   1131\u001b[0m         \u001b[1;32mexcept\u001b[0m \u001b[0mAttributeError\u001b[0m\u001b[1;33m:\u001b[0m\u001b[1;33m\u001b[0m\u001b[0m\n",
      "\u001b[0;32mC:\\Users\\francisco.sacramento\\AppData\\Local\\Continuum\\Anaconda3\\lib\\site-packages\\arcgis\\_impl\\connection.py\u001b[0m in \u001b[0;36m_handle_json_error\u001b[0;34m(self, error, errorcode)\u001b[0m\n\u001b[1;32m   1147\u001b[0m \u001b[1;33m\u001b[0m\u001b[0m\n\u001b[1;32m   1148\u001b[0m         \u001b[0merrormessage\u001b[0m \u001b[1;33m=\u001b[0m \u001b[0merrormessage\u001b[0m \u001b[1;33m+\u001b[0m \u001b[1;34m\"\\n(Error Code: \"\u001b[0m \u001b[1;33m+\u001b[0m \u001b[0mstr\u001b[0m\u001b[1;33m(\u001b[0m\u001b[0merrorcode\u001b[0m\u001b[1;33m)\u001b[0m \u001b[1;33m+\u001b[0m\u001b[1;34m\")\"\u001b[0m\u001b[1;33m\u001b[0m\u001b[0m\n\u001b[0;32m-> 1149\u001b[0;31m         \u001b[1;32mraise\u001b[0m \u001b[0mRuntimeError\u001b[0m\u001b[1;33m(\u001b[0m\u001b[0merrormessage\u001b[0m\u001b[1;33m)\u001b[0m\u001b[1;33m\u001b[0m\u001b[0m\n\u001b[0m\u001b[1;32m   1150\u001b[0m \u001b[1;33m\u001b[0m\u001b[0m\n\u001b[1;32m   1151\u001b[0m \u001b[1;32mclass\u001b[0m \u001b[0m_StrictURLopener\u001b[0m\u001b[1;33m(\u001b[0m\u001b[0mrequest\u001b[0m\u001b[1;33m.\u001b[0m\u001b[0mFancyURLopener\u001b[0m\u001b[1;33m)\u001b[0m\u001b[1;33m:\u001b[0m\u001b[1;33m\u001b[0m\u001b[0m\n",
      "\u001b[0;31mRuntimeError\u001b[0m: Item 'Ebola_Treatment_Units.sd' already exists.\n(Error Code: 409)"
     ]
    }
   ],
   "source": [
    "sd_file = \"C:/Users/francisco.sacramento/Desktop/Master_Big_Data_Phyton/6_Exercices/Data Science Foundations/Session_14_DSF/Ebola_Treatment_Units.sd\"\n",
    "\n",
    "# add the sd file as an item and publish it as a web layer\n",
    "item = gis.content.add({},sd_file)\n",
    "new_item = item.publish()"
   ]
  },
  {
   "cell_type": "markdown",
   "metadata": {},
   "source": [
    "Now that the web layers are published, run through this section to publish a web map. To understand how this part of the sample works, refer to the sample titled Publishing web maps and web scenes"
   ]
  },
  {
   "cell_type": "code",
   "execution_count": null,
   "metadata": {
    "collapsed": true
   },
   "outputs": [],
   "source": [
    "import json\n",
    "web_map_json = str()\n",
    "\n",
    "# read web map json from text file\n",
    "with open(\"C:/Users/francisco.sacramento/Desktop/Master_Big_Data_Phyton/6_Exercices/Data Science Foundations/Session_14_DSF/web_map_Ebola.json\",\"r\") as file_handle:\n",
    "    web_map_json = json.load(file_handle)\n",
    "\n",
    "# publish a web map\n",
    "web_map_item_properties = {'title':'Ebola treatment locations',\n",
    "                          'type':'Web Map',\n",
    "                          'snippet':'This map shows locations of Ebola treatment centers in Africa',\n",
    "                          'tags':'ArcGIS Python API',\n",
    "                          'text':json.dumps(web_map_json)}\n",
    "\n",
    "web_map_item = gis.content.add(web_map_item_properties)"
   ]
  },
  {
   "cell_type": "markdown",
   "metadata": {},
   "source": [
    "# Using and updating a web map"
   ]
  },
  {
   "cell_type": "markdown",
   "metadata": {},
   "source": [
    "We will search for that web map, draw it and update it if necessary."
   ]
  },
  {
   "cell_type": "code",
   "execution_count": 47,
   "metadata": {
    "collapsed": false
   },
   "outputs": [
    {
     "data": {
      "text/plain": [
       "[<Item title:\"Ebola treatment locations\" type:Web Map owner:FSGutierres_BTS>]"
      ]
     },
     "metadata": {},
     "output_type": "display_data"
    }
   ],
   "source": [
    "search_result = gis.content.search(\"title:Ebola treatment locations\", item_type = \"Web Map\")\n",
    "display(search_result)"
   ]
  },
  {
   "cell_type": "code",
   "execution_count": 48,
   "metadata": {
    "collapsed": false
   },
   "outputs": [
    {
     "data": {
      "text/html": [
       "<div class=\"item_container\" style=\"height: auto; overflow: hidden; border: 1px solid #cfcfcf; border-radius: 2px; background: #f6fafa; line-height: 1.21429em; padding: 10px;\">\n",
       "                    <div class=\"item_left\" style=\"width: 210px; float: left;\">\n",
       "                       <a href='https://FSGutierresBTS.maps.arcgis.com/home/item.html?id=6a073790a77047a5826d949c501b05c7' target='_blank'>\n",
       "                        <img src='http://static.arcgis.com/images/desktopapp.png' class=\"itemThumbnail\">\n",
       "                       </a>\n",
       "                    </div>\n",
       "\n",
       "                    <div class=\"item_right\"     style=\"float: none; width: auto; overflow: hidden;\">\n",
       "                        <a href='https://FSGutierresBTS.maps.arcgis.com/home/item.html?id=6a073790a77047a5826d949c501b05c7' target='_blank'><b>Ebola treatment locations</b>\n",
       "                        </a>\n",
       "                        <br/>This map shows locations of Ebola treatment centers in Africa<img src='https://FSGutierresBTS.maps.arcgis.com/home/js/jsapi/esri/css/images/item_type_icons/maps16.png' style=\"vertical-align:middle;\">Web Map by FSGutierres_BTS\n",
       "                        <br/>Last Modified: November 14, 2017\n",
       "                        <br/>0 comments, 0 views\n",
       "                    </div>\n",
       "                </div>\n",
       "                "
      ],
      "text/plain": [
       "<Item title:\"Ebola treatment locations\" type:Web Map owner:FSGutierres_BTS>"
      ]
     },
     "metadata": {},
     "output_type": "display_data"
    }
   ],
   "source": [
    "# display the first search result to confirm the item\n",
    "web_map_item = search_result[0]\n",
    "display(web_map_item)"
   ]
  },
  {
   "cell_type": "code",
   "execution_count": 49,
   "metadata": {
    "collapsed": true
   },
   "outputs": [],
   "source": [
    "import arcgis\n",
    "\n",
    "# create a web map object out of the item\n",
    "web_map_obj = arcgis.mapping.WebMap(web_map_item)\n",
    "\n",
    "# display the web map obj in an interactive widget\n",
    "web_map_obj"
   ]
  },
  {
   "cell_type": "markdown",
   "metadata": {},
   "source": [
    "# Fix errors in web map"
   ]
  },
  {
   "cell_type": "markdown",
   "metadata": {},
   "source": [
    "The widget loads an empty web map with just a basemap. Let us investigate the contents of the web map to determine the issue. Let us start with operationalLayers dictionary which contains the list of layers and inspect each layer."
   ]
  },
  {
   "cell_type": "code",
   "execution_count": 50,
   "metadata": {
    "collapsed": false
   },
   "outputs": [
    {
     "data": {
      "text/plain": [
       "[{'id': 'layer1',\n",
       "  'itemId': 'f53d5907296e43e28e8570a24b1d1d26',\n",
       "  'layerType': 'ArcGISFeatureLayer',\n",
       "  'opacity': 1,\n",
       "  'title': 'Ebola_Treatment_Units - Ebola_Treatment_Units_Classed',\n",
       "  'url': 'https://services.arcgis.com/ORGID/arcgis/rest/services/Ebola_Facilities/FeatureServer/1',\n",
       "  'visibility': True}]"
      ]
     },
     "metadata": {},
     "output_type": "display_data"
    }
   ],
   "source": [
    "layer_list = web_map_obj['operationalLayers']\n",
    "display(layer_list)"
   ]
  },
  {
   "cell_type": "markdown",
   "metadata": {},
   "source": [
    "The web map has only 1 layer and that points to a feature service title Ebola_Facilities. Let us verify if a feature service of that name exists on the server. If not, let us try to find the closest match."
   ]
  },
  {
   "cell_type": "code",
   "execution_count": 51,
   "metadata": {
    "collapsed": false
   },
   "outputs": [
    {
     "data": {
      "text/plain": [
       "[]"
      ]
     },
     "metadata": {},
     "output_type": "display_data"
    }
   ],
   "source": [
    "search_result = gis.content.search('title:Ebola_Facilities', item_type = 'Feature Service')\n",
    "display(search_result)"
   ]
  },
  {
   "cell_type": "markdown",
   "metadata": {},
   "source": [
    "Let us change the search query leaving just the word Ebola in the title."
   ]
  },
  {
   "cell_type": "code",
   "execution_count": 52,
   "metadata": {
    "collapsed": false
   },
   "outputs": [
    {
     "data": {
      "text/html": [
       "<div class=\"item_container\" style=\"height: auto; overflow: hidden; border: 1px solid #cfcfcf; border-radius: 2px; background: #f6fafa; line-height: 1.21429em; padding: 10px;\">\n",
       "                    <div class=\"item_left\" style=\"width: 210px; float: left;\">\n",
       "                       <a href='https://FSGutierresBTS.maps.arcgis.com/home/item.html?id=cd39eb4ff4f44941a86df51b38ee5df3' target='_blank'>\n",
       "                        <img src='data:image/png;base64,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' width='200' height='133' class=\"itemThumbnail\">\n",
       "                       </a>\n",
       "                    </div>\n",
       "\n",
       "                    <div class=\"item_right\"     style=\"float: none; width: auto; overflow: hidden;\">\n",
       "                        <a href='https://FSGutierresBTS.maps.arcgis.com/home/item.html?id=cd39eb4ff4f44941a86df51b38ee5df3' target='_blank'><b>Ebola_Treatment_Units</b>\n",
       "                        </a>\n",
       "                        <br/>Locations of Ebola treatment units in Africa.<img src='https://FSGutierresBTS.maps.arcgis.com/home/js/jsapi/esri/css/images/item_type_icons/featureshosted16.png' style=\"vertical-align:middle;\">Feature Layer Collection by FSGutierres_BTS\n",
       "                        <br/>Last Modified: November 14, 2017\n",
       "                        <br/>0 comments, 0 views\n",
       "                    </div>\n",
       "                </div>\n",
       "                "
      ],
      "text/plain": [
       "<Item title:\"Ebola_Treatment_Units\" type:Feature Layer Collection owner:FSGutierres_BTS>"
      ]
     },
     "execution_count": 52,
     "metadata": {},
     "output_type": "execute_result"
    }
   ],
   "source": [
    "search_result = gis.content.search('title:Ebola', item_type='Feature Layer')\n",
    "search_result[0]"
   ]
  },
  {
   "cell_type": "markdown",
   "metadata": {},
   "source": [
    "It is likely the old service was deleted and a new one was with a different name was published. Let us update the web map dictionary with the correct url. But before that, we need to investigate if the new service also has layer with id 1 like the previous service."
   ]
  },
  {
   "cell_type": "code",
   "execution_count": 53,
   "metadata": {
    "collapsed": false
   },
   "outputs": [
    {
     "data": {
      "text/plain": [
       "[<FeatureLayer url:\"https://services8.arcgis.com/SptQbDT6wWDmZ31Q/arcgis/rest/services/Ebola_Treatment_Units/FeatureServer/0\">,\n",
       " <FeatureLayer url:\"https://services8.arcgis.com/SptQbDT6wWDmZ31Q/arcgis/rest/services/Ebola_Treatment_Units/FeatureServer/1\">]"
      ]
     },
     "execution_count": 53,
     "metadata": {},
     "output_type": "execute_result"
    }
   ],
   "source": [
    "ebola = search_result[0]\n",
    "ebola.layers"
   ]
  },
  {
   "cell_type": "markdown",
   "metadata": {},
   "source": [
    "The new feature service does have a layer with id 1. Hence we can use the same layer id while switching the url. While updating the web map, it is important to not only update the url but also the itemId of the feature service item."
   ]
  },
  {
   "cell_type": "code",
   "execution_count": 54,
   "metadata": {
    "collapsed": true
   },
   "outputs": [],
   "source": [
    "# set the url to feature service item's url\n",
    "layer_list[0]['url'] = ebola.layers[1].url\n",
    "layer_list[0]['itemId'] = search_result[0].id\n",
    "\n",
    "# update the web map object's operationalLayers dictionary\n",
    "web_map_obj['operationalLayers'] = layer_list"
   ]
  },
  {
   "cell_type": "markdown",
   "metadata": {},
   "source": [
    "# Update the web map"
   ]
  },
  {
   "cell_type": "markdown",
   "metadata": {},
   "source": [
    "Now the web map should be fixed as it points to a live service. To update the web map, we call the update() method."
   ]
  },
  {
   "cell_type": "code",
   "execution_count": 55,
   "metadata": {
    "collapsed": false
   },
   "outputs": [
    {
     "data": {
      "text/plain": [
       "[{'id': 'layer1',\n",
       "  'itemId': 'cd39eb4ff4f44941a86df51b38ee5df3',\n",
       "  'layerType': 'ArcGISFeatureLayer',\n",
       "  'opacity': 1,\n",
       "  'title': 'Ebola_Treatment_Units - Ebola_Treatment_Units_Classed',\n",
       "  'url': 'https://services8.arcgis.com/SptQbDT6wWDmZ31Q/arcgis/rest/services/Ebola_Treatment_Units/FeatureServer/1',\n",
       "  'visibility': True}]"
      ]
     },
     "execution_count": 55,
     "metadata": {},
     "output_type": "execute_result"
    }
   ],
   "source": [
    "# Let us print the opertationalLayers dictionary before calling the update()\n",
    "web_map_obj['operationalLayers']"
   ]
  },
  {
   "cell_type": "code",
   "execution_count": 58,
   "metadata": {
    "collapsed": true
   },
   "outputs": [],
   "source": [
    "web_map_obj.update()"
   ]
  },
  {
   "cell_type": "markdown",
   "metadata": {},
   "source": [
    "Let us create a new web map object and try to draw it."
   ]
  },
  {
   "cell_type": "code",
   "execution_count": 59,
   "metadata": {
    "collapsed": false
   },
   "outputs": [
    {
     "data": {
      "text/plain": [
       "[<Item title:\"Ebola treatment locations\" type:Web Map owner:FSGutierres_BTS>]"
      ]
     },
     "metadata": {},
     "output_type": "display_data"
    }
   ],
   "source": [
    "search_result = gis.content.search('title: Ebola_treatment_locations', item_type = \"Web Map\")\n",
    "display(search_result)"
   ]
  },
  {
   "cell_type": "code",
   "execution_count": 60,
   "metadata": {
    "collapsed": true
   },
   "outputs": [],
   "source": [
    "web_map_item = search_result[0]\n",
    "web_map_obj = arcgis.mapping.WebMap(web_map_item)\n",
    "web_map_obj"
   ]
  },
  {
   "cell_type": "markdown",
   "metadata": {},
   "source": [
    "The web map was sucessfully overwritten with correct operational layers. You can interact with the widget and zoom into the African coast to observe the locations of Ebola treatment centers."
   ]
  },
  {
   "cell_type": "markdown",
   "metadata": {},
   "source": [
    "# Using a web scene"
   ]
  },
  {
   "cell_type": "markdown",
   "metadata": {},
   "source": [
    "Let us look at the example of a web scene that displays tropical cyclones over the Pacific ocean."
   ]
  },
  {
   "cell_type": "code",
   "execution_count": 61,
   "metadata": {
    "collapsed": false
   },
   "outputs": [
    {
     "data": {
      "text/html": [
       "<div class=\"item_container\" style=\"height: auto; overflow: hidden; border: 1px solid #cfcfcf; border-radius: 2px; background: #f6fafa; line-height: 1.21429em; padding: 10px;\">\n",
       "                    <div class=\"item_left\" style=\"width: 210px; float: left;\">\n",
       "                       <a href='https://FSGutierresBTS.maps.arcgis.com/home/item.html?id=193a0e0ed72f413d8cdc649be637a846' target='_blank'>\n",
       "                        <img src='data:image/png;base64,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' width='200' height='133' class=\"itemThumbnail\">\n",
       "                       </a>\n",
       "                    </div>\n",
       "\n",
       "                    <div class=\"item_right\"     style=\"float: none; width: auto; overflow: hidden;\">\n",
       "                        <a href='https://FSGutierresBTS.maps.arcgis.com/home/item.html?id=193a0e0ed72f413d8cdc649be637a846' target='_blank'><b>Western Pacific Typhoons (2005)</b>\n",
       "                        </a>\n",
       "                        <br/>A thematic global scene showing the 23 typhoons that meandered through the western Pacific in 2005<img src='https://FSGutierresBTS.maps.arcgis.com/home/js/jsapi/esri/css/images/item_type_icons/websceneglobal16.png' style=\"vertical-align:middle;\">Web Scene by esri_3d\n",
       "                        <br/>Last Modified: August 30, 2017\n",
       "                        <br/>0 comments, 32,784 views\n",
       "                    </div>\n",
       "                </div>\n",
       "                "
      ],
      "text/plain": [
       "<Item title:\"Western Pacific Typhoons (2005)\" type:Web Scene owner:esri_3d>"
      ]
     },
     "execution_count": 61,
     "metadata": {},
     "output_type": "execute_result"
    }
   ],
   "source": [
    "search_result = gis.content.search('title:Western Pacific Typhoons (2005) AND owner:esri_3d', \n",
    "                                   item_type = 'Web Scene', outside_org = True)\n",
    "search_result[0]"
   ]
  },
  {
   "cell_type": "markdown",
   "metadata": {},
   "source": [
    "Lets display the web scene in the notebook."
   ]
  },
  {
   "cell_type": "code",
   "execution_count": 63,
   "metadata": {
    "collapsed": false
   },
   "outputs": [
    {
     "data": {
      "text/html": [
       "<iframe width=960 height=600 src=\"https://www.arcgis.com/home/webscene/viewer.html?webscene=193a0e0ed72f413d8cdc649be637a846\"/>"
      ],
      "text/plain": [
       "WebScene([('operationalLayers',\n",
       "           [{'id': '882ce65eceda4e2ba2ad65f9e2c0632f',\n",
       "             'layerDefinition': {'drawingInfo': {'renderer': {'description': '',\n",
       "                'label': '',\n",
       "                'symbol': {'symbolLayers': [{'material': {'color': [0,\n",
       "                     169,\n",
       "                     230]},\n",
       "                   'size': 5,\n",
       "                   'type': 'Line'}],\n",
       "                 'type': 'LineSymbol3D'},\n",
       "                'type': 'simple'}},\n",
       "              'elevationInfo': {'mode': 'onTheGround'},\n",
       "              'maxScale': 0,\n",
       "              'minScale': 120000000},\n",
       "             'layerType': 'ArcGISFeatureLayer',\n",
       "             'opacity': 1,\n",
       "             'popupInfo': {'description': \"<div><p><span style='font-weight:bold;'>Typhoon {name}</span></p><p><span style='font-weight:bold;'>Started: </span><span>{datedescription}</span></p></div>\",\n",
       "              'popupElements': [{'type': 'text'}],\n",
       "              'showAttachments': False,\n",
       "              'title': '{name}'},\n",
       "             'title': 'Typhoon Paths',\n",
       "             'url': 'https://services.arcgis.com/P3ePLMYs2RVChkJx/arcgis/rest/services/PacificTyphoons2005_WFL/FeatureServer/18',\n",
       "             'visibility': True},\n",
       "            {'id': '14a37c86f84-layer21',\n",
       "             'layerType': 'GroupLayer',\n",
       "             'layers': [{'id': '7a24e304d2474d7eb29a712c95202140',\n",
       "               'layerDefinition': {'drawingInfo': {'renderer': {'description': '',\n",
       "                  'label': '',\n",
       "                  'symbol': {'name': 'Pushpin 1',\n",
       "                   'styleName': 'EsriIconsStyle',\n",
       "                   'type': 'styleSymbolReference'},\n",
       "                  'type': 'simple',\n",
       "                  'visualVariables': [{'axis': 'all',\n",
       "                    'minSize': 25,\n",
       "                    'type': 'sizeInfo',\n",
       "                    'valueUnit': 'unknown'}]}},\n",
       "                'elevationInfo': {'mode': 'absoluteHeight'}},\n",
       "               'layerType': 'ArcGISFeatureLayer',\n",
       "               'opacity': 1,\n",
       "               'popupInfo': {'fieldInfos': [{'fieldName': 'typhoonid',\n",
       "                  'label': 'typhoonid',\n",
       "                  'visible': True},\n",
       "                 {'fieldName': 'name', 'label': 'name', 'visible': True},\n",
       "                 {'fieldName': 'datedescription',\n",
       "                  'label': 'datedescription',\n",
       "                  'visible': True},\n",
       "                 {'fieldName': 'ORIG_FID',\n",
       "                  'format': {'digitSeparator': True, 'places': 0},\n",
       "                  'label': 'ORIG_FID',\n",
       "                  'visible': True}],\n",
       "                'popupElements': [{'type': 'fields'}, {'type': 'attachments'}],\n",
       "                'showAttachments': True,\n",
       "                'title': 'Labels Q4: {name}'},\n",
       "               'showLabels': True,\n",
       "               'title': 'Labels Q4',\n",
       "               'url': 'https://services.arcgis.com/P3ePLMYs2RVChkJx/arcgis/rest/services/PacificTyphoons2005_WFL/FeatureServer/17',\n",
       "               'visibility': False},\n",
       "              {'id': '10944e27c9f04bc39b5821c0046523a5',\n",
       "               'layerDefinition': {'drawingInfo': {'renderer': {'description': '',\n",
       "                  'label': '',\n",
       "                  'symbol': {'name': 'Standing Cylinder',\n",
       "                   'styleName': 'EsriThematicShapesStyle',\n",
       "                   'type': 'styleSymbolReference'},\n",
       "                  'type': 'simple',\n",
       "                  'visualVariables': [{'axis': 'height',\n",
       "                    'field': 'windspeed',\n",
       "                    'minDataValue': 0.0001,\n",
       "                    'minSize': 1,\n",
       "                    'type': 'sizeInfo'},\n",
       "                   {'axis': 'widthAndDepth',\n",
       "                    'minSize': 100000,\n",
       "                    'type': 'sizeInfo',\n",
       "                    'valueUnit': 'meters'},\n",
       "                   {'field': 'airpressure',\n",
       "                    'stops': [{'color': [245, 0, 0, 255], 'value': 920},\n",
       "                     {'color': [245, 245, 0, 255], 'value': 1014}],\n",
       "                    'type': 'colorInfo'}]}},\n",
       "                'elevationInfo': {'mode': 'absoluteHeight'}},\n",
       "               'layerType': 'ArcGISFeatureLayer',\n",
       "               'opacity': 1,\n",
       "               'popupInfo': {'mediaInfos': [{'caption': \"<div><p><span style='font-weight:bold;'>Pressure: </span><span>{airpressure} hPa</span></p><p><span style='font-weight:bold;'>Wind speed: </span><span>{wind_mph} mph / {wind_kph} kph</span></p><p><p><span style='font-weight:bold;'>Date: </span><span>{timedescription}</span></p></div></p>\",\n",
       "                  'title': \"<div><p><span style='font-weight:bold;'>{typhoonclass} {typhoon}</span></p></div>\",\n",
       "                  'type': 'image',\n",
       "                  'value': {'sourceURL': '{image}'}}],\n",
       "                'popupElements': [{'type': 'fields'}, {'type': 'media'}],\n",
       "                'showAttachments': False,\n",
       "                'title': '{typhoon}'},\n",
       "               'title': 'Typhoons Q4',\n",
       "               'url': 'https://services.arcgis.com/P3ePLMYs2RVChkJx/arcgis/rest/services/PacificTyphoons2005_WFL/FeatureServer/16',\n",
       "               'visibility': False}],\n",
       "             'listMode': 'hide-children',\n",
       "             'opacity': 1,\n",
       "             'title': 'October - December',\n",
       "             'visibility': False,\n",
       "             'visibilityMode': 'inherited'},\n",
       "            {'id': '14a37c7f247-layer20',\n",
       "             'layerType': 'GroupLayer',\n",
       "             'layers': [{'id': '90eba5af0b084c569a55ebc9b3bfc21e',\n",
       "               'layerDefinition': {'drawingInfo': {'renderer': {'description': '',\n",
       "                  'label': '',\n",
       "                  'symbol': {'name': 'Pushpin 1',\n",
       "                   'styleName': 'EsriIconsStyle',\n",
       "                   'type': 'styleSymbolReference'},\n",
       "                  'type': 'simple',\n",
       "                  'visualVariables': [{'axis': 'all',\n",
       "                    'minSize': 25,\n",
       "                    'type': 'sizeInfo',\n",
       "                    'valueUnit': 'unknown'}]}},\n",
       "                'elevationInfo': {'mode': 'absoluteHeight'}},\n",
       "               'layerType': 'ArcGISFeatureLayer',\n",
       "               'opacity': 1,\n",
       "               'popupInfo': {'fieldInfos': [{'fieldName': 'typhoonid',\n",
       "                  'label': 'typhoonid',\n",
       "                  'visible': True},\n",
       "                 {'fieldName': 'name', 'label': 'name', 'visible': True},\n",
       "                 {'fieldName': 'datedescription',\n",
       "                  'label': 'datedescription',\n",
       "                  'visible': True},\n",
       "                 {'fieldName': 'ORIG_FID',\n",
       "                  'format': {'digitSeparator': True, 'places': 0},\n",
       "                  'label': 'ORIG_FID',\n",
       "                  'visible': True}],\n",
       "                'popupElements': [{'type': 'fields'}, {'type': 'attachments'}],\n",
       "                'showAttachments': True,\n",
       "                'title': 'Labels Q3_3: {name}'},\n",
       "               'showLabels': True,\n",
       "               'title': 'Labels Q3_3',\n",
       "               'url': 'https://services.arcgis.com/P3ePLMYs2RVChkJx/arcgis/rest/services/PacificTyphoons2005_WFL/FeatureServer/14',\n",
       "               'visibility': False},\n",
       "              {'id': '341d7b380907439990e4c238147b46ce',\n",
       "               'layerDefinition': {'drawingInfo': {'renderer': {'description': '',\n",
       "                  'label': '',\n",
       "                  'symbol': {'name': 'Standing Cylinder',\n",
       "                   'styleName': 'EsriThematicShapesStyle',\n",
       "                   'type': 'styleSymbolReference'},\n",
       "                  'type': 'simple',\n",
       "                  'visualVariables': [{'axis': 'height',\n",
       "                    'field': 'windspeed',\n",
       "                    'minDataValue': 0.0001,\n",
       "                    'minSize': 1,\n",
       "                    'type': 'sizeInfo'},\n",
       "                   {'axis': 'widthAndDepth',\n",
       "                    'minSize': 100000,\n",
       "                    'type': 'sizeInfo',\n",
       "                    'valueUnit': 'meters'},\n",
       "                   {'field': 'airpressure',\n",
       "                    'stops': [{'color': [245, 0, 0, 255], 'value': 920},\n",
       "                     {'color': [245, 245, 0, 255], 'value': 1014}],\n",
       "                    'type': 'colorInfo'}]}},\n",
       "                'elevationInfo': {'mode': 'absoluteHeight'}},\n",
       "               'layerType': 'ArcGISFeatureLayer',\n",
       "               'opacity': 1,\n",
       "               'popupInfo': {'mediaInfos': [{'caption': \"<div><p><span style='font-weight:bold;'>Pressure: </span><span>{airpressure} hPa</span></p><p><span style='font-weight:bold;'>Wind speed: </span><span>{wind_mph} mph / {wind_kph} kph</span></p><p><p><span style='font-weight:bold;'>Date: </span><span>{timedescription}</span></p></div></p>\",\n",
       "                  'title': \"<div><p><span style='font-weight:bold;'>{typhoonclass} {typhoon}</span></p></div>\",\n",
       "                  'type': 'image',\n",
       "                  'value': {'sourceURL': '{image}'}}],\n",
       "                'popupElements': [{'type': 'fields'}, {'type': 'media'}],\n",
       "                'showAttachments': False,\n",
       "                'title': '{typhoon}'},\n",
       "               'title': 'Typhoons Q3_3',\n",
       "               'url': 'https://services.arcgis.com/P3ePLMYs2RVChkJx/arcgis/rest/services/PacificTyphoons2005_WFL/FeatureServer/13',\n",
       "               'visibility': False}],\n",
       "             'listMode': 'hide-children',\n",
       "             'opacity': 1,\n",
       "             'title': 'September',\n",
       "             'visibility': False,\n",
       "             'visibilityMode': 'inherited'},\n",
       "            {'id': '14a37c78bc8-layer19',\n",
       "             'layerType': 'GroupLayer',\n",
       "             'layers': [{'id': '6e54f2736388480ab0a214cb468d48f9',\n",
       "               'layerDefinition': {'drawingInfo': {'renderer': {'description': '',\n",
       "                  'label': '',\n",
       "                  'symbol': {'name': 'Pushpin 1',\n",
       "                   'styleName': 'EsriIconsStyle',\n",
       "                   'type': 'styleSymbolReference'},\n",
       "                  'type': 'simple',\n",
       "                  'visualVariables': [{'axis': 'all',\n",
       "                    'minSize': 25,\n",
       "                    'type': 'sizeInfo',\n",
       "                    'valueUnit': 'unknown'}]}},\n",
       "                'elevationInfo': {'mode': 'absoluteHeight'}},\n",
       "               'layerType': 'ArcGISFeatureLayer',\n",
       "               'opacity': 1,\n",
       "               'popupInfo': {'fieldInfos': [{'fieldName': 'typhoonid',\n",
       "                  'label': 'typhoonid',\n",
       "                  'visible': True},\n",
       "                 {'fieldName': 'name', 'label': 'name', 'visible': True},\n",
       "                 {'fieldName': 'datedescription',\n",
       "                  'label': 'datedescription',\n",
       "                  'visible': True},\n",
       "                 {'fieldName': 'ORIG_FID',\n",
       "                  'format': {'digitSeparator': True, 'places': 0},\n",
       "                  'label': 'ORIG_FID',\n",
       "                  'visible': True}],\n",
       "                'popupElements': [{'type': 'fields'}, {'type': 'attachments'}],\n",
       "                'showAttachments': True,\n",
       "                'title': 'Labels Q3_2: {name}'},\n",
       "               'showLabels': True,\n",
       "               'title': 'Labels Q3_2',\n",
       "               'url': 'https://services.arcgis.com/P3ePLMYs2RVChkJx/arcgis/rest/services/PacificTyphoons2005_WFL/FeatureServer/11',\n",
       "               'visibility': False},\n",
       "              {'id': '6b549bb78d824b4c8d24f5c90b93c4f6',\n",
       "               'layerDefinition': {'drawingInfo': {'renderer': {'description': '',\n",
       "                  'label': '',\n",
       "                  'symbol': {'name': 'Standing Cylinder',\n",
       "                   'styleName': 'EsriThematicShapesStyle',\n",
       "                   'type': 'styleSymbolReference'},\n",
       "                  'type': 'simple',\n",
       "                  'visualVariables': [{'axis': 'height',\n",
       "                    'field': 'windspeed',\n",
       "                    'minDataValue': 0.0001,\n",
       "                    'minSize': 1,\n",
       "                    'type': 'sizeInfo'},\n",
       "                   {'axis': 'widthAndDepth',\n",
       "                    'minSize': 100000,\n",
       "                    'type': 'sizeInfo',\n",
       "                    'valueUnit': 'meters'},\n",
       "                   {'field': 'airpressure',\n",
       "                    'stops': [{'color': [245, 0, 0, 255], 'value': 920},\n",
       "                     {'color': [245, 245, 0, 255], 'value': 1014}],\n",
       "                    'type': 'colorInfo'}]}},\n",
       "                'elevationInfo': {'mode': 'absoluteHeight'}},\n",
       "               'layerType': 'ArcGISFeatureLayer',\n",
       "               'opacity': 1,\n",
       "               'popupInfo': {'mediaInfos': [{'caption': \"<div><p><span style='font-weight:bold;'>Pressure: </span><span>{airpressure} hPa</span></p><p><span style='font-weight:bold;'>Wind speed: </span><span>{wind_mph} mph / {wind_kph} kph</span></p><p><p><span style='font-weight:bold;'>Date: </span><span>{timedescription}</span></p></div></p>\",\n",
       "                  'title': \"<div><p><span style='font-weight:bold;'>{typhoonclass} {typhoon}</span></p></div>\",\n",
       "                  'type': 'image',\n",
       "                  'value': {'sourceURL': '{image}'}}],\n",
       "                'popupElements': [{'type': 'fields'}, {'type': 'media'}],\n",
       "                'showAttachments': False,\n",
       "                'title': '{typhoon}'},\n",
       "               'title': 'Typhoons Q3_2',\n",
       "               'url': 'https://services.arcgis.com/P3ePLMYs2RVChkJx/arcgis/rest/services/PacificTyphoons2005_WFL/FeatureServer/10',\n",
       "               'visibility': False}],\n",
       "             'listMode': 'hide-children',\n",
       "             'opacity': 1,\n",
       "             'title': 'August',\n",
       "             'visibility': False,\n",
       "             'visibilityMode': 'inherited'},\n",
       "            {'id': '14a37c4590b-layer18',\n",
       "             'layerType': 'GroupLayer',\n",
       "             'layers': [{'id': 'b8cc403be27e475ca93db04a34845e89',\n",
       "               'layerDefinition': {'drawingInfo': {'renderer': {'description': '',\n",
       "                  'label': '',\n",
       "                  'symbol': {'name': 'Pushpin 1',\n",
       "                   'styleName': 'EsriIconsStyle',\n",
       "                   'type': 'styleSymbolReference'},\n",
       "                  'type': 'simple',\n",
       "                  'visualVariables': [{'axis': 'all',\n",
       "                    'minSize': 25,\n",
       "                    'type': 'sizeInfo',\n",
       "                    'valueUnit': 'unknown'}]}},\n",
       "                'elevationInfo': {'mode': 'absoluteHeight'}},\n",
       "               'layerType': 'ArcGISFeatureLayer',\n",
       "               'opacity': 1,\n",
       "               'popupInfo': {'fieldInfos': [{'fieldName': 'typhoonid',\n",
       "                  'label': 'typhoonid',\n",
       "                  'visible': True},\n",
       "                 {'fieldName': 'name', 'label': 'name', 'visible': True},\n",
       "                 {'fieldName': 'datedescription',\n",
       "                  'label': 'datedescription',\n",
       "                  'visible': True},\n",
       "                 {'fieldName': 'ORIG_FID',\n",
       "                  'format': {'digitSeparator': True, 'places': 0},\n",
       "                  'label': 'ORIG_FID',\n",
       "                  'visible': True}],\n",
       "                'popupElements': [{'type': 'fields'}, {'type': 'attachments'}],\n",
       "                'showAttachments': True,\n",
       "                'title': 'Labels Q3_1: {name}'},\n",
       "               'showLabels': True,\n",
       "               'title': 'Labels Q3_1',\n",
       "               'url': 'https://services.arcgis.com/P3ePLMYs2RVChkJx/arcgis/rest/services/PacificTyphoons2005_WFL/FeatureServer/8',\n",
       "               'visibility': False},\n",
       "              {'id': 'e60bd6abdb094bf2b9daacd8bb57495c',\n",
       "               'layerDefinition': {'drawingInfo': {'renderer': {'description': '',\n",
       "                  'label': '',\n",
       "                  'symbol': {'name': 'Standing Cylinder',\n",
       "                   'styleName': 'EsriThematicShapesStyle',\n",
       "                   'type': 'styleSymbolReference'},\n",
       "                  'type': 'simple',\n",
       "                  'visualVariables': [{'axis': 'height',\n",
       "                    'field': 'windspeed',\n",
       "                    'minDataValue': 0.0001,\n",
       "                    'minSize': 1,\n",
       "                    'type': 'sizeInfo'},\n",
       "                   {'axis': 'widthAndDepth',\n",
       "                    'minSize': 100000,\n",
       "                    'type': 'sizeInfo',\n",
       "                    'valueUnit': 'meters'},\n",
       "                   {'field': 'airpressure',\n",
       "                    'stops': [{'color': [245, 0, 0, 255], 'value': 920},\n",
       "                     {'color': [245, 245, 0, 255], 'value': 1014}],\n",
       "                    'type': 'colorInfo'}]}},\n",
       "                'elevationInfo': {'mode': 'absoluteHeight'}},\n",
       "               'layerType': 'ArcGISFeatureLayer',\n",
       "               'opacity': 1,\n",
       "               'popupInfo': {'mediaInfos': [{'caption': \"<div><p><span style='font-weight:bold;'>Pressure: </span><span>{airpressure} hPa</span></p><p><span style='font-weight:bold;'>Wind speed: </span><span>{wind_mph} mph / {wind_kph} kph</span></p><p><p><span style='font-weight:bold;'>Date: </span><span>{timedescription}</span></p></div></p>\",\n",
       "                  'title': \"<div><p><span style='font-weight:bold;'>{typhoonclass} {typhoon}</span></p></div>\",\n",
       "                  'type': 'image',\n",
       "                  'value': {'sourceURL': '{image}'}}],\n",
       "                'popupElements': [{'type': 'fields'}, {'type': 'media'}],\n",
       "                'showAttachments': False,\n",
       "                'title': '{typhoon}'},\n",
       "               'title': 'Typhoons Q3_1',\n",
       "               'url': 'https://services.arcgis.com/P3ePLMYs2RVChkJx/arcgis/rest/services/PacificTyphoons2005_WFL/FeatureServer/7',\n",
       "               'visibility': False}],\n",
       "             'listMode': 'hide-children',\n",
       "             'opacity': 1,\n",
       "             'title': 'July',\n",
       "             'visibility': False,\n",
       "             'visibilityMode': 'inherited'},\n",
       "            {'id': '14a37c397dc-layer17',\n",
       "             'layerType': 'GroupLayer',\n",
       "             'layers': [{'id': '56803f3d64184140950f0ef1256a0603',\n",
       "               'layerDefinition': {'drawingInfo': {'renderer': {'description': '',\n",
       "                  'label': '',\n",
       "                  'symbol': {'name': 'Pushpin 1',\n",
       "                   'styleName': 'EsriIconsStyle',\n",
       "                   'type': 'styleSymbolReference'},\n",
       "                  'type': 'simple',\n",
       "                  'visualVariables': [{'axis': 'all',\n",
       "                    'minSize': 25,\n",
       "                    'type': 'sizeInfo',\n",
       "                    'valueUnit': 'unknown'}]}},\n",
       "                'elevationInfo': {'mode': 'absoluteHeight'}},\n",
       "               'layerType': 'ArcGISFeatureLayer',\n",
       "               'opacity': 1,\n",
       "               'popupInfo': {'fieldInfos': [{'fieldName': 'typhoonid',\n",
       "                  'label': 'typhoonid',\n",
       "                  'visible': True},\n",
       "                 {'fieldName': 'name', 'label': 'name', 'visible': True},\n",
       "                 {'fieldName': 'datedescription',\n",
       "                  'label': 'datedescription',\n",
       "                  'visible': True},\n",
       "                 {'fieldName': 'ORIG_FID',\n",
       "                  'format': {'digitSeparator': True, 'places': 0},\n",
       "                  'label': 'ORIG_FID',\n",
       "                  'visible': True}],\n",
       "                'popupElements': [{'type': 'fields'}, {'type': 'attachments'}],\n",
       "                'showAttachments': True,\n",
       "                'title': 'Labels Q2: {name}'},\n",
       "               'showLabels': True,\n",
       "               'title': 'Labels Q2',\n",
       "               'url': 'https://services.arcgis.com/P3ePLMYs2RVChkJx/arcgis/rest/services/PacificTyphoons2005_WFL/FeatureServer/5',\n",
       "               'visibility': False},\n",
       "              {'id': '72668fcc8a904bd6a1444bef2e72f420',\n",
       "               'layerDefinition': {'drawingInfo': {'renderer': {'description': '',\n",
       "                  'label': '',\n",
       "                  'symbol': {'name': 'Standing Cylinder',\n",
       "                   'styleName': 'EsriThematicShapesStyle',\n",
       "                   'type': 'styleSymbolReference'},\n",
       "                  'type': 'simple',\n",
       "                  'visualVariables': [{'axis': 'height',\n",
       "                    'field': 'windspeed',\n",
       "                    'minDataValue': 0.0001,\n",
       "                    'minSize': 1,\n",
       "                    'type': 'sizeInfo'},\n",
       "                   {'axis': 'widthAndDepth',\n",
       "                    'minSize': 100000,\n",
       "                    'type': 'sizeInfo',\n",
       "                    'valueUnit': 'meters'},\n",
       "                   {'field': 'airpressure',\n",
       "                    'stops': [{'color': [245, 0, 0, 255], 'value': 920},\n",
       "                     {'color': [245, 245, 0, 255], 'value': 1014}],\n",
       "                    'type': 'colorInfo'}]}},\n",
       "                'elevationInfo': {'mode': 'absoluteHeight'}},\n",
       "               'layerType': 'ArcGISFeatureLayer',\n",
       "               'opacity': 1,\n",
       "               'popupInfo': {'mediaInfos': [{'caption': \"<div><p><span style='font-weight:bold;'>Pressure: </span><span>{airpressure} hPa</span></p><p><span style='font-weight:bold;'>Wind speed: </span><span>{wind_mph} mph / {wind_kph} kph</span></p><p><p><span style='font-weight:bold;'>Date: </span><span>{timedescription}</span></p></div></p>\",\n",
       "                  'title': \"<div><p style='font-weight:bold;'><span>{typhoonclass} {typhoon}</span></p></div>\",\n",
       "                  'type': 'image',\n",
       "                  'value': {'sourceURL': '{image}'}}],\n",
       "                'popupElements': [{'type': 'fields'}, {'type': 'media'}],\n",
       "                'showAttachments': False,\n",
       "                'title': '{typhoon}'},\n",
       "               'title': 'Typhoons Q2',\n",
       "               'url': 'https://services.arcgis.com/P3ePLMYs2RVChkJx/arcgis/rest/services/PacificTyphoons2005_WFL/FeatureServer/4',\n",
       "               'visibility': False}],\n",
       "             'listMode': 'hide-children',\n",
       "             'opacity': 1,\n",
       "             'title': 'April - June',\n",
       "             'visibility': False,\n",
       "             'visibilityMode': 'inherited'},\n",
       "            {'id': '14a37c2a1a7-layer16',\n",
       "             'layerType': 'GroupLayer',\n",
       "             'layers': [{'id': '16c9bf0e374443d394f0b77980171499',\n",
       "               'layerDefinition': {'drawingInfo': {'renderer': {'description': '',\n",
       "                  'label': '',\n",
       "                  'symbol': {'name': 'Pushpin 1',\n",
       "                   'styleName': 'EsriIconsStyle',\n",
       "                   'type': 'styleSymbolReference'},\n",
       "                  'type': 'simple',\n",
       "                  'visualVariables': [{'axis': 'all',\n",
       "                    'minSize': 25,\n",
       "                    'type': 'sizeInfo',\n",
       "                    'valueUnit': 'unknown'}]}},\n",
       "                'elevationInfo': {'mode': 'absoluteHeight'}},\n",
       "               'layerType': 'ArcGISFeatureLayer',\n",
       "               'opacity': 1,\n",
       "               'popupInfo': {'fieldInfos': [{'fieldName': 'typhoonid',\n",
       "                  'label': 'typhoonid',\n",
       "                  'visible': True},\n",
       "                 {'fieldName': 'name', 'label': 'name', 'visible': True},\n",
       "                 {'fieldName': 'datedescription',\n",
       "                  'label': 'datedescription',\n",
       "                  'visible': True},\n",
       "                 {'fieldName': 'ORIG_FID',\n",
       "                  'format': {'digitSeparator': True, 'places': 0},\n",
       "                  'label': 'ORIG_FID',\n",
       "                  'visible': True}],\n",
       "                'popupElements': [{'type': 'fields'}, {'type': 'attachments'}],\n",
       "                'showAttachments': True,\n",
       "                'title': 'Labels Q1: {name}'},\n",
       "               'showLabels': True,\n",
       "               'title': 'Labels Q1',\n",
       "               'url': 'https://services.arcgis.com/P3ePLMYs2RVChkJx/arcgis/rest/services/PacificTyphoons2005_WFL/FeatureServer/2',\n",
       "               'visibility': True},\n",
       "              {'id': '3921d1e5c45c41b4a0b498df8fab4e2c',\n",
       "               'layerDefinition': {'drawingInfo': {'renderer': {'description': '',\n",
       "                  'label': '',\n",
       "                  'symbol': {'name': 'Standing Cylinder',\n",
       "                   'styleName': 'EsriThematicShapesStyle',\n",
       "                   'type': 'styleSymbolReference'},\n",
       "                  'type': 'simple',\n",
       "                  'visualVariables': [{'axis': 'height',\n",
       "                    'field': 'windspeed',\n",
       "                    'minDataValue': 0.0001,\n",
       "                    'minSize': 1,\n",
       "                    'type': 'sizeInfo'},\n",
       "                   {'axis': 'widthAndDepth',\n",
       "                    'minSize': 100000,\n",
       "                    'type': 'sizeInfo',\n",
       "                    'valueUnit': 'meters'},\n",
       "                   {'field': 'airpressure',\n",
       "                    'stops': [{'color': [245, 0, 0, 255], 'value': 920},\n",
       "                     {'color': [245, 245, 0, 255], 'value': 1014}],\n",
       "                    'type': 'colorInfo'}]}},\n",
       "                'elevationInfo': {'mode': 'absoluteHeight'}},\n",
       "               'layerType': 'ArcGISFeatureLayer',\n",
       "               'opacity': 1,\n",
       "               'popupInfo': {'mediaInfos': [{'caption': \"<div><p><span style='font-weight:bold;'>Pressure: </span><span>{airpressure} hPa</span></p><p><span style='font-weight:bold;'>Wind speed: </span><span>{wind_mph} mph / {wind_kph} kph</span></p><p><p><span style='font-weight:bold;'>Date: </span><span>{timedescription}</span></p></div></p>\",\n",
       "                  'title': \"<div><p style='font-weight:bold;'><span>{typhoonclass} {typhoon}</span></p></div>\",\n",
       "                  'type': 'image',\n",
       "                  'value': {'sourceURL': '{image}'}}],\n",
       "                'popupElements': [{'type': 'fields'}, {'type': 'media'}],\n",
       "                'showAttachments': False,\n",
       "                'title': '{typhoon}'},\n",
       "               'title': 'Typhoons Q1',\n",
       "               'url': 'https://services.arcgis.com/P3ePLMYs2RVChkJx/arcgis/rest/services/PacificTyphoons2005_WFL/FeatureServer/1',\n",
       "               'visibility': True}],\n",
       "             'listMode': 'hide-children',\n",
       "             'opacity': 1,\n",
       "             'title': 'January - March',\n",
       "             'visibility': True,\n",
       "             'visibilityMode': 'inherited'}]),\n",
       "          ('baseMap',\n",
       "           {'baseMapLayers': [{'id': '73e9780a7d6f413f8547abbd19ec786c',\n",
       "              'layerType': 'ArcGISTiledMapServiceLayer',\n",
       "              'opacity': 1,\n",
       "              'title': 'World Topo Map',\n",
       "              'url': 'https://services.arcgisonline.com/ArcGIS/rest/services/World_Topo_Map/MapServer',\n",
       "              'visibility': True}],\n",
       "            'elevationLayers': [{'id': 'globalElevation_0',\n",
       "              'layerType': 'ArcGISTiledElevationServiceLayer',\n",
       "              'listMode': 'hide',\n",
       "              'title': 'Terrain3D',\n",
       "              'url': 'https://elevation3d.arcgis.com/arcgis/rest/services/WorldElevation3D/Terrain3D/ImageServer',\n",
       "              'visibility': True}],\n",
       "            'id': 'basemap',\n",
       "            'title': 'Topographic'}),\n",
       "          ('version', '1.7'),\n",
       "          ('authoringApp', 'WebSceneViewer'),\n",
       "          ('authoringAppVersion', '5.2.0.0'),\n",
       "          ('presentation',\n",
       "           {'slides': [{'baseMap': {'baseMapLayers': [{'id': '73e9780a7d6f413f8547abbd19ec786c',\n",
       "                 'layerType': 'ArcGISTiledMapServiceLayer',\n",
       "                 'opacity': 1,\n",
       "                 'title': 'World Topo Map',\n",
       "                 'url': 'https://services.arcgisonline.com/ArcGIS/rest/services/World_Topo_Map/MapServer',\n",
       "                 'visibility': True}],\n",
       "               'id': 'basemap',\n",
       "               'title': 'Topographic'},\n",
       "              'description': {'text': ''},\n",
       "              'environment': {'lighting': {}},\n",
       "              'id': 'slide_1',\n",
       "              'thumbnail': {'url': 'data:image/jpeg;base64,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'},\n",
       "              'title': {'text': 'Start of 2005'},\n",
       "              'viewpoint': {'camera': {'heading': 351.1964858600443,\n",
       "                'position': {'spatialReference': {'wkid': 102100},\n",
       "                 'x': 16338046.55787945,\n",
       "                 'y': -255903.18543654634,\n",
       "                 'z': 6324439.902154693},\n",
       "                'tilt': 17.653475866991755},\n",
       "               'rotation': 0,\n",
       "               'scale': 17308012.743044183,\n",
       "               'targetGeometry': {'spatialReference': {'wkid': 102100},\n",
       "                'xmax': 19230710.0979518,\n",
       "                'xmin': 12763430.856557569,\n",
       "                'ymax': 5583288.779274275,\n",
       "                'ymin': -1210472.734638156}},\n",
       "              'visibleLayers': [{'id': '882ce65eceda4e2ba2ad65f9e2c0632f'},\n",
       "               {'id': '14a37c2a1a7-layer16'},\n",
       "               {'id': '16c9bf0e374443d394f0b77980171499'},\n",
       "               {'id': '3921d1e5c45c41b4a0b498df8fab4e2c'}]},\n",
       "             {'baseMap': {'baseMapLayers': [{'id': '73e9780a7d6f413f8547abbd19ec786c',\n",
       "                 'layerType': 'ArcGISTiledMapServiceLayer',\n",
       "                 'opacity': 1,\n",
       "                 'title': 'World Topo Map',\n",
       "                 'url': 'https://services.arcgisonline.com/ArcGIS/rest/services/World_Topo_Map/MapServer',\n",
       "                 'visibility': True}],\n",
       "               'id': 'basemap',\n",
       "               'title': 'Topographic'},\n",
       "              'description': {'text': ''},\n",
       "              'environment': {'lighting': {}},\n",
       "              'id': 'slide_2',\n",
       "              'thumbnail': {'url': 'data:image/jpeg;base64,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'},\n",
       "              'title': {'text': 'August origins'},\n",
       "              'viewpoint': {'camera': {'heading': 315.5348196196585,\n",
       "                'position': {'spatialReference': {'wkid': 102100},\n",
       "                 'x': 18034663.07613952,\n",
       "                 'y': 544179.4588633721,\n",
       "                 'z': 2819426.3450047094},\n",
       "                'tilt': 37.399468879606104},\n",
       "               'rotation': 0,\n",
       "               'scale': 7737759.332723031,\n",
       "               'targetGeometry': {'spatialReference': {'wkid': 102100},\n",
       "                'xmax': 18071800.740437724,\n",
       "                'xmin': 14071538.172449483,\n",
       "                'ymax': 4593143.012538526,\n",
       "                'ymin': 516126.52477937605}},\n",
       "              'visibleLayers': [{'id': '882ce65eceda4e2ba2ad65f9e2c0632f'},\n",
       "               {'id': '14a37c78bc8-layer19'},\n",
       "               {'id': '6e54f2736388480ab0a214cb468d48f9'},\n",
       "               {'id': '6b549bb78d824b4c8d24f5c90b93c4f6'}]},\n",
       "             {'baseMap': {'baseMapLayers': [{'id': '73e9780a7d6f413f8547abbd19ec786c',\n",
       "                 'layerType': 'ArcGISTiledMapServiceLayer',\n",
       "                 'opacity': 1,\n",
       "                 'title': 'World Topo Map',\n",
       "                 'url': 'https://services.arcgisonline.com/ArcGIS/rest/services/World_Topo_Map/MapServer',\n",
       "                 'visibility': True}],\n",
       "               'id': 'basemap',\n",
       "               'title': 'Topographic'},\n",
       "              'description': {'text': ''},\n",
       "              'environment': {'lighting': {}},\n",
       "              'id': 'slide_3',\n",
       "              'thumbnail': {'url': 'data:image/jpeg;base64,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'},\n",
       "              'title': {'text': 'August in Japan'},\n",
       "              'viewpoint': {'camera': {'heading': 41.187868723912416,\n",
       "                'position': {'spatialReference': {'wkid': 102100},\n",
       "                 'x': 14317116.922236785,\n",
       "                 'y': 3162810.5410621683,\n",
       "                 'z': 1942131.4690581001},\n",
       "                'tilt': 38.22074788332464},\n",
       "               'rotation': 0,\n",
       "               'scale': 5977175.794663719,\n",
       "               'targetGeometry': {'spatialReference': {'wkid': 102100},\n",
       "                'xmax': 17329254.887698036,\n",
       "                'xmin': 14212941.909390198,\n",
       "                'ymax': 6343789.09167628,\n",
       "                'ymin': 3183340.4223876353}},\n",
       "              'visibleLayers': [{'id': '882ce65eceda4e2ba2ad65f9e2c0632f'},\n",
       "               {'id': '14a37c78bc8-layer19'},\n",
       "               {'id': '6e54f2736388480ab0a214cb468d48f9'},\n",
       "               {'id': '6b549bb78d824b4c8d24f5c90b93c4f6'}]},\n",
       "             {'baseMap': {'baseMapLayers': [{'id': '73e9780a7d6f413f8547abbd19ec786c',\n",
       "                 'layerType': 'ArcGISTiledMapServiceLayer',\n",
       "                 'opacity': 1,\n",
       "                 'title': 'World Topo Map',\n",
       "                 'url': 'https://services.arcgisonline.com/ArcGIS/rest/services/World_Topo_Map/MapServer',\n",
       "                 'visibility': True}],\n",
       "               'id': 'basemap',\n",
       "               'title': 'Topographic'},\n",
       "              'description': {'text': ''},\n",
       "              'environment': {'lighting': {}},\n",
       "              'id': 'slide_4',\n",
       "              'thumbnail': {'url': 'data:image/jpeg;base64,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'},\n",
       "              'title': {'text': 'All Typhoons'},\n",
       "              'viewpoint': {'camera': {'heading': 3.086488857999165,\n",
       "                'position': {'spatialReference': {'wkid': 102100},\n",
       "                 'x': 15204174.902554411,\n",
       "                 'y': 1790041.1372453775,\n",
       "                 'z': 10970890.001691733},\n",
       "                'tilt': 4.939849335423939},\n",
       "               'rotation': 0,\n",
       "               'scale': 31188997.007979963,\n",
       "               'targetGeometry': {'spatialReference': {'wkid': 102100},\n",
       "                'xmax': 60177194.60815952,\n",
       "                'xmin': 10395709.650468588,\n",
       "                'ymax': 9092227.091906952,\n",
       "                'ymin': -1971400.5897845216}},\n",
       "              'visibleLayers': [{'id': '882ce65eceda4e2ba2ad65f9e2c0632f'},\n",
       "               {'id': '14a37c86f84-layer21'},\n",
       "               {'id': '7a24e304d2474d7eb29a712c95202140'},\n",
       "               {'id': '10944e27c9f04bc39b5821c0046523a5'},\n",
       "               {'id': '14a37c7f247-layer20'},\n",
       "               {'id': '90eba5af0b084c569a55ebc9b3bfc21e'},\n",
       "               {'id': '341d7b380907439990e4c238147b46ce'},\n",
       "               {'id': '14a37c78bc8-layer19'},\n",
       "               {'id': '6e54f2736388480ab0a214cb468d48f9'},\n",
       "               {'id': '6b549bb78d824b4c8d24f5c90b93c4f6'},\n",
       "               {'id': '14a37c4590b-layer18'},\n",
       "               {'id': 'b8cc403be27e475ca93db04a34845e89'},\n",
       "               {'id': 'e60bd6abdb094bf2b9daacd8bb57495c'},\n",
       "               {'id': '14a37c397dc-layer17'},\n",
       "               {'id': '56803f3d64184140950f0ef1256a0603'},\n",
       "               {'id': '72668fcc8a904bd6a1444bef2e72f420'},\n",
       "               {'id': '14a37c2a1a7-layer16'},\n",
       "               {'id': '16c9bf0e374443d394f0b77980171499'},\n",
       "               {'id': '3921d1e5c45c41b4a0b498df8fab4e2c'}]}]}),\n",
       "          ('initialState',\n",
       "           {'environment': {'lighting': {'datetime': 1489543976000,\n",
       "              'displayUTCOffset': 10}},\n",
       "            'viewpoint': {'camera': {'heading': 351.1964858132987,\n",
       "              'position': {'spatialReference': {'latestWkid': 3857,\n",
       "                'wkid': 102100},\n",
       "               'x': 16338046.55787945,\n",
       "               'y': -255903.18543654715,\n",
       "               'z': 6324439.902154693},\n",
       "              'tilt': 17.653475868398814},\n",
       "             'rotation': 8.803514186701307,\n",
       "             'scale': 21923023.73081515,\n",
       "             'targetGeometry': {'spatialReference': {'latestWkid': 3857,\n",
       "               'wkid': 102100},\n",
       "              'x': 15997104.60827448,\n",
       "              'y': 1917556.6678880516,\n",
       "              'z': -698.1598937548697}}}),\n",
       "          ('spatialReference', {'latestWkid': 3857, 'wkid': 102100}),\n",
       "          ('viewingMode', 'global')])"
      ]
     },
     "execution_count": 63,
     "metadata": {},
     "output_type": "execute_result"
    }
   ],
   "source": [
    "web_scene_item = search_result[0]\n",
    "web_scene_obj = arcgis.mapping.WebScene(web_scene_item)\n",
    "\n",
    "# display web scene in the notebook\n",
    "web_scene_obj"
   ]
  },
  {
   "cell_type": "markdown",
   "metadata": {},
   "source": [
    "This is a great web scene and it displays a lot of hurricane tracks."
   ]
  }
 ],
 "metadata": {
  "kernelspec": {
   "display_name": "Python 3",
   "language": "python",
   "name": "python3"
  },
  "language_info": {
   "codemirror_mode": {
    "name": "ipython",
    "version": 3
   },
   "file_extension": ".py",
   "mimetype": "text/x-python",
   "name": "python",
   "nbconvert_exporter": "python",
   "pygments_lexer": "ipython3",
   "version": "3.6.0"
  },
  "widgets": {
   "state": {
    "139fae7f3c794878a0c3b4da2a0e04ae": {
     "views": [
      {
       "cell_index": 10
      }
     ]
    },
    "e81d694a06bf446da3b09b5eb44c61dd": {
     "views": [
      {
       "cell_index": 21
      }
     ]
    }
   },
   "version": "1.2.0"
  }
 },
 "nbformat": 4,
 "nbformat_minor": 2
}
