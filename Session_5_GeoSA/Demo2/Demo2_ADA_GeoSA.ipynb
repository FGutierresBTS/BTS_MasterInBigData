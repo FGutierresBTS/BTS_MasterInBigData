{
 "cells": [
  {
   "cell_type": "markdown",
   "metadata": {},
   "source": [
    "# Subject: Advanced Data Analysis\n",
    "\n",
    "# Module: Geospatial Analysis\n",
    "\n",
    "## Session 5 - Geographic Analysis of Social Network Data \n",
    "\n",
    "### Demo 2 -  Geospatial clustering of sentimental analysis on user tweets using Python "
   ]
  },
  {
   "cell_type": "markdown",
   "metadata": {},
   "source": [
    "The requirements that we'll need to install are:\n",
    "\n",
    "- NumPy: This is the fundamental package for scientific computing with Python. Besides its obvious scientific uses, NumPy can also be used as an efficient multi-dimensional container of generic data.\n",
    "- Pandas: This is an open source library providing high-performance, easy-to-use data structures and data analysis tools.\n",
    "- Tweepy: This is an easy-to-use Python library for accessing the Twitter API.\n",
    "- Matplotlib: This is a Python 2D plotting library which produces publication quality figures in a variety of hardcopy formats and interactive environments across platforms.\n",
    "- Seaborn: This is a Python visualization library based on matplotlib. It provides a high-level interface for drawing attractive statistical graphics.\n",
    "- Textblob: This is a Python library for processing textual data. It provides a simple API for diving into common natural language processing (NLP) tasks.\n",
    "\n",
    "https://textblob.readthedocs.io/en/dev/\n",
    "\n",
    "$ pip install -U textblob\n",
    "\n",
    "$ python -m textblob.download_corpora\n",
    "\n",
    "https://github.com/tweepy/tweepy\n",
    "\n",
    "$ pip install tweepy"
   ]
  },
  {
   "cell_type": "markdown",
   "metadata": {},
   "source": [
    "## 1. Extracting twitter data (tweepy + pandas)"
   ]
  },
  {
   "cell_type": "markdown",
   "metadata": {},
   "source": [
    "### 1.1. Importing our libraries"
   ]
  },
  {
   "cell_type": "code",
   "execution_count": 1,
   "metadata": {},
   "outputs": [],
   "source": [
    "# General:\n",
    "import tweepy           # To consume Twitter's API\n",
    "import pandas as pd     # To handle data\n",
    "import numpy as np      # For number computing\n",
    "\n",
    "# For plotting and visualization:\n",
    "from IPython.display import display\n",
    "import matplotlib.pyplot as plt\n",
    "import seaborn as sns\n",
    "%matplotlib inline"
   ]
  },
  {
   "cell_type": "markdown",
   "metadata": {},
   "source": [
    "### 1.2. Creating a Twitter App"
   ]
  },
  {
   "cell_type": "markdown",
   "metadata": {},
   "source": [
    "In order to extract tweets for a posterior analysis, we need to access to our Twitter account and create an app. The website to do this is https://apps.twitter.com/"
   ]
  },
  {
   "cell_type": "markdown",
   "metadata": {},
   "source": [
    "From this app that we're creating we will save the following information:\n",
    "\n",
    "- Consumer Key (API Key)\n",
    "\n",
    "- Consumer Secret (API Secret)\n",
    "\n",
    "- Access Token\n",
    "\n",
    "- Access Token Secret\n"
   ]
  },
  {
   "cell_type": "code",
   "execution_count": 2,
   "metadata": {},
   "outputs": [],
   "source": [
    "# Twitter App access keys for @user\n",
    "\n",
    "# Consume:\n",
    "CONSUMER_KEY    = 'Uu3D2hHGljVnU2vchDYmHZtGw'\n",
    "CONSUMER_SECRET = 'aUfG03L1ZUQjojGK1dQ6dKFC8nktUZQZ4eZDU3p23hEA8ZQus3'\n",
    "\n",
    "# Access:\n",
    "ACCESS_TOKEN  = '955416286477082625-85nByhWARuuQQJt2QyfFwublVbSE28L'\n",
    "ACCESS_SECRET = 'DWARKyhsQKwm1aVWiTsS8RjKQGy778iaERGHeKnauB9Sb'"
   ]
  },
  {
   "cell_type": "code",
   "execution_count": 3,
   "metadata": {},
   "outputs": [],
   "source": [
    "# API's setup:\n",
    "def twitter_setup():\n",
    "    \"\"\"\n",
    "    Utility function to setup the Twitter's API\n",
    "    with our access keys provided.\n",
    "    \"\"\"\n",
    "    # Authentication and access using keys:\n",
    "    auth = tweepy.OAuthHandler(CONSUMER_KEY, CONSUMER_SECRET)\n",
    "    auth.set_access_token(ACCESS_TOKEN, ACCESS_SECRET)\n",
    "    \n",
    "    # Return API with authentication:\n",
    "    api = tweepy.API(auth)\n",
    "    return api"
   ]
  },
  {
   "cell_type": "markdown",
   "metadata": {},
   "source": [
    "### 1.3. Tweets extraction"
   ]
  },
  {
   "cell_type": "markdown",
   "metadata": {},
   "source": [
    "Now that we've created a function to setup the Twitter API, we can use this function to create an \"extractor\" object. After this, we will use Tweepy's function extractor.user_timeline(screen_name, count) to extract from screen_name's user the quantity of count tweets."
   ]
  },
  {
   "cell_type": "markdown",
   "metadata": {},
   "source": [
    "As it is mentioned in the title, I've chosen @KRLS as the user to extract data for a posterior analysis. The way to extract Twitter's data is as follows:"
   ]
  },
  {
   "cell_type": "code",
   "execution_count": 4,
   "metadata": {},
   "outputs": [
    {
     "name": "stdout",
     "output_type": "stream",
     "text": [
      "Number of tweets extracted: 6.\n",
      "\n",
      "5 recent tweets:\n",
      "\n",
      "Geospatial Data analysis promises a potential transformation of coastal management and planning - BigDataBCNBigData… https://t.co/TEViz7oIBS\n",
      "\n",
      "Sempre numa correria. https://t.co/A9lQBmF3GE\n",
      "\n",
      "Healthy back to home. https://t.co/p6QDqEipxb\n",
      "\n",
      "Primeiro tweet no telemóvel.\n",
      "\n",
      "A place to visit.\n",
      "\n"
     ]
    }
   ],
   "source": [
    "# We create an extractor object:\n",
    "extractor = twitter_setup()\n",
    "\n",
    "# We create a tweet list as follows:\n",
    "tweets = extractor.user_timeline(screen_name=\"FRSGutierres\", count=200)\n",
    "print(\"Number of tweets extracted: {}.\\n\".format(len(tweets)))\n",
    "\n",
    "# We print the most recent 5 tweets:\n",
    "print(\"5 recent tweets:\\n\")\n",
    "for tweet in tweets[:5]:\n",
    "    print(tweet.text)\n",
    "    print()"
   ]
  },
  {
   "cell_type": "markdown",
   "metadata": {},
   "source": [
    "We now have an extractor and extracted data, which is listed in the tweets variable. I must mention at this point that each element in that list is a tweet object from Tweepy."
   ]
  },
  {
   "cell_type": "markdown",
   "metadata": {},
   "source": [
    "### 1.4. Creating a (pandas) DataFrame"
   ]
  },
  {
   "cell_type": "markdown",
   "metadata": {},
   "source": [
    "We now have initial information to construct a pandas DataFrame, in order to manipulate the info in a very easy way."
   ]
  },
  {
   "cell_type": "code",
   "execution_count": 5,
   "metadata": {},
   "outputs": [
    {
     "data": {
      "text/html": [
       "<div>\n",
       "<table border=\"1\" class=\"dataframe\">\n",
       "  <thead>\n",
       "    <tr style=\"text-align: right;\">\n",
       "      <th></th>\n",
       "      <th>Tweets</th>\n",
       "    </tr>\n",
       "  </thead>\n",
       "  <tbody>\n",
       "    <tr>\n",
       "      <th>0</th>\n",
       "      <td>Geospatial Data analysis promises a potential ...</td>\n",
       "    </tr>\n",
       "    <tr>\n",
       "      <th>1</th>\n",
       "      <td>Sempre numa correria. https://t.co/A9lQBmF3GE</td>\n",
       "    </tr>\n",
       "    <tr>\n",
       "      <th>2</th>\n",
       "      <td>Healthy back to home. https://t.co/p6QDqEipxb</td>\n",
       "    </tr>\n",
       "    <tr>\n",
       "      <th>3</th>\n",
       "      <td>Primeiro tweet no telemóvel.</td>\n",
       "    </tr>\n",
       "    <tr>\n",
       "      <th>4</th>\n",
       "      <td>A place to visit.</td>\n",
       "    </tr>\n",
       "    <tr>\n",
       "      <th>5</th>\n",
       "      <td>Working with motivation on Twitter spatial ana...</td>\n",
       "    </tr>\n",
       "  </tbody>\n",
       "</table>\n",
       "</div>"
      ],
      "text/plain": [
       "                                              Tweets\n",
       "0  Geospatial Data analysis promises a potential ...\n",
       "1      Sempre numa correria. https://t.co/A9lQBmF3GE\n",
       "2      Healthy back to home. https://t.co/p6QDqEipxb\n",
       "3                       Primeiro tweet no telemóvel.\n",
       "4                                  A place to visit.\n",
       "5  Working with motivation on Twitter spatial ana..."
      ]
     },
     "metadata": {},
     "output_type": "display_data"
    }
   ],
   "source": [
    "# We create a pandas dataframe as follows:\n",
    "data = pd.DataFrame(data=[tweet.text for tweet in tweets], columns=['Tweets'])\n",
    "\n",
    "# We display the first 10 elements of the dataframe:\n",
    "display(data.head(10))"
   ]
  },
  {
   "cell_type": "markdown",
   "metadata": {},
   "source": [
    "An interesting thing is the number if internal methods that the tweetstructure has in Tweepy:"
   ]
  },
  {
   "cell_type": "code",
   "execution_count": 6,
   "metadata": {},
   "outputs": [
    {
     "name": "stdout",
     "output_type": "stream",
     "text": [
      "['__class__', '__delattr__', '__dict__', '__dir__', '__doc__', '__eq__', '__format__', '__ge__', '__getattribute__', '__getstate__', '__gt__', '__hash__', '__init__', '__init_subclass__', '__le__', '__lt__', '__module__', '__ne__', '__new__', '__reduce__', '__reduce_ex__', '__repr__', '__setattr__', '__sizeof__', '__str__', '__subclasshook__', '__weakref__', '_api', '_json', 'author', 'contributors', 'coordinates', 'created_at', 'destroy', 'entities', 'favorite', 'favorite_count', 'favorited', 'geo', 'id', 'id_str', 'in_reply_to_screen_name', 'in_reply_to_status_id', 'in_reply_to_status_id_str', 'in_reply_to_user_id', 'in_reply_to_user_id_str', 'is_quote_status', 'lang', 'parse', 'parse_list', 'place', 'possibly_sensitive', 'retweet', 'retweet_count', 'retweeted', 'retweets', 'source', 'source_url', 'text', 'truncated', 'user']\n"
     ]
    }
   ],
   "source": [
    "# Internal methods of a single tweet object:\n",
    "print(dir(tweets[0]))"
   ]
  },
  {
   "cell_type": "markdown",
   "metadata": {},
   "source": [
    "The interesting part from here is the quantity of metadata contained in a single tweet. If we want to obtain data such as the creation date, or the source of creation, we can access the info with this attributes. "
   ]
  },
  {
   "cell_type": "code",
   "execution_count": 7,
   "metadata": {
    "scrolled": true
   },
   "outputs": [
    {
     "name": "stdout",
     "output_type": "stream",
     "text": [
      "956151388853202944\n",
      "2018-01-24 13:07:10\n",
      "Twitter Web Client\n",
      "0\n",
      "0\n",
      "None\n",
      "None\n",
      "{'hashtags': [], 'symbols': [], 'user_mentions': [], 'urls': [{'url': 'https://t.co/TEViz7oIBS', 'expanded_url': 'https://twitter.com/i/web/status/956151388853202944', 'display_url': 'twitter.com/i/web/status/9…', 'indices': [117, 140]}]}\n",
      "None\n"
     ]
    }
   ],
   "source": [
    "# We print info from the first tweet:\n",
    "print(tweets[0].id)\n",
    "print(tweets[0].created_at)\n",
    "print(tweets[0].source)\n",
    "print(tweets[0].favorite_count)\n",
    "print(tweets[0].retweet_count)\n",
    "print(tweets[0].geo)\n",
    "print(tweets[0].coordinates)\n",
    "print(tweets[0].entities)\n",
    "print(tweets[0].place)"
   ]
  },
  {
   "cell_type": "code",
   "execution_count": 8,
   "metadata": {},
   "outputs": [],
   "source": [
    "# We add relevant data:\n",
    "data['len']  = np.array([len(tweet.text) for tweet in tweets])\n",
    "data['ID']   = np.array([tweet.id for tweet in tweets])\n",
    "data['Date'] = np.array([tweet.created_at for tweet in tweets])\n",
    "data['Source'] = np.array([tweet.source for tweet in tweets])\n",
    "data['Likes']  = np.array([tweet.favorite_count for tweet in tweets])\n",
    "data['coordinates']    = np.array([tweet.coordinates for tweet in tweets])\n",
    "data['places']    = np.array([tweet.place for tweet in tweets])"
   ]
  },
  {
   "cell_type": "code",
   "execution_count": 9,
   "metadata": {
    "scrolled": false
   },
   "outputs": [
    {
     "data": {
      "text/html": [
       "<div>\n",
       "<table border=\"1\" class=\"dataframe\">\n",
       "  <thead>\n",
       "    <tr style=\"text-align: right;\">\n",
       "      <th></th>\n",
       "      <th>Tweets</th>\n",
       "      <th>len</th>\n",
       "      <th>ID</th>\n",
       "      <th>Date</th>\n",
       "      <th>Source</th>\n",
       "      <th>Likes</th>\n",
       "      <th>coordinates</th>\n",
       "      <th>places</th>\n",
       "    </tr>\n",
       "  </thead>\n",
       "  <tbody>\n",
       "    <tr>\n",
       "      <th>0</th>\n",
       "      <td>Geospatial Data analysis promises a potential ...</td>\n",
       "      <td>140</td>\n",
       "      <td>956151388853202944</td>\n",
       "      <td>2018-01-24 13:07:10</td>\n",
       "      <td>Twitter Web Client</td>\n",
       "      <td>0</td>\n",
       "      <td>None</td>\n",
       "      <td>None</td>\n",
       "    </tr>\n",
       "    <tr>\n",
       "      <th>1</th>\n",
       "      <td>Sempre numa correria. https://t.co/A9lQBmF3GE</td>\n",
       "      <td>45</td>\n",
       "      <td>955858136438640641</td>\n",
       "      <td>2018-01-23 17:41:53</td>\n",
       "      <td>Twitter for Android</td>\n",
       "      <td>0</td>\n",
       "      <td>{'type': 'Point', 'coordinates': [2.1940061, 4...</td>\n",
       "      <td>Place(_api=&lt;tweepy.api.API object at 0x0000000...</td>\n",
       "    </tr>\n",
       "    <tr>\n",
       "      <th>2</th>\n",
       "      <td>Healthy back to home. https://t.co/p6QDqEipxb</td>\n",
       "      <td>45</td>\n",
       "      <td>955842258485547008</td>\n",
       "      <td>2018-01-23 16:38:47</td>\n",
       "      <td>Twitter for Android</td>\n",
       "      <td>0</td>\n",
       "      <td>{'type': 'Point', 'coordinates': [2.1979555, 4...</td>\n",
       "      <td>Place(_api=&lt;tweepy.api.API object at 0x0000000...</td>\n",
       "    </tr>\n",
       "    <tr>\n",
       "      <th>3</th>\n",
       "      <td>Primeiro tweet no telemóvel.</td>\n",
       "      <td>28</td>\n",
       "      <td>955832736320839680</td>\n",
       "      <td>2018-01-23 16:00:57</td>\n",
       "      <td>Twitter for Android</td>\n",
       "      <td>0</td>\n",
       "      <td>{'type': 'Point', 'coordinates': [2.2019244, 4...</td>\n",
       "      <td>Place(_api=&lt;tweepy.api.API object at 0x0000000...</td>\n",
       "    </tr>\n",
       "    <tr>\n",
       "      <th>4</th>\n",
       "      <td>A place to visit.</td>\n",
       "      <td>17</td>\n",
       "      <td>955831134788648960</td>\n",
       "      <td>2018-01-23 15:54:35</td>\n",
       "      <td>Twitter Web Client</td>\n",
       "      <td>0</td>\n",
       "      <td>None</td>\n",
       "      <td>Place(_api=&lt;tweepy.api.API object at 0x0000000...</td>\n",
       "    </tr>\n",
       "    <tr>\n",
       "      <th>5</th>\n",
       "      <td>Working with motivation on Twitter spatial ana...</td>\n",
       "      <td>52</td>\n",
       "      <td>955830439284965376</td>\n",
       "      <td>2018-01-23 15:51:49</td>\n",
       "      <td>Twitter Web Client</td>\n",
       "      <td>0</td>\n",
       "      <td>None</td>\n",
       "      <td>Place(_api=&lt;tweepy.api.API object at 0x0000000...</td>\n",
       "    </tr>\n",
       "  </tbody>\n",
       "</table>\n",
       "</div>"
      ],
      "text/plain": [
       "                                              Tweets  len                  ID  \\\n",
       "0  Geospatial Data analysis promises a potential ...  140  956151388853202944   \n",
       "1      Sempre numa correria. https://t.co/A9lQBmF3GE   45  955858136438640641   \n",
       "2      Healthy back to home. https://t.co/p6QDqEipxb   45  955842258485547008   \n",
       "3                       Primeiro tweet no telemóvel.   28  955832736320839680   \n",
       "4                                  A place to visit.   17  955831134788648960   \n",
       "5  Working with motivation on Twitter spatial ana...   52  955830439284965376   \n",
       "\n",
       "                 Date               Source  Likes  \\\n",
       "0 2018-01-24 13:07:10   Twitter Web Client      0   \n",
       "1 2018-01-23 17:41:53  Twitter for Android      0   \n",
       "2 2018-01-23 16:38:47  Twitter for Android      0   \n",
       "3 2018-01-23 16:00:57  Twitter for Android      0   \n",
       "4 2018-01-23 15:54:35   Twitter Web Client      0   \n",
       "5 2018-01-23 15:51:49   Twitter Web Client      0   \n",
       "\n",
       "                                         coordinates  \\\n",
       "0                                               None   \n",
       "1  {'type': 'Point', 'coordinates': [2.1940061, 4...   \n",
       "2  {'type': 'Point', 'coordinates': [2.1979555, 4...   \n",
       "3  {'type': 'Point', 'coordinates': [2.2019244, 4...   \n",
       "4                                               None   \n",
       "5                                               None   \n",
       "\n",
       "                                              places  \n",
       "0                                               None  \n",
       "1  Place(_api=<tweepy.api.API object at 0x0000000...  \n",
       "2  Place(_api=<tweepy.api.API object at 0x0000000...  \n",
       "3  Place(_api=<tweepy.api.API object at 0x0000000...  \n",
       "4  Place(_api=<tweepy.api.API object at 0x0000000...  \n",
       "5  Place(_api=<tweepy.api.API object at 0x0000000...  "
      ]
     },
     "execution_count": 9,
     "metadata": {},
     "output_type": "execute_result"
    }
   ],
   "source": [
    "data"
   ]
  },
  {
   "cell_type": "code",
   "execution_count": 10,
   "metadata": {},
   "outputs": [],
   "source": [
    "# We convert the Date type:\n",
    "data['timestamp'] = pd.to_datetime(data['Date'], unit='s')"
   ]
  },
  {
   "cell_type": "code",
   "execution_count": 11,
   "metadata": {},
   "outputs": [],
   "source": [
    "data['timestamp'] = data['timestamp'].dt.strftime('%Y-%m-%d')"
   ]
  },
  {
   "cell_type": "code",
   "execution_count": 12,
   "metadata": {},
   "outputs": [
    {
     "data": {
      "text/html": [
       "<div>\n",
       "<table border=\"1\" class=\"dataframe\">\n",
       "  <thead>\n",
       "    <tr style=\"text-align: right;\">\n",
       "      <th></th>\n",
       "      <th>Tweets</th>\n",
       "      <th>len</th>\n",
       "      <th>ID</th>\n",
       "      <th>Date</th>\n",
       "      <th>Source</th>\n",
       "      <th>Likes</th>\n",
       "      <th>coordinates</th>\n",
       "      <th>places</th>\n",
       "      <th>timestamp</th>\n",
       "    </tr>\n",
       "  </thead>\n",
       "  <tbody>\n",
       "    <tr>\n",
       "      <th>0</th>\n",
       "      <td>Geospatial Data analysis promises a potential ...</td>\n",
       "      <td>140</td>\n",
       "      <td>956151388853202944</td>\n",
       "      <td>2018-01-24 13:07:10</td>\n",
       "      <td>Twitter Web Client</td>\n",
       "      <td>0</td>\n",
       "      <td>None</td>\n",
       "      <td>None</td>\n",
       "      <td>2018-01-24</td>\n",
       "    </tr>\n",
       "    <tr>\n",
       "      <th>1</th>\n",
       "      <td>Sempre numa correria. https://t.co/A9lQBmF3GE</td>\n",
       "      <td>45</td>\n",
       "      <td>955858136438640641</td>\n",
       "      <td>2018-01-23 17:41:53</td>\n",
       "      <td>Twitter for Android</td>\n",
       "      <td>0</td>\n",
       "      <td>{'type': 'Point', 'coordinates': [2.1940061, 4...</td>\n",
       "      <td>Place(_api=&lt;tweepy.api.API object at 0x0000000...</td>\n",
       "      <td>2018-01-23</td>\n",
       "    </tr>\n",
       "    <tr>\n",
       "      <th>2</th>\n",
       "      <td>Healthy back to home. https://t.co/p6QDqEipxb</td>\n",
       "      <td>45</td>\n",
       "      <td>955842258485547008</td>\n",
       "      <td>2018-01-23 16:38:47</td>\n",
       "      <td>Twitter for Android</td>\n",
       "      <td>0</td>\n",
       "      <td>{'type': 'Point', 'coordinates': [2.1979555, 4...</td>\n",
       "      <td>Place(_api=&lt;tweepy.api.API object at 0x0000000...</td>\n",
       "      <td>2018-01-23</td>\n",
       "    </tr>\n",
       "    <tr>\n",
       "      <th>3</th>\n",
       "      <td>Primeiro tweet no telemóvel.</td>\n",
       "      <td>28</td>\n",
       "      <td>955832736320839680</td>\n",
       "      <td>2018-01-23 16:00:57</td>\n",
       "      <td>Twitter for Android</td>\n",
       "      <td>0</td>\n",
       "      <td>{'type': 'Point', 'coordinates': [2.2019244, 4...</td>\n",
       "      <td>Place(_api=&lt;tweepy.api.API object at 0x0000000...</td>\n",
       "      <td>2018-01-23</td>\n",
       "    </tr>\n",
       "    <tr>\n",
       "      <th>4</th>\n",
       "      <td>A place to visit.</td>\n",
       "      <td>17</td>\n",
       "      <td>955831134788648960</td>\n",
       "      <td>2018-01-23 15:54:35</td>\n",
       "      <td>Twitter Web Client</td>\n",
       "      <td>0</td>\n",
       "      <td>None</td>\n",
       "      <td>Place(_api=&lt;tweepy.api.API object at 0x0000000...</td>\n",
       "      <td>2018-01-23</td>\n",
       "    </tr>\n",
       "    <tr>\n",
       "      <th>5</th>\n",
       "      <td>Working with motivation on Twitter spatial ana...</td>\n",
       "      <td>52</td>\n",
       "      <td>955830439284965376</td>\n",
       "      <td>2018-01-23 15:51:49</td>\n",
       "      <td>Twitter Web Client</td>\n",
       "      <td>0</td>\n",
       "      <td>None</td>\n",
       "      <td>Place(_api=&lt;tweepy.api.API object at 0x0000000...</td>\n",
       "      <td>2018-01-23</td>\n",
       "    </tr>\n",
       "  </tbody>\n",
       "</table>\n",
       "</div>"
      ],
      "text/plain": [
       "                                              Tweets  len                  ID  \\\n",
       "0  Geospatial Data analysis promises a potential ...  140  956151388853202944   \n",
       "1      Sempre numa correria. https://t.co/A9lQBmF3GE   45  955858136438640641   \n",
       "2      Healthy back to home. https://t.co/p6QDqEipxb   45  955842258485547008   \n",
       "3                       Primeiro tweet no telemóvel.   28  955832736320839680   \n",
       "4                                  A place to visit.   17  955831134788648960   \n",
       "5  Working with motivation on Twitter spatial ana...   52  955830439284965376   \n",
       "\n",
       "                 Date               Source  Likes  \\\n",
       "0 2018-01-24 13:07:10   Twitter Web Client      0   \n",
       "1 2018-01-23 17:41:53  Twitter for Android      0   \n",
       "2 2018-01-23 16:38:47  Twitter for Android      0   \n",
       "3 2018-01-23 16:00:57  Twitter for Android      0   \n",
       "4 2018-01-23 15:54:35   Twitter Web Client      0   \n",
       "5 2018-01-23 15:51:49   Twitter Web Client      0   \n",
       "\n",
       "                                         coordinates  \\\n",
       "0                                               None   \n",
       "1  {'type': 'Point', 'coordinates': [2.1940061, 4...   \n",
       "2  {'type': 'Point', 'coordinates': [2.1979555, 4...   \n",
       "3  {'type': 'Point', 'coordinates': [2.2019244, 4...   \n",
       "4                                               None   \n",
       "5                                               None   \n",
       "\n",
       "                                              places   timestamp  \n",
       "0                                               None  2018-01-24  \n",
       "1  Place(_api=<tweepy.api.API object at 0x0000000...  2018-01-23  \n",
       "2  Place(_api=<tweepy.api.API object at 0x0000000...  2018-01-23  \n",
       "3  Place(_api=<tweepy.api.API object at 0x0000000...  2018-01-23  \n",
       "4  Place(_api=<tweepy.api.API object at 0x0000000...  2018-01-23  \n",
       "5  Place(_api=<tweepy.api.API object at 0x0000000...  2018-01-23  "
      ]
     },
     "execution_count": 12,
     "metadata": {},
     "output_type": "execute_result"
    }
   ],
   "source": [
    "data"
   ]
  },
  {
   "cell_type": "markdown",
   "metadata": {},
   "source": [
    "## 2. Sentiment analysis"
   ]
  },
  {
   "cell_type": "markdown",
   "metadata": {},
   "source": [
    "### 2.1. Importing textblob"
   ]
  },
  {
   "cell_type": "markdown",
   "metadata": {},
   "source": [
    "Anyway, getting back to the code we will just add an extra column to our data. This column will contain the sentiment analysis and we can plot the dataframe to see the update:"
   ]
  },
  {
   "cell_type": "code",
   "execution_count": 13,
   "metadata": {},
   "outputs": [],
   "source": [
    "from textblob import TextBlob\n",
    "import re\n",
    "\n",
    "def clean_tweet(tweet):\n",
    "    '''\n",
    "    Utility function to clean the text in a tweet by removing \n",
    "    links and special characters using regex.\n",
    "    '''\n",
    "    return ' '.join(re.sub(\"(@[A-Za-z0-9]+)|([^0-9A-Za-z \\t])|(\\w+:\\/\\/\\S+)\", \" \", tweet).split())\n",
    "\n",
    "def analize_sentiment(tweet):\n",
    "    '''\n",
    "    Utility function to classify the polarity of a tweet\n",
    "    using textblob.\n",
    "    '''\n",
    "    analysis = TextBlob(clean_tweet(tweet))\n",
    "    if analysis.sentiment.polarity > 0:\n",
    "        return 1\n",
    "    elif analysis.sentiment.polarity == 0:\n",
    "        return 0\n",
    "    else:\n",
    "        return -1"
   ]
  },
  {
   "cell_type": "markdown",
   "metadata": {},
   "source": [
    "https://link.springer.com/chapter/10.1007/978-3-319-47602-5_40"
   ]
  },
  {
   "cell_type": "code",
   "execution_count": 14,
   "metadata": {
    "scrolled": true
   },
   "outputs": [
    {
     "data": {
      "text/html": [
       "<div>\n",
       "<table border=\"1\" class=\"dataframe\">\n",
       "  <thead>\n",
       "    <tr style=\"text-align: right;\">\n",
       "      <th></th>\n",
       "      <th>Tweets</th>\n",
       "      <th>len</th>\n",
       "      <th>ID</th>\n",
       "      <th>Date</th>\n",
       "      <th>Source</th>\n",
       "      <th>Likes</th>\n",
       "      <th>coordinates</th>\n",
       "      <th>places</th>\n",
       "      <th>timestamp</th>\n",
       "      <th>SA</th>\n",
       "    </tr>\n",
       "  </thead>\n",
       "  <tbody>\n",
       "    <tr>\n",
       "      <th>0</th>\n",
       "      <td>Geospatial Data analysis promises a potential ...</td>\n",
       "      <td>140</td>\n",
       "      <td>956151388853202944</td>\n",
       "      <td>2018-01-24 13:07:10</td>\n",
       "      <td>Twitter Web Client</td>\n",
       "      <td>0</td>\n",
       "      <td>None</td>\n",
       "      <td>None</td>\n",
       "      <td>2018-01-24</td>\n",
       "      <td>0</td>\n",
       "    </tr>\n",
       "    <tr>\n",
       "      <th>1</th>\n",
       "      <td>Sempre numa correria. https://t.co/A9lQBmF3GE</td>\n",
       "      <td>45</td>\n",
       "      <td>955858136438640641</td>\n",
       "      <td>2018-01-23 17:41:53</td>\n",
       "      <td>Twitter for Android</td>\n",
       "      <td>0</td>\n",
       "      <td>{'type': 'Point', 'coordinates': [2.1940061, 4...</td>\n",
       "      <td>Place(_api=&lt;tweepy.api.API object at 0x0000000...</td>\n",
       "      <td>2018-01-23</td>\n",
       "      <td>0</td>\n",
       "    </tr>\n",
       "    <tr>\n",
       "      <th>2</th>\n",
       "      <td>Healthy back to home. https://t.co/p6QDqEipxb</td>\n",
       "      <td>45</td>\n",
       "      <td>955842258485547008</td>\n",
       "      <td>2018-01-23 16:38:47</td>\n",
       "      <td>Twitter for Android</td>\n",
       "      <td>0</td>\n",
       "      <td>{'type': 'Point', 'coordinates': [2.1979555, 4...</td>\n",
       "      <td>Place(_api=&lt;tweepy.api.API object at 0x0000000...</td>\n",
       "      <td>2018-01-23</td>\n",
       "      <td>1</td>\n",
       "    </tr>\n",
       "    <tr>\n",
       "      <th>3</th>\n",
       "      <td>Primeiro tweet no telemóvel.</td>\n",
       "      <td>28</td>\n",
       "      <td>955832736320839680</td>\n",
       "      <td>2018-01-23 16:00:57</td>\n",
       "      <td>Twitter for Android</td>\n",
       "      <td>0</td>\n",
       "      <td>{'type': 'Point', 'coordinates': [2.2019244, 4...</td>\n",
       "      <td>Place(_api=&lt;tweepy.api.API object at 0x0000000...</td>\n",
       "      <td>2018-01-23</td>\n",
       "      <td>0</td>\n",
       "    </tr>\n",
       "    <tr>\n",
       "      <th>4</th>\n",
       "      <td>A place to visit.</td>\n",
       "      <td>17</td>\n",
       "      <td>955831134788648960</td>\n",
       "      <td>2018-01-23 15:54:35</td>\n",
       "      <td>Twitter Web Client</td>\n",
       "      <td>0</td>\n",
       "      <td>None</td>\n",
       "      <td>Place(_api=&lt;tweepy.api.API object at 0x0000000...</td>\n",
       "      <td>2018-01-23</td>\n",
       "      <td>0</td>\n",
       "    </tr>\n",
       "    <tr>\n",
       "      <th>5</th>\n",
       "      <td>Working with motivation on Twitter spatial ana...</td>\n",
       "      <td>52</td>\n",
       "      <td>955830439284965376</td>\n",
       "      <td>2018-01-23 15:51:49</td>\n",
       "      <td>Twitter Web Client</td>\n",
       "      <td>0</td>\n",
       "      <td>None</td>\n",
       "      <td>Place(_api=&lt;tweepy.api.API object at 0x0000000...</td>\n",
       "      <td>2018-01-23</td>\n",
       "      <td>0</td>\n",
       "    </tr>\n",
       "  </tbody>\n",
       "</table>\n",
       "</div>"
      ],
      "text/plain": [
       "                                              Tweets  len                  ID  \\\n",
       "0  Geospatial Data analysis promises a potential ...  140  956151388853202944   \n",
       "1      Sempre numa correria. https://t.co/A9lQBmF3GE   45  955858136438640641   \n",
       "2      Healthy back to home. https://t.co/p6QDqEipxb   45  955842258485547008   \n",
       "3                       Primeiro tweet no telemóvel.   28  955832736320839680   \n",
       "4                                  A place to visit.   17  955831134788648960   \n",
       "5  Working with motivation on Twitter spatial ana...   52  955830439284965376   \n",
       "\n",
       "                 Date               Source  Likes  \\\n",
       "0 2018-01-24 13:07:10   Twitter Web Client      0   \n",
       "1 2018-01-23 17:41:53  Twitter for Android      0   \n",
       "2 2018-01-23 16:38:47  Twitter for Android      0   \n",
       "3 2018-01-23 16:00:57  Twitter for Android      0   \n",
       "4 2018-01-23 15:54:35   Twitter Web Client      0   \n",
       "5 2018-01-23 15:51:49   Twitter Web Client      0   \n",
       "\n",
       "                                         coordinates  \\\n",
       "0                                               None   \n",
       "1  {'type': 'Point', 'coordinates': [2.1940061, 4...   \n",
       "2  {'type': 'Point', 'coordinates': [2.1979555, 4...   \n",
       "3  {'type': 'Point', 'coordinates': [2.2019244, 4...   \n",
       "4                                               None   \n",
       "5                                               None   \n",
       "\n",
       "                                              places   timestamp  SA  \n",
       "0                                               None  2018-01-24   0  \n",
       "1  Place(_api=<tweepy.api.API object at 0x0000000...  2018-01-23   0  \n",
       "2  Place(_api=<tweepy.api.API object at 0x0000000...  2018-01-23   1  \n",
       "3  Place(_api=<tweepy.api.API object at 0x0000000...  2018-01-23   0  \n",
       "4  Place(_api=<tweepy.api.API object at 0x0000000...  2018-01-23   0  \n",
       "5  Place(_api=<tweepy.api.API object at 0x0000000...  2018-01-23   0  "
      ]
     },
     "metadata": {},
     "output_type": "display_data"
    }
   ],
   "source": [
    "# We create a column with the result of the analysis:\n",
    "data['SA'] = np.array([ analize_sentiment(tweet) for tweet in data['Tweets'] ])\n",
    "\n",
    "# We display the updated dataframe with the new column:\n",
    "display(data.head(10))"
   ]
  },
  {
   "cell_type": "code",
   "execution_count": 15,
   "metadata": {},
   "outputs": [
    {
     "data": {
      "text/plain": [
       "pandas.core.frame.DataFrame"
      ]
     },
     "execution_count": 15,
     "metadata": {},
     "output_type": "execute_result"
    }
   ],
   "source": [
    "type(data)"
   ]
  },
  {
   "cell_type": "code",
   "execution_count": 16,
   "metadata": {
    "scrolled": false
   },
   "outputs": [
    {
     "data": {
      "text/html": [
       "<div>\n",
       "<table border=\"1\" class=\"dataframe\">\n",
       "  <thead>\n",
       "    <tr style=\"text-align: right;\">\n",
       "      <th></th>\n",
       "      <th>Tweets</th>\n",
       "      <th>len</th>\n",
       "      <th>ID</th>\n",
       "      <th>Date</th>\n",
       "      <th>Source</th>\n",
       "      <th>Likes</th>\n",
       "      <th>coordinates</th>\n",
       "      <th>places</th>\n",
       "      <th>timestamp</th>\n",
       "      <th>SA</th>\n",
       "    </tr>\n",
       "  </thead>\n",
       "  <tbody>\n",
       "    <tr>\n",
       "      <th>0</th>\n",
       "      <td>Geospatial Data analysis promises a potential ...</td>\n",
       "      <td>140</td>\n",
       "      <td>956151388853202944</td>\n",
       "      <td>2018-01-24 13:07:10</td>\n",
       "      <td>Twitter Web Client</td>\n",
       "      <td>0</td>\n",
       "      <td>None</td>\n",
       "      <td>None</td>\n",
       "      <td>2018-01-24</td>\n",
       "      <td>0</td>\n",
       "    </tr>\n",
       "    <tr>\n",
       "      <th>1</th>\n",
       "      <td>Sempre numa correria. https://t.co/A9lQBmF3GE</td>\n",
       "      <td>45</td>\n",
       "      <td>955858136438640641</td>\n",
       "      <td>2018-01-23 17:41:53</td>\n",
       "      <td>Twitter for Android</td>\n",
       "      <td>0</td>\n",
       "      <td>{'type': 'Point', 'coordinates': [2.1940061, 4...</td>\n",
       "      <td>Place(_api=&lt;tweepy.api.API object at 0x0000000...</td>\n",
       "      <td>2018-01-23</td>\n",
       "      <td>0</td>\n",
       "    </tr>\n",
       "    <tr>\n",
       "      <th>2</th>\n",
       "      <td>Healthy back to home. https://t.co/p6QDqEipxb</td>\n",
       "      <td>45</td>\n",
       "      <td>955842258485547008</td>\n",
       "      <td>2018-01-23 16:38:47</td>\n",
       "      <td>Twitter for Android</td>\n",
       "      <td>0</td>\n",
       "      <td>{'type': 'Point', 'coordinates': [2.1979555, 4...</td>\n",
       "      <td>Place(_api=&lt;tweepy.api.API object at 0x0000000...</td>\n",
       "      <td>2018-01-23</td>\n",
       "      <td>1</td>\n",
       "    </tr>\n",
       "    <tr>\n",
       "      <th>3</th>\n",
       "      <td>Primeiro tweet no telemóvel.</td>\n",
       "      <td>28</td>\n",
       "      <td>955832736320839680</td>\n",
       "      <td>2018-01-23 16:00:57</td>\n",
       "      <td>Twitter for Android</td>\n",
       "      <td>0</td>\n",
       "      <td>{'type': 'Point', 'coordinates': [2.2019244, 4...</td>\n",
       "      <td>Place(_api=&lt;tweepy.api.API object at 0x0000000...</td>\n",
       "      <td>2018-01-23</td>\n",
       "      <td>0</td>\n",
       "    </tr>\n",
       "    <tr>\n",
       "      <th>4</th>\n",
       "      <td>A place to visit.</td>\n",
       "      <td>17</td>\n",
       "      <td>955831134788648960</td>\n",
       "      <td>2018-01-23 15:54:35</td>\n",
       "      <td>Twitter Web Client</td>\n",
       "      <td>0</td>\n",
       "      <td>None</td>\n",
       "      <td>Place(_api=&lt;tweepy.api.API object at 0x0000000...</td>\n",
       "      <td>2018-01-23</td>\n",
       "      <td>0</td>\n",
       "    </tr>\n",
       "    <tr>\n",
       "      <th>5</th>\n",
       "      <td>Working with motivation on Twitter spatial ana...</td>\n",
       "      <td>52</td>\n",
       "      <td>955830439284965376</td>\n",
       "      <td>2018-01-23 15:51:49</td>\n",
       "      <td>Twitter Web Client</td>\n",
       "      <td>0</td>\n",
       "      <td>None</td>\n",
       "      <td>Place(_api=&lt;tweepy.api.API object at 0x0000000...</td>\n",
       "      <td>2018-01-23</td>\n",
       "      <td>0</td>\n",
       "    </tr>\n",
       "  </tbody>\n",
       "</table>\n",
       "</div>"
      ],
      "text/plain": [
       "                                              Tweets  len                  ID  \\\n",
       "0  Geospatial Data analysis promises a potential ...  140  956151388853202944   \n",
       "1      Sempre numa correria. https://t.co/A9lQBmF3GE   45  955858136438640641   \n",
       "2      Healthy back to home. https://t.co/p6QDqEipxb   45  955842258485547008   \n",
       "3                       Primeiro tweet no telemóvel.   28  955832736320839680   \n",
       "4                                  A place to visit.   17  955831134788648960   \n",
       "5  Working with motivation on Twitter spatial ana...   52  955830439284965376   \n",
       "\n",
       "                 Date               Source  Likes  \\\n",
       "0 2018-01-24 13:07:10   Twitter Web Client      0   \n",
       "1 2018-01-23 17:41:53  Twitter for Android      0   \n",
       "2 2018-01-23 16:38:47  Twitter for Android      0   \n",
       "3 2018-01-23 16:00:57  Twitter for Android      0   \n",
       "4 2018-01-23 15:54:35   Twitter Web Client      0   \n",
       "5 2018-01-23 15:51:49   Twitter Web Client      0   \n",
       "\n",
       "                                         coordinates  \\\n",
       "0                                               None   \n",
       "1  {'type': 'Point', 'coordinates': [2.1940061, 4...   \n",
       "2  {'type': 'Point', 'coordinates': [2.1979555, 4...   \n",
       "3  {'type': 'Point', 'coordinates': [2.2019244, 4...   \n",
       "4                                               None   \n",
       "5                                               None   \n",
       "\n",
       "                                              places   timestamp  SA  \n",
       "0                                               None  2018-01-24   0  \n",
       "1  Place(_api=<tweepy.api.API object at 0x0000000...  2018-01-23   0  \n",
       "2  Place(_api=<tweepy.api.API object at 0x0000000...  2018-01-23   1  \n",
       "3  Place(_api=<tweepy.api.API object at 0x0000000...  2018-01-23   0  \n",
       "4  Place(_api=<tweepy.api.API object at 0x0000000...  2018-01-23   0  \n",
       "5  Place(_api=<tweepy.api.API object at 0x0000000...  2018-01-23   0  "
      ]
     },
     "execution_count": 16,
     "metadata": {},
     "output_type": "execute_result"
    }
   ],
   "source": [
    "data"
   ]
  },
  {
   "cell_type": "code",
   "execution_count": 17,
   "metadata": {
    "scrolled": false
   },
   "outputs": [
    {
     "data": {
      "text/plain": [
       "Tweets                 object\n",
       "len                     int32\n",
       "ID                      int64\n",
       "Date           datetime64[ns]\n",
       "Source                 object\n",
       "Likes                   int32\n",
       "coordinates            object\n",
       "places                 object\n",
       "timestamp              object\n",
       "SA                      int32\n",
       "dtype: object"
      ]
     },
     "execution_count": 17,
     "metadata": {},
     "output_type": "execute_result"
    }
   ],
   "source": [
    "data.dtypes"
   ]
  },
  {
   "cell_type": "markdown",
   "metadata": {},
   "source": [
    "https://galeascience.wordpress.com/2016/03/18/collecting-twitter-data-with-python/"
   ]
  },
  {
   "cell_type": "markdown",
   "metadata": {},
   "source": [
    "### 2.2. Analyzing the results"
   ]
  },
  {
   "cell_type": "markdown",
   "metadata": {},
   "source": [
    "#### 2.2.1. Calculation of the percentage of the classified tweets"
   ]
  },
  {
   "cell_type": "code",
   "execution_count": 18,
   "metadata": {},
   "outputs": [],
   "source": [
    "# We construct lists with classified tweets:\n",
    "\n",
    "pos_tweets = [ tweet for index, tweet in enumerate(data['Tweets']) if data['SA'][index] > 0]\n",
    "neu_tweets = [ tweet for index, tweet in enumerate(data['Tweets']) if data['SA'][index] == 0]\n",
    "neg_tweets = [ tweet for index, tweet in enumerate(data['Tweets']) if data['SA'][index] < 0]"
   ]
  },
  {
   "cell_type": "code",
   "execution_count": 19,
   "metadata": {},
   "outputs": [
    {
     "data": {
      "text/plain": [
       "['Healthy back to home. https://t.co/p6QDqEipxb']"
      ]
     },
     "execution_count": 19,
     "metadata": {},
     "output_type": "execute_result"
    }
   ],
   "source": [
    "pos_tweets"
   ]
  },
  {
   "cell_type": "code",
   "execution_count": 20,
   "metadata": {},
   "outputs": [
    {
     "data": {
      "text/plain": [
       "['Geospatial Data analysis promises a potential transformation of coastal management and planning - BigDataBCNBigData… https://t.co/TEViz7oIBS',\n",
       " 'Sempre numa correria. https://t.co/A9lQBmF3GE',\n",
       " 'Primeiro tweet no telemóvel.',\n",
       " 'A place to visit.',\n",
       " 'Working with motivation on Twitter spatial analysis.']"
      ]
     },
     "execution_count": 20,
     "metadata": {},
     "output_type": "execute_result"
    }
   ],
   "source": [
    "neu_tweets"
   ]
  },
  {
   "cell_type": "code",
   "execution_count": 21,
   "metadata": {},
   "outputs": [
    {
     "data": {
      "text/plain": [
       "[]"
      ]
     },
     "execution_count": 21,
     "metadata": {},
     "output_type": "execute_result"
    }
   ],
   "source": [
    "neg_tweets"
   ]
  },
  {
   "cell_type": "markdown",
   "metadata": {},
   "source": [
    "Now that we have the lists, we just print the percentages:"
   ]
  },
  {
   "cell_type": "code",
   "execution_count": 22,
   "metadata": {
    "scrolled": false
   },
   "outputs": [
    {
     "name": "stdout",
     "output_type": "stream",
     "text": [
      "Percentage of positive tweets: 16.666666666666668%\n",
      "Percentage of neutral tweets: 83.33333333333333%\n",
      "Percentage de negative tweets: 0.0%\n"
     ]
    }
   ],
   "source": [
    "# We print percentages:\n",
    "\n",
    "print(\"Percentage of positive tweets: {}%\".format(len(pos_tweets)*100/len(data['Tweets'])))\n",
    "print(\"Percentage of neutral tweets: {}%\".format(len(neu_tweets)*100/len(data['Tweets'])))\n",
    "print(\"Percentage de negative tweets: {}%\".format(len(neg_tweets)*100/len(data['Tweets'])))"
   ]
  },
  {
   "cell_type": "markdown",
   "metadata": {},
   "source": [
    "#### 2.2.2. Infographics of the tweets"
   ]
  },
  {
   "cell_type": "code",
   "execution_count": 24,
   "metadata": {},
   "outputs": [
    {
     "data": {
      "text/html": [
       "<div>\n",
       "<table border=\"1\" class=\"dataframe\">\n",
       "  <thead>\n",
       "    <tr style=\"text-align: right;\">\n",
       "      <th></th>\n",
       "      <th>Tweets</th>\n",
       "      <th>len</th>\n",
       "      <th>ID</th>\n",
       "      <th>Date</th>\n",
       "      <th>Source</th>\n",
       "      <th>Likes</th>\n",
       "      <th>coordinates</th>\n",
       "      <th>places</th>\n",
       "      <th>timestamp</th>\n",
       "      <th>SA</th>\n",
       "    </tr>\n",
       "  </thead>\n",
       "  <tbody>\n",
       "    <tr>\n",
       "      <th>0</th>\n",
       "      <td>Geospatial Data analysis promises a potential ...</td>\n",
       "      <td>140</td>\n",
       "      <td>956151388853202944</td>\n",
       "      <td>2018-01-24 13:07:10</td>\n",
       "      <td>Twitter Web Client</td>\n",
       "      <td>0</td>\n",
       "      <td>None</td>\n",
       "      <td>None</td>\n",
       "      <td>2018-01-24</td>\n",
       "      <td>0</td>\n",
       "    </tr>\n",
       "    <tr>\n",
       "      <th>1</th>\n",
       "      <td>Sempre numa correria. https://t.co/A9lQBmF3GE</td>\n",
       "      <td>45</td>\n",
       "      <td>955858136438640641</td>\n",
       "      <td>2018-01-23 17:41:53</td>\n",
       "      <td>Twitter for Android</td>\n",
       "      <td>0</td>\n",
       "      <td>{'type': 'Point', 'coordinates': [2.1940061, 4...</td>\n",
       "      <td>Place(_api=&lt;tweepy.api.API object at 0x0000000...</td>\n",
       "      <td>2018-01-23</td>\n",
       "      <td>0</td>\n",
       "    </tr>\n",
       "    <tr>\n",
       "      <th>2</th>\n",
       "      <td>Healthy back to home. https://t.co/p6QDqEipxb</td>\n",
       "      <td>45</td>\n",
       "      <td>955842258485547008</td>\n",
       "      <td>2018-01-23 16:38:47</td>\n",
       "      <td>Twitter for Android</td>\n",
       "      <td>0</td>\n",
       "      <td>{'type': 'Point', 'coordinates': [2.1979555, 4...</td>\n",
       "      <td>Place(_api=&lt;tweepy.api.API object at 0x0000000...</td>\n",
       "      <td>2018-01-23</td>\n",
       "      <td>1</td>\n",
       "    </tr>\n",
       "    <tr>\n",
       "      <th>3</th>\n",
       "      <td>Primeiro tweet no telemóvel.</td>\n",
       "      <td>28</td>\n",
       "      <td>955832736320839680</td>\n",
       "      <td>2018-01-23 16:00:57</td>\n",
       "      <td>Twitter for Android</td>\n",
       "      <td>0</td>\n",
       "      <td>{'type': 'Point', 'coordinates': [2.2019244, 4...</td>\n",
       "      <td>Place(_api=&lt;tweepy.api.API object at 0x0000000...</td>\n",
       "      <td>2018-01-23</td>\n",
       "      <td>0</td>\n",
       "    </tr>\n",
       "    <tr>\n",
       "      <th>4</th>\n",
       "      <td>A place to visit.</td>\n",
       "      <td>17</td>\n",
       "      <td>955831134788648960</td>\n",
       "      <td>2018-01-23 15:54:35</td>\n",
       "      <td>Twitter Web Client</td>\n",
       "      <td>0</td>\n",
       "      <td>None</td>\n",
       "      <td>Place(_api=&lt;tweepy.api.API object at 0x0000000...</td>\n",
       "      <td>2018-01-23</td>\n",
       "      <td>0</td>\n",
       "    </tr>\n",
       "  </tbody>\n",
       "</table>\n",
       "</div>"
      ],
      "text/plain": [
       "                                              Tweets  len                  ID  \\\n",
       "0  Geospatial Data analysis promises a potential ...  140  956151388853202944   \n",
       "1      Sempre numa correria. https://t.co/A9lQBmF3GE   45  955858136438640641   \n",
       "2      Healthy back to home. https://t.co/p6QDqEipxb   45  955842258485547008   \n",
       "3                       Primeiro tweet no telemóvel.   28  955832736320839680   \n",
       "4                                  A place to visit.   17  955831134788648960   \n",
       "\n",
       "                 Date               Source  Likes  \\\n",
       "0 2018-01-24 13:07:10   Twitter Web Client      0   \n",
       "1 2018-01-23 17:41:53  Twitter for Android      0   \n",
       "2 2018-01-23 16:38:47  Twitter for Android      0   \n",
       "3 2018-01-23 16:00:57  Twitter for Android      0   \n",
       "4 2018-01-23 15:54:35   Twitter Web Client      0   \n",
       "\n",
       "                                         coordinates  \\\n",
       "0                                               None   \n",
       "1  {'type': 'Point', 'coordinates': [2.1940061, 4...   \n",
       "2  {'type': 'Point', 'coordinates': [2.1979555, 4...   \n",
       "3  {'type': 'Point', 'coordinates': [2.2019244, 4...   \n",
       "4                                               None   \n",
       "\n",
       "                                              places   timestamp  SA  \n",
       "0                                               None  2018-01-24   0  \n",
       "1  Place(_api=<tweepy.api.API object at 0x0000000...  2018-01-23   0  \n",
       "2  Place(_api=<tweepy.api.API object at 0x0000000...  2018-01-23   1  \n",
       "3  Place(_api=<tweepy.api.API object at 0x0000000...  2018-01-23   0  \n",
       "4  Place(_api=<tweepy.api.API object at 0x0000000...  2018-01-23   0  "
      ]
     },
     "execution_count": 24,
     "metadata": {},
     "output_type": "execute_result"
    }
   ],
   "source": [
    "# Pandas DataFrame with the Sentiment Analysis results\n",
    "data.head()"
   ]
  },
  {
   "cell_type": "code",
   "execution_count": 25,
   "metadata": {
    "scrolled": true
   },
   "outputs": [
    {
     "data": {
      "text/html": [
       "<div>\n",
       "<table border=\"1\" class=\"dataframe\">\n",
       "  <thead>\n",
       "    <tr style=\"text-align: right;\">\n",
       "      <th></th>\n",
       "      <th>Tweets</th>\n",
       "      <th>len</th>\n",
       "      <th>ID</th>\n",
       "      <th>Date</th>\n",
       "      <th>Source</th>\n",
       "      <th>Likes</th>\n",
       "      <th>coordinates</th>\n",
       "      <th>places</th>\n",
       "      <th>timestamp</th>\n",
       "      <th>Polarity</th>\n",
       "    </tr>\n",
       "  </thead>\n",
       "  <tbody>\n",
       "    <tr>\n",
       "      <th>0</th>\n",
       "      <td>Geospatial Data analysis promises a potential ...</td>\n",
       "      <td>140</td>\n",
       "      <td>956151388853202944</td>\n",
       "      <td>2018-01-24 13:07:10</td>\n",
       "      <td>Twitter Web Client</td>\n",
       "      <td>0</td>\n",
       "      <td>None</td>\n",
       "      <td>None</td>\n",
       "      <td>2018-01-24</td>\n",
       "      <td>0</td>\n",
       "    </tr>\n",
       "    <tr>\n",
       "      <th>1</th>\n",
       "      <td>Sempre numa correria. https://t.co/A9lQBmF3GE</td>\n",
       "      <td>45</td>\n",
       "      <td>955858136438640641</td>\n",
       "      <td>2018-01-23 17:41:53</td>\n",
       "      <td>Twitter for Android</td>\n",
       "      <td>0</td>\n",
       "      <td>{'type': 'Point', 'coordinates': [2.1940061, 4...</td>\n",
       "      <td>Place(_api=&lt;tweepy.api.API object at 0x0000000...</td>\n",
       "      <td>2018-01-23</td>\n",
       "      <td>0</td>\n",
       "    </tr>\n",
       "    <tr>\n",
       "      <th>2</th>\n",
       "      <td>Healthy back to home. https://t.co/p6QDqEipxb</td>\n",
       "      <td>45</td>\n",
       "      <td>955842258485547008</td>\n",
       "      <td>2018-01-23 16:38:47</td>\n",
       "      <td>Twitter for Android</td>\n",
       "      <td>0</td>\n",
       "      <td>{'type': 'Point', 'coordinates': [2.1979555, 4...</td>\n",
       "      <td>Place(_api=&lt;tweepy.api.API object at 0x0000000...</td>\n",
       "      <td>2018-01-23</td>\n",
       "      <td>1</td>\n",
       "    </tr>\n",
       "    <tr>\n",
       "      <th>3</th>\n",
       "      <td>Primeiro tweet no telemóvel.</td>\n",
       "      <td>28</td>\n",
       "      <td>955832736320839680</td>\n",
       "      <td>2018-01-23 16:00:57</td>\n",
       "      <td>Twitter for Android</td>\n",
       "      <td>0</td>\n",
       "      <td>{'type': 'Point', 'coordinates': [2.2019244, 4...</td>\n",
       "      <td>Place(_api=&lt;tweepy.api.API object at 0x0000000...</td>\n",
       "      <td>2018-01-23</td>\n",
       "      <td>0</td>\n",
       "    </tr>\n",
       "    <tr>\n",
       "      <th>4</th>\n",
       "      <td>A place to visit.</td>\n",
       "      <td>17</td>\n",
       "      <td>955831134788648960</td>\n",
       "      <td>2018-01-23 15:54:35</td>\n",
       "      <td>Twitter Web Client</td>\n",
       "      <td>0</td>\n",
       "      <td>None</td>\n",
       "      <td>Place(_api=&lt;tweepy.api.API object at 0x0000000...</td>\n",
       "      <td>2018-01-23</td>\n",
       "      <td>0</td>\n",
       "    </tr>\n",
       "  </tbody>\n",
       "</table>\n",
       "</div>"
      ],
      "text/plain": [
       "                                              Tweets  len                  ID  \\\n",
       "0  Geospatial Data analysis promises a potential ...  140  956151388853202944   \n",
       "1      Sempre numa correria. https://t.co/A9lQBmF3GE   45  955858136438640641   \n",
       "2      Healthy back to home. https://t.co/p6QDqEipxb   45  955842258485547008   \n",
       "3                       Primeiro tweet no telemóvel.   28  955832736320839680   \n",
       "4                                  A place to visit.   17  955831134788648960   \n",
       "\n",
       "                 Date               Source  Likes  \\\n",
       "0 2018-01-24 13:07:10   Twitter Web Client      0   \n",
       "1 2018-01-23 17:41:53  Twitter for Android      0   \n",
       "2 2018-01-23 16:38:47  Twitter for Android      0   \n",
       "3 2018-01-23 16:00:57  Twitter for Android      0   \n",
       "4 2018-01-23 15:54:35   Twitter Web Client      0   \n",
       "\n",
       "                                         coordinates  \\\n",
       "0                                               None   \n",
       "1  {'type': 'Point', 'coordinates': [2.1940061, 4...   \n",
       "2  {'type': 'Point', 'coordinates': [2.1979555, 4...   \n",
       "3  {'type': 'Point', 'coordinates': [2.2019244, 4...   \n",
       "4                                               None   \n",
       "\n",
       "                                              places   timestamp  Polarity  \n",
       "0                                               None  2018-01-24         0  \n",
       "1  Place(_api=<tweepy.api.API object at 0x0000000...  2018-01-23         0  \n",
       "2  Place(_api=<tweepy.api.API object at 0x0000000...  2018-01-23         1  \n",
       "3  Place(_api=<tweepy.api.API object at 0x0000000...  2018-01-23         0  \n",
       "4  Place(_api=<tweepy.api.API object at 0x0000000...  2018-01-23         0  "
      ]
     },
     "execution_count": 25,
     "metadata": {},
     "output_type": "execute_result"
    }
   ],
   "source": [
    "# New Pandas DataFrame with a new name of the field including the Sentiment Analysis results (SA)\n",
    "df1=data.rename(columns={'SA':'Polarity'})\n",
    "df1.head()"
   ]
  },
  {
   "cell_type": "code",
   "execution_count": 26,
   "metadata": {},
   "outputs": [
    {
     "data": {
      "image/png": "[encoded data removed]",
      "text/plain": [
       "<matplotlib.figure.Figure at 0x13af5ef0>"
      ]
     },
     "metadata": {},
     "output_type": "display_data"
    }
   ],
   "source": [
    "# Graph of the Polarity by date (2018)\n",
    "df1.plot( kind='line', x='timestamp', y='Polarity',title='Polarity by date')\n",
    "axes = plt.gca()\n",
    "plt.xticks(rotation='vertical', fontsize=11)\n",
    "plt.show()"
   ]
  },
  {
   "cell_type": "code",
   "execution_count": 27,
   "metadata": {},
   "outputs": [
    {
     "data": {
      "text/html": [
       "<div>\n",
       "<table border=\"1\" class=\"dataframe\">\n",
       "  <thead>\n",
       "    <tr style=\"text-align: right;\">\n",
       "      <th></th>\n",
       "      <th>Tweets</th>\n",
       "      <th>len</th>\n",
       "      <th>ID</th>\n",
       "      <th>Date</th>\n",
       "      <th>Source</th>\n",
       "      <th>Likes</th>\n",
       "      <th>coordinates</th>\n",
       "      <th>places</th>\n",
       "      <th>timestamp</th>\n",
       "      <th>Polarity</th>\n",
       "      <th>Hour</th>\n",
       "    </tr>\n",
       "  </thead>\n",
       "  <tbody>\n",
       "    <tr>\n",
       "      <th>0</th>\n",
       "      <td>Geospatial Data analysis promises a potential ...</td>\n",
       "      <td>140</td>\n",
       "      <td>956151388853202944</td>\n",
       "      <td>2018-01-24 13:07:10</td>\n",
       "      <td>Twitter Web Client</td>\n",
       "      <td>0</td>\n",
       "      <td>None</td>\n",
       "      <td>None</td>\n",
       "      <td>2018-01-24</td>\n",
       "      <td>0</td>\n",
       "      <td>13</td>\n",
       "    </tr>\n",
       "    <tr>\n",
       "      <th>1</th>\n",
       "      <td>Sempre numa correria. https://t.co/A9lQBmF3GE</td>\n",
       "      <td>45</td>\n",
       "      <td>955858136438640641</td>\n",
       "      <td>2018-01-23 17:41:53</td>\n",
       "      <td>Twitter for Android</td>\n",
       "      <td>0</td>\n",
       "      <td>{'type': 'Point', 'coordinates': [2.1940061, 4...</td>\n",
       "      <td>Place(_api=&lt;tweepy.api.API object at 0x0000000...</td>\n",
       "      <td>2018-01-23</td>\n",
       "      <td>0</td>\n",
       "      <td>17</td>\n",
       "    </tr>\n",
       "    <tr>\n",
       "      <th>2</th>\n",
       "      <td>Healthy back to home. https://t.co/p6QDqEipxb</td>\n",
       "      <td>45</td>\n",
       "      <td>955842258485547008</td>\n",
       "      <td>2018-01-23 16:38:47</td>\n",
       "      <td>Twitter for Android</td>\n",
       "      <td>0</td>\n",
       "      <td>{'type': 'Point', 'coordinates': [2.1979555, 4...</td>\n",
       "      <td>Place(_api=&lt;tweepy.api.API object at 0x0000000...</td>\n",
       "      <td>2018-01-23</td>\n",
       "      <td>1</td>\n",
       "      <td>16</td>\n",
       "    </tr>\n",
       "    <tr>\n",
       "      <th>3</th>\n",
       "      <td>Primeiro tweet no telemóvel.</td>\n",
       "      <td>28</td>\n",
       "      <td>955832736320839680</td>\n",
       "      <td>2018-01-23 16:00:57</td>\n",
       "      <td>Twitter for Android</td>\n",
       "      <td>0</td>\n",
       "      <td>{'type': 'Point', 'coordinates': [2.2019244, 4...</td>\n",
       "      <td>Place(_api=&lt;tweepy.api.API object at 0x0000000...</td>\n",
       "      <td>2018-01-23</td>\n",
       "      <td>0</td>\n",
       "      <td>16</td>\n",
       "    </tr>\n",
       "    <tr>\n",
       "      <th>4</th>\n",
       "      <td>A place to visit.</td>\n",
       "      <td>17</td>\n",
       "      <td>955831134788648960</td>\n",
       "      <td>2018-01-23 15:54:35</td>\n",
       "      <td>Twitter Web Client</td>\n",
       "      <td>0</td>\n",
       "      <td>None</td>\n",
       "      <td>Place(_api=&lt;tweepy.api.API object at 0x0000000...</td>\n",
       "      <td>2018-01-23</td>\n",
       "      <td>0</td>\n",
       "      <td>15</td>\n",
       "    </tr>\n",
       "  </tbody>\n",
       "</table>\n",
       "</div>"
      ],
      "text/plain": [
       "                                              Tweets  len                  ID  \\\n",
       "0  Geospatial Data analysis promises a potential ...  140  956151388853202944   \n",
       "1      Sempre numa correria. https://t.co/A9lQBmF3GE   45  955858136438640641   \n",
       "2      Healthy back to home. https://t.co/p6QDqEipxb   45  955842258485547008   \n",
       "3                       Primeiro tweet no telemóvel.   28  955832736320839680   \n",
       "4                                  A place to visit.   17  955831134788648960   \n",
       "\n",
       "                 Date               Source  Likes  \\\n",
       "0 2018-01-24 13:07:10   Twitter Web Client      0   \n",
       "1 2018-01-23 17:41:53  Twitter for Android      0   \n",
       "2 2018-01-23 16:38:47  Twitter for Android      0   \n",
       "3 2018-01-23 16:00:57  Twitter for Android      0   \n",
       "4 2018-01-23 15:54:35   Twitter Web Client      0   \n",
       "\n",
       "                                         coordinates  \\\n",
       "0                                               None   \n",
       "1  {'type': 'Point', 'coordinates': [2.1940061, 4...   \n",
       "2  {'type': 'Point', 'coordinates': [2.1979555, 4...   \n",
       "3  {'type': 'Point', 'coordinates': [2.2019244, 4...   \n",
       "4                                               None   \n",
       "\n",
       "                                              places   timestamp  Polarity  \\\n",
       "0                                               None  2018-01-24         0   \n",
       "1  Place(_api=<tweepy.api.API object at 0x0000000...  2018-01-23         0   \n",
       "2  Place(_api=<tweepy.api.API object at 0x0000000...  2018-01-23         1   \n",
       "3  Place(_api=<tweepy.api.API object at 0x0000000...  2018-01-23         0   \n",
       "4  Place(_api=<tweepy.api.API object at 0x0000000...  2018-01-23         0   \n",
       "\n",
       "   Hour  \n",
       "0    13  \n",
       "1    17  \n",
       "2    16  \n",
       "3    16  \n",
       "4    15  "
      ]
     },
     "execution_count": 27,
     "metadata": {},
     "output_type": "execute_result"
    }
   ],
   "source": [
    "# Graph of the Polarity by hour for a specific day\n",
    "df1['Hour'] = pd.to_datetime(df1['Date'], format='%H:%M').dt.hour # to create a new column with the hour information\n",
    "df1.head()"
   ]
  },
  {
   "cell_type": "code",
   "execution_count": 28,
   "metadata": {},
   "outputs": [
    {
     "data": {
      "image/png": "[encoded data removed]",
      "text/plain": [
       "<matplotlib.figure.Figure at 0x13aef898>"
      ]
     },
     "metadata": {},
     "output_type": "display_data"
    }
   ],
   "source": [
    "df2 = df1[df1['timestamp'] == '2018-01-23']\n",
    "df2.plot( kind='line', x='Hour', y='Polarity',title='Polarity on 23/01/2018')\n",
    "axes = plt.gca()\n",
    "plt.xticks(rotation='vertical', fontsize=11)\n",
    "plt.show()"
   ]
  },
  {
   "cell_type": "markdown",
   "metadata": {},
   "source": [
    "## 3. Data formating"
   ]
  },
  {
   "cell_type": "markdown",
   "metadata": {},
   "source": [
    "Select the records with coordinates and split the longitude and latitude for two new columns."
   ]
  },
  {
   "cell_type": "code",
   "execution_count": 33,
   "metadata": {},
   "outputs": [
    {
     "data": {
      "text/html": [
       "<div>\n",
       "<table border=\"1\" class=\"dataframe\">\n",
       "  <thead>\n",
       "    <tr style=\"text-align: right;\">\n",
       "      <th></th>\n",
       "      <th>Tweets</th>\n",
       "      <th>len</th>\n",
       "      <th>ID</th>\n",
       "      <th>Date</th>\n",
       "      <th>Source</th>\n",
       "      <th>Likes</th>\n",
       "      <th>coordinates</th>\n",
       "      <th>places</th>\n",
       "      <th>timestamp</th>\n",
       "      <th>SA</th>\n",
       "    </tr>\n",
       "  </thead>\n",
       "  <tbody>\n",
       "    <tr>\n",
       "      <th>1</th>\n",
       "      <td>Sempre numa correria. https://t.co/A9lQBmF3GE</td>\n",
       "      <td>45</td>\n",
       "      <td>955858136438640641</td>\n",
       "      <td>2018-01-23 17:41:53</td>\n",
       "      <td>Twitter for Android</td>\n",
       "      <td>0</td>\n",
       "      <td>{'type': 'Point', 'coordinates': [2.1940061, 4...</td>\n",
       "      <td>Place(_api=&lt;tweepy.api.API object at 0x0000000...</td>\n",
       "      <td>2018-01-23</td>\n",
       "      <td>0</td>\n",
       "    </tr>\n",
       "    <tr>\n",
       "      <th>2</th>\n",
       "      <td>Healthy back to home. https://t.co/p6QDqEipxb</td>\n",
       "      <td>45</td>\n",
       "      <td>955842258485547008</td>\n",
       "      <td>2018-01-23 16:38:47</td>\n",
       "      <td>Twitter for Android</td>\n",
       "      <td>0</td>\n",
       "      <td>{'type': 'Point', 'coordinates': [2.1979555, 4...</td>\n",
       "      <td>Place(_api=&lt;tweepy.api.API object at 0x0000000...</td>\n",
       "      <td>2018-01-23</td>\n",
       "      <td>1</td>\n",
       "    </tr>\n",
       "    <tr>\n",
       "      <th>3</th>\n",
       "      <td>Primeiro tweet no telemóvel.</td>\n",
       "      <td>28</td>\n",
       "      <td>955832736320839680</td>\n",
       "      <td>2018-01-23 16:00:57</td>\n",
       "      <td>Twitter for Android</td>\n",
       "      <td>0</td>\n",
       "      <td>{'type': 'Point', 'coordinates': [2.2019244, 4...</td>\n",
       "      <td>Place(_api=&lt;tweepy.api.API object at 0x0000000...</td>\n",
       "      <td>2018-01-23</td>\n",
       "      <td>0</td>\n",
       "    </tr>\n",
       "  </tbody>\n",
       "</table>\n",
       "</div>"
      ],
      "text/plain": [
       "                                          Tweets  len                  ID  \\\n",
       "1  Sempre numa correria. https://t.co/A9lQBmF3GE   45  955858136438640641   \n",
       "2  Healthy back to home. https://t.co/p6QDqEipxb   45  955842258485547008   \n",
       "3                   Primeiro tweet no telemóvel.   28  955832736320839680   \n",
       "\n",
       "                 Date               Source  Likes  \\\n",
       "1 2018-01-23 17:41:53  Twitter for Android      0   \n",
       "2 2018-01-23 16:38:47  Twitter for Android      0   \n",
       "3 2018-01-23 16:00:57  Twitter for Android      0   \n",
       "\n",
       "                                         coordinates  \\\n",
       "1  {'type': 'Point', 'coordinates': [2.1940061, 4...   \n",
       "2  {'type': 'Point', 'coordinates': [2.1979555, 4...   \n",
       "3  {'type': 'Point', 'coordinates': [2.2019244, 4...   \n",
       "\n",
       "                                              places   timestamp  SA  \n",
       "1  Place(_api=<tweepy.api.API object at 0x0000000...  2018-01-23   0  \n",
       "2  Place(_api=<tweepy.api.API object at 0x0000000...  2018-01-23   1  \n",
       "3  Place(_api=<tweepy.api.API object at 0x0000000...  2018-01-23   0  "
      ]
     },
     "execution_count": 33,
     "metadata": {},
     "output_type": "execute_result"
    }
   ],
   "source": [
    "data2=data.iloc[1:4]\n",
    "data2"
   ]
  },
  {
   "cell_type": "code",
   "execution_count": 34,
   "metadata": {},
   "outputs": [
    {
     "name": "stderr",
     "output_type": "stream",
     "text": [
      "C:\\Users\\francisco.sacramento\\AppData\\Local\\Continuum\\Anaconda3\\lib\\site-packages\\ipykernel\\__main__.py:1: SettingWithCopyWarning: \n",
      "A value is trying to be set on a copy of a slice from a DataFrame.\n",
      "Try using .loc[row_indexer,col_indexer] = value instead\n",
      "\n",
      "See the caveats in the documentation: http://pandas.pydata.org/pandas-docs/stable/indexing.html#indexing-view-versus-copy\n",
      "  if __name__ == '__main__':\n",
      "C:\\Users\\francisco.sacramento\\AppData\\Local\\Continuum\\Anaconda3\\lib\\site-packages\\ipykernel\\__main__.py:2: SettingWithCopyWarning: \n",
      "A value is trying to be set on a copy of a slice from a DataFrame.\n",
      "Try using .loc[row_indexer,col_indexer] = value instead\n",
      "\n",
      "See the caveats in the documentation: http://pandas.pydata.org/pandas-docs/stable/indexing.html#indexing-view-versus-copy\n",
      "  from ipykernel import kernelapp as app\n"
     ]
    }
   ],
   "source": [
    "data2['lat'] = data2.coordinates.apply(lambda x:x['coordinates'][1])\n",
    "data2['lon'] = data2.coordinates.apply(lambda x:x['coordinates'][0])"
   ]
  },
  {
   "cell_type": "code",
   "execution_count": 35,
   "metadata": {
    "scrolled": false
   },
   "outputs": [
    {
     "data": {
      "text/html": [
       "<div>\n",
       "<table border=\"1\" class=\"dataframe\">\n",
       "  <thead>\n",
       "    <tr style=\"text-align: right;\">\n",
       "      <th></th>\n",
       "      <th>Tweets</th>\n",
       "      <th>len</th>\n",
       "      <th>ID</th>\n",
       "      <th>Date</th>\n",
       "      <th>Source</th>\n",
       "      <th>Likes</th>\n",
       "      <th>coordinates</th>\n",
       "      <th>places</th>\n",
       "      <th>timestamp</th>\n",
       "      <th>SA</th>\n",
       "      <th>lat</th>\n",
       "      <th>lon</th>\n",
       "    </tr>\n",
       "  </thead>\n",
       "  <tbody>\n",
       "    <tr>\n",
       "      <th>1</th>\n",
       "      <td>Sempre numa correria. https://t.co/A9lQBmF3GE</td>\n",
       "      <td>45</td>\n",
       "      <td>955858136438640641</td>\n",
       "      <td>2018-01-23 17:41:53</td>\n",
       "      <td>Twitter for Android</td>\n",
       "      <td>0</td>\n",
       "      <td>{'type': 'Point', 'coordinates': [2.1940061, 4...</td>\n",
       "      <td>Place(_api=&lt;tweepy.api.API object at 0x0000000...</td>\n",
       "      <td>2018-01-23</td>\n",
       "      <td>0</td>\n",
       "      <td>41.414305</td>\n",
       "      <td>2.194006</td>\n",
       "    </tr>\n",
       "    <tr>\n",
       "      <th>2</th>\n",
       "      <td>Healthy back to home. https://t.co/p6QDqEipxb</td>\n",
       "      <td>45</td>\n",
       "      <td>955842258485547008</td>\n",
       "      <td>2018-01-23 16:38:47</td>\n",
       "      <td>Twitter for Android</td>\n",
       "      <td>0</td>\n",
       "      <td>{'type': 'Point', 'coordinates': [2.1979555, 4...</td>\n",
       "      <td>Place(_api=&lt;tweepy.api.API object at 0x0000000...</td>\n",
       "      <td>2018-01-23</td>\n",
       "      <td>1</td>\n",
       "      <td>41.405226</td>\n",
       "      <td>2.197955</td>\n",
       "    </tr>\n",
       "    <tr>\n",
       "      <th>3</th>\n",
       "      <td>Primeiro tweet no telemóvel.</td>\n",
       "      <td>28</td>\n",
       "      <td>955832736320839680</td>\n",
       "      <td>2018-01-23 16:00:57</td>\n",
       "      <td>Twitter for Android</td>\n",
       "      <td>0</td>\n",
       "      <td>{'type': 'Point', 'coordinates': [2.2019244, 4...</td>\n",
       "      <td>Place(_api=&lt;tweepy.api.API object at 0x0000000...</td>\n",
       "      <td>2018-01-23</td>\n",
       "      <td>0</td>\n",
       "      <td>41.404459</td>\n",
       "      <td>2.201924</td>\n",
       "    </tr>\n",
       "  </tbody>\n",
       "</table>\n",
       "</div>"
      ],
      "text/plain": [
       "                                          Tweets  len                  ID  \\\n",
       "1  Sempre numa correria. https://t.co/A9lQBmF3GE   45  955858136438640641   \n",
       "2  Healthy back to home. https://t.co/p6QDqEipxb   45  955842258485547008   \n",
       "3                   Primeiro tweet no telemóvel.   28  955832736320839680   \n",
       "\n",
       "                 Date               Source  Likes  \\\n",
       "1 2018-01-23 17:41:53  Twitter for Android      0   \n",
       "2 2018-01-23 16:38:47  Twitter for Android      0   \n",
       "3 2018-01-23 16:00:57  Twitter for Android      0   \n",
       "\n",
       "                                         coordinates  \\\n",
       "1  {'type': 'Point', 'coordinates': [2.1940061, 4...   \n",
       "2  {'type': 'Point', 'coordinates': [2.1979555, 4...   \n",
       "3  {'type': 'Point', 'coordinates': [2.2019244, 4...   \n",
       "\n",
       "                                              places   timestamp  SA  \\\n",
       "1  Place(_api=<tweepy.api.API object at 0x0000000...  2018-01-23   0   \n",
       "2  Place(_api=<tweepy.api.API object at 0x0000000...  2018-01-23   1   \n",
       "3  Place(_api=<tweepy.api.API object at 0x0000000...  2018-01-23   0   \n",
       "\n",
       "         lat       lon  \n",
       "1  41.414305  2.194006  \n",
       "2  41.405226  2.197955  \n",
       "3  41.404459  2.201924  "
      ]
     },
     "execution_count": 35,
     "metadata": {},
     "output_type": "execute_result"
    }
   ],
   "source": [
    "data2"
   ]
  },
  {
   "cell_type": "code",
   "execution_count": 36,
   "metadata": {
    "scrolled": false
   },
   "outputs": [
    {
     "data": {
      "text/plain": [
       "Tweets                 object\n",
       "len                     int32\n",
       "ID                      int64\n",
       "Date           datetime64[ns]\n",
       "Source                 object\n",
       "Likes                   int32\n",
       "coordinates            object\n",
       "places                 object\n",
       "timestamp              object\n",
       "SA                      int32\n",
       "lat                   float64\n",
       "lon                   float64\n",
       "dtype: object"
      ]
     },
     "execution_count": 36,
     "metadata": {},
     "output_type": "execute_result"
    }
   ],
   "source": [
    "data2.dtypes"
   ]
  },
  {
   "cell_type": "code",
   "execution_count": 38,
   "metadata": {},
   "outputs": [
    {
     "name": "stderr",
     "output_type": "stream",
     "text": [
      "C:\\Users\\francisco.sacramento\\AppData\\Local\\Continuum\\Anaconda3\\lib\\site-packages\\pandas\\core\\generic.py:2773: SettingWithCopyWarning: \n",
      "A value is trying to be set on a copy of a slice from a DataFrame.\n",
      "Try using .loc[row_indexer,col_indexer] = value instead\n",
      "\n",
      "See the caveats in the documentation: http://pandas.pydata.org/pandas-docs/stable/indexing.html#indexing-view-versus-copy\n",
      "  self[name] = value\n"
     ]
    }
   ],
   "source": [
    "#We must convert the Polarity to string to be used as a map attribute\n",
    "data2.SA = data2.SA.astype(str)"
   ]
  },
  {
   "cell_type": "code",
   "execution_count": 39,
   "metadata": {},
   "outputs": [
    {
     "data": {
      "text/plain": [
       "Tweets                 object\n",
       "len                     int32\n",
       "ID                      int64\n",
       "Date           datetime64[ns]\n",
       "Source                 object\n",
       "Likes                   int32\n",
       "coordinates            object\n",
       "places                 object\n",
       "timestamp              object\n",
       "SA                     object\n",
       "lat                   float64\n",
       "lon                   float64\n",
       "dtype: object"
      ]
     },
     "execution_count": 39,
     "metadata": {},
     "output_type": "execute_result"
    }
   ],
   "source": [
    "data2.dtypes"
   ]
  },
  {
   "cell_type": "code",
   "execution_count": 40,
   "metadata": {
    "scrolled": true
   },
   "outputs": [
    {
     "data": {
      "text/html": [
       "<div>\n",
       "<table border=\"1\" class=\"dataframe\">\n",
       "  <thead>\n",
       "    <tr style=\"text-align: right;\">\n",
       "      <th></th>\n",
       "      <th>Tweets</th>\n",
       "      <th>Source</th>\n",
       "      <th>timestamp</th>\n",
       "      <th>SA</th>\n",
       "      <th>lat</th>\n",
       "      <th>lon</th>\n",
       "    </tr>\n",
       "  </thead>\n",
       "  <tbody>\n",
       "    <tr>\n",
       "      <th>1</th>\n",
       "      <td>Sempre numa correria. https://t.co/A9lQBmF3GE</td>\n",
       "      <td>Twitter for Android</td>\n",
       "      <td>2018-01-23</td>\n",
       "      <td>0</td>\n",
       "      <td>41.414305</td>\n",
       "      <td>2.194006</td>\n",
       "    </tr>\n",
       "    <tr>\n",
       "      <th>2</th>\n",
       "      <td>Healthy back to home. https://t.co/p6QDqEipxb</td>\n",
       "      <td>Twitter for Android</td>\n",
       "      <td>2018-01-23</td>\n",
       "      <td>1</td>\n",
       "      <td>41.405226</td>\n",
       "      <td>2.197955</td>\n",
       "    </tr>\n",
       "    <tr>\n",
       "      <th>3</th>\n",
       "      <td>Primeiro tweet no telemóvel.</td>\n",
       "      <td>Twitter for Android</td>\n",
       "      <td>2018-01-23</td>\n",
       "      <td>0</td>\n",
       "      <td>41.404459</td>\n",
       "      <td>2.201924</td>\n",
       "    </tr>\n",
       "  </tbody>\n",
       "</table>\n",
       "</div>"
      ],
      "text/plain": [
       "                                          Tweets               Source  \\\n",
       "1  Sempre numa correria. https://t.co/A9lQBmF3GE  Twitter for Android   \n",
       "2  Healthy back to home. https://t.co/p6QDqEipxb  Twitter for Android   \n",
       "3                   Primeiro tweet no telemóvel.  Twitter for Android   \n",
       "\n",
       "    timestamp SA        lat       lon  \n",
       "1  2018-01-23  0  41.414305  2.194006  \n",
       "2  2018-01-23  1  41.405226  2.197955  \n",
       "3  2018-01-23  0  41.404459  2.201924  "
      ]
     },
     "execution_count": 40,
     "metadata": {},
     "output_type": "execute_result"
    }
   ],
   "source": [
    "#We can select the useful atributes and create a new dataframe\n",
    "useful_cols = ['Tweets', 'Source', 'timestamp', 'SA', 'lat', 'lon']\n",
    "data3 = data2[useful_cols]\n",
    "data3"
   ]
  },
  {
   "cell_type": "markdown",
   "metadata": {},
   "source": [
    "## 4. Convert to Geodataframe"
   ]
  },
  {
   "cell_type": "code",
   "execution_count": 42,
   "metadata": {},
   "outputs": [],
   "source": [
    "import geopandas as gpd"
   ]
  },
  {
   "cell_type": "code",
   "execution_count": 43,
   "metadata": {},
   "outputs": [
    {
     "name": "stderr",
     "output_type": "stream",
     "text": [
      "C:\\Users\\francisco.sacramento\\AppData\\Local\\Continuum\\Anaconda3\\lib\\site-packages\\ipykernel\\__main__.py:4: SettingWithCopyWarning: \n",
      "A value is trying to be set on a copy of a slice from a DataFrame.\n",
      "Try using .loc[row_indexer,col_indexer] = value instead\n",
      "\n",
      "See the caveats in the documentation: http://pandas.pydata.org/pandas-docs/stable/indexing.html#indexing-view-versus-copy\n"
     ]
    }
   ],
   "source": [
    "from shapely.geometry import Point\n",
    "\n",
    "# combine lat and lon column to a shapely Point() object\n",
    "data3['geometry'] = data3.apply(lambda x: Point((float(x.lon), float(x.lat))), axis=1)"
   ]
  },
  {
   "cell_type": "code",
   "execution_count": 44,
   "metadata": {},
   "outputs": [],
   "source": [
    "data4 = gpd.GeoDataFrame(data3, geometry='geometry')"
   ]
  },
  {
   "cell_type": "code",
   "execution_count": 45,
   "metadata": {
    "scrolled": true
   },
   "outputs": [
    {
     "data": {
      "text/html": [
       "<div>\n",
       "<table border=\"1\" class=\"dataframe\">\n",
       "  <thead>\n",
       "    <tr style=\"text-align: right;\">\n",
       "      <th></th>\n",
       "      <th>Tweets</th>\n",
       "      <th>Source</th>\n",
       "      <th>timestamp</th>\n",
       "      <th>SA</th>\n",
       "      <th>lat</th>\n",
       "      <th>lon</th>\n",
       "      <th>geometry</th>\n",
       "    </tr>\n",
       "  </thead>\n",
       "  <tbody>\n",
       "    <tr>\n",
       "      <th>1</th>\n",
       "      <td>Sempre numa correria. https://t.co/A9lQBmF3GE</td>\n",
       "      <td>Twitter for Android</td>\n",
       "      <td>2018-01-23</td>\n",
       "      <td>0</td>\n",
       "      <td>41.414305</td>\n",
       "      <td>2.194006</td>\n",
       "      <td>POINT (2.1940061 41.4143054)</td>\n",
       "    </tr>\n",
       "    <tr>\n",
       "      <th>2</th>\n",
       "      <td>Healthy back to home. https://t.co/p6QDqEipxb</td>\n",
       "      <td>Twitter for Android</td>\n",
       "      <td>2018-01-23</td>\n",
       "      <td>1</td>\n",
       "      <td>41.405226</td>\n",
       "      <td>2.197955</td>\n",
       "      <td>POINT (2.1979555 41.4052265)</td>\n",
       "    </tr>\n",
       "    <tr>\n",
       "      <th>3</th>\n",
       "      <td>Primeiro tweet no telemóvel.</td>\n",
       "      <td>Twitter for Android</td>\n",
       "      <td>2018-01-23</td>\n",
       "      <td>0</td>\n",
       "      <td>41.404459</td>\n",
       "      <td>2.201924</td>\n",
       "      <td>POINT (2.2019244 41.404459)</td>\n",
       "    </tr>\n",
       "  </tbody>\n",
       "</table>\n",
       "</div>"
      ],
      "text/plain": [
       "                                          Tweets               Source  \\\n",
       "1  Sempre numa correria. https://t.co/A9lQBmF3GE  Twitter for Android   \n",
       "2  Healthy back to home. https://t.co/p6QDqEipxb  Twitter for Android   \n",
       "3                   Primeiro tweet no telemóvel.  Twitter for Android   \n",
       "\n",
       "    timestamp SA        lat       lon                      geometry  \n",
       "1  2018-01-23  0  41.414305  2.194006  POINT (2.1940061 41.4143054)  \n",
       "2  2018-01-23  1  41.405226  2.197955  POINT (2.1979555 41.4052265)  \n",
       "3  2018-01-23  0  41.404459  2.201924   POINT (2.2019244 41.404459)  "
      ]
     },
     "execution_count": 45,
     "metadata": {},
     "output_type": "execute_result"
    }
   ],
   "source": [
    "data4"
   ]
  },
  {
   "cell_type": "code",
   "execution_count": 46,
   "metadata": {},
   "outputs": [
    {
     "data": {
      "text/plain": [
       "geopandas.geodataframe.GeoDataFrame"
      ]
     },
     "execution_count": 46,
     "metadata": {},
     "output_type": "execute_result"
    }
   ],
   "source": [
    "type(data4)"
   ]
  },
  {
   "cell_type": "code",
   "execution_count": 47,
   "metadata": {},
   "outputs": [],
   "source": [
    "# proj WGS84\n",
    "\n",
    "data4.crs= \"+proj=longlat +ellps=WGS84 +datum=WGS84 +no_defs\""
   ]
  },
  {
   "cell_type": "code",
   "execution_count": 48,
   "metadata": {
    "scrolled": true
   },
   "outputs": [
    {
     "data": {
      "text/plain": [
       "<matplotlib.axes._subplots.AxesSubplot at 0x13a3de10>"
      ]
     },
     "execution_count": 48,
     "metadata": {},
     "output_type": "execute_result"
    },
    {
     "data": {
      "image/png": "[encoded data removed]",
      "text/plain": [
       "<matplotlib.figure.Figure at 0x1040bd30>"
      ]
     },
     "metadata": {},
     "output_type": "display_data"
    }
   ],
   "source": [
    "%matplotlib inline\n",
    "data4.plot()"
   ]
  },
  {
   "cell_type": "code",
   "execution_count": 49,
   "metadata": {},
   "outputs": [],
   "source": [
    "# export the Geodataframe as shapefile\n",
    "data4.to_file('Twitters_FSGutierres.shp', driver='ESRI Shapefile')"
   ]
  },
  {
   "cell_type": "markdown",
   "metadata": {},
   "source": [
    "## 6. Webmapping of Tweets with Folium"
   ]
  },
  {
   "cell_type": "markdown",
   "metadata": {},
   "source": [
    "### 6.1. GeoClustering of tweets\n",
    "\n",
    "We will use the Folium Marker Clusters. What is?\n",
    "\n",
    "Marker clusters can be a good way to simply a map containing many markers (like in Demo 1). When the map is zoomed out nearby markers are combined together into a cluster, which is separated out when the map zoom level is closer."
   ]
  },
  {
   "cell_type": "code",
   "execution_count": 52,
   "metadata": {},
   "outputs": [],
   "source": [
    "import folium\n",
    "from folium.plugins import MarkerCluster\n",
    "from folium import IFrame"
   ]
  },
  {
   "cell_type": "code",
   "execution_count": 53,
   "metadata": {
    "scrolled": false
   },
   "outputs": [
    {
     "data": {
      "text/html": [
       "<div style=\"width:100%;\"><div style=\"position:relative;width:100%;height:0;padding-bottom:60%;\"><iframe src=\"data:text/html;charset=utf-8;base64,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\" style=\"position:absolute;width:100%;height:100%;left:0;top:0;border:none !important;\" allowfullscreen webkitallowfullscreen mozallowfullscreen></iframe></div></div>"
      ],
      "text/plain": [
       "<folium.folium.Map at 0x138a2f60>"
      ]
     },
     "execution_count": 53,
     "metadata": {},
     "output_type": "execute_result"
    }
   ],
   "source": [
    "#Create Twitter basemap specifying map center, zoom level, and using the CartoDB Positron tiles\n",
    "Twitter_map = folium.Map([45.955263, 8.935129], tiles='cartodbdark_matter', zoom_start = 5)\n",
    "Twitter_map"
   ]
  },
  {
   "cell_type": "code",
   "execution_count": 54,
   "metadata": {},
   "outputs": [
    {
     "data": {
      "text/html": [
       "<div style=\"width:100%;\"><div style=\"position:relative;width:100%;height:0;padding-bottom:60%;\"><iframe src=\"data:text/html;charset=utf-8;base64,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\" style=\"position:absolute;width:100%;height:100%;left:0;top:0;border:none !important;\" allowfullscreen webkitallowfullscreen mozallowfullscreen></iframe></div></div>"
      ],
      "text/plain": [
       "<folium.folium.Map at 0x138a2f60>"
      ]
     },
     "execution_count": 54,
     "metadata": {},
     "output_type": "execute_result"
    }
   ],
   "source": [
    "def add_point_clusters(mapobj, gdf, popup_field_list):\n",
    "    #Create empty lists to contain the point coordinates and the point pop-up information\n",
    "    coords, popups = [], [] \n",
    "    #Loop through each record in the GeoDataFrame\n",
    "    for i, row in gdf.iterrows():\n",
    "        #Append lat and long coordinates to \"coords\" list\n",
    "        coords.append([row.geometry.y, row.geometry.x])\n",
    "        #Create a string of HTML code used in the IFrame popup\n",
    "        #Join together the fields in \"popup_field_list\" with a linebreak between them\n",
    "        label = '<br>'.join([row[field] for field in popup_field_list])\n",
    "        #Append an IFrame that uses the HTML string to the \"popups\" list \n",
    "        popups.append(IFrame(label, width = 500, height = 300))\n",
    "        \n",
    "    #Create a Folium feature group for this layer, since we will be displaying multiple layers\n",
    "    pt_lyr = folium.FeatureGroup(name = 'Twiter_Clustered')\n",
    "    \n",
    "    #Add the clustered points of crime locations and popups to this layer\n",
    "    pt_lyr.add_child(MarkerCluster(locations = coords, popups = popups))\n",
    "    \n",
    "    #Add this point layer to the map object\n",
    "    mapobj.add_child(pt_lyr)\n",
    "    return mapobj\n",
    "\n",
    "#Update map with point clusters\n",
    "Twitter_map2 = add_point_clusters(Twitter_map, data4, ['Tweets','Source', 'timestamp', 'SA'])\n",
    "Twitter_map2"
   ]
  },
  {
   "cell_type": "code",
   "execution_count": 55,
   "metadata": {},
   "outputs": [],
   "source": [
    "#save the map as a webapp\n",
    "Twitter_map2.save('Twitter_FSGutierres_map.html') #save HTML"
   ]
  },
  {
   "cell_type": "markdown",
   "metadata": {},
   "source": [
    "## 7. Webmapping of Tweets with the QuantumGIS Cloud (Web-GIS platform)"
   ]
  },
  {
   "cell_type": "markdown",
   "metadata": {},
   "source": [
    "Publish the shapefile in QuantumGIS Cloud and create a webmap. Open the QuantumGIS and install the \"QGIS Cloud\" Plugin."
   ]
  },
  {
   "cell_type": "markdown",
   "metadata": {},
   "source": [
    "https://qgiscloud.com/"
   ]
  }
 ],
 "metadata": {
  "kernelspec": {
   "display_name": "Python 3",
   "language": "python",
   "name": "python3"
  },
  "language_info": {
   "codemirror_mode": {
    "name": "ipython",
    "version": 3
   },
   "file_extension": ".py",
   "mimetype": "text/x-python",
   "name": "python",
   "nbconvert_exporter": "python",
   "pygments_lexer": "ipython3",
   "version": "3.6.0"
  }
 },
 "nbformat": 4,
 "nbformat_minor": 2
}
